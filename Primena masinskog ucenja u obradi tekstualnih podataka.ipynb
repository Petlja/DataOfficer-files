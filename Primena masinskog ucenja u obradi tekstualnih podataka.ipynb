{
 "cells": [
  {
   "cell_type": "markdown",
   "id": "ebbb46dd",
   "metadata": {},
   "source": [
    "# Примена машинског учења у обради текстуалних података"
   ]
  },
  {
   "cell_type": "markdown",
   "id": "23adb4d3",
   "metadata": {},
   "source": [
    "У овој свесци истражићемо како нам алгоритми машинског учења могу помоћи у организацији колекција правних докумената. Прецизније, одговорићемо на следећа питања:\n",
    "- Шта је то вишелабеларна класификација?\n",
    "- Чему служи платформа Eur-Lex и тезаурус EurоVoc?\n",
    "- Како је организован скуп података ЕuroLex57k?\n",
    "- Шта су тансформери и како се може користити унапређени модел legalBERT?\n",
    "- Како се уз помоћ библиотеке PyPDF2 могу читати документи у PDF формату?"
   ]
  },
  {
   "cell_type": "markdown",
   "id": "019f21b1",
   "metadata": {},
   "source": [
    "## Вишелабеларна класификација докумената"
   ]
  },
  {
   "cell_type": "markdown",
   "id": "fae9f46e",
   "metadata": {},
   "source": [
    "У послу се неретко сусрећемо са изазовом да уредимо и организујемо колекцију докумената којом располажемо. Некада је документе потребно уредити хронолошки, некада по имену аутора, а некада по теми. За разлику од прва два критеријума уређивања у којима се датуми и аутори докумената могу релативно једноставно очитати, одређивање тема присутних у документу захтева читање целог документа и његову пажљиву анализу. Што је колекција докумената већа и разноврснија, то је овај задатак временски захтевнији и напорнији. Зато су од користи програми који у документима могу аутоматски идентификовати присутне теме и придружити им их. Такве програме зовемо **класификаторима** (енгл. classifier). Скуп могућих тема обично дефинишемо унапред тако да садржи неки коначан, за посао релевантан, скуп вредности. Ове вредности ћемо надаље називати **обележјима** или **лабелама** (енгл. label).  Задатак **вишелабеларне класификације** (engl. multilabel classification) докумената је да сваком од докумената придружи одговарајуће лабеле, једну или више њих. \n",
    "\n",
    "У наставку ћемо проћи кроз пример развоја и коришћења једног оваквог класификатора. "
   ]
  },
  {
   "cell_type": "markdown",
   "id": "497daeef",
   "metadata": {},
   "source": [
    "<figure style='text-align: center'>\n",
    "    <img src='nlp/assets/classification_3.jpeg' style='width: 400px;'>\n",
    "    <figcaption> Класификација докумената </figcaption>\n",
    "</figure>"
   ]
  },
  {
   "cell_type": "markdown",
   "id": "99fcef97",
   "metadata": {},
   "source": [
    "Да бисмо развили овакав класификатор биће нам потребна група докумената која већ има мануелно придружене лабеле. Такву групу докумената зовемо **скупом за обучавање** (енгл. training set). Поред скупа за обучавање биће нам потребна и једна група мануелно обележених докумената над којом ћемо моћи да тестирамо колико успешно ради класификатор који смо обучили. Ту групу докумената зовемо **скупом за тестирање** (енгл. test set). У пракси издвајамо и једну групу докумената коју називамо **валидационим скупом** (енгл. validation set) и коју користимо за праћење развоја самог класификатора. "
   ]
  },
  {
   "cell_type": "markdown",
   "id": "7a623c9b",
   "metadata": {},
   "source": [
    "Због захтева за постојањем ових скупова, у заједници која се бави машинским учењем задатак класификације се убраја у задатке  **надгледаног машинског учења** (енгл. supervised machine learning). Алгоритми који се користе за решавање ове групе задатака имају за циљ да науче везу између улаза (у нашем случају докумената) и придружених лабела тако да је грешка коју праве на скупу за тестирање што је могуће мања, а успешност примене на новим, будућим, улазима, што већа. Ово својство класификатора се назива **генерализација**. Више о задатку класификације и скуповима које смо увели можете прочитати у свесци <a href ='nlp/01-Klasifikacija dokumenata.ipynb'> 01-Класификација докумената </a>. "
   ]
  },
  {
   "cell_type": "code",
   "execution_count": null,
   "id": "a7a9de59",
   "metadata": {},
   "outputs": [],
   "source": []
  },
  {
   "cell_type": "markdown",
   "id": "e6e60cf9",
   "metadata": {},
   "source": [
    "## Платформа Eur-Lex, скуп података EurLex57k и тезаурус EuroVoc"
   ]
  },
  {
   "cell_type": "markdown",
   "id": "18480d5e",
   "metadata": {},
   "source": [
    "Како се могу организовати правни документи приказаћемо на примеру скупа података који се зове **EurLex57k**.  Овај скуп је настао обједињавањем докумената преузетих са платформе <a href='https://eur-lex.europa.eu/homepage.html'> EUR-lex </a>, централне платформе преко које се са јавношћу деле званични документи Европске уније попут закона, међународних споразума, судских пракси, националних мера транспозиције и многих других типова правних докумената. Сваки од ових докумената је доступан на 24 званична језика Европске уније. Скуп података EurLex57k садржи верзије ових докумената на енглеском језику, а као што се може наслутити из имена скупа, укупно броји 57 хиљада докумената. Скуп за тренирање садржи 45 хиљада докумената, а скупови за валидацију и тестирање по 6 хиљада докумената. У свесци <a href='nlp/02-Skup podataka EurLex57k.ipynb'> 02-Skup podataka EurLex57k </a> можете пронаћи више информација о скупу и његовим карактеризацијама."
   ]
  },
  {
   "cell_type": "code",
   "execution_count": null,
   "id": "75e3e22f",
   "metadata": {},
   "outputs": [],
   "source": []
  },
  {
   "cell_type": "markdown",
   "id": "afb0e8f0",
   "metadata": {},
   "source": [
    "Свим документима скупа EurLex57 су мануелно придружене лабеле које су побројане у тезаурусу који се зове <a href='https://op.europa.eu/en/web/eu-vocabularies/dataset/-/resource?uri=http://publications.europa.eu/resource/dataset/eurovoc'> EuroVoc </a>. Тезаурус EuroVoc представља један хијерархијски организован вокабулар са двадесет и једним доменом на највишем нивоу. Сваки од ових домена покрива неки специфични сегмент деловања и садржи лабеле које су за њега релевантне. Тако, на пример, домен *environment* обухвата поддомене *environmental policy*, *natural environment* и *deterioration of the environment* од којих први садржи лабеле *climate change*, *water policy*, *waste managment* и друге. Сваком од домена, поддомена и лабела је придружен и јединствен нумерички идентификатор. Тако домену *environment* одговара идентификатор 52, поддомену *environmental policy* идентификатор 5206, а лабели *waste management* идентификатор 1158. Попис свих домена, њихових имена и јединствених нумеричких идентификатора, издвојен је у датотеци *domains_with_id_and_name.txt*, док је попис свих идентификатора лабела придружених доменима издвојен у датотеци *concepts_per_domain.txt* (организација која ради на развоју тезауруса EuroLex фаворизује коришћење термина концепт уместо лабела). Нешто касније ћемо видети и садржај ових датотека, а све специфичности у вези са њиховим креирањем и додатна појашњења у вези са организацијом тезауруса EuroVoc се могу пронаћи у свесци <a href='nlp/03-Tezaurus%20EuroVoc.ipynb'>03-Tezaurus EuroVoc</a>.  "
   ]
  },
  {
   "cell_type": "markdown",
   "id": "2421d43c",
   "metadata": {},
   "source": [
    "<table style='caption-side: bottom'>\n",
    "    <caption>Домен <i>environment</i>, његови поддомени (микротезауруси) <i>environmental policy</i>, <i>natural environment</i> и <i>deterioration of the environment</i> и листа лабела поддомена <i>environmental policy</i></caption>\n",
    "    <tr>\n",
    "        <td><img src='nlp/assets/environment_eurovoc_1.png'></td>\n",
    "        <td><img src='nlp/assets/environment_eurovoc_2.png'></td>\n",
    "    </tr>\n",
    "</table>"
   ]
  },
  {
   "cell_type": "code",
   "execution_count": null,
   "id": "43466350",
   "metadata": {},
   "outputs": [],
   "source": []
  },
  {
   "cell_type": "markdown",
   "id": "23b4c078",
   "metadata": {},
   "source": [
    "<div class='alert-info' style='padding: 10px;'> \n",
    "Сада када знамо шта је вишелабеларна класификација и како се врши организација докумената на нивоу Европске уније можемо прецизирати задатак којим ћемо се бавити: правном документу придружити одговарајуће лабеле тезауруса EuroVoc. Како лабела у тезаурусу имам јако пуно (чак око седам хиљада!), документима ћемо придруживати искључиво лабеле које означавају домене највишег нивоа. \n",
    "</div> "
   ]
  },
  {
   "cell_type": "code",
   "execution_count": null,
   "id": "ea988e44",
   "metadata": {},
   "outputs": [],
   "source": []
  },
  {
   "cell_type": "markdown",
   "id": "692b8418",
   "metadata": {},
   "source": [
    "## Библиотека transformers и модел LegalBert"
   ]
  },
  {
   "cell_type": "markdown",
   "id": "0d382e2a",
   "metadata": {},
   "source": [
    "Библиотека чије ћемо функционалности користити за учитавање скупа података, обучавање модела, његову анализу и покретање зове се <a href='https://huggingface.co/transformers/'>transformers</a>. Трансформери су специјалан тип неуронских мрежа који се са великим успехом користе у многим задацима машинског учења. Библиотека transformers поштује концепте отвореног кода и обједињава готово све познате трансформере уз могућност удобног и интуитивног коришћења. \n",
    "\n",
    "Неки општи протокол у раду са трансформерима је да се пође од неког подесног трансформера, а затим да се ради на његовом прилагођавању специфичном задатку који треба решити (овај процес се на енглеском језику назива *fine-tuning*). Mи смо у раду пошли од трансформера који се зове *LegalBert* зато што може лепо да разуме семантику правних докумената, а потом смо га прилагодили тако да може да класификује документа на горе описани начин. Званична страница библиотеке transformers посвећена моделу LegalBert се може прегледати на <a href='https://huggingface.co/nlpaueb/legal-bert-base-uncased'>овој</a> адреси. Финални прилагођени модел се налази у директоријуму *legalbert_model_finetuned*  и користићемо га у даљем раду.   \n",
    "\n",
    "У свесци <a href='nlp/04-Biblioteka%20transformers%20i%20model%20LegalBert%20.ipynb'> 04-Biblioteka transformers i model LegalBert </a> можете прочитати више о мотивацији за овакав приступ у раду са трансформерима, док у свесци <a href='nlp/05-Prilаgodjavanje%20modela%20LegalBert.ipynb'> 05-Prilаgodjavanje modela LegalBert </a> можете испратити цео процес прилагођавања модела LegalBert. Овде ја важно напоменути да су трансформери који се користе у пракси по правилу велике мреже које захтевају напредне рачунске ресурсе у процесу обучавања. Примера ради, један познати трансформер са именом Берт је обучаван на специјализованом хардверу, а сами трошкови обучавања се процењују на око 7 хиљада долара. Зато је смисао дељења обучених модела врло оправдан и из еколошких и из материјалних разлога. "
   ]
  },
  {
   "cell_type": "code",
   "execution_count": null,
   "id": "49f25d66",
   "metadata": {},
   "outputs": [],
   "source": []
  },
  {
   "cell_type": "markdown",
   "id": "df556866",
   "metadata": {},
   "source": [
    "## Експеримент: класификација правних докумената"
   ]
  },
  {
   "cell_type": "markdown",
   "id": "77fedcaf",
   "metadata": {},
   "source": [
    "Експеримент ћемо започети анализом скуп података EurLex57k. У учитавању скупа ће нам помоћи функција `load_dataset` библиотеке *transformers* тј. њеног пакета *datasets*."
   ]
  },
  {
   "cell_type": "code",
   "execution_count": 1,
   "id": "6fddf70b",
   "metadata": {},
   "outputs": [],
   "source": [
    "from datasets import load_dataset"
   ]
  },
  {
   "cell_type": "code",
   "execution_count": 2,
   "id": "0bbf1cd2",
   "metadata": {},
   "outputs": [
    {
     "name": "stderr",
     "output_type": "stream",
     "text": [
      "No config specified, defaulting to: eurlex/eurlex57k\n",
      "Reusing dataset eurlex (C:\\Users\\v-anzece\\.cache\\huggingface\\datasets\\eurlex\\eurlex57k\\1.1.0\\d2fdeaa4fcb5f41394d2ed0317c8541d7f9be85d2d601b9fa586c8b461bc3a34)\n"
     ]
    }
   ],
   "source": [
    "dataset = load_dataset('eurlex')"
   ]
  },
  {
   "cell_type": "markdown",
   "id": "55d4789f",
   "metadata": {},
   "source": [
    "Информације о величини скупа, тј. његових делова за обучавање, тестирање и валидацију, можемо прочитати коришћењем својства *shape*."
   ]
  },
  {
   "cell_type": "code",
   "execution_count": 3,
   "id": "22d3a229",
   "metadata": {},
   "outputs": [
    {
     "name": "stdout",
     "output_type": "stream",
     "text": [
      "{'train': (45000, 4), 'test': (6000, 4), 'validation': (6000, 4)}\n"
     ]
    }
   ],
   "source": [
    "print(dataset.shape)"
   ]
  },
  {
   "cell_type": "markdown",
   "id": "cdb5383e",
   "metadata": {},
   "source": [
    "Појединачне делове учитаног скупа можемо даље издвојити навођењем квалификатора `train`, `validation` и `test`. "
   ]
  },
  {
   "cell_type": "code",
   "execution_count": 4,
   "id": "dcf6ecf1",
   "metadata": {},
   "outputs": [],
   "source": [
    "train_data = dataset['train']\n",
    "validation_data = dataset['validation']\n",
    "test_data = dataset['test']"
   ]
  },
  {
   "cell_type": "markdown",
   "id": "d587d01b",
   "metadata": {},
   "source": [
    "Информације о учитаним скуповима попут описа, лиценци за коришћење, званичне странице скупа и слично се могу добити коришћењем својства *info*."
   ]
  },
  {
   "cell_type": "code",
   "execution_count": 5,
   "id": "86870299",
   "metadata": {},
   "outputs": [
    {
     "name": "stdout",
     "output_type": "stream",
     "text": [
      "Opis skupa EurLex57k:  EURLEX57K contains 57k legislative documents in English from EUR-Lex portal, annotated with EUROVOC concepts.\n",
      "\n"
     ]
    }
   ],
   "source": [
    "print('Opis skupa EurLex57k: ', train_data.info.description)"
   ]
  },
  {
   "cell_type": "code",
   "execution_count": 6,
   "id": "9ca91919",
   "metadata": {},
   "outputs": [
    {
     "name": "stdout",
     "output_type": "stream",
     "text": [
      "Zvanicna stranica skupa:  http://nlp.cs.aueb.gr/software_and_datasets/EURLEX57K/\n"
     ]
    }
   ],
   "source": [
    "print('Zvanicna stranica skupa: ', train_data.info.homepage)"
   ]
  },
  {
   "cell_type": "code",
   "execution_count": 7,
   "id": "ae77f50e",
   "metadata": {},
   "outputs": [
    {
     "name": "stdout",
     "output_type": "stream",
     "text": [
      "Licenca za koriscenje:  CC BY-SA (Creative Commons / Attribution-ShareAlike)\n"
     ]
    }
   ],
   "source": [
    "print('Licenca za koriscenje: ', train_data.info.license)"
   ]
  },
  {
   "cell_type": "code",
   "execution_count": 8,
   "id": "a9357389",
   "metadata": {},
   "outputs": [
    {
     "name": "stdout",
     "output_type": "stream",
     "text": [
      "Skup podataka je objavljen u radu:  @inproceedings{chalkidis-etal-2019-large,\n",
      "    title = \"Large-Scale Multi-Label Text Classification on {EU} Legislation\",\n",
      "    author = \"Chalkidis, Ilias  and Fergadiotis, Emmanouil  and Malakasiotis, Prodromos  and Androutsopoulos, Ion\",\n",
      "    booktitle = \"Proceedings of the 57th Annual Meeting of the Association for Computational Linguistics\",\n",
      "    year = \"2019\",\n",
      "    address = \"Florence, Italy\",\n",
      "    publisher = \"Association for Computational Linguistics\",\n",
      "    url = \"https://www.aclweb.org/anthology/P19-1636\",\n",
      "    doi = \"10.18653/v1/P19-1636\",\n",
      "    pages = \"6314--6322\"\n",
      "}\n",
      "\n"
     ]
    }
   ],
   "source": [
    "print('Skup podataka je objavljen u radu: ', train_data.info.citation)"
   ]
  },
  {
   "cell_type": "markdown",
   "id": "5b1f0542",
   "metadata": {},
   "source": [
    "Да бисмо стекли представу како су организовани подаци унутар ових скупова, прочитаћемо један насумичан унос. Нека то буде унос који се налази на позицији 10 у скупу за обучавање. "
   ]
  },
  {
   "cell_type": "code",
   "execution_count": 9,
   "id": "7291337c",
   "metadata": {},
   "outputs": [],
   "source": [
    "example = train_data[10]"
   ]
  },
  {
   "cell_type": "code",
   "execution_count": 10,
   "id": "ad012973",
   "metadata": {},
   "outputs": [
    {
     "data": {
      "text/plain": [
       "{'celex_id': '32005R0114',\n",
       " 'title': 'Commission Regulation (EC) No\\xa0114/2005 of 26 January 2005 establishing the standard import values for determining the entry price of certain fruit and vegetables\\n',\n",
       " 'text': '27.1.2005 EN Official Journal of the European Union L 24/1\\nCOMMISSION REGULATION (EC) No 114/2005\\nof 26 January 2005\\nestablishing the standard import values for determining the entry price of certain fruit and vegetables\\nTHE COMMISSION OF THE EUROPEAN COMMUNITIES\\n,\\nHaving regard to the Treaty establishing the European Community,\\nHaving regard to Commission Regulation (EC) No 3223/94 of 21 December 1994 on detailed rules for the application of the import arrangements for fruit and vegetables\\xa0(1), and in particular Article 4(1) thereof,\\nWhereas:\\n(1) Regulation (EC) No 3223/94 lays down, pursuant to the outcome of the Uruguay Round multilateral trade negotiations, the criteria whereby the Commission fixes the standard values for imports from third countries, in respect of the products and periods stipulated in the Annex thereto.\\n(2) In compliance with the above criteria, the standard import values must be fixed at the levels set out in the Annex to this Regulation,\\nThe standard import values referred to in Article 4 of Regulation (EC) No 3223/94 shall be fixed as indicated in the Annex hereto.\\nThis Regulation shall enter into force on 27 January 2005.\\nThis Regulation shall be binding in its entirety and directly applicable in all Member States.',\n",
       " 'eurovoc_concepts': ['1118', '1605', '2635', '693']}"
      ]
     },
     "execution_count": 10,
     "metadata": {},
     "output_type": "execute_result"
    }
   ],
   "source": [
    "example"
   ]
  },
  {
   "cell_type": "markdown",
   "id": "1d8107e3",
   "metadata": {},
   "source": [
    "Из исписа можемо закључити да један унос садржи јединствени идентификатор документа (поље *celex_id*), наслов (поље *title*), садржај документа (поље *text*) и листу придружених EuroVoc лабела (поље *eurovoc_concepts*). "
   ]
  },
  {
   "cell_type": "code",
   "execution_count": null,
   "id": "6ffa637d",
   "metadata": {},
   "outputs": [],
   "source": []
  },
  {
   "cell_type": "markdown",
   "id": "762c253f",
   "metadata": {},
   "source": [
    "Даље ћемо документима придружити нумеричке репрезентације, низове бројева који осликавају њихов садржај. Овај корак је неопходан како би алгоритми могли да раде са садржајима који нису нужно нумеричке природе. Овај корак се званично назива токенизација (енгл. tokenization), а нама ће у токенизацији помоћи функционалност `AutoTokenizer` библиотеке *transformers*. Сваки модел који постоји у овој библиотеци упарен је са одговарајућим токенизатором тако да га, уколико знамо име модела, можемо учитати позивом функције `from_pretrained`. "
   ]
  },
  {
   "cell_type": "markdown",
   "id": "42858671",
   "metadata": {},
   "source": [
    "Име модела LegalBert је *nlpaueb/legal-bert-base-uncased* и сачуваћемо га у посебној променљивој."
   ]
  },
  {
   "cell_type": "code",
   "execution_count": 11,
   "id": "43783c29",
   "metadata": {},
   "outputs": [],
   "source": [
    "MODEL_PATH = 'nlpaueb/legal-bert-base-uncased'"
   ]
  },
  {
   "cell_type": "code",
   "execution_count": null,
   "id": "68483523",
   "metadata": {},
   "outputs": [],
   "source": []
  },
  {
   "cell_type": "markdown",
   "id": "2866257e",
   "metadata": {},
   "source": [
    "Даље ћемо учитати токенизатор придружен овом моделу."
   ]
  },
  {
   "cell_type": "code",
   "execution_count": 12,
   "id": "fc05583b",
   "metadata": {},
   "outputs": [],
   "source": [
    "from transformers import AutoTokenizer"
   ]
  },
  {
   "cell_type": "code",
   "execution_count": 13,
   "id": "12f40457",
   "metadata": {},
   "outputs": [],
   "source": [
    "tokenizer = AutoTokenizer.from_pretrained(MODEL_PATH)"
   ]
  },
  {
   "cell_type": "markdown",
   "id": "6b54045c",
   "metadata": {},
   "source": [
    "Учитани токенизатор покрива рад са 30.522 токена. Скуп свих токена по правилу називамо вокабуларом (енгл.  vocabulary) па у очитавању његове димензије нам може помоћи својство *vocab_size* токенизатора."
   ]
  },
  {
   "cell_type": "code",
   "execution_count": 14,
   "id": "8ea5d023",
   "metadata": {},
   "outputs": [
    {
     "data": {
      "text/plain": [
       "30522"
      ]
     },
     "execution_count": 14,
     "metadata": {},
     "output_type": "execute_result"
    }
   ],
   "source": [
    "tokenizer.vocab_size"
   ]
  },
  {
   "cell_type": "markdown",
   "id": "b05d0afd",
   "metadata": {},
   "source": [
    "Токени су целе речи или парчићи речи одабрани тако да једнозначно и нумерички оптимално могу представити документе. У наставку можемо видети све токене вокабулара са којима може да ради LegalBert модел. Парчићи речи почињу карактерима ##. Поред сваког токена наведен је и јединствени идентификатор токена. "
   ]
  },
  {
   "cell_type": "code",
   "execution_count": 15,
   "id": "0b35b446",
   "metadata": {
    "collapsed": true
   },
   "outputs": [
    {
     "data": {
      "text/plain": [
       "{'##754': 16978,\n",
       " 'marc': 7916,\n",
       " 'proposed': 954,\n",
       " '##2003': 6270,\n",
       " 'spec': 13727,\n",
       " '26': 556,\n",
       " '##apex': 23458,\n",
       " '##leben': 24641,\n",
       " '1707': 25803,\n",
       " 'arranged': 6916,\n",
       " 'afterwards': 10123,\n",
       " '##itious': 28948,\n",
       " 'locked': 10907,\n",
       " '##onia': 8356,\n",
       " '##rith': 15401,\n",
       " '##3800': 21353,\n",
       " 'confiscation': 8655,\n",
       " 'vouch': 29447,\n",
       " '##15': 5443,\n",
       " '##en': 715,\n",
       " '##sch': 6176,\n",
       " 'prudential': 5799,\n",
       " '##endorf': 12661,\n",
       " '0038': 17052,\n",
       " 'residential': 4773,\n",
       " 'mig': 21505,\n",
       " 'denunciation': 27563,\n",
       " 'rays': 16618,\n",
       " 'swede': 25480,\n",
       " 'ladder': 15449,\n",
       " '##terran': 23573,\n",
       " 'undist': 25377,\n",
       " 'con': 3209,\n",
       " 'reef': 20129,\n",
       " 'circumferen': 23955,\n",
       " 'lett': 6526,\n",
       " 'gregory': 8922,\n",
       " 'disinfect': 14158,\n",
       " 'collector': 8958,\n",
       " 'prevalen': 23218,\n",
       " '##4025': 28975,\n",
       " '449': 7099,\n",
       " '1280': 22798,\n",
       " '##get': 11559,\n",
       " 'viola': 26803,\n",
       " '##agia': 30148,\n",
       " 'flor': 21090,\n",
       " 'je': 8553,\n",
       " 'blatant': 26704,\n",
       " '[unused66]': 67,\n",
       " 'thence': 4817,\n",
       " '##onna': 22562,\n",
       " 'eas': 20489,\n",
       " '##iglio': 13739,\n",
       " 'cohabitation': 28217,\n",
       " '##rique': 16253,\n",
       " 'stone': 4824,\n",
       " '##onic': 8735,\n",
       " 'even': 728,\n",
       " '##alves': 27032,\n",
       " '1508': 20714,\n",
       " '##itti': 28130,\n",
       " '##christ': 30260,\n",
       " '##arata': 28990,\n",
       " '##eqr': 24817,\n",
       " '##oesch': 23582,\n",
       " 'petrole': 3288,\n",
       " '1701': 6675,\n",
       " 'sikuta': 19118,\n",
       " 'polluter': 21666,\n",
       " 'conscious': 10326,\n",
       " '##tak': 20053,\n",
       " 'oversight': 6419,\n",
       " 'convergen': 7843,\n",
       " 'raki': 22841,\n",
       " '##36': 5939,\n",
       " 'scra': 17255,\n",
       " '##666': 14531,\n",
       " 'agreeing': 7918,\n",
       " '##las': 9295,\n",
       " 'vote': 1856,\n",
       " 'isaac': 20774,\n",
       " 'appeared': 4012,\n",
       " '##worth': 8523,\n",
       " '##469': 13553,\n",
       " 'shw': 14269,\n",
       " '##6030': 19220,\n",
       " 'disk': 10535,\n",
       " '##quilla': 27040,\n",
       " 'signatories': 8558,\n",
       " '2255': 9764,\n",
       " 'tro': 10050,\n",
       " 'expunge': 23854,\n",
       " 'reinstat': 30229,\n",
       " 'natali': 23998,\n",
       " 'embarrass': 25892,\n",
       " 'broth': 28881,\n",
       " 'mor': 6412,\n",
       " 'quantify': 15278,\n",
       " 'outlet': 6017,\n",
       " 'million': 1105,\n",
       " '##853': 15735,\n",
       " '##jarn': 20885,\n",
       " 'ustavni': 29307,\n",
       " 'forthcoming': 12436,\n",
       " '163': 4253,\n",
       " '11957': 20823,\n",
       " 'certificat': 19804,\n",
       " '##pasa': 29404,\n",
       " '##enburg': 8923,\n",
       " 'connotation': 29074,\n",
       " 'protect': 1839,\n",
       " '##2030': 17129,\n",
       " 'vigorously': 16119,\n",
       " '##linz': 18646,\n",
       " '##nty': 22342,\n",
       " 'servizi': 26234,\n",
       " '##strand': 27021,\n",
       " '##zna': 15000,\n",
       " 'catalogue': 9362,\n",
       " '##0142': 26650,\n",
       " 'home': 1702,\n",
       " '1538': 24512,\n",
       " 'blocked': 8241,\n",
       " 'grandfather': 12742,\n",
       " 'lucer': 22521,\n",
       " 'pru': 16190,\n",
       " 'estop': 24308,\n",
       " 'weight': 1082,\n",
       " '##oxy': 3104,\n",
       " '##ajac': 16737,\n",
       " 'leslie': 19873,\n",
       " 'incapacitat': 30190,\n",
       " 'landscape': 13628,\n",
       " 'gypsy': 23026,\n",
       " '##1401': 19835,\n",
       " 'lambert': 13077,\n",
       " '##7121': 29859,\n",
       " 'obliging': 22030,\n",
       " '##0127': 27120,\n",
       " 'assemblies': 9473,\n",
       " '##distribution': 27088,\n",
       " 'ncaa': 28716,\n",
       " 'range': 1832,\n",
       " '240': 4210,\n",
       " 'addresses': 3243,\n",
       " 'designed': 1733,\n",
       " '##affiliate': 12201,\n",
       " '##vail': 13286,\n",
       " 'kier': 10054,\n",
       " 'scrubb': 25782,\n",
       " '319': 5195,\n",
       " '1918': 11408,\n",
       " 'destina': 16007,\n",
       " 'fortnight': 26657,\n",
       " '##vdi': 29532,\n",
       " 'nominal': 4516,\n",
       " '##ducing': 13939,\n",
       " 'oblige': 12403,\n",
       " '##erwin': 21578,\n",
       " 'yildi': 20778,\n",
       " 'drafts': 9438,\n",
       " 'remand': 2698,\n",
       " 'rahman': 27718,\n",
       " '##tendo': 29417,\n",
       " 'endocrin': 18488,\n",
       " 'macedonia': 6716,\n",
       " 'fruit': 1698,\n",
       " 'schone': 29058,\n",
       " 'rise': 1688,\n",
       " 'reveals': 7782,\n",
       " '##sheim': 16309,\n",
       " 'participation': 1467,\n",
       " '##ic': 1161,\n",
       " 'padure': 25701,\n",
       " 'neighbours': 14694,\n",
       " '##continent': 23171,\n",
       " 'marie': 10226,\n",
       " 'catastrophic': 26113,\n",
       " 'electric': 1864,\n",
       " 'eradicati': 6896,\n",
       " '##duction': 14228,\n",
       " '##assen': 24202,\n",
       " '##664': 13638,\n",
       " '##oll': 12405,\n",
       " '125': 2531,\n",
       " 'account': 366,\n",
       " 'assist': 2799,\n",
       " '##antine': 26393,\n",
       " 'injustice': 14453,\n",
       " '##egf': 10170,\n",
       " 'frontiers': 12099,\n",
       " 'umpire': 22807,\n",
       " '##wart': 26205,\n",
       " '937': 10528,\n",
       " 'yag': 27430,\n",
       " '##attn': 4295,\n",
       " '##bezirk': 27774,\n",
       " 'discard': 9467,\n",
       " 'csp': 16802,\n",
       " '##3126': 28642,\n",
       " 'uncon': 23287,\n",
       " '1964': 3992,\n",
       " '##nier': 11405,\n",
       " 'wies': 23286,\n",
       " 'intercept': 10209,\n",
       " '1216': 20276,\n",
       " 'skal': 16798,\n",
       " '2111': 21104,\n",
       " 'treatment': 723,\n",
       " '657': 8703,\n",
       " '8528': 12094,\n",
       " 'militate': 17983,\n",
       " '##hui': 18469,\n",
       " '1468': 27349,\n",
       " '[unused41]': 42,\n",
       " '636': 8189,\n",
       " 'may': 245,\n",
       " 'instituted': 3484,\n",
       " 'pur': 6334,\n",
       " 'firstly': 5406,\n",
       " 'full': 576,\n",
       " 'rebuild': 16869,\n",
       " 'kherson': 29586,\n",
       " 'kuu': 28672,\n",
       " 'distress': 5300,\n",
       " 'enough': 3985,\n",
       " '##leigh': 14857,\n",
       " 'saif': 25934,\n",
       " 'enumeration': 16868,\n",
       " 'schedule': 610,\n",
       " 'purple': 27554,\n",
       " '##56': 9975,\n",
       " '##uter': 14333,\n",
       " '##uzu': 26778,\n",
       " '##1984': 9508,\n",
       " '##hexa': 10147,\n",
       " 'mo': 2640,\n",
       " 'meyer': 10824,\n",
       " '##ilja': 25741,\n",
       " 'ideas': 6958,\n",
       " 'rheu': 27307,\n",
       " 'abolition': 7783,\n",
       " 'anne': 12314,\n",
       " 'query': 18380,\n",
       " 'legislative': 2191,\n",
       " 'yet': 1951,\n",
       " 'lind': 9299,\n",
       " 'initiation': 4061,\n",
       " 'insolvency': 2087,\n",
       " 'color': 5725,\n",
       " 'sylv': 24154,\n",
       " 'moll': 7297,\n",
       " 'reflected': 3311,\n",
       " 'overload': 20503,\n",
       " 'travel': 2251,\n",
       " 'ku': 6582,\n",
       " 'cour': 7333,\n",
       " 'firmly': 13319,\n",
       " 'papu': 24971,\n",
       " 'murray': 8290,\n",
       " '##929': 18065,\n",
       " 'inspectorate': 14211,\n",
       " 'extraction': 6577,\n",
       " 'ibragim': 29627,\n",
       " '##astro': 27376,\n",
       " 'affiliate': 1070,\n",
       " '##0004': 11271,\n",
       " '##leuc': 20160,\n",
       " 'operations': 963,\n",
       " 'odp': 27972,\n",
       " '##lauf': 22021,\n",
       " '##5833': 25502,\n",
       " 'russian': 2261,\n",
       " 'spin': 5810,\n",
       " 'hollow': 11925,\n",
       " 'locks': 18748,\n",
       " '##shop': 26100,\n",
       " '##cerebr': 23407,\n",
       " 'give': 851,\n",
       " 'conclusive': 3044,\n",
       " 'watercourse': 28666,\n",
       " '##amortize': 29439,\n",
       " 'circum': 30173,\n",
       " 'hines': 18664,\n",
       " 'emma': 25118,\n",
       " 'expedit': 25226,\n",
       " 'huf': 15120,\n",
       " 'capital': 580,\n",
       " 'mer': 7355,\n",
       " 'silicon': 5987,\n",
       " '##mercial': 20523,\n",
       " '6002': 16368,\n",
       " 'rehire': 23298,\n",
       " '##0720': 11871,\n",
       " '##emia': 14572,\n",
       " '##252': 11986,\n",
       " 'traumatic': 18745,\n",
       " 'demand': 1222,\n",
       " '##8481': 18288,\n",
       " '##inte': 18771,\n",
       " '##profession': 26229,\n",
       " 'attributable': 2631,\n",
       " 'floor': 2630,\n",
       " 'dividend': 2224,\n",
       " 'filling': 7263,\n",
       " 'sibling': 16584,\n",
       " '##ify': 17190,\n",
       " '##7300': 17668,\n",
       " '##run': 12425,\n",
       " '##governmental': 13379,\n",
       " 'kala': 16622,\n",
       " 'mund': 20419,\n",
       " 'enphase': 29909,\n",
       " 'pregnanc': 8681,\n",
       " 'luis': 10726,\n",
       " 'disinfectant': 18412,\n",
       " '##cerna': 29676,\n",
       " 'pow': 23716,\n",
       " 'arnold': 12230,\n",
       " 'bulbs': 18363,\n",
       " 'oslo': 22302,\n",
       " 'tsp': 11848,\n",
       " '1926': 11891,\n",
       " '##26': 6678,\n",
       " 'ends': 7229,\n",
       " 'conferred': 3023,\n",
       " '##895': 20134,\n",
       " '2010': 762,\n",
       " '##class': 26743,\n",
       " 'disagree': 6710,\n",
       " 'teeth': 17867,\n",
       " '##magyar': 18072,\n",
       " '##tier': 17678,\n",
       " 'schne': 26021,\n",
       " 'mok': 21453,\n",
       " '1152': 20131,\n",
       " 'dogs': 15824,\n",
       " 'baka': 18727,\n",
       " '##hom': 19357,\n",
       " 'def': 4539,\n",
       " '1311': 14034,\n",
       " '##lagen': 14488,\n",
       " '##emer': 16326,\n",
       " 'lynn': 13897,\n",
       " 'flint': 16498,\n",
       " 'feldman': 16903,\n",
       " 'pcf': 21131,\n",
       " '##efect': 29301,\n",
       " '##lden': 21781,\n",
       " 'assign': 1806,\n",
       " '##229': 13836,\n",
       " '##valence': 19381,\n",
       " '##wald': 8778,\n",
       " 'hid': 11330,\n",
       " 'evident': 5744,\n",
       " 'gul': 7875,\n",
       " 'plaster': 12129,\n",
       " 'refund': 1217,\n",
       " 'kentucky': 6401,\n",
       " '##lmaz': 27627,\n",
       " 'cow': 8750,\n",
       " '1269': 22287,\n",
       " 'deze': 26331,\n",
       " 'bath': 8550,\n",
       " 'reintroduc': 29320,\n",
       " 'mie': 7786,\n",
       " 'ctb': 22993,\n",
       " 'sri': 8088,\n",
       " 'denie': 6786,\n",
       " 'tap': 9912,\n",
       " '1581': 18517,\n",
       " '182': 4323,\n",
       " 'sven': 24285,\n",
       " '##wheat': 26472,\n",
       " '210': 3805,\n",
       " '##octa': 14102,\n",
       " 'gateway': 11798,\n",
       " '##iego': 24218,\n",
       " '491': 8081,\n",
       " 'unbundl': 24072,\n",
       " '##urant': 26920,\n",
       " '##report': 28050,\n",
       " '##zhan': 28343,\n",
       " 'mcwilliams': 29766,\n",
       " 'blm': 15882,\n",
       " 'lokal': 26993,\n",
       " 'erisa': 2265,\n",
       " '##jur': 14551,\n",
       " 'cancelled': 4154,\n",
       " 'matter': 691,\n",
       " 'refraining': 15550,\n",
       " '170': 3715,\n",
       " '##republik': 26772,\n",
       " '##2223': 27420,\n",
       " '##enje': 27453,\n",
       " 'redacte': 4958,\n",
       " '##liquidated': 13481,\n",
       " '##vari': 23684,\n",
       " 'nodes': 21683,\n",
       " '##nahme': 23920,\n",
       " '##mandi': 26870,\n",
       " 'baraka': 29392,\n",
       " 'rewe': 19162,\n",
       " 'pleas': 4270,\n",
       " '##miasto': 24449,\n",
       " 'flashlight': 29855,\n",
       " 'towards': 2543,\n",
       " 'jam': 18837,\n",
       " 'formulat': 15158,\n",
       " 'shand': 18608,\n",
       " 'dvor': 29837,\n",
       " 'rarely': 14039,\n",
       " '79': 1289,\n",
       " 'osborn': 20028,\n",
       " '##ikos': 16020,\n",
       " 'ukrainian': 7235,\n",
       " '345': 6154,\n",
       " '##0093': 21820,\n",
       " '1390': 24508,\n",
       " 'leonid': 20296,\n",
       " 'numeric': 6987,\n",
       " 'allegian': 19816,\n",
       " 'cds': 13541,\n",
       " '##821': 16310,\n",
       " 'cheng': 19878,\n",
       " 'soldier': 17793,\n",
       " '2187': 22047,\n",
       " '##tracking': 12307,\n",
       " 'activities': 704,\n",
       " '##specific': 22637,\n",
       " '##anthrop': 26144,\n",
       " 'isil': 20206,\n",
       " 'holland': 11204,\n",
       " 'rotor': 16121,\n",
       " 'expansive': 23558,\n",
       " '##0056': 17680,\n",
       " '##nutrient': 29984,\n",
       " '##ema': 10910,\n",
       " 'asphalt': 15384,\n",
       " 'driver': 3351,\n",
       " '##clear': 10811,\n",
       " 'token': 12139,\n",
       " 'computer': 2608,\n",
       " '##hia': 11504,\n",
       " '##amo': 12088,\n",
       " 'gesch': 23115,\n",
       " 'calculator': 27366,\n",
       " '##gfish': 20772,\n",
       " 'crocker': 29609,\n",
       " '##asse': 12992,\n",
       " 'declines': 11742,\n",
       " 'sperm': 21223,\n",
       " '1233': 23835,\n",
       " '##9015': 22298,\n",
       " 'infirm': 23692,\n",
       " '##637': 15087,\n",
       " '##synov': 17604,\n",
       " 'gila': 25851,\n",
       " 'zagreb': 12244,\n",
       " 'frederik': 24173,\n",
       " 'scour': 17295,\n",
       " '##ungs': 11833,\n",
       " '##tige': 23717,\n",
       " 'remov': 28447,\n",
       " 'bog': 9963,\n",
       " 'leadership': 10026,\n",
       " 'fourteen': 7614,\n",
       " 'four': 1245,\n",
       " 'stuart': 13999,\n",
       " '##family': 14387,\n",
       " 'inoperative': 13278,\n",
       " '620': 7628,\n",
       " 'alternat': 15561,\n",
       " 'consult': 1738,\n",
       " '##pyraz': 25186,\n",
       " 'danut': 25758,\n",
       " 'contractor': 1028,\n",
       " '##hael': 27213,\n",
       " 'emmer': 30009,\n",
       " 'expedient': 12506,\n",
       " 'loyalty': 10722,\n",
       " '##ick': 9870,\n",
       " '776': 10208,\n",
       " 'ma': 1962,\n",
       " 'think': 3339,\n",
       " 'outpatient': 18431,\n",
       " '##voting': 22785,\n",
       " 'congen': 29277,\n",
       " '##ouvr': 25545,\n",
       " '##eaves': 25902,\n",
       " 'tardi': 26596,\n",
       " '218': 4638,\n",
       " 'developer': 6653,\n",
       " 'cord': 6789,\n",
       " '##1250': 21892,\n",
       " '46': 1100,\n",
       " 'contribute': 2385,\n",
       " '108': 2628,\n",
       " 'swiss': 4707,\n",
       " '##ew': 5564,\n",
       " '##kem': 22923,\n",
       " 'chose': 7885,\n",
       " 'bgn': 16432,\n",
       " 'expense': 1271,\n",
       " 'peripheral': 12524,\n",
       " 'paula': 24974,\n",
       " 'curi': 17071,\n",
       " 'cwi': 23202,\n",
       " '##claf': 23556,\n",
       " '##treu': 19914,\n",
       " 'peck': 22320,\n",
       " 'quor': 7590,\n",
       " 'treated': 1710,\n",
       " 'pope': 19478,\n",
       " '##581': 13369,\n",
       " 'converse': 8957,\n",
       " 'operated': 2881,\n",
       " '##els': 11601,\n",
       " 'sank': 26157,\n",
       " '##azol': 9890,\n",
       " '##ory': 3582,\n",
       " '##ast': 12091,\n",
       " '##hmi': 23946,\n",
       " '##eger': 16384,\n",
       " '##0117': 25091,\n",
       " '##enser': 22474,\n",
       " '##ule': 11586,\n",
       " 'lessee': 2213,\n",
       " '##2676': 29533,\n",
       " '603': 7645,\n",
       " '##54': 10674,\n",
       " 'burnt': 26860,\n",
       " 'S': 15630,\n",
       " 'altu': 22323,\n",
       " 'ross': 7774,\n",
       " 'transformation': 8090,\n",
       " '##institu': 22952,\n",
       " 'maximize': 15346,\n",
       " 'masco': 27472,\n",
       " '##erle': 26695,\n",
       " 'merits': 1823,\n",
       " '##jska': 23343,\n",
       " '##etro': 23345,\n",
       " 'liquor': 7818,\n",
       " 'brush': 15371,\n",
       " 'contraband': 15906,\n",
       " '##serve': 18145,\n",
       " 'icd': 14398,\n",
       " 'shipper': 8380,\n",
       " 'burdens': 9193,\n",
       " 'specialis': 15671,\n",
       " '##2900': 20536,\n",
       " '##636': 15909,\n",
       " '##missed': 15701,\n",
       " 'elementary': 14651,\n",
       " 'rape': 5815,\n",
       " '##nch': 15649,\n",
       " '371': 6286,\n",
       " '##adish': 11022,\n",
       " 'bullock': 26589,\n",
       " '##ating': 5934,\n",
       " 'microscope': 20051,\n",
       " '##nitrate': 27117,\n",
       " 'ideal': 12592,\n",
       " '##3010': 11121,\n",
       " 'reliev': 20140,\n",
       " 'fractionation': 20380,\n",
       " 'passenger': 3731,\n",
       " 'sops': 27235,\n",
       " '889': 10351,\n",
       " '0050': 17923,\n",
       " 'kenm': 20971,\n",
       " 'vessel': 2046,\n",
       " 'schizophreni': 24613,\n",
       " 'rem': 7090,\n",
       " 'acquaintance': 21972,\n",
       " '##tarif': 21786,\n",
       " 'granul': 10967,\n",
       " 'deprive': 6085,\n",
       " 'elevator': 11290,\n",
       " 'tailing': 24390,\n",
       " 'prohibitions': 7420,\n",
       " 'monet': 22958,\n",
       " 'simulat': 24599,\n",
       " '0207': 5698,\n",
       " '##coal': 19856,\n",
       " 'biotech': 22631,\n",
       " 'inconsistent': 3028,\n",
       " 'reads': 3530,\n",
       " '##formation': 19000,\n",
       " 'input': 3440,\n",
       " 'popular': 13402,\n",
       " '##destine': 28096,\n",
       " 'codifie': 9304,\n",
       " '##niej': 15894,\n",
       " '##recognised': 20645,\n",
       " 'restraint': 6124,\n",
       " 'sediment': 11660,\n",
       " '##mpo': 23618,\n",
       " '##pit': 17632,\n",
       " 'freezing': 8069,\n",
       " 'jas': 11082,\n",
       " 'farming': 5885,\n",
       " 'stretch': 12535,\n",
       " '##ment': 1346,\n",
       " '458': 7434,\n",
       " 'using': 1260,\n",
       " 'reunion': 13435,\n",
       " 'amenable': 15647,\n",
       " 'intended': 752,\n",
       " 'exist': 2086,\n",
       " 'compania': 23906,\n",
       " 'britt': 20108,\n",
       " '##ergamo': 26154,\n",
       " '##illiard': 29492,\n",
       " 'signer': 15631,\n",
       " 'screens': 17975,\n",
       " '##clone': 17045,\n",
       " 'leo': 13976,\n",
       " 'virtual': 12402,\n",
       " '##world': 16550,\n",
       " '##nia': 4433,\n",
       " '##ncy': 16819,\n",
       " 'seeking': 2041,\n",
       " 'actively': 5557,\n",
       " '018': 11360,\n",
       " 'meek': 29389,\n",
       " '##rain': 17676,\n",
       " 'neutralise': 27462,\n",
       " 'respected': 6661,\n",
       " '1369': 23897,\n",
       " 'poznan': 21619,\n",
       " 'perjur': 10887,\n",
       " 'revenue': 1046,\n",
       " '##acker': 21406,\n",
       " 'ros': 7935,\n",
       " 'adding': 4921,\n",
       " 'gendarmes': 17273,\n",
       " 'gilt': 26461,\n",
       " '##cla': 15451,\n",
       " 'attempts': 5809,\n",
       " '##oxic': 29953,\n",
       " 'custody': 2514,\n",
       " 'westl': 14569,\n",
       " '##exel': 19034,\n",
       " '##ible': 6842,\n",
       " 'lime': 7869,\n",
       " 'enroll': 6893,\n",
       " 'ratione': 8033,\n",
       " 'noble': 10632,\n",
       " '##beek': 23186,\n",
       " 'paste': 12387,\n",
       " 'smoke': 7698,\n",
       " 'fabricate': 15337,\n",
       " 'discrete': 13099,\n",
       " '1852': 26209,\n",
       " '##vascular': 16181,\n",
       " 'demolition': 12723,\n",
       " 'remedial': 5865,\n",
       " 'albuquerque': 14955,\n",
       " '##yuan': 17088,\n",
       " 'jap': 17417,\n",
       " '##essica': 30051,\n",
       " 'blu': 24487,\n",
       " '##potam': 26442,\n",
       " 'counterparty': 3329,\n",
       " 'neff': 29923,\n",
       " 'suspension': 2319,\n",
       " '[unused54]': 55,\n",
       " 'wilful': 10566,\n",
       " 'judicial': 1263,\n",
       " '##466': 18907,\n",
       " 'ossetia': 30349,\n",
       " '##amse': 27252,\n",
       " '##981': 15010,\n",
       " '##ucci': 9814,\n",
       " 'alive': 16646,\n",
       " '239': 4922,\n",
       " 'favorabl': 20305,\n",
       " 'overrule': 18480,\n",
       " '247': 5149,\n",
       " '##fte': 10882,\n",
       " 'drog': 14274,\n",
       " 'unfavorabl': 14678,\n",
       " 'drunk': 22587,\n",
       " 'baie': 24431,\n",
       " '148': 3486,\n",
       " 'shann': 19963,\n",
       " 'arri': 24955,\n",
       " 'nlg': 16686,\n",
       " 'oddz': 24566,\n",
       " '##iang': 11574,\n",
       " '5007': 20952,\n",
       " 'remunerated': 17160,\n",
       " '1829': 12766,\n",
       " '##erus': 21609,\n",
       " '530': 7218,\n",
       " '##cq': 8598,\n",
       " '1600': 12736,\n",
       " '##bishi': 14059,\n",
       " 'decedent': 7865,\n",
       " 'royce': 23019,\n",
       " '##5100': 24626,\n",
       " 'resolving': 7830,\n",
       " '2252': 24066,\n",
       " '##use': 7360,\n",
       " 'dana': 11259,\n",
       " '##ijn': 13872,\n",
       " '##atio': 20873,\n",
       " '##nesta': 26339,\n",
       " '##etan': 26148,\n",
       " 'electoral': 7299,\n",
       " 'recycl': 5480,\n",
       " 'ritual': 29562,\n",
       " '##proc': 23907,\n",
       " 'edi': 12933,\n",
       " '##0830': 27181,\n",
       " 'schreib': 24547,\n",
       " '##118': 11243,\n",
       " '1333': 13162,\n",
       " 'determine': 1025,\n",
       " '##zol': 18834,\n",
       " 'truthful': 10236,\n",
       " 'spiral': 21925,\n",
       " 'recite': 10019,\n",
       " 'with': 225,\n",
       " '##anjin': 19267,\n",
       " '2375': 27428,\n",
       " 'preceding': 1452,\n",
       " 'de': 406,\n",
       " '##dox': 23829,\n",
       " '##delivered': 30061,\n",
       " 'consultants': 4280,\n",
       " 'reconstruction': 8352,\n",
       " 'hint': 14558,\n",
       " '##000': 12258,\n",
       " 'afford': 3445,\n",
       " '##sburg': 10571,\n",
       " '##159': 11285,\n",
       " 'fluctuat': 21819,\n",
       " 'sky': 4379,\n",
       " '##shvil': 26652,\n",
       " 'rust': 19997,\n",
       " 'suspects': 9345,\n",
       " 'bau': 13759,\n",
       " '##igi': 14914,\n",
       " 'annuit': 16279,\n",
       " 'diligently': 7234,\n",
       " '##xcel': 27204,\n",
       " '##trust': 13742,\n",
       " 'khin': 15442,\n",
       " 'azienda': 23044,\n",
       " 'dysfunction': 26099,\n",
       " '##horn': 13284,\n",
       " 'theater': 27713,\n",
       " 'desirabl': 4007,\n",
       " 'switche': 12919,\n",
       " 'dispose': 3293,\n",
       " 'scop': 26719,\n",
       " '##ban': 12164,\n",
       " 'confirmation': 2405,\n",
       " '655': 8221,\n",
       " 'article': 234,\n",
       " 'outlined': 5644,\n",
       " 'crown': 7046,\n",
       " '##urov': 28706,\n",
       " 'oberste': 23772,\n",
       " 'inadverten': 26171,\n",
       " '##0009': 12696,\n",
       " 'toxic': 3891,\n",
       " 'grievous': 25237,\n",
       " '##part': 14130,\n",
       " '##266': 15277,\n",
       " 'trademarks': 3736,\n",
       " 'hypercom': 27291,\n",
       " 'combatant': 28016,\n",
       " 'seems': 3108,\n",
       " 'exchangeable': 3833,\n",
       " 'dressing': 13461,\n",
       " 'fasci': 24405,\n",
       " 'zagor': 22295,\n",
       " 'krone': 22443,\n",
       " '##edonia': 24417,\n",
       " 'rockwell': 24509,\n",
       " 'savings': 3576,\n",
       " 'season': 5674,\n",
       " 'extra': 4139,\n",
       " 'communications': 1798,\n",
       " 'weak': 8915,\n",
       " '##rue': 6287,\n",
       " 'accusing': 23547,\n",
       " 'lemmens': 25483,\n",
       " '##3579': 27218,\n",
       " 'securi': 28838,\n",
       " '722': 9208,\n",
       " 'visual': 5756,\n",
       " 'gonzale': 6994,\n",
       " 'image': 4274,\n",
       " '##dorf': 8696,\n",
       " '##279': 12908,\n",
       " 'gre': 10761,\n",
       " '##812': 12869,\n",
       " '##aws': 22195,\n",
       " 'suspended': 2817,\n",
       " '##lari': 21585,\n",
       " 'fusc': 29821,\n",
       " 'philip': 7117,\n",
       " 'osh': 21497,\n",
       " 'pour': 5889,\n",
       " '##uir': 21743,\n",
       " 'alley': 16925,\n",
       " 'poor': 4588,\n",
       " '##87': 10946,\n",
       " 'frederick': 13155,\n",
       " 'glock': 28939,\n",
       " '##urology': 30076,\n",
       " 'cr': 2569,\n",
       " '##enver': 27760,\n",
       " '2530': 25518,\n",
       " 'gins': 19647,\n",
       " 'tur': 8294,\n",
       " 'pie': 9157,\n",
       " '2023': 10720,\n",
       " 'credited': 4045,\n",
       " 'detainer': 28224,\n",
       " '##kamp': 12932,\n",
       " 'arena': 17958,\n",
       " 'auctioneer': 27370,\n",
       " '##21202': 28921,\n",
       " 'bpa': 25536,\n",
       " '##45': 4438,\n",
       " 'interruption': 5999,\n",
       " '##trinsic': 15828,\n",
       " '##amel': 18945,\n",
       " '##flu': 10687,\n",
       " 'dell': 7664,\n",
       " 'voda': 10876,\n",
       " '##090': 10948,\n",
       " 'regulation': 251,\n",
       " 'stevens': 9964,\n",
       " '##jecting': 30386,\n",
       " 'promulgat': 28562,\n",
       " 'unknown': 3002,\n",
       " 'purchas': 3502,\n",
       " 'depression': 11510,\n",
       " 'catholic': 15849,\n",
       " '##202': 11469,\n",
       " '##food': 17626,\n",
       " 'corpora': 24823,\n",
       " 'cassation': 3888,\n",
       " '781': 9709,\n",
       " '##arbado': 21152,\n",
       " '##14': 4564,\n",
       " '##tarie': 21529,\n",
       " 'viewpoint': 14056,\n",
       " 'terre': 16399,\n",
       " '1993': 1154,\n",
       " '##spira': 28267,\n",
       " '##denia': 27862,\n",
       " 'topic': 7809,\n",
       " '1384': 22271,\n",
       " 'plaque': 23670,\n",
       " 'stephen': 6424,\n",
       " '895': 9477,\n",
       " '1406': 22657,\n",
       " 'genometr': 29507,\n",
       " 'limitation': 807,\n",
       " '##species': 24619,\n",
       " 'honest': 10348,\n",
       " 'chauv': 28827,\n",
       " 'finanz': 7163,\n",
       " 'snc': 10345,\n",
       " 'introduced': 2452,\n",
       " '1042': 20237,\n",
       " 'clo': 8560,\n",
       " 'br': 3572,\n",
       " 'vlas': 22445,\n",
       " 'garage': 9984,\n",
       " '##0311': 29765,\n",
       " '##venno': 26775,\n",
       " 'invention': 3746,\n",
       " 'wels': 16748,\n",
       " 'perrin': 29927,\n",
       " '##odine': 15151,\n",
       " 'anaemi': 28895,\n",
       " '58': 1306,\n",
       " '##remen': 29500,\n",
       " '##29': 7913,\n",
       " 'ka': 4953,\n",
       " 'kril': 27908,\n",
       " 'lane': 6787,\n",
       " 'passing': 5867,\n",
       " 'suisse': 9520,\n",
       " '##credit': 8937,\n",
       " '##tian': 12994,\n",
       " '##pine': 12318,\n",
       " 'burr': 18913,\n",
       " 'gauge': 8006,\n",
       " 'trust': 559,\n",
       " 'doubtful': 10124,\n",
       " 'conway': 23393,\n",
       " '##strut': 28464,\n",
       " '##anne': 11727,\n",
       " '##tica': 12959,\n",
       " '227': 5273,\n",
       " '##luit': 17570,\n",
       " 'sentenced': 4205,\n",
       " 'consequently': 1782,\n",
       " 'eighty': 7172,\n",
       " 'divestiture': 8034,\n",
       " '##1996': 8417,\n",
       " '##flow': 13382,\n",
       " '734': 9053,\n",
       " '##had': 21393,\n",
       " '##cole': 24658,\n",
       " '##0604': 25046,\n",
       " 'geolog': 28833,\n",
       " '##szeg': 28962,\n",
       " 'obli': 29618,\n",
       " 'vegetati': 16162,\n",
       " 'kyo': 12926,\n",
       " 'undersigned': 2090,\n",
       " '##he': 3712,\n",
       " 'pana': 16596,\n",
       " 'acknowledge': 1137,\n",
       " '##aduro': 20739,\n",
       " 'hermetic': 20991,\n",
       " '##0076': 21765,\n",
       " '##rande': 29992,\n",
       " 'connectiv': 15691,\n",
       " 'monitors': 14155,\n",
       " '1293': 21697,\n",
       " 'initially': 3018,\n",
       " 'embroider': 16901,\n",
       " 'predate': 25371,\n",
       " 'challenger': 22104,\n",
       " '##simo': 22232,\n",
       " '1766': 7991,\n",
       " '3500': 21380,\n",
       " 'profits': 2606,\n",
       " 'crude': 4784,\n",
       " '##cil': 20446,\n",
       " '##vada': 15607,\n",
       " 'serve': 2433,\n",
       " 'owning': 7793,\n",
       " '##isuu': 23297,\n",
       " 'sul': 6113,\n",
       " 'enabled': 7451,\n",
       " 'leakage': 11993,\n",
       " 'pigment': 13358,\n",
       " 'object': 2412,\n",
       " 'lori': 22886,\n",
       " 'jeopardise': 10330,\n",
       " '##sibil': 25235,\n",
       " '##just': 9503,\n",
       " 'shchiborshch': 30471,\n",
       " 'moul': 25568,\n",
       " 'mada': 9436,\n",
       " 'neuter': 10973,\n",
       " 'inaccurate': 7277,\n",
       " '##keeping': 21161,\n",
       " 'genuine': 3037,\n",
       " 'stoic': 28039,\n",
       " 'cleanup': 14218,\n",
       " '##tomac': 23531,\n",
       " 'pepper': 7864,\n",
       " 'arab': 7405,\n",
       " 'watt': 10481,\n",
       " '##oven': 11602,\n",
       " 'disposal': 2446,\n",
       " 'pre': 961,\n",
       " 'loire': 14250,\n",
       " '##grund': 17287,\n",
       " 'balm': 23096,\n",
       " '##0156': 25150,\n",
       " 'coarse': 17262,\n",
       " '##erke': 26448,\n",
       " '##risti': 27885,\n",
       " '##3254': 30459,\n",
       " '##hood': 21637,\n",
       " 'alon': 19964,\n",
       " 'teme': 27770,\n",
       " 'illustrati': 19714,\n",
       " '##ptly': 27663,\n",
       " 'saadi': 23154,\n",
       " '##nitz': 13945,\n",
       " 'relevant': 444,\n",
       " '##ale': 5478,\n",
       " '##slawi': 30322,\n",
       " 'fabr': 24625,\n",
       " '##remise': 24871,\n",
       " 'mallor': 26771,\n",
       " 'equipment': 877,\n",
       " 'house': 2197,\n",
       " 'gravit': 5072,\n",
       " 'reserve': 1388,\n",
       " '408': 6237,\n",
       " '##gnition': 7785,\n",
       " 'outstanding': 766,\n",
       " ...}"
      ]
     },
     "execution_count": 15,
     "metadata": {},
     "output_type": "execute_result"
    }
   ],
   "source": [
    "tokenizer.vocab"
   ]
  },
  {
   "cell_type": "markdown",
   "id": "fd6d1819",
   "metadata": {},
   "source": [
    "Идентификатори токена се користе у креирању репрезентација докумената. За креирање репрезентације користи се функција *tokenize*. У наставку можемо видети листу идентификатора токена која је придружена примеру који смо издвојили."
   ]
  },
  {
   "cell_type": "code",
   "execution_count": 16,
   "id": "157172f8",
   "metadata": {},
   "outputs": [],
   "source": [
    "tokenized_example = tokenizer(example['text'])"
   ]
  },
  {
   "cell_type": "code",
   "execution_count": 17,
   "id": "87eefad9",
   "metadata": {},
   "outputs": [
    {
     "name": "stdout",
     "output_type": "stream",
     "text": [
      "[101, 554, 117, 198, 117, 638, 769, 524, 718, 210, 207, 274, 403, 156, 498, 118, 198, 250, 251, 111, 285, 112, 230, 2938, 118, 638, 210, 556, 609, 638, 859, 207, 847, 573, 1941, 217, 1455, 207, 1003, 405, 210, 411, 1698, 212, 2011, 189, 207, 250, 210, 207, 274, 858, 115, 361, 374, 211, 207, 510, 859, 207, 274, 299, 115, 361, 374, 211, 250, 251, 111, 285, 112, 230, 8698, 118, 1001, 210, 441, 463, 1077, 222, 1369, 409, 217, 207, 352, 210, 207, 573, 1236, 217, 1698, 212, 2011, 189, 111, 198, 112, 115, 212, 213, 382, 234, 201, 111, 198, 112, 375, 115, 400, 119, 111, 198, 112, 251, 111, 285, 112, 230, 8698, 118, 1001, 1967, 189, 476, 115, 294, 211, 207, 2761, 210, 207, 6341, 3708, 5612, 616, 2399, 115, 207, 1103, 3302, 207, 250, 6866, 207, 847, 1941, 217, 573, 189, 238, 393, 779, 115, 213, 267, 210, 207, 338, 212, 1715, 3915, 213, 207, 379, 772, 117, 111, 199, 112, 213, 739, 225, 207, 348, 1103, 115, 207, 847, 573, 1941, 311, 219, 975, 236, 207, 2005, 284, 303, 213, 207, 379, 211, 226, 251, 115, 207, 847, 573, 1941, 385, 211, 213, 234, 201, 210, 251, 111, 285, 112, 230, 8698, 118, 1001, 224, 219, 975, 221, 1319, 213, 207, 379, 622, 117, 226, 251, 224, 824, 288, 539, 222, 554, 609, 638, 117, 226, 251, 224, 219, 782, 213, 239, 1427, 212, 656, 278, 213, 241, 262, 265, 117, 102]\n"
     ]
    }
   ],
   "source": [
    "print(tokenized_example['input_ids'])"
   ]
  },
  {
   "cell_type": "markdown",
   "id": "7541868a",
   "metadata": {},
   "source": [
    "Одређени број токена који се користи има специјално занчење. Информације о тим токенима се могу добити својствима *all_special_ids* и *all_special_tokens* токенизатора. "
   ]
  },
  {
   "cell_type": "code",
   "execution_count": 18,
   "id": "d3238846",
   "metadata": {},
   "outputs": [
    {
     "name": "stdout",
     "output_type": "stream",
     "text": [
      "[UNK] 100\n",
      "[SEP] 102\n",
      "[PAD] 0\n",
      "[CLS] 101\n",
      "[MASK] 103\n"
     ]
    }
   ],
   "source": [
    "for token, id in zip(tokenizer.all_special_tokens, tokenizer.all_special_ids):\n",
    "    print(token, id)"
   ]
  },
  {
   "cell_type": "markdown",
   "id": "abd235d1",
   "metadata": {},
   "source": [
    "Овде ћемо прокоментарисати само значење токена CLS и SEP - први ће се увек користити да назначи почетак репрезентације, а други да назначи крај репрезентације. Токен UNK се користи да обележи непознату реч текста (енгл. unknown token)."
   ]
  },
  {
   "cell_type": "code",
   "execution_count": null,
   "id": "51516594",
   "metadata": {},
   "outputs": [],
   "source": []
  },
  {
   "cell_type": "markdown",
   "id": "f7720a75",
   "metadata": {},
   "source": [
    "Сада када знамо на који начин ће се представити документи у процесу класификације, можемо се позабавити вредностима које ће им класификатор придруживати. То ће бити, као што смо нагласили, идентификатори домена тезауруса EuroVoc. Идентификаторе домена и њихова имена можемо прочитати из датотеке *domains_with_id_and_name.txt*. Укупно их има 21."
   ]
  },
  {
   "cell_type": "code",
   "execution_count": 19,
   "id": "371a0db0",
   "metadata": {},
   "outputs": [],
   "source": [
    "import ast"
   ]
  },
  {
   "cell_type": "code",
   "execution_count": 20,
   "id": "c961a4b7",
   "metadata": {},
   "outputs": [],
   "source": [
    "number_of_domains = 21"
   ]
  },
  {
   "cell_type": "code",
   "execution_count": 21,
   "id": "4d979cec",
   "metadata": {},
   "outputs": [],
   "source": [
    "with open('data/domains_with_id_and_name.txt', 'r') as file:\n",
    "    domains_with_id_and_name = ast.literal_eval(file.read())"
   ]
  },
  {
   "cell_type": "code",
   "execution_count": 22,
   "id": "437969bf",
   "metadata": {},
   "outputs": [
    {
     "data": {
      "text/plain": [
       "{'04': 'POLITICS',\n",
       " '08': 'INTERNATIONAL RELATIONS',\n",
       " '10': 'EUROPEAN UNION',\n",
       " '12': 'LAW',\n",
       " '16': 'ECONOMICS',\n",
       " '20': 'TRADE',\n",
       " '24': 'FINANCE',\n",
       " '28': 'SOCIAL QUESTIONS',\n",
       " '32': 'EDUCATION AND COMMUNICATIONS',\n",
       " '36': 'SCIENCE',\n",
       " '40': 'BUSINESS AND COMPETITION',\n",
       " '44': 'EMPLOYMENT AND WORKING CONDITIONS',\n",
       " '48': 'TRANSPORT',\n",
       " '52': 'ENVIRONMENT',\n",
       " '56': 'AGRICULTURE, FORESTRY AND FISHERIES',\n",
       " '60': 'AGRI-FOODSTUFFS',\n",
       " '64': 'PRODUCTION, TECHNOLOGY AND RESEARCH',\n",
       " '66': 'ENERGY',\n",
       " '68': 'INDUSTRY',\n",
       " '72': 'GEOGRAPHY',\n",
       " '76': 'INTERNATIONAL ORGANISATIONS'}"
      ]
     },
     "execution_count": 22,
     "metadata": {},
     "output_type": "execute_result"
    }
   ],
   "source": [
    "domains_with_id_and_name"
   ]
  },
  {
   "cell_type": "code",
   "execution_count": null,
   "id": "439bbd4c",
   "metadata": {},
   "outputs": [],
   "source": []
  },
  {
   "cell_type": "markdown",
   "id": "f34431a4",
   "metadata": {},
   "source": [
    "Када нам затреба да из овог речника на основу редног броја домена тј. листе ових вредности очитамо имена домена, можемо искористи функцију *from_domain_indexes_to_names*. "
   ]
  },
  {
   "cell_type": "code",
   "execution_count": 23,
   "id": "964a9c04",
   "metadata": {},
   "outputs": [],
   "source": [
    "def from_domain_indexes_to_names(domain_indexes, domains_with_id_and_name=domains_with_id_and_name):\n",
    "    domain_names = []\n",
    "    \n",
    "    for domain_index, (domain_id, domain_name) in enumerate(domains_with_id_and_name.items()):\n",
    "        if domain_index in domain_indexes: \n",
    "                domain_names.append(domain_name)\n",
    "                \n",
    "    return domain_names"
   ]
  },
  {
   "cell_type": "markdown",
   "id": "9264347f",
   "metadata": {},
   "source": [
    "На пример, имена домена чији су индекси 2, 3 и 4 можемо добити следећим позивом. Не заборавите да нумерација почиње од нуле. "
   ]
  },
  {
   "cell_type": "code",
   "execution_count": 24,
   "id": "7264a398",
   "metadata": {},
   "outputs": [
    {
     "data": {
      "text/plain": [
       "['EUROPEAN UNION', 'LAW', 'ECONOMICS']"
      ]
     },
     "execution_count": 24,
     "metadata": {},
     "output_type": "execute_result"
    }
   ],
   "source": [
    "from_domain_indexes_to_names([2, 3, 4])"
   ]
  },
  {
   "cell_type": "code",
   "execution_count": null,
   "id": "4f9fe74f",
   "metadata": {},
   "outputs": [],
   "source": []
  },
  {
   "cell_type": "markdown",
   "id": "44c1aa78",
   "metadata": {},
   "source": [
    "У скупи података EurLex су документима придруживане лабеле са нижих слојева хијерахије тезауруса EuroVoc. Зато је било неопходно да мапирамо ове идентификаторе лабела у одговарајуће кровне идентификаторе домена. Попис свих лабела по доменима којима припадају се налази у датотеци *concepts_per_domain.txt*, а функцију *from_labels_to_domains* врши сама мапирања. Следећим блоком кода учитаћемо датотеку са лабелама и демонстрирати како ради *from_labels_to_domains* функција - ако одлучимо да редукујемо или променимо домене са којима класификатор може да ради, довољно је променити њен код. "
   ]
  },
  {
   "cell_type": "code",
   "execution_count": 25,
   "id": "91c55457",
   "metadata": {},
   "outputs": [],
   "source": [
    "with open('data/concepts_per_domain.txt', 'r') as file:\n",
    "    eurovoc_labels_per_domain = ast.literal_eval(file.read())"
   ]
  },
  {
   "cell_type": "code",
   "execution_count": 26,
   "id": "e65895dc",
   "metadata": {},
   "outputs": [],
   "source": [
    "def from_labels_to_domains(labels, eurovoc_labels_per_domain, number_of_domains=21):\n",
    "    \n",
    "    domains = []\n",
    "    \n",
    "    for label in labels: \n",
    "        for domain, domain_labels in eurovoc_labels_per_domain.items():\n",
    "            if label in domain_labels:\n",
    "                domains.append(domain)\n",
    "                \n",
    "    return list(set(domains))"
   ]
  },
  {
   "cell_type": "markdown",
   "id": "7964b43e",
   "metadata": {},
   "source": [
    "Тако ћемо документу из примера чије су лабеле ['1118', '1605', '2635', '693'] придружити домене *Finance* и *Agri-foodstuffs* чији су идентификатори, редом, 24 и 60."
   ]
  },
  {
   "cell_type": "code",
   "execution_count": 27,
   "id": "4769dbc7",
   "metadata": {},
   "outputs": [
    {
     "data": {
      "text/plain": [
       "['24', '60']"
      ]
     },
     "execution_count": 27,
     "metadata": {},
     "output_type": "execute_result"
    }
   ],
   "source": [
    "from_labels_to_domains(example['eurovoc_concepts'], eurovoc_labels_per_domain)"
   ]
  },
  {
   "cell_type": "code",
   "execution_count": null,
   "id": "28e11a05",
   "metadata": {},
   "outputs": [],
   "source": []
  },
  {
   "cell_type": "markdown",
   "id": "77e73585",
   "metadata": {},
   "source": [
    "Пошто ће нам очитавање имена домена за задате идентификаторе значити и у даљем раду, користићемо функцију *from_domain_ids_to_names*. Ова функција ће за задату листу идентификатора домена генерисати листу њихових имена очитавајући параове из речника *domains_with_id_and_name*.  "
   ]
  },
  {
   "cell_type": "code",
   "execution_count": 28,
   "id": "07a339a4",
   "metadata": {},
   "outputs": [],
   "source": [
    "def from_domain_ids_to_names(domain_ids, domains_with_id_and_name=domains_with_id_and_name):\n",
    "    return [domains_with_id_and_name[domain_id] for domain_id in domain_ids]"
   ]
  },
  {
   "cell_type": "code",
   "execution_count": 29,
   "id": "19422ce6",
   "metadata": {},
   "outputs": [
    {
     "data": {
      "text/plain": [
       "['FINANCE', 'AGRI-FOODSTUFFS']"
      ]
     },
     "execution_count": 29,
     "metadata": {},
     "output_type": "execute_result"
    }
   ],
   "source": [
    "from_domain_ids_to_names(['24', '60'])"
   ]
  },
  {
   "cell_type": "code",
   "execution_count": null,
   "id": "9682b438",
   "metadata": {},
   "outputs": [],
   "source": []
  },
  {
   "cell_type": "markdown",
   "id": "45deea2b",
   "metadata": {},
   "source": [
    "Сада можемо учитати обучени модел и тестирати како ради над неким произвољним правним документом. "
   ]
  },
  {
   "cell_type": "markdown",
   "id": "5042f005",
   "metadata": {},
   "source": [
    "За учитавање модела искористићемо функцију *AutoModelForSequenceClassification* библиотеке *transformers*. Ова функција очекује путању до прилагођеног модела.  "
   ]
  },
  {
   "cell_type": "code",
   "execution_count": 30,
   "id": "8e89f4c9",
   "metadata": {},
   "outputs": [],
   "source": [
    "from transformers import AutoModelForSequenceClassification"
   ]
  },
  {
   "cell_type": "code",
   "execution_count": 31,
   "id": "708399d9",
   "metadata": {},
   "outputs": [],
   "source": [
    "FINETUNED_MODEL_PATH = 'mldata/legalbert_model_finetuned'"
   ]
  },
  {
   "cell_type": "code",
   "execution_count": 32,
   "id": "d684d48d",
   "metadata": {},
   "outputs": [],
   "source": [
    "model = AutoModelForSequenceClassification.from_pretrained(FINETUNED_MODEL_PATH)"
   ]
  },
  {
   "cell_type": "markdown",
   "id": "aa6b758d",
   "metadata": {},
   "source": [
    "Коришћењем својства *num_labels* можемо се уверити и да учитани модел подржава рад са двадесет и једном класом - имамо баш толико домена у тезаурусу EuroVoc. "
   ]
  },
  {
   "cell_type": "code",
   "execution_count": 33,
   "id": "1a79eebe",
   "metadata": {},
   "outputs": [
    {
     "data": {
      "text/plain": [
       "21"
      ]
     },
     "execution_count": 33,
     "metadata": {},
     "output_type": "execute_result"
    }
   ],
   "source": [
    "model.num_labels"
   ]
  },
  {
   "cell_type": "markdown",
   "id": "471cebd1",
   "metadata": {},
   "source": [
    "Функција *document_classification* обједињује кораке генерисања репрезентације задатог документа, позивa модела, очитавањa његових нумеричких предикција и њихово мапирање у имена домена. "
   ]
  },
  {
   "cell_type": "code",
   "execution_count": 34,
   "id": "772491f8",
   "metadata": {},
   "outputs": [],
   "source": [
    "import torch"
   ]
  },
  {
   "cell_type": "code",
   "execution_count": 35,
   "id": "1bc055e3",
   "metadata": {},
   "outputs": [],
   "source": [
    "def document_classification(document, tokenizer=tokenizer, model=model, domains_with_id_and_name=domains_with_id_and_name, return_probabilities=False):\n",
    "    document_representation = tokenizer(document, return_tensors=\"pt\")\n",
    "    model_predictions = model(**document_representation)\n",
    "    model_probabilities = model_predictions.logits.sigmoid().detach().cpu().flatten()\n",
    "    domain_indexes = torch.where(model_probabilities >= 0.5)[0].squeeze().tolist()\n",
    "    domain_names = from_domain_indexes_to_names(domain_indexes, domains_with_id_and_name)\n",
    "    \n",
    "    if return_probabilities:\n",
    "        return domain_names, model_probabilities.reshape(1, -1).tolist()\n",
    "    \n",
    "    return domain_names"
   ]
  },
  {
   "cell_type": "code",
   "execution_count": null,
   "id": "2d60c949",
   "metadata": {},
   "outputs": [],
   "source": []
  },
  {
   "cell_type": "markdown",
   "id": "99fa2701",
   "metadata": {},
   "source": [
    "Искористимо за тестирање део превода Закона o правној заштити индустријског дизајна Републике Србије."
   ]
  },
  {
   "cell_type": "code",
   "execution_count": 36,
   "id": "4ee154b0",
   "metadata": {},
   "outputs": [],
   "source": [
    "document = '''\n",
    "Content of the Design Right Article 39 The holder of right to industrial design has the exclusive right to\n",
    "use the protected industrial design and to deny that right to every third party. The use from paragraph 1\n",
    "of this article implies in particular the manufacture, offering, marketing, import, export or use of that\n",
    "product, implying that design is embedded there or applied for that or stored  for the mentioned purposes. \n",
    "Industrial Design Author Rights Article 40 Author of the industrial design shall have moral and economic rights. \n",
    "The moral right shall be understood to mean the right of the industrial design author to have his name indicated \n",
    "in the registration application, documents and certificate of the industrial design.\n",
    "'''"
   ]
  },
  {
   "cell_type": "markdown",
   "id": "fcdd640f",
   "metadata": {},
   "source": [
    "Класификатор овом документу придружује лабеле 'TRADE', 'PRODUCTION, TECHNOLOGY AND RESEARCH', 'INDUSTRY', што је заправо врло релевантно!"
   ]
  },
  {
   "cell_type": "code",
   "execution_count": 37,
   "id": "e512c777",
   "metadata": {},
   "outputs": [],
   "source": [
    "predicted_domains = document_classification(document)"
   ]
  },
  {
   "cell_type": "code",
   "execution_count": 38,
   "id": "e63baa48",
   "metadata": {},
   "outputs": [
    {
     "data": {
      "text/plain": [
       "['TRADE', 'PRODUCTION, TECHNOLOGY AND RESEARCH', 'INDUSTRY']"
      ]
     },
     "execution_count": 38,
     "metadata": {},
     "output_type": "execute_result"
    }
   ],
   "source": [
    "predicted_domains"
   ]
  },
  {
   "cell_type": "code",
   "execution_count": null,
   "id": "05f67d02",
   "metadata": {},
   "outputs": [],
   "source": []
  },
  {
   "cell_type": "markdown",
   "id": "0bb8b6dc",
   "metadata": {},
   "source": [
    "Предикције класификатора неће увек бити тачне. Око неких домена ће класификатор бити врло сигуран, предвиђаће их са великом вероватноћом, док ће у неким случајевима бити мање сигуран и предвиђаће их са мањим вредностима вероватноћа. Оцена вероватноће креће се на скали од 0 до 1 и веће вредности указују на вероватније догађаје. Ми смо у функцији која придружује лабеле документима користили праг 0.5 - уколико је вероватноћа одређене лабеле већа од 0.5 придруживали смо је документу. Уколико се у функцији *document_classification* постави аргумент *return_probabilities* са вредношћу *True*, можемо да пратимо и вредности вероватноћа класификатора приликом придруживања. "
   ]
  },
  {
   "cell_type": "code",
   "execution_count": 39,
   "id": "debdd427",
   "metadata": {},
   "outputs": [],
   "source": [
    "predicted_domains, probabilities = document_classification(document, return_probabilities=True)"
   ]
  },
  {
   "cell_type": "code",
   "execution_count": 40,
   "id": "6f1ec35a",
   "metadata": {},
   "outputs": [
    {
     "name": "stdout",
     "output_type": "stream",
     "text": [
      "POLITICS                                : 0.0161754097789526\n",
      "INTERNATIONAL RELATIONS                 : 0.049240123480558395\n",
      "EUROPEAN UNION                          : 0.10395551472902298\n",
      "LAW                                     : 0.05945145711302757\n",
      "ECONOMICS                               : 0.020506726577878\n",
      "TRADE                                   : 0.6690245270729065\n",
      "FINANCE                                 : 0.008046151138842106\n",
      "SOCIAL QUESTIONS                        : 0.07526606321334839\n",
      "EDUCATION AND COMMUNICATIONS            : 0.16714264452457428\n",
      "SCIENCE                                 : 0.06538066267967224\n",
      "BUSINESS AND COMPETITION                : 0.06559808552265167\n",
      "EMPLOYMENT AND WORKING CONDITIONS       : 0.014357171021401882\n",
      "TRANSPORT                               : 0.030616434291005135\n",
      "ENVIRONMENT                             : 0.06811024248600006\n",
      "AGRICULTURE, FORESTRY AND FISHERIES     : 0.04937605932354927\n",
      "AGRI-FOODSTUFFS                         : 0.028139447793364525\n",
      "PRODUCTION, TECHNOLOGY AND RESEARCH     : 0.8880303502082825\n",
      "ENERGY                                  : 0.029661506414413452\n",
      "INDUSTRY                                : 0.643184244632721\n",
      "GEOGRAPHY                               : 0.0413966178894043\n",
      "INTERNATIONAL ORGANISATIONS             : 0.016568616032600403\n"
     ]
    }
   ],
   "source": [
    "for domain, probability_score in zip(domains_with_id_and_name.values(), probabilities[0]):\n",
    "    print ('{domain:40}: {probability_score}'.format(domain=domain, probability_score=probability_score))"
   ]
  },
  {
   "cell_type": "markdown",
   "id": "abe455dc",
   "metadata": {},
   "source": [
    "Функција *visualize_probabilities* ће нам помоћи да овако добијене вероватноће прикажемо у форми топлотне мапе и нешто лакше испратимо понашање класификатора."
   ]
  },
  {
   "cell_type": "code",
   "execution_count": 41,
   "id": "93a6ac3d",
   "metadata": {},
   "outputs": [],
   "source": [
    "from matplotlib import pyplot as plt"
   ]
  },
  {
   "cell_type": "code",
   "execution_count": 42,
   "id": "80aa5332",
   "metadata": {},
   "outputs": [],
   "source": [
    "def visualize_probabilities(probabilities, domains_with_id_and_name=domains_with_id_and_name, number_of_domains=21):\n",
    "\n",
    "    domains = list(domains_with_id_and_name.values())\n",
    "\n",
    "    figure, ax = plt.subplots(1, 1, figsize=(10, 8))\n",
    "    image = ax.imshow(probabilities)\n",
    "\n",
    "    ax.set_title(\"Mapa vrednosti verovatnoća\")\n",
    "    \n",
    "    ax.set_xticks(torch.arange(number_of_domains))\n",
    "    ax.set_xticklabels(domains)\n",
    "    plt.setp(ax.get_xticklabels(), rotation=45, ha=\"right\", rotation_mode=\"anchor\")\n",
    "\n",
    "    ax.set_yticks([])\n",
    "    \n",
    "    for i in range(number_of_domains):\n",
    "        text = ax.text(i, 0, round(probabilities[0][i], 2), ha=\"center\", va=\"center\", color=\"w\")\n",
    "\n",
    "    cbar = ax.figure.colorbar(image, ax=ax, orientation='horizontal', location='top')\n",
    "    cbar.ax.set_xlabel(\"Skala boja\", rotation=0, va=\"bottom\")\n",
    "    \n",
    "    figure.tight_layout()\n",
    "    plt.show()"
   ]
  },
  {
   "cell_type": "code",
   "execution_count": 43,
   "id": "05fe0d54",
   "metadata": {},
   "outputs": [
    {
     "data": {
      "image/png": "[encoded data removed]",
      "text/plain": [
       "<Figure size 720x576 with 2 Axes>"
      ]
     },
     "metadata": {
      "needs_background": "light"
     },
     "output_type": "display_data"
    }
   ],
   "source": [
    "visualize_probabilities(probabilities)"
   ]
  },
  {
   "cell_type": "markdown",
   "id": "9387425d",
   "metadata": {},
   "source": [
    "Као што можемо видети, класификатор је најсигурнији око предикције лабеле 'PRODUCTION, TECHNOLOGY AND RESEARCH'. Променом прагова који се користе можемо утицати на строгост класификације.  "
   ]
  },
  {
   "cell_type": "markdown",
   "id": "14b7f5bb",
   "metadata": {},
   "source": [
    "Важна напомена у раду нашег модела је да ради само са првих 512 токена репрезентације документа. Уколико је потребно класификовати дужи садржај, предлог је поделити га на неке разумно дуге делове, на пример, на чланове, и покренути класификатор над сваким од делова.  "
   ]
  },
  {
   "cell_type": "code",
   "execution_count": null,
   "id": "1be2d5ca",
   "metadata": {},
   "outputs": [],
   "source": []
  },
  {
   "cell_type": "markdown",
   "id": "58861904",
   "metadata": {},
   "source": [
    "Закони се много чешће могу пронаћи као документи у PDF формату. Због тога може бити згодно познавање библиотеке PyPDF2 која омогућава рад са овом врстом докумената. Демонстрираћемо како ова библиотека ради над PDF верзијом Закона o правној заштити индустријског дизајна Републике Србије. Закон се може пронаћи на <a href='https://www.zis.gov.rs//upload/documents/pdf_en/pdf_dizajn/Prevod%20Zakona%20dizajn%202020%20(2).pdf'>овој адреси</a>, а ми смо га преузели и сачували у директоријуму *data/the_law_on_legal_protection_of_design.pdf*."
   ]
  },
  {
   "cell_type": "code",
   "execution_count": 44,
   "id": "c1561d93",
   "metadata": {},
   "outputs": [],
   "source": [
    "document_path = \"data/laws/the_law_on_legal_protection_of_design.pdf\""
   ]
  },
  {
   "cell_type": "markdown",
   "id": "a6791e1b",
   "metadata": {},
   "source": [
    "Следећим блоком кода можемо учитати библиотеку PyPDF2 и припремити читач *document_reader* документа. "
   ]
  },
  {
   "cell_type": "code",
   "execution_count": 45,
   "id": "145830bf",
   "metadata": {},
   "outputs": [],
   "source": [
    "import PyPDF2"
   ]
  },
  {
   "cell_type": "code",
   "execution_count": 46,
   "id": "7431583e",
   "metadata": {},
   "outputs": [],
   "source": [
    "file = open(document_path, \"rb\")\n",
    "document_reader = PyPDF2.PdfFileReader(file)"
   ]
  },
  {
   "cell_type": "markdown",
   "id": "e09dd4a5",
   "metadata": {},
   "source": [
    "Неке основне информације о документу попут наслова, имена аутора, датума креирања и слично можемо добити коришћењем функције *getDocumentInfo*. "
   ]
  },
  {
   "cell_type": "code",
   "execution_count": 47,
   "id": "43154ab0",
   "metadata": {},
   "outputs": [],
   "source": [
    "document_info = document_reader.getDocumentInfo()"
   ]
  },
  {
   "cell_type": "code",
   "execution_count": 48,
   "id": "032c4dec",
   "metadata": {},
   "outputs": [
    {
     "data": {
      "text/plain": [
       "{'/Author': 'Mirela Boskovic',\n",
       " '/CreationDate': \"D:20200122125217+01'00'\",\n",
       " '/Creator': 'Microsoft® Word 2010',\n",
       " '/ModDate': \"D:20200122142601+01'00'\",\n",
       " '/Producer': 'Microsoft® Word 2010',\n",
       " '/Title': 'THE LAW ON LEGAL PROTECTION OF DESIGN1'}"
      ]
     },
     "execution_count": 48,
     "metadata": {},
     "output_type": "execute_result"
    }
   ],
   "source": [
    "document_info"
   ]
  },
  {
   "cell_type": "markdown",
   "id": "9526f0f0",
   "metadata": {},
   "source": [
    "Информације о броју страна документа можемо добити коришћењем функције *getNumPages*."
   ]
  },
  {
   "cell_type": "code",
   "execution_count": 49,
   "id": "05bdb606",
   "metadata": {},
   "outputs": [
    {
     "name": "stdout",
     "output_type": "stream",
     "text": [
      "Broj strana dokumenta:  40\n"
     ]
    }
   ],
   "source": [
    "print('Broj strana dokumenta: ', document_reader.getNumPages())"
   ]
  },
  {
   "cell_type": "markdown",
   "id": "ef881a27",
   "metadata": {},
   "source": [
    "Неку конкретну страну документа можемо добити коришћењем функције *getPage*, а њен текстуални садржај коришћењем функције *extractText*. Следећим блоком кода можемо прочитати садржај са странице број 12 (подсетник: нумерација почиње од нуле!)."
   ]
  },
  {
   "cell_type": "code",
   "execution_count": 50,
   "id": "55deec71",
   "metadata": {},
   "outputs": [],
   "source": [
    "test_page = document_reader.getPage(11)"
   ]
  },
  {
   "cell_type": "code",
   "execution_count": 51,
   "id": "53799a65",
   "metadata": {},
   "outputs": [],
   "source": [
    "test_page_content = test_page.extractText()"
   ]
  },
  {
   "cell_type": "code",
   "execution_count": 52,
   "id": "74640ae6",
   "metadata": {},
   "outputs": [
    {
     "data": {
      "text/plain": [
       "' \\n12\\n \\ninternational agreement between these states, regardless of the subsequent \\nlegal\\n \\nstatus of such\\n \\napplication.\\n \\nThe legal or natural person referred to in paragrap\\nh 1 of this Article \\nshall submit to the\\n \\ncompetent authority the copy of such application certified \\nby the competent authority of the\\n \\nmember state of the Paris Union, the \\nWorld Trade Organization, or the international organization\\n \\nwhere the \\napplication was \\nfiled, not later than three months as of the date of filing the \\napplication\\n \\nin \\nRepublic of \\nSerbia.\\n \\n \\nPriority Certificate\\n \\n \\nArticle 25a\\n \\nOn the reqeuest of the domestic or foreign natural or legal person \\nwhich has filed the industial design right application,\\n \\nthe competent \\nauthority shall issue a priority certificate. \\n \\nThe request for issuing a priority certificate shall contain, in \\nparticular: a representation identical to the one in the application; a \\ndescription identical to the one in the application; proo\\nf of payment of the \\nfee for the certificate\\n.\\n \\nThe priority certificate shall contain, in particular: data about the \\napplicant; data about the author of the industrial design; the application \\nnumber and the date of filing the application; a representation id\\nentical to \\nthe one in the application; a description identical to the one in the \\napplication\\n. \\n \\nThe Government shall prescribe the particulars \\nof the request under \\nparagraph 2\\n \\nof this Article and the content of the priori\\nty certificate under \\nparagraph 3\\n \\nof \\nthis Article\\n.  \\n \\n \\nExhibition Priority Right\\n \\nArticle 26\\n \\nThe applicant who has exhibited the design at the national fair or \\ninternational exhibition or in\\n \\nany other member state of the Paris Union or \\nthe World Trade Organization within three months\\n \\npreceding \\nthe date of the \\nfiling of the application, may request in the application the registration\\n \\nof the \\ndesign right from the date of the first exhibiting the \\nindustrial \\ndesign.\\n \\nThe applicant referred to in paragraph 1 of this Article shall attach to \\nthe applica\\ntion the\\n \\ncertificate by the competent authority of a member state \\nof the Paris Union or the World Trade\\n \\nOrganization that the fair or \\nexhibition was international in its character, indicating data on the\\n \\ntype of \\nfair or exhibition, venue, date of opening a\\nnd closing of the fair or exhibition \\nand the date\\n \\nof the first exhibiting the design.\\n \\n'"
      ]
     },
     "execution_count": 52,
     "metadata": {},
     "output_type": "execute_result"
    }
   ],
   "source": [
    "test_page_content"
   ]
  },
  {
   "cell_type": "markdown",
   "id": "2c46c876",
   "metadata": {},
   "source": [
    "Као што можемо видети, прочитани текст садржи знаке за нови ред (\\n) које је потребно обрисати. Модел са којим радимо очекује текст записан и малим и великим словима (у његовом имену стоји *uncased*) па није потребно вршити нормализацију и усаглашавање овог типа. По потреби можемо обрисати бројеве страница, уклонити електронске адресе или слично. Функција *clean_document* може да обједини све неопходне кораке припреме. Тренутно, она брише знак за нови ред, замењује вишеструке белине једноструким и брише број странице са почетка документа. "
   ]
  },
  {
   "cell_type": "code",
   "execution_count": 53,
   "id": "5cd6a540",
   "metadata": {},
   "outputs": [],
   "source": [
    "def clean_document(document, page_number=None):\n",
    "    document = document.replace('\\n', '')\n",
    "    document = document.replace('\\s+', '')\n",
    "    \n",
    "    if page_number:\n",
    "        document = document.strip()\n",
    "        page_number = str(page_number)\n",
    "        page_chars = len(page_number)\n",
    "        if document[0:page_chars] == page_number:\n",
    "            document = document[page_chars+1:]\n",
    "    return document"
   ]
  },
  {
   "cell_type": "markdown",
   "id": "d1aca40a",
   "metadata": {},
   "source": [
    "Можемо проверити и како изгледа резултат ове функције. "
   ]
  },
  {
   "cell_type": "code",
   "execution_count": 54,
   "id": "a517db44",
   "metadata": {},
   "outputs": [
    {
     "data": {
      "text/plain": [
       "'international agreement between these states, regardless of the subsequent legal status of such application. The legal or natural person referred to in paragraph 1 of this Article shall submit to the competent authority the copy of such application certified by the competent authority of the member state of the Paris Union, the World Trade Organization, or the international organization where the application was filed, not later than three months as of the date of filing the application in Republic of Serbia.  Priority Certificate  Article 25a On the reqeuest of the domestic or foreign natural or legal person which has filed the industial design right application, the competent authority shall issue a priority certificate.  The request for issuing a priority certificate shall contain, in particular: a representation identical to the one in the application; a description identical to the one in the application; proof of payment of the fee for the certificate. The priority certificate shall contain, in particular: data about the applicant; data about the author of the industrial design; the application number and the date of filing the application; a representation identical to the one in the application; a description identical to the one in the application.  The Government shall prescribe the particulars of the request under paragraph 2 of this Article and the content of the priority certificate under paragraph 3 of this Article.    Exhibition Priority Right Article 26 The applicant who has exhibited the design at the national fair or international exhibition or in any other member state of the Paris Union or the World Trade Organization within three months preceding the date of the filing of the application, may request in the application the registration of the design right from the date of the first exhibiting the industrial design. The applicant referred to in paragraph 1 of this Article shall attach to the application the certificate by the competent authority of a member state of the Paris Union or the World Trade Organization that the fair or exhibition was international in its character, indicating data on the type of fair or exhibition, venue, date of opening and closing of the fair or exhibition and the date of the first exhibiting the design.'"
      ]
     },
     "execution_count": 54,
     "metadata": {},
     "output_type": "execute_result"
    }
   ],
   "source": [
    "clean_document(test_page_content, page_number=12)"
   ]
  },
  {
   "cell_type": "markdown",
   "id": "ba7c9663",
   "metadata": {},
   "source": [
    "Коначно, можемо видети које лабеле су придружене овој страници и колико је класификатор сигуран приликом њиховог придруживања. "
   ]
  },
  {
   "cell_type": "code",
   "execution_count": 55,
   "id": "4db4f81a",
   "metadata": {},
   "outputs": [],
   "source": [
    "domains, probabilities = document_classification(clean_document(test_page_content), return_probabilities=True)"
   ]
  },
  {
   "cell_type": "code",
   "execution_count": 56,
   "id": "3d79a95a",
   "metadata": {},
   "outputs": [
    {
     "name": "stdout",
     "output_type": "stream",
     "text": [
      "['INTERNATIONAL RELATIONS', 'TRADE', 'PRODUCTION, TECHNOLOGY AND RESEARCH', 'GEOGRAPHY']\n"
     ]
    }
   ],
   "source": [
    "print(domains)"
   ]
  },
  {
   "cell_type": "code",
   "execution_count": 57,
   "id": "7f2cc6f9",
   "metadata": {},
   "outputs": [
    {
     "data": {
      "image/png": "[encoded data removed]",
      "text/plain": [
       "<Figure size 720x576 with 2 Axes>"
      ]
     },
     "metadata": {
      "needs_background": "light"
     },
     "output_type": "display_data"
    }
   ],
   "source": [
    "visualize_probabilities(probabilities)"
   ]
  },
  {
   "cell_type": "markdown",
   "id": "d04b57e3",
   "metadata": {},
   "source": [
    "Лабела 'GEOGRAPHY' је можда неочекивана, претпоставка је да су имена земаља које се налазе у овом документу утицала на овакав закључак."
   ]
  },
  {
   "cell_type": "markdown",
   "id": "6fd6dd57",
   "metadata": {},
   "source": [
    "## Задатак за вежбу"
   ]
  },
  {
   "cell_type": "markdown",
   "id": "db55f796",
   "metadata": {},
   "source": [
    "1. Извршите ћелију у наставку, а потом кликом на дугме *Upload* учитајте документ по избору. У даљем раду га можете користити под именом *demo.pdf*. Можете даље издвојите неку страницу пратећи функционалности библиотеке *PyPDF*, а затим проверити које лабеле јој класификатор придружује. "
   ]
  },
  {
   "cell_type": "markdown",
   "id": "8f9b4040",
   "metadata": {},
   "source": [
    "Напомена: Не заборавите да модел оптимално ради са документима који су дужине око 512 токена тј. дужине два до три параграфа. "
   ]
  },
  {
   "cell_type": "code",
   "execution_count": 58,
   "id": "00c870d1",
   "metadata": {},
   "outputs": [],
   "source": [
    "import ipywidgets as widgets\n",
    "from IPython.display import display"
   ]
  },
  {
   "cell_type": "code",
   "execution_count": 59,
   "id": "40b2e423",
   "metadata": {},
   "outputs": [
    {
     "data": {
      "application/vnd.jupyter.widget-view+json": {
       "model_id": "6c30557c7db746d194ef34f10dad22d8",
       "version_major": 2,
       "version_minor": 0
      },
      "text/plain": [
       "FileUpload(value={}, accept='.pdf', description='Upload')"
      ]
     },
     "metadata": {},
     "output_type": "display_data"
    }
   ],
   "source": [
    "uploader = widgets.FileUpload(accept='.pdf', multiple=False, maxsize='10M')\n",
    "\n",
    "def on_document_upload(change):\n",
    "    for f in uploader.value:\n",
    "        content = uploader.value[f]['content']\n",
    "        with open('data/laws/demo.pdf', 'wb') as demo_file:\n",
    "            demo_file.write(content)\n",
    "            \n",
    "uploader.observe(on_document_upload)\n",
    "\n",
    "display(uploader)"
   ]
  },
  {
   "cell_type": "code",
   "execution_count": null,
   "id": "4bfce5aa",
   "metadata": {},
   "outputs": [],
   "source": []
  }
 ],
 "metadata": {
  "kernelspec": {
   "display_name": "Python 3 (ipykernel)",
   "language": "python",
   "name": "python3"
  },
  "language_info": {
   "codemirror_mode": {
    "name": "ipython",
    "version": 3
   },
   "file_extension": ".py",
   "mimetype": "text/x-python",
   "name": "python",
   "nbconvert_exporter": "python",
   "pygments_lexer": "ipython3",
   "version": "3.9.5"
  }
 },
 "nbformat": 4,
 "nbformat_minor": 5
}
