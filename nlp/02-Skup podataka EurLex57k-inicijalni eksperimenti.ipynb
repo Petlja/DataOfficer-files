{
 "cells": [
  {
   "cell_type": "markdown",
   "id": "29432899",
   "metadata": {},
   "source": [
    "# Скуп података EurLex57k"
   ]
  },
  {
   "cell_type": "markdown",
   "id": "f92af710",
   "metadata": {},
   "source": [
    "У овој секцији упознаћемо нешто детаљније скупу података **ЕurLex57k**.   "
   ]
  },
  {
   "cell_type": "code",
   "execution_count": null,
   "id": "7d9f2d14",
   "metadata": {},
   "outputs": [],
   "source": []
  },
  {
   "cell_type": "markdown",
   "id": "d6b2e7a2",
   "metadata": {},
   "source": [
    "Скуп података **EurLex57k** представља колекцију од 57 хиљада докумената преузетих са платформе <a href='https://eur-lex.europa.eu/homepage.html'> EUR-lex </a>. Платформа EUR-lex је централна платформа преко које се са јавношћу деле званични документи Европске уније попут закона, међународних споразума, судских пракси, националних мера транспозиције и многих других типова правних докумената. Сваки од ових докумената је доступан на 24 званична језика Европске уније, али скуп података EurLex57k обједињује само верзије ових докумената на енглеском језику. \n",
    "\n",
    "Сваки документ скупа података EurLex57k има свој јединствени идентификатор, такозвани CELEX број. CELEX број се састоји из 4 дела: назнаке сектора којем документ припада, четвороцифрене године објављивања документа, дескриптора документа и броја документа. Сектора има укупно 12 и обележавају се бројевима од 0 до 9 или латиничним словима C и Е. Тако, на пример, сектору 9 припадају документа која се односе на парламентарна питања, а сектору 4 документа комплемнтарног законодавства. Дескриптор документа се састоји од једног или два слова са предефинисаним значењем. На пример, латинично слово *L* се односи на директиве, латинично слово *R* на регулативе, а латинично слово *D* на одлуке. Број документа се записује као четвороцифрени број и представља званични број, интерни број или датум публиковања. Постоје и нека одступања од ових правила именовања условљена верзионисањима и коректурама докумената. Више о CELEX бројевима се може прочитати на <a href='https://eur-lex.europa.eu/content/help/faq/celex-number.html'> званичној страници </a> EUR-Lex платформе.\n",
    "\n",
    "Документи се састоје од заглавља које садржи наслов и име регулаторног тела, the recitals, which are legal background references и тела документа које је најчешће организовано по члановима. На <a href='https://eur-lex.europa.eu/eli/reg/2016/679/oj'> овој адреси </a> можете видети пример једног документа EUR-lex колекције - Опште регулативе о заштити података (енгл. General Data Protection Regulation) којој одговара CELEX број 32016R0679."
   ]
  },
  {
   "cell_type": "code",
   "execution_count": null,
   "id": "652dfb96",
   "metadata": {},
   "outputs": [],
   "source": []
  },
  {
   "cell_type": "markdown",
   "id": "1c17d63f",
   "metadata": {},
   "source": [
    "Да бисмо учитали скуп података EurLex57k искористићемо функцију `loda_dataset` пакет `datasets` библиотеке *transformers*. Довољно је да приликом њеног позива наведемо аргумент `eurlex`. "
   ]
  },
  {
   "cell_type": "code",
   "execution_count": 1,
   "id": "cabb8da1",
   "metadata": {},
   "outputs": [],
   "source": [
    "from datasets import load_dataset"
   ]
  },
  {
   "cell_type": "code",
   "execution_count": 2,
   "id": "9c9b2fa5",
   "metadata": {},
   "outputs": [
    {
     "name": "stderr",
     "output_type": "stream",
     "text": [
      "No config specified, defaulting to: eurlex/eurlex57k\n",
      "Reusing dataset eurlex (C:\\Users\\v-anzece\\.cache\\huggingface\\datasets\\eurlex\\eurlex57k\\1.1.0\\d2fdeaa4fcb5f41394d2ed0317c8541d7f9be85d2d601b9fa586c8b461bc3a34)\n"
     ]
    }
   ],
   "source": [
    "dataset = load_dataset('eurlex')"
   ]
  },
  {
   "cell_type": "markdown",
   "id": "29f3d4fd",
   "metadata": {},
   "source": [
    "Учитани скуп података, попут других скупова који су припремљени за задатке машинског учења, садржи скуп за обучавање (енгл. training set), скуп за валидацију (енгл. validation set) и скуп за тестирање (енгл. test set). Подсетимо се да се скуп за обучавање користи за креирање модела, скуп за валидацију за одређивање вредности метапараметара модела и праћење тока обучавања, док се скуп за тестирање користи за оцену квалитета наученог модела. Сваки од ових скупова података можемо издвојити из учитаног скупа `dataset` коришћењем назнака скупа `train`, `validation` или `test`. "
   ]
  },
  {
   "cell_type": "code",
   "execution_count": 5,
   "id": "ce1730bd",
   "metadata": {},
   "outputs": [],
   "source": [
    "train_data = dataset['train']\n",
    "validation_data = dataset['validation']\n",
    "test_data = dataset['test']"
   ]
  },
  {
   "cell_type": "code",
   "execution_count": null,
   "id": "7e43f3d2",
   "metadata": {},
   "outputs": [],
   "source": []
  },
  {
   "cell_type": "markdown",
   "id": "6c74eacf",
   "metadata": {},
   "source": [
    "За истраживање скупа докумената искористићемо скуп за обучавање `train_data` који ћемо због лаке манипулације трансформисати у структуру DataFrame пакета Pandas. "
   ]
  },
  {
   "cell_type": "code",
   "execution_count": 6,
   "id": "b72d69c4",
   "metadata": {},
   "outputs": [],
   "source": [
    "import pandas as pd"
   ]
  },
  {
   "cell_type": "code",
   "execution_count": 7,
   "id": "b2132352",
   "metadata": {},
   "outputs": [],
   "source": [
    "train_data_pd = pd.DataFrame(train_data)"
   ]
  },
  {
   "cell_type": "markdown",
   "id": "2507b119",
   "metadata": {},
   "source": [
    "Сада можемо проверити колико докумената садржи скуп за тренирање. Подсетимо се, у томе нам може помоћи својство `shape`."
   ]
  },
  {
   "cell_type": "code",
   "execution_count": 8,
   "id": "f18a5758",
   "metadata": {},
   "outputs": [
    {
     "data": {
      "text/plain": [
       "(45000, 4)"
      ]
     },
     "execution_count": 8,
     "metadata": {},
     "output_type": "execute_result"
    }
   ],
   "source": [
    "train_data_pd.shape"
   ]
  },
  {
   "cell_type": "markdown",
   "id": "9199ac4e",
   "metadata": {},
   "source": [
    "Скуп за тренирање садржи 45 хиљада докумената, а можемо видети да се сваки од докумената описује са 4 атрибута. Истражимо о којим атрибутима је реч тако што ћемо прочитати имена колона скупа за тренирање. Можемо искористити својство `columns`."
   ]
  },
  {
   "cell_type": "code",
   "execution_count": 9,
   "id": "6e25194f",
   "metadata": {},
   "outputs": [
    {
     "data": {
      "text/plain": [
       "Index(['celex_id', 'title', 'text', 'eurovoc_concepts'], dtype='object')"
      ]
     },
     "execution_count": 9,
     "metadata": {},
     "output_type": "execute_result"
    }
   ],
   "source": [
    "train_data_pd.columns"
   ]
  },
  {
   "cell_type": "markdown",
   "id": "00813a4f",
   "metadata": {},
   "source": [
    "У питању су атрибути `celex_id`, `title`, `text` и `eurovoc_concepts`. Атрибут `celex_id` представља поменути јединствени CELEX број документа. Атрибут `title` садржи наслов документа, а атрибут `text` његов садржај. Атрибут `eurovoc_concepts` представља низ мануелно придржених лабела-концепата које одређују категорије којима документ припада. Пре него ли детаљније упознамо смисао ових лабела, издвојимо један насумичан документ скупа и његове атрибуте. На пример, можемо издвојити документ који се налази на 15. позицији у скупy (опрез: нумерација у програмским језицима најчешће почиње од нуле!). "
   ]
  },
  {
   "cell_type": "code",
   "execution_count": 19,
   "id": "077b410f",
   "metadata": {},
   "outputs": [],
   "source": [
    "example_index = 14\n",
    "train_document_example = train_data_pd.iloc[example_index]"
   ]
  },
  {
   "cell_type": "code",
   "execution_count": 20,
   "id": "5dbea2a6",
   "metadata": {},
   "outputs": [
    {
     "name": "stdout",
     "output_type": "stream",
     "text": [
      "CELEX broj:  31994R0358\n"
     ]
    }
   ],
   "source": [
    "print('CELEX broj: ', train_document_example['celex_id'])"
   ]
  },
  {
   "cell_type": "code",
   "execution_count": 21,
   "id": "9ce6b5dd",
   "metadata": {},
   "outputs": [
    {
     "name": "stdout",
     "output_type": "stream",
     "text": [
      "Naslov dokumenta:  Commission Regulation (EC) No 358/94 of 17 February 1994 opening for 1994 and laying down detailed rules for the application of an import quota for live bovine animals weighing between 160 and 300 kilograms, originating in and coming from the Republic of Poland, the Republic of Hungary, the Czech Republic and the Slovak Republic\n",
      "\n"
     ]
    }
   ],
   "source": [
    "print('Naslov dokumenta: ', train_document_example['title'])"
   ]
  },
  {
   "cell_type": "code",
   "execution_count": 22,
   "id": "b0823a96",
   "metadata": {},
   "outputs": [
    {
     "name": "stdout",
     "output_type": "stream",
     "text": [
      "Sadržaj dokumenta:  COMMISSION REGULATION (EC) No 358/94 of 17 February 1994 opening for 1994 and laying down detailed rules for the application of an import quota for live bovine animals weighing between 160 and 300 kilograms, originating in and coming from the  Republic of Poland, the Republic of Hungary, the Czech Republic and the Slovak Republic\n",
      "THE COMMISSION OF THE EUROPEAN COMMUNITIES\n",
      ",\n",
      "Having regard to the Treaty establishing the European Community,\n",
      "Having regard to Council Regulation (EC) No 3491/93 of 13 December 1993 on certain procedures for applying the Europe Agreement establishing an association between the European Commuities and their Member States, of the one part, and the Republic of  Hungary (1) of the other part, and in particular Article 1 thereof,\n",
      "Having regard to Council Regulation (EC) No 3492/93 of 13 December 1993 of 13 December 1993 on certain procedures for applying the Europe Agreement establishing an association between the European Communities and their Member States, of the one part,  and the Republic of Poland (2), of the other part, and in particular Article 1 thereof,\n",
      "Having regard to Council Regulation (EEC) No 520/92 of 27 February 1992 on certain procedures for applying the Interim Agreement on trade and trade-related matters between the Euorpean Economic Community and the European Coal and Steel Community, of the  one part, and the Czech and Slovak Federal Republic (3), of the other part, as amended by Regulation (EEC) No 2235/93 (4), and in particular Article 1 thereof,\n",
      "Having regard to Council Regulation (EEC) No 805/68 of 27 June 1968 on the common organization of the market in beef and veal (5), as last amended by Regulation (EC) No 3611/93 (6), and in particular Article 15 (2) thereof,\n",
      "Whereas the Association Agreements between the European Economic Community and the European Coal and Steel Community, of the one part, and the Republic of Hungary and the Republic of Poland, of the other part, entered into force on 1 January 1994;  whereas, pending the entry into force of the Association Agreement concluded with the former Czech and Slovak Federal Republic, the Community has decided to apply with effect from 1 March 1992 an interim agreement concluded with the aforesaid country,  hereinafter referred to as 'Interim Agreement';\n",
      "Whereas the Czech and Slovak Federal Republic was dissolved with effect from 1 January 1993; whereas, as successor States to the Czech and Slovak Federal Repbulic, the Czech Republic and the Slovak Republic will continue to assume all obligations  arising from all agreements between the Czecvh and Slovak Federal Republic and the European Communities, and in particular from the Interim Agreement; whereas the said Interim Agreement was amended by additional protocols and by supplementary protocols  concluded with the Czech Republic and the Slovak Republic;\n",
      "Whereas, in view of the trade concessions provided for in the abovementioned Agreements with respect to agricultural products, a Community tariff quota for imports of bovine animals weighing between 160 and 300 kilograms originating in and coming from  Poland, Hungary, the Slovak Republic or the Czech Republic at a reduced 25 % levy should be opened for 1994;\n",
      "Whereas that quota for 1994 amounts to 59 400 head taking into account the estimate of 198 000 head for 1994 of young male bovine animals intended for fattening;\n",
      "Whereas while recalling the provisions of the Interim Agreements intended to guarantee the origin of the product, the management of the system should be ensured through import licences; whereas, with that in mind, it would be appropriate to define, in  particular, the detailed rules for submission of applications, as well as the information which must be included on the applications and licences, notwithstanding certain provisions of Commission Regulation (EEC) No 3719/88 of 16 November 1988 laying  down common detailed rules for the application of the system of import and export licences and advance fixing certificates for agricultural products (7), as last amended by Regulation (EC) No 3519/93 (8), and Commission Regulation (EEC) No 2377/80 of 4  September 1980 on special detailed rules for the application of the system of import and export licences in the beef and veal sector (9), as last amended by Regulation (EEC) No 2867/93 (10); whereas provision should also be made for the licences to be  issued after a delay for consideration and, where necessary, with the application of a single percentage reduction;\n",
      "Whereas the measures provided for in this Regulation are in accordance with the opinion of the Management Committee for Beef and Veal,\n",
      "1. A tariff quota for imports of live bovine animals falling within CN codes 0102 90 41 or 0102 90 43 originating in and coming from Poland, Hungary, the Slovak Republic or the Czech Republic is hereby opened for 1994.\n",
      "The total volume of the quota shall be 59 400 head.\n",
      "2. The reduced import levy applicable to animals under this quota shall be 25 % of the full levy applicable on the date of acceptance of the declaration of release for free circulation.\n",
      "In order to qualify for the quota referred to in Article 1:\n",
      "(a) applicants for import licences must be natural or legal persons who are entered in the official register of a Member State and who, at the time applications are submitted, must prove to the satisfaction of the competent authorities of the Member  State concerned that they have imported and/or exported, during 1993, at least 50 animals falling within CN code 0102 90;\n",
      "(b) licence applications may be presented only in the Member State in which the applicant is registered;\n",
      "(c) licence applications shall: relate to a number equal to or greater than 50 head and relate to a quantity not exceeding 10 % of the quantity available.\n",
      "Where applications for import licences exceed this quantity, they shall only be considered within the limits of the said quantity;\n",
      "(d) Sections 7 and 8 of licence applications and licences shall show the countries referred to in Article 1 (1); licences shall carry with them an obligation to import from one or more of the countries indicated;\n",
      "(e) Section 20 of licence applications and licences shall show one of the following:\n",
      "Reglamento (CE) no 358/94,\n",
      "Forordning (EF) nr. 358/94,\n",
      "Verordnung (EG) Nr. 358/94,\n",
      "Kanonismos (EK) arith. 358/94,\n",
      "Regulation (EC) No 358/94,\n",
      "Règlement (CE) no 358/94,\n",
      "Regolamento (CE) n. 358/94,\n",
      "Verordening (EG) nr. 358/94,\n",
      "Regulamento (CE) nº 358/94.\n",
      "(f) Section 24 of licences shall contain one of the following statements:\n",
      "Exacción reguladora, tal como establece el Reglamento (CE) no 358/94,\n",
      "Importafgift i henhold til forordning (EF) nr. 358/94,\n",
      "Abschoepfung gemaess Verordnung (EG) Nr. 358/94,\n",
      "I eisfora opos provlepetai apo ton kanonismo (EK) arith. 358/94,\n",
      "Levy as provided for in Regulation (EC) No 358/94,\n",
      "Prélèvement comme prévu par le règlement (CE) no 358/94,\n",
      "Prelievo a norma del regolamento (CE) n. 358/94,\n",
      "Heffing overeenkomstig Verordening (EG) nr. 358/94,\n",
      "Direito nivelador conforme estabelecido no Regulamento (CE) nº 358/94.\n",
      "(g) at the time of acceptance of the declaration of release for free circulation, importers shall undertake to inform the competent authorities of the importing Member State, not later than one month after the date of import:\n",
      "- of the number of animals imported,\n",
      "- of the origin of the animals.\n",
      "The authorities shall forward this information to the Commission before the beginning of each month.\n",
      "1. Licence applications may be lodged only from 28 February to 4 March 1994.\n",
      "2. Where the same applicant lodges more than one application, all applications from that person shall be inadmissible.\n",
      "3. The Member States shall notify the Commission of the applications lodged not later than 17 March 1994. Such notification shall comprise a list of applicants and quantities applied for.\n",
      "All notifications, including notifications of 'nil' applications, shall be made by telex or fax, drawn up on the model in the Annex to this Regulation in the case where applications have been made.\n",
      "4. The Commission shall decide to what extent quantities may be awarded in respect of licence applications. If the quantities in respect of which licences have been applied for exceed the quantities available, the Commission shall fix a single  percentage reduction in the quantities applied for.\n",
      "5. Subject to a decision to accept applications by the Commission, licences shall be issued at the earliest opportunity.\n",
      "6. Import licences shall be issued only for a number equal to or greater than 50 head.\n",
      "If, because of the nubmers applied for, the percentage reduction results in fewer than 50 head per import licence, the Member States shall, by drawing lots, allocate licences covering 50 head.\n",
      "Member States shall inform the Commission of the number of animals in respect of which licences have not been issued.\n",
      "7. Licences issued shall be valid throughout the Community.\n",
      "Without prejudice to the provisions of this Regulation, Regulations (EEC) No 3719/88 and (EEC) No 2377/80 shall apply.\n",
      "However, in the case of quantities imported under the terms of Article 8 (4) of Regulation (EEC) No 3719/88, the levy shall be collected in full in respect of quantities in excess of those stated on the import licence.\n",
      "1. Notwithstanding Article 9 (1) of Regulation (EEC) No 3719/88, import licences issued pursuant to this Regulation shall not be transferable.\n",
      "2. Notwithstanding Article 4 (c) of Commission Regulation (EEC) No 2377/80, the term of validity of import licences expires on 31 December 1994.\n",
      "The animals shall be put into free circulation on the presentation of a movement certificate EUR 1 issued by the exporting country in accordance with Protocol 4 annexed to the Interim Agreements.\n",
      "1. Each animal imported under the arrangements referred to in Article 1 shall be identified by either:\n",
      "- an indelible tattoo, or\n",
      "- an official earmark or an earmark officially approved by the Member State on at least one of its ears.\n",
      "2. The said tattoo or marks shall be so designed as to enable the date when the animal was put into free circulation and the identity of the importer to be established, by means of a record made when the animal is put into free circulation.\n",
      "This Regulation shall enter into force on the third day following its publication in the Official Journal of the European Communities.\n",
      "This Regulation shall be binding in its entirety and directly applicable in all Member States.\n"
     ]
    }
   ],
   "source": [
    "print('Sadržaj dokumenta: ', train_document_example['text'])"
   ]
  },
  {
   "cell_type": "code",
   "execution_count": 23,
   "id": "49ef0cf2",
   "metadata": {},
   "outputs": [
    {
     "name": "stdout",
     "output_type": "stream",
     "text": [
      "EuroVoc labele dokumenta:  ['1309', '2300', '3591', '5034']\n"
     ]
    }
   ],
   "source": [
    "print('EuroVoc labele dokumenta: ', train_document_example['eurovoc_concepts'])"
   ]
  },
  {
   "cell_type": "code",
   "execution_count": null,
   "id": "1aed2e04",
   "metadata": {},
   "outputs": [],
   "source": []
  },
  {
   "cell_type": "markdown",
   "id": "aa3f407f",
   "metadata": {},
   "source": [
    "Да би колекција докумената којом располаже Европска унија могла систематично да се организује, одржава и претражује, сваком од докумената је мануелно придружено неколико лабела које одређују којим то категоријама документ припада. За те сврхе је од стране Европске уније креиран и попис свих релевантних одредница, такозвани терминолошки речник или тезаурус, који се зове EuroVoc. Овај тезаурус покрива све сегменте деловања Европске уније (политику, међународне односе, економију, образовање, науку, агрикултуру, итд.) и тренутно садржи 7, 201 лабела-одредница на свим званичним језицима Европске уније и, додатно, за албански, македонски и српски језик. На <a href='https://op.europa.eu/en/web/eu-vocabularies/dataset/-/resource?uri=http://publications.europa.eu/resource/dataset/eurovoc'> званичној адреси </a> се може прочитати више о самом тезаурусу, кaо и претраживати колекција докумената у складу са овако дефинисаним одредницама. "
   ]
  },
  {
   "cell_type": "markdown",
   "id": "9bbb1005",
   "metadata": {},
   "source": [
    "Да бисмо истражили организацију EuroVoc теазауруса и разумели значење одредница које су придружене нашем документу, преузели смо верзију тезауруса у формату JSONL са <a href='https://archive.org/download/EURLEX57K/eurovoc_concepts.jsonl'> ове адресе </a> и сачували је под именом *eurovoc_concepts.jsonl* у директоријуму *data*. Следећа функција *eurovoc_from_jsonl_to_pd* ће нам помоћи да на основу ове датотеке креирамо структуру DataFrame која омогућава лакши рад.  "
   ]
  },
  {
   "cell_type": "markdown",
   "id": "6d2bfe23",
   "metadata": {},
   "source": [
    "Формат датотеке JSONL (енгл. JSON line) представља формат датотеке у којем је свака линија записана у JSON формату. Овај формат сте упознали у уводној секцији о програмском језику Python. "
   ]
  },
  {
   "cell_type": "code",
   "execution_count": 10,
   "id": "fbb94f7f",
   "metadata": {},
   "outputs": [],
   "source": [
    "import json"
   ]
  },
  {
   "cell_type": "code",
   "execution_count": 11,
   "id": "9bd8ae20",
   "metadata": {},
   "outputs": [],
   "source": [
    "def eurovoc_from_jsonl_to_pd(path='data/eurovoc_concepts.jsonl'):\n",
    "    \n",
    "    # kreiramo strukturu DataFrame u koju cemo smestiti identifikatore i imena koncepata\n",
    "    eurovoc_concepts_pd = pd.DataFrame(columns={'id', 'title'})\n",
    "    \n",
    "    # pripremamo datoteku za citanje\n",
    "    with open(path, 'r') as eurovoc_file:\n",
    "        \n",
    "        # citamo liniju po liniju datoteke\n",
    "        for eurovoc_line in eurovoc_file.readlines():\n",
    "            \n",
    "            # procitanu liniju prebacujemo iz JSON formata u recnik\n",
    "            eurovoc_concept = json.loads(eurovoc_line)\n",
    "            \n",
    "            # dodajemo red sa odgovarajucim podacima recnika kreiranoj strukturi\n",
    "            eurovoc_concepts_pd = eurovoc_concepts_pd.append({\n",
    "                'id': eurovoc_concept['id'], \n",
    "                'title': eurovoc_concept['title']\n",
    "            }, ignore_index=True)\n",
    "            \n",
    "    # kreiranu i popunjenu strukturu vracamo kao rezultat funkcije       \n",
    "    return eurovoc_concepts_pd"
   ]
  },
  {
   "cell_type": "code",
   "execution_count": 12,
   "id": "13543a57",
   "metadata": {},
   "outputs": [],
   "source": [
    "eurovoc_pd = eurovoc_from_jsonl_to_pd()"
   ]
  },
  {
   "cell_type": "markdown",
   "id": "5fa01434",
   "metadata": {},
   "source": [
    "Пре свега, можемо потврдити да тезаурус EuroVoc садржи јако велики број лабела-одредница, чак 7, 201!"
   ]
  },
  {
   "cell_type": "code",
   "execution_count": 13,
   "id": "c379dd1d",
   "metadata": {},
   "outputs": [
    {
     "data": {
      "text/plain": [
       "(7201, 2)"
      ]
     },
     "execution_count": 13,
     "metadata": {},
     "output_type": "execute_result"
    }
   ],
   "source": [
    "eurovoc_pd.shape"
   ]
  },
  {
   "cell_type": "markdown",
   "id": "b9cb61c7",
   "metadata": {},
   "source": [
    "Првих 10 одредница тезауруса можемо прочитати користећи функцију `head` са аргументом 10."
   ]
  },
  {
   "cell_type": "code",
   "execution_count": 14,
   "id": "b3301dfd",
   "metadata": {},
   "outputs": [
    {
     "data": {
      "text/html": [
       "<div>\n",
       "<style scoped>\n",
       "    .dataframe tbody tr th:only-of-type {\n",
       "        vertical-align: middle;\n",
       "    }\n",
       "\n",
       "    .dataframe tbody tr th {\n",
       "        vertical-align: top;\n",
       "    }\n",
       "\n",
       "    .dataframe thead th {\n",
       "        text-align: right;\n",
       "    }\n",
       "</style>\n",
       "<table border=\"1\" class=\"dataframe\">\n",
       "  <thead>\n",
       "    <tr style=\"text-align: right;\">\n",
       "      <th></th>\n",
       "      <th>title</th>\n",
       "      <th>id</th>\n",
       "    </tr>\n",
       "  </thead>\n",
       "  <tbody>\n",
       "    <tr>\n",
       "      <th>0</th>\n",
       "      <td>international affairs</td>\n",
       "      <td>3474</td>\n",
       "    </tr>\n",
       "    <tr>\n",
       "      <th>1</th>\n",
       "      <td>school legislation</td>\n",
       "      <td>1597</td>\n",
       "    </tr>\n",
       "    <tr>\n",
       "      <th>2</th>\n",
       "      <td>union representative</td>\n",
       "      <td>3363</td>\n",
       "    </tr>\n",
       "    <tr>\n",
       "      <th>3</th>\n",
       "      <td>data processing</td>\n",
       "      <td>4488</td>\n",
       "    </tr>\n",
       "    <tr>\n",
       "      <th>4</th>\n",
       "      <td>barge</td>\n",
       "      <td>2316</td>\n",
       "    </tr>\n",
       "    <tr>\n",
       "      <th>5</th>\n",
       "      <td>Lithuania</td>\n",
       "      <td>5709</td>\n",
       "    </tr>\n",
       "    <tr>\n",
       "      <th>6</th>\n",
       "      <td>blue-veined cheese</td>\n",
       "      <td>1107</td>\n",
       "    </tr>\n",
       "    <tr>\n",
       "      <th>7</th>\n",
       "      <td>construction policy</td>\n",
       "      <td>2475</td>\n",
       "    </tr>\n",
       "    <tr>\n",
       "      <th>8</th>\n",
       "      <td>petrology</td>\n",
       "      <td>3294</td>\n",
       "    </tr>\n",
       "    <tr>\n",
       "      <th>9</th>\n",
       "      <td>cost of borrowing</td>\n",
       "      <td>278</td>\n",
       "    </tr>\n",
       "  </tbody>\n",
       "</table>\n",
       "</div>"
      ],
      "text/plain": [
       "                   title    id\n",
       "0  international affairs  3474\n",
       "1     school legislation  1597\n",
       "2   union representative  3363\n",
       "3        data processing  4488\n",
       "4                  barge  2316\n",
       "5              Lithuania  5709\n",
       "6     blue-veined cheese  1107\n",
       "7    construction policy  2475\n",
       "8              petrology  3294\n",
       "9      cost of borrowing   278"
      ]
     },
     "execution_count": 14,
     "metadata": {},
     "output_type": "execute_result"
    }
   ],
   "source": [
    "eurovoc_pd.head(10)"
   ]
  },
  {
   "cell_type": "markdown",
   "id": "b01e0f43",
   "metadata": {},
   "source": [
    "Kао што смо очекивали свака лабела-одредница има свој јединствени идентификатор представљен атрибутом `id` и своје име представљено атрибутом `title`. "
   ]
  },
  {
   "cell_type": "markdown",
   "id": "0c530695",
   "metadata": {},
   "source": [
    "Пример документа из скупа за обучавање је имао придружене лабеле-одреднице чији су идентификатори ['1309', '2300', '3591', '5034'], па сада можемо видети и о којим концептима је реч. Техничка напомена је да се у структури `eurovoc_pd` идентификатори представљају као ниске, чак и ако не видимо наводнике око њих (ова тврдња се може проверити извршавањем функције  `eurovoc_pd.info()` и праћењем типова колона)."
   ]
  },
  {
   "cell_type": "code",
   "execution_count": 15,
   "id": "04588d2a",
   "metadata": {},
   "outputs": [
    {
     "data": {
      "text/plain": [
       "470                       import\n",
       "747                       cattle\n",
       "3509    quantitative restriction\n",
       "5007               third country\n",
       "Name: title, dtype: object"
      ]
     },
     "execution_count": 15,
     "metadata": {},
     "output_type": "execute_result"
    }
   ],
   "source": [
    "eurovoc_pd[eurovoc_pd['id'].isin(['1309', '2300', '3591', '5034'])]['title']"
   ]
  },
  {
   "cell_type": "code",
   "execution_count": null,
   "id": "fcdb18a8",
   "metadata": {},
   "outputs": [],
   "source": []
  },
  {
   "cell_type": "markdown",
   "id": "400b3335",
   "metadata": {},
   "source": [
    "Пошто ће нам очитавање имена концепата често бити потребно, можемо написати и функцију која за задати низ идентификатора концепата враћа листу имена концепата.  "
   ]
  },
  {
   "cell_type": "code",
   "execution_count": 16,
   "id": "cba5ea5b",
   "metadata": {},
   "outputs": [],
   "source": [
    "def concept_names(eurovoc_pd, eurovoc_concepts_ids):\n",
    "    return eurovoc_pd[eurovoc_pd['id'].isin(eurovoc_concepts_ids)]['title'].values.tolist()"
   ]
  },
  {
   "cell_type": "markdown",
   "id": "55d9f0e3",
   "metadata": {},
   "source": [
    "Проверимо још једном како изгледа резултат позива функције на примеру документа из скупа за обучавање. "
   ]
  },
  {
   "cell_type": "code",
   "execution_count": 24,
   "id": "fb4bec08",
   "metadata": {},
   "outputs": [
    {
     "data": {
      "text/plain": [
       "['import', 'cattle', 'quantitative restriction', 'third country']"
      ]
     },
     "execution_count": 24,
     "metadata": {},
     "output_type": "execute_result"
    }
   ],
   "source": [
    "concept_names(eurovoc_pd, train_document_example['eurovoc_concepts'])"
   ]
  },
  {
   "cell_type": "code",
   "execution_count": null,
   "id": "05267826",
   "metadata": {},
   "outputs": [],
   "source": []
  },
  {
   "cell_type": "code",
   "execution_count": null,
   "id": "e50d8a48",
   "metadata": {},
   "outputs": [],
   "source": []
  },
  {
   "cell_type": "markdown",
   "id": "e13f0ae0",
   "metadata": {},
   "source": [
    "Даље можемо истражити колико концепата-лабела у просеку имамо по документу у скупу за обучавање. "
   ]
  },
  {
   "cell_type": "code",
   "execution_count": 25,
   "id": "4c6b03d1",
   "metadata": {},
   "outputs": [],
   "source": [
    "number_of_concepts_per_document = train_data_pd['eurovoc_concepts'].apply(lambda concepts: len(concepts)).values"
   ]
  },
  {
   "cell_type": "code",
   "execution_count": 26,
   "id": "f7411f71",
   "metadata": {},
   "outputs": [
    {
     "name": "stdout",
     "output_type": "stream",
     "text": [
      "Prosečan broj koncepata-labela po dokumentu je:  5.073822222222222\n"
     ]
    }
   ],
   "source": [
    "average_number_of_concepts = number_of_concepts_per_document.mean()\n",
    "print('Prosečan broj koncepata-labela po dokumentu je: ', average_number_of_concepts)"
   ]
  },
  {
   "cell_type": "code",
   "execution_count": null,
   "id": "cf1e62bf",
   "metadata": {},
   "outputs": [],
   "source": []
  },
  {
   "cell_type": "markdown",
   "id": "27de1eac",
   "metadata": {},
   "source": [
    "Можемо издвојити и документ којем је придружен највећи број концепата-лабела. "
   ]
  },
  {
   "cell_type": "code",
   "execution_count": 27,
   "id": "5b17d49d",
   "metadata": {},
   "outputs": [],
   "source": [
    "document_index = number_of_concepts_per_document.argmax()"
   ]
  },
  {
   "cell_type": "code",
   "execution_count": 28,
   "id": "0ff57032",
   "metadata": {},
   "outputs": [],
   "source": [
    "train_document_with_max_concepts = train_data_pd.iloc[document_index]"
   ]
  },
  {
   "cell_type": "code",
   "execution_count": 29,
   "id": "85d67a4f",
   "metadata": {},
   "outputs": [
    {
     "name": "stdout",
     "output_type": "stream",
     "text": [
      "Naslov dokumenta sa najviše koncepata je:  2013/266/EU: Commission Implementing Decision of 5 June 2013 determining the date from which the Visa Information System (VIS) is to start operations in a sixth and a seventh region\n",
      "\n"
     ]
    }
   ],
   "source": [
    "print('Naslov dokumenta sa najviše koncepata je: ', train_document_with_max_concepts['title'])"
   ]
  },
  {
   "cell_type": "code",
   "execution_count": 30,
   "id": "97fbfaa1",
   "metadata": {},
   "outputs": [
    {
     "name": "stdout",
     "output_type": "stream",
     "text": [
      "Broj koncepata pridruženih ovom dokumentu je:  26\n"
     ]
    }
   ],
   "source": [
    "print('Broj koncepata pridruženih ovom dokumentu je: ', len(train_document_with_max_concepts['eurovoc_concepts']))"
   ]
  },
  {
   "cell_type": "code",
   "execution_count": null,
   "id": "0bca6def",
   "metadata": {},
   "outputs": [],
   "source": []
  },
  {
   "cell_type": "markdown",
   "id": "7db9c92d",
   "metadata": {},
   "source": [
    "Ипак, нису сви концепти-лабеле равноправно присутни. Даље можемо издвојити концепте-лабеле и њихов број појављивања у скупу за обучавање. У томе нам може помоћи следећа функција. "
   ]
  },
  {
   "cell_type": "code",
   "execution_count": 31,
   "id": "d2151832",
   "metadata": {},
   "outputs": [],
   "source": [
    "import itertools"
   ]
  },
  {
   "cell_type": "code",
   "execution_count": 32,
   "id": "07cddd98",
   "metadata": {},
   "outputs": [],
   "source": [
    "def concepts_frequency(data_pd):\n",
    "    # listа svih koncepata koji se pojavljuju u celom skupu је inicijalno prazna\n",
    "    all_concepts = []\n",
    "    \n",
    "    # citamo red po red zadatog skupa podataka\n",
    "    # procitani red ce imati formu torke \n",
    "    for row in data_pd.itertuples():\n",
    "        \n",
    "        # iz reda izdvajamo listu koncepata - lista koncepata se nalazi na poziciji 4\n",
    "        # njoj prethodi indeks reda, CELEX broj, naslov dokumenta i sadrzaj dokumenta\n",
    "        # listu koncepata dodajemo na kraj liste svih koncepata\n",
    "        all_concepts.append(row[4])\n",
    "    \n",
    "    # kako lista svih koncepata predstavlja listu listi, ova linija ce nam pomoci da dobijemo listu sa pojedinacnim konceptima\n",
    "    # na primer, ova linija nam pomaze da od liste [[34, 21], [8, 9], [24]] dobijemo listu [34, 21, 8, 9, 24] \n",
    "    all_concepts_merged = list(itertools.chain(*all_concepts))\n",
    "\n",
    "    # izdvojene koncepte cemo smestiti u strukturu Series i pomocu njene funkcije value_counts brzo dobiti statistiku ponavljanja\n",
    "    all_concepts_statistics = pd.Series(all_concepts_merged).value_counts()\n",
    "    \n",
    "    # generisanu statistiku cemo vratiti kao rezultat funkcije\n",
    "    return all_concepts_statistics"
   ]
  },
  {
   "cell_type": "code",
   "execution_count": null,
   "id": "e253a5c9",
   "metadata": {},
   "outputs": [],
   "source": []
  },
  {
   "cell_type": "markdown",
   "id": "256495db",
   "metadata": {},
   "source": [
    "Позивом горње функције добијамо фреквенције концепата у скупу за обучавање. "
   ]
  },
  {
   "cell_type": "code",
   "execution_count": 33,
   "id": "b5f9105d",
   "metadata": {},
   "outputs": [],
   "source": [
    "train_data_concepts_frequency = concepts_frequency(train_data_pd)"
   ]
  },
  {
   "cell_type": "markdown",
   "id": "f88a1ab3",
   "metadata": {},
   "source": [
    "Даље, издвојимо 10 најчешће коришћених концепата."
   ]
  },
  {
   "cell_type": "code",
   "execution_count": 34,
   "id": "e651e492",
   "metadata": {},
   "outputs": [
    {
     "data": {
      "text/plain": [
       "1309    3645\n",
       "3568    3554\n",
       "1118    3005\n",
       "1605    3004\n",
       "693     2988\n",
       "2635    2959\n",
       "20      2796\n",
       "161     2271\n",
       "2300    2158\n",
       "2771    2152\n",
       "dtype: int64"
      ]
     },
     "execution_count": 34,
     "metadata": {},
     "output_type": "execute_result"
    }
   ],
   "source": [
    "train_data_concepts_frequency.head(10)"
   ]
  },
  {
   "cell_type": "markdown",
   "id": "9c682c51",
   "metadata": {},
   "source": [
    "Најчешће коришћени концепт има идентификатор 1309 и укупно 3, 645 појављивања. Њему одговара име *import*."
   ]
  },
  {
   "cell_type": "code",
   "execution_count": 35,
   "id": "6d4334a8",
   "metadata": {},
   "outputs": [
    {
     "data": {
      "text/plain": [
       "['import']"
      ]
     },
     "execution_count": 35,
     "metadata": {},
     "output_type": "execute_result"
    }
   ],
   "source": [
    "concept_names(eurovoc_pd, ['1309'])"
   ]
  },
  {
   "cell_type": "markdown",
   "id": "e4233eda",
   "metadata": {},
   "source": [
    "Имена свих 10 најчешће коришћених концепата можемо добити позивом функције `concept_names`."
   ]
  },
  {
   "cell_type": "code",
   "execution_count": 36,
   "id": "50177c14",
   "metadata": {},
   "outputs": [
    {
     "data": {
      "text/plain": [
       "['import',\n",
       " 'import price',\n",
       " 'originating product',\n",
       " 'fruit vegetable',\n",
       " 'pip fruit',\n",
       " 'award of contract',\n",
       " 'tariff quota',\n",
       " 'third country',\n",
       " 'citrus fruit',\n",
       " 'export refund']"
      ]
     },
     "execution_count": 36,
     "metadata": {},
     "output_type": "execute_result"
    }
   ],
   "source": [
    "concept_names(eurovoc_pd, train_data_concepts_frequency.head(10).index)"
   ]
  },
  {
   "cell_type": "code",
   "execution_count": null,
   "id": "df860ed6",
   "metadata": {},
   "outputs": [],
   "source": []
  },
  {
   "cell_type": "markdown",
   "id": "f76d1516",
   "metadata": {},
   "source": [
    "Концепти који се појављују барем 50 пута у скупу за обучавање се могу добити следећим блоком кода. "
   ]
  },
  {
   "cell_type": "code",
   "execution_count": 37,
   "id": "f263b7e3",
   "metadata": {},
   "outputs": [],
   "source": [
    "train_data_concpets_frequency_50 = train_data_concepts_frequency[train_data_concepts_frequency >= 50]"
   ]
  },
  {
   "cell_type": "markdown",
   "id": "bb44ed4c",
   "metadata": {},
   "source": [
    "Приметимо да ових концепата има значајно мање, свега 746."
   ]
  },
  {
   "cell_type": "code",
   "execution_count": 38,
   "id": "62dcb9fe",
   "metadata": {},
   "outputs": [
    {
     "data": {
      "text/plain": [
       "(746,)"
      ]
     },
     "execution_count": 38,
     "metadata": {},
     "output_type": "execute_result"
    }
   ],
   "source": [
    "train_data_concpets_frequency_50.shape"
   ]
  },
  {
   "cell_type": "code",
   "execution_count": null,
   "id": "a67d2e56",
   "metadata": {},
   "outputs": [],
   "source": []
  },
  {
   "cell_type": "markdown",
   "id": "6cddd477",
   "metadata": {},
   "source": [
    "### Задаци за вежбу:"
   ]
  },
  {
   "cell_type": "markdown",
   "id": "f7383b5a",
   "metadata": {},
   "source": [
    "1. Занимљиво је да сви документи скупа података EurLex57k припадају истом сектору. Откријте о ком сектору је реч! \n",
    "\n",
    "Помоћ: Информација о сектору којем документ припада одређена је почетним словом CELEX броја. "
   ]
  },
  {
   "cell_type": "code",
   "execution_count": 39,
   "id": "67b4e89d",
   "metadata": {},
   "outputs": [],
   "source": [
    "sectors = [0, 1, 2, 3, 4, 5, 6, 7, 8, 9, 'C', 'E']\n",
    "number_of_documents_per_sector = {\n",
    "    '0': 0,  \n",
    "    '1': 0, \n",
    "    '2': 0,\n",
    "    '3': 0,\n",
    "    '4': 0, \n",
    "    '5': 0, \n",
    "    '6': 0, \n",
    "    '7': 0, \n",
    "    '8': 0, \n",
    "    '9': 0, \n",
    "    'C': 0, \n",
    "    'E': 0\n",
    "}"
   ]
  },
  {
   "cell_type": "code",
   "execution_count": 40,
   "id": "f567887a",
   "metadata": {},
   "outputs": [],
   "source": [
    "for row in train_data_pd.itertuples():\n",
    "    sector = row[1][0]\n",
    "    number_of_documents_per_sector[sector] += 1"
   ]
  },
  {
   "cell_type": "code",
   "execution_count": 41,
   "id": "be1b766c",
   "metadata": {},
   "outputs": [
    {
     "data": {
      "text/plain": [
       "{'0': 0,\n",
       " '1': 0,\n",
       " '2': 0,\n",
       " '3': 45000,\n",
       " '4': 0,\n",
       " '5': 0,\n",
       " '6': 0,\n",
       " '7': 0,\n",
       " '8': 0,\n",
       " '9': 0,\n",
       " 'C': 0,\n",
       " 'E': 0}"
      ]
     },
     "execution_count": 41,
     "metadata": {},
     "output_type": "execute_result"
    }
   ],
   "source": [
    "number_of_documents_per_sector"
   ]
  },
  {
   "cell_type": "markdown",
   "id": "aed54280",
   "metadata": {},
   "source": [
    "Сви документи припадају сектору број 3 тј. сектору правних актова (енгл. legal acts)."
   ]
  },
  {
   "cell_type": "code",
   "execution_count": null,
   "id": "7223cc40",
   "metadata": {},
   "outputs": [],
   "source": []
  },
  {
   "cell_type": "markdown",
   "id": "bea97c30",
   "metadata": {},
   "source": [
    "2. Одредити колико докумената скупа за тренирање припада категорији транспорт. Документ припада категорији транспорт ако му је придружено неко од обележја 4806 (транспортне полисе), 4811 (организација транспорта), 4816 (друмски саобраћај), 4821 (морски и поморски саобраћај) или 4826 (аеро или свемирски транспорт). "
   ]
  },
  {
   "cell_type": "code",
   "execution_count": 63,
   "id": "c336731a",
   "metadata": {},
   "outputs": [],
   "source": [
    "transport_ids = ['4806', '4811', '4816', '4821', '4826']"
   ]
  },
  {
   "cell_type": "code",
   "execution_count": 67,
   "id": "ee917862",
   "metadata": {},
   "outputs": [],
   "source": [
    "documents = []\n",
    "for row in train_data_pd.itertuples():\n",
    "    for id in transport_ids:\n",
    "        if id in row[4]:\n",
    "            documents.append(row[1])"
   ]
  },
  {
   "cell_type": "code",
   "execution_count": 301,
   "id": "0a180b8e",
   "metadata": {},
   "outputs": [
    {
     "name": "stdout",
     "output_type": "stream",
     "text": [
      "Broj dokumenata koji pripada kategoriji transport je:  78\n"
     ]
    }
   ],
   "source": [
    "print('Broj dokumenata koji pripada kategoriji transport je: ', len(documents))"
   ]
  },
  {
   "cell_type": "code",
   "execution_count": 303,
   "id": "cb22cefa",
   "metadata": {},
   "outputs": [
    {
     "name": "stdout",
     "output_type": "stream",
     "text": [
      "CELEX brojevi trazenih dokumenata su:  ['32012D0780', '31998D0589', '32001D0011', '31999R0509', '31994L0007', '31993D0013', '32006D0132', '32010D0300', '32003R0456', '31999D0520', '32003D0239', '32014L0064', '32009D0479', '32004D0588', '32007L0018', '32014D0333', '32012R1205', '32002R0407', '31999R0132', '32003D0506', '31997D0138', '31998R2105', '31999D0376', '32010D0720', '31999D0317', '32009D0540', '32005D0415', '31999D0696', '32014D0836', '31999D0546', '32014D0837', '32005D0087', '32003D0024', '32007R1321', '32007R1423', '32013L0049', '31999D0377', '32005D0422', '31999D0571', '32000L0015', '31995L0067', '31976D0632', '32015R0272', '31997R1754', '31990D0255', '32001D0672', '32010D0692', '32005D0270', '32000D0678', '32003D0375', '32007D0371', '31994D0375', '31998R1177', '31977D0616', '31997D0394', '31995D0505', '32010D0227', '32003D0257', '31991R2348', '32000D0490', '32014R0178', '31992D0563', '31994D0305', '31993D0704', '31999R1663', '31998D0590', '32001D0399', '32014R0179', '32002D0067', '32009D0898', '32003D1152', '32004D0590', '32004D0764', '31997R2630', '32005D0105', '32011D0685', '31999D0693', '31999D0001']\n"
     ]
    }
   ],
   "source": [
    "print('CELEX brojevi trazenih dokumenata su: ', documents)"
   ]
  },
  {
   "cell_type": "markdown",
   "id": "b7f5aa01",
   "metadata": {},
   "source": [
    "Провере ради, можемо издвојити наслов документа чији је CELEX broj `32009D0898` и њему придружене одреднице-лабеле.  "
   ]
  },
  {
   "cell_type": "code",
   "execution_count": 311,
   "id": "9348fcfd",
   "metadata": {},
   "outputs": [],
   "source": [
    "transport_document_celex_id = '32009D0898'\n",
    "transport_document_title = train_data_pd[train_data_pd['celex_id']==transport_document_celex_id]['title'].values[0]\n",
    "transport_document_concepts = train_data_pd[train_data_pd['celex_id']==transport_document_celex_id]['eurovoc_concepts'].values[0]"
   ]
  },
  {
   "cell_type": "code",
   "execution_count": 312,
   "id": "6e24ea06",
   "metadata": {},
   "outputs": [
    {
     "name": "stdout",
     "output_type": "stream",
     "text": [
      "Naslov dokumenta je:  2009/898/EC: Council Decision of 30 November 2009 on the conclusion of the Agreement between the European Community and Barbados on the short-stay visa waiver\n",
      "\n"
     ]
    }
   ],
   "source": [
    "print('Naslov dokumenta je: ', transport_document_title)"
   ]
  },
  {
   "cell_type": "code",
   "execution_count": 313,
   "id": "e151c0a6",
   "metadata": {},
   "outputs": [
    {
     "name": "stdout",
     "output_type": "stream",
     "text": [
      "Pridruzeni EuroVoc koncepti su:  ['1474', '2901', '4004', '4816', '5796']\n"
     ]
    }
   ],
   "source": [
    "print('Pridruzeni EuroVoc koncepti su: ', transport_document_concepts)"
   ]
  },
  {
   "cell_type": "code",
   "execution_count": null,
   "id": "163157b2",
   "metadata": {},
   "outputs": [],
   "source": []
  },
  {
   "cell_type": "markdown",
   "id": "16edfa60",
   "metadata": {},
   "source": [
    "3. Приказати графиконом са стубићима однос директива, регулатива и одлука у скупу података EurLex57k. Подсетимо се да у сектору правних актова дескриптор означава тип документа. Латинично слово *L* означава директиве, латинично слово *R* означава регулативе, а латинично слово *D* одлуке."
   ]
  },
  {
   "cell_type": "code",
   "execution_count": 43,
   "id": "6c342546",
   "metadata": {},
   "outputs": [],
   "source": [
    "import re\n",
    "from matplotlib import pyplot as plt"
   ]
  },
  {
   "cell_type": "code",
   "execution_count": null,
   "id": "edad7302",
   "metadata": {},
   "outputs": [],
   "source": []
  },
  {
   "cell_type": "code",
   "execution_count": 44,
   "id": "25f1abec",
   "metadata": {},
   "outputs": [],
   "source": [
    "directive_indexes = train_data_pd['celex_id'].apply(lambda id: re.match('^.[0-9]{4}L[0-9]{4}$', id) != None)\n",
    "number_of_directives = train_data_pd[directive_indexes].shape[0]"
   ]
  },
  {
   "cell_type": "code",
   "execution_count": null,
   "id": "03243487",
   "metadata": {},
   "outputs": [],
   "source": []
  },
  {
   "cell_type": "code",
   "execution_count": 46,
   "id": "dfa00386",
   "metadata": {},
   "outputs": [],
   "source": [
    "regulation_indexes = train_data_pd['celex_id'].apply(lambda id: re.match('^.[0-9]{4}R[0-9]{4}$', id) != None)\n",
    "number_of_regulations = train_data_pd[regulation_indexes].shape[0]"
   ]
  },
  {
   "cell_type": "code",
   "execution_count": null,
   "id": "2d37436c",
   "metadata": {},
   "outputs": [],
   "source": []
  },
  {
   "cell_type": "code",
   "execution_count": 48,
   "id": "d1a091dd",
   "metadata": {},
   "outputs": [],
   "source": [
    "decision_indexes = train_data_pd['celex_id'].apply(lambda id: re.match('^.[0-9]{4}D[0-9]{4}$', id) != None)\n",
    "number_of_decisions = train_data_pd[decision_indexes].shape[0]"
   ]
  },
  {
   "cell_type": "code",
   "execution_count": 49,
   "id": "bd566a88",
   "metadata": {},
   "outputs": [],
   "source": []
  },
  {
   "cell_type": "code",
   "execution_count": 50,
   "id": "1d7c7786",
   "metadata": {},
   "outputs": [
    {
     "data": {
      "image/png": "[encoded data removed]",
      "text/plain": [
       "<Figure size 432x288 with 1 Axes>"
      ]
     },
     "metadata": {
      "needs_background": "light"
     },
     "output_type": "display_data"
    }
   ],
   "source": [
    "plt.bar(['direktive', 'regulative', 'odluke'], [number_of_directives, number_of_regulations, number_of_decisions])\n",
    "plt.title('Skup podataka EurLex57k')\n",
    "plt.ylabel('Broj dokumenata u kategoriji')\n",
    "plt.show()"
   ]
  },
  {
   "cell_type": "markdown",
   "id": "90f95a0b",
   "metadata": {},
   "source": [
    "На основу приказа можемо закључити да су регулативе најбројнији тип докумената."
   ]
  },
  {
   "cell_type": "code",
   "execution_count": null,
   "id": "263cb372",
   "metadata": {},
   "outputs": [],
   "source": []
  },
  {
   "cell_type": "markdown",
   "id": "4d0776d3",
   "metadata": {},
   "source": [
    "## Припрема скупа података за задатак вишекласне класификације"
   ]
  },
  {
   "cell_type": "markdown",
   "id": "066d3c10",
   "metadata": {},
   "source": [
    "У овој секцији припремићемо скупове података којима располажемо за задатак вишелабеларне класификације."
   ]
  },
  {
   "cell_type": "markdown",
   "id": "a8cb5553",
   "metadata": {},
   "source": [
    "Концепти EuroVoc тезауруса су хијерархијски организовани и разврстани у 21 главна домена и укупно 127 микротезауруса, мања тезауруса, од којих сваки има свој јединствен број и јединствену листу концепата. Тако, на пример, домен 36 представља науку (енгл. science) са концептима разврстаним у два микротезауруса под бројевима 3606 и 3611. Тезаурус са бројем 3606 садржи концепте везане за природне и примењене науке, а тезаурус са бројем 3611 концепте везане за хуманистичке науке. Речник *mappings_domain_to_microthesaurus* садржи информације о доменима и њиховим микротезаурусима. "
   ]
  },
  {
   "cell_type": "code",
   "execution_count": 318,
   "id": "edf20fc7",
   "metadata": {},
   "outputs": [],
   "source": [
    "mappings_domain_to_microthesaurus = {\n",
    "    '04': ['0406', '0411', '0416', '0421', '0426', '0431', '0436'],\n",
    "    '08': ['0806', '0811', '0816', '0821'],\n",
    "    '10': ['1006', '1011', '1016', '1021'],\n",
    "    '12': ['1206', '1211', '1216', '1221', '1226', '1231', '1236'],\n",
    "    '16': ['1606', '1611', '1616', '1621', '1626', '1631'],\n",
    "    '20': ['2006', '2011', '2016', '2021', '2026', '2031', '2036'],\n",
    "    '24': ['2406', '2411', '2416', '2421', '2426', '2431', '2436', '2441', '2446', '2451'],\n",
    "    '28': ['2806', '2811', '2816', '2821', '2826', '2831', '2836', '2841', '2846'],\n",
    "    '32': ['3206', '3211', '3216', '3221', '3226', '3231', '3236'],\n",
    "    '36': ['3606', '3611'],\n",
    "    '40': ['4006', '4011', '4016', '4021', '4026', '4031'],\n",
    "    '44': ['4406', '4411', '4416', '4421', '4426'],\n",
    "    '48': ['4806', '4811', '4816', '4821', '4826'],\n",
    "    '52': ['5206', '5211', '5216'],\n",
    "    '56': ['5606', '5611', '5616', '5621', '5626', '5631', '5636', '5641'],\n",
    "    '60': ['6006', '6011', '6016', '6021', '6026', '6031', '6036'],\n",
    "    '64': ['6406', '6411', '6416'],\n",
    "    '66': ['6606', '6611', '6616', '6621', '6626'],\n",
    "    '68': ['6806', '6811', '6816', '6821', '6826', '6831', '6836', '6841', '6846'],\n",
    "    '72': ['7206', '7211', '7216', '7221', '7226', '7231', '7236', '7241'],\n",
    "    '76': ['7606', '7611', '7616', '7621', '7626']\n",
    "}"
   ]
  },
  {
   "cell_type": "markdown",
   "id": "c641fabd",
   "metadata": {},
   "source": [
    "Наш задатак ће бити да припремимо скупове података тако што ћемо све концепте које су им придружене упарити са одговарајућим микротезаурусом и његовим доменом. Информације о томе који концепт припада ком тезаурусу се налазе у датотеци . Ова датотека за сваки од микротезауруса садржи списак концепата који му припадају. "
   ]
  },
  {
   "cell_type": "code",
   "execution_count": null,
   "id": "8eecf7d8",
   "metadata": {},
   "outputs": [],
   "source": []
  },
  {
   "cell_type": "code",
   "execution_count": 319,
   "id": "19153416",
   "metadata": {},
   "outputs": [],
   "source": [
    "def explain_domain(mappings, domain):\n",
    "    #TODO:\n",
    "    microthesaurus = mappings[domain]\n",
    "    return concept_names(eurovoc_pd, microthesaurus)"
   ]
  },
  {
   "cell_type": "code",
   "execution_count": 321,
   "id": "8ce7050e",
   "metadata": {},
   "outputs": [
    {
     "data": {
      "text/plain": [
       "['Barbados', 'database', 'TAB', 'development bank', 'land bank']"
      ]
     },
     "execution_count": 321,
     "metadata": {},
     "output_type": "execute_result"
    }
   ],
   "source": [
    "explain_domain(mappings_domain_to_microthesaurus, '48')"
   ]
  },
  {
   "cell_type": "code",
   "execution_count": 323,
   "id": "3c6f121c",
   "metadata": {},
   "outputs": [
    {
     "data": {
      "text/plain": [
       "['force reduction', 'air traffic control', 'traffic regulations']"
      ]
     },
     "execution_count": 323,
     "metadata": {},
     "output_type": "execute_result"
    }
   ],
   "source": [
    "concept_names(eurovoc_pd, ['3131', '2949', '172'])"
   ]
  },
  {
   "cell_type": "code",
   "execution_count": 77,
   "id": "d3808124",
   "metadata": {},
   "outputs": [],
   "source": [
    "import numpy as np"
   ]
  },
  {
   "cell_type": "code",
   "execution_count": 325,
   "id": "8e6a8559",
   "metadata": {},
   "outputs": [],
   "source": [
    "def assign_categories(concepts, mappings):\n",
    "    number_of_categories = len(mappings)\n",
    "    categories = np.zeros(number_of_categories, dtype='int')\n",
    "    \n",
    "    for concept in concepts:\n",
    "        for i, (c, labels) in enumerate(mappings.items()):\n",
    "            if concept in labels:\n",
    "                categories[i] = 1\n",
    "    \n",
    "    return categories"
   ]
  },
  {
   "cell_type": "code",
   "execution_count": 327,
   "id": "c460d835",
   "metadata": {},
   "outputs": [
    {
     "data": {
      "text/plain": [
       "array([0, 0, 0, 0, 0, 0, 0, 0, 0, 0, 0, 0, 0, 0, 0, 0, 0, 0, 0, 0, 0])"
      ]
     },
     "execution_count": 327,
     "metadata": {},
     "output_type": "execute_result"
    }
   ],
   "source": [
    "assign_categories(['1309', '2300', '3591', '5034'], mappings_domain_to_microthesaurus)"
   ]
  },
  {
   "cell_type": "code",
   "execution_count": null,
   "id": "5495bb1b",
   "metadata": {},
   "outputs": [],
   "source": []
  },
  {
   "cell_type": "code",
   "execution_count": null,
   "id": "68df96e5",
   "metadata": {},
   "outputs": [],
   "source": []
  },
  {
   "cell_type": "code",
   "execution_count": null,
   "id": "0e9c32a9",
   "metadata": {},
   "outputs": [],
   "source": [
    "number_of_labels = 21\n",
    "number_of\n",
    "matrix_with_labels = np.zeros(train_data_pd.shape[0], )"
   ]
  },
  {
   "cell_type": "code",
   "execution_count": 329,
   "id": "25613394",
   "metadata": {},
   "outputs": [],
   "source": [
    "reasigned_categoris = train_data_pd['eurovoc_concepts'].apply(lambda concepts: assign_categories(concepts, mappings_domain_to_microthesaurus))"
   ]
  },
  {
   "cell_type": "code",
   "execution_count": 330,
   "id": "d2550210",
   "metadata": {},
   "outputs": [
    {
     "data": {
      "text/plain": [
       "(45000,)"
      ]
     },
     "execution_count": 330,
     "metadata": {},
     "output_type": "execute_result"
    }
   ],
   "source": [
    "reasigned_categoris.shape"
   ]
  },
  {
   "cell_type": "code",
   "execution_count": 119,
   "id": "4913394f",
   "metadata": {},
   "outputs": [
    {
     "data": {
      "text/plain": [
       "['1402', '2771', '3191', '5055', '519', '5969', '5971']"
      ]
     },
     "execution_count": 119,
     "metadata": {},
     "output_type": "execute_result"
    }
   ],
   "source": [
    "train_data_pd['eurovoc_concepts'].loc[0]"
   ]
  },
  {
   "cell_type": "code",
   "execution_count": 120,
   "id": "eae91e03",
   "metadata": {},
   "outputs": [
    {
     "data": {
      "text/plain": [
       "0"
      ]
     },
     "execution_count": 120,
     "metadata": {},
     "output_type": "execute_result"
    }
   ],
   "source": [
    "reasigned_categoris[0]"
   ]
  },
  {
   "cell_type": "code",
   "execution_count": 121,
   "id": "5ca339d5",
   "metadata": {},
   "outputs": [
    {
     "data": {
      "text/plain": [
       "['2319', '2713', '2938', '693']"
      ]
     },
     "execution_count": 121,
     "metadata": {},
     "output_type": "execute_result"
    }
   ],
   "source": [
    "train_data_pd['eurovoc_concepts'].loc[1]"
   ]
  },
  {
   "cell_type": "code",
   "execution_count": 122,
   "id": "5d01a1f2",
   "metadata": {},
   "outputs": [
    {
     "data": {
      "text/plain": [
       "0"
      ]
     },
     "execution_count": 122,
     "metadata": {},
     "output_type": "execute_result"
    }
   ],
   "source": [
    "reasigned_categoris[1]"
   ]
  },
  {
   "cell_type": "code",
   "execution_count": 125,
   "id": "2cbe49c6",
   "metadata": {},
   "outputs": [
    {
     "data": {
      "text/plain": [
       "1857"
      ]
     },
     "execution_count": 125,
     "metadata": {},
     "output_type": "execute_result"
    }
   ],
   "source": [
    "np.sum(reasigned_categoris!=0)"
   ]
  },
  {
   "cell_type": "code",
   "execution_count": 110,
   "id": "b93ef5ba",
   "metadata": {},
   "outputs": [
    {
     "data": {
      "text/plain": [
       "(21,)"
      ]
     },
     "execution_count": 110,
     "metadata": {},
     "output_type": "execute_result"
    }
   ],
   "source": [
    "sums.shape"
   ]
  },
  {
   "cell_type": "code",
   "execution_count": 126,
   "id": "dfba5216",
   "metadata": {},
   "outputs": [],
   "source": [
    "all_concepts = []\n",
    "    \n",
    "for row in train_data_pd.itertuples():\n",
    "    all_concepts.append(row[4])\n",
    "        \n",
    "all_concepts_merged = list(itertools.chain(*all_concepts))"
   ]
  },
  {
   "cell_type": "code",
   "execution_count": 127,
   "id": "5e272a46",
   "metadata": {},
   "outputs": [
    {
     "data": {
      "text/plain": [
       "228322"
      ]
     },
     "execution_count": 127,
     "metadata": {},
     "output_type": "execute_result"
    }
   ],
   "source": [
    "len(all_concepts_merged)"
   ]
  },
  {
   "cell_type": "code",
   "execution_count": 128,
   "id": "6102747b",
   "metadata": {},
   "outputs": [],
   "source": [
    "all_concepts_unique = set(all_concepts_merged)"
   ]
  },
  {
   "cell_type": "code",
   "execution_count": 131,
   "id": "0eb4abb6",
   "metadata": {},
   "outputs": [],
   "source": [
    "all_concepts_unique = list(all_concepts_unique)"
   ]
  },
  {
   "cell_type": "code",
   "execution_count": 132,
   "id": "644fb367",
   "metadata": {},
   "outputs": [
    {
     "data": {
      "text/plain": [
       "4108"
      ]
     },
     "execution_count": 132,
     "metadata": {},
     "output_type": "execute_result"
    }
   ],
   "source": [
    "len(all_concepts_unique )"
   ]
  },
  {
   "cell_type": "code",
   "execution_count": 136,
   "id": "98190cc7",
   "metadata": {},
   "outputs": [
    {
     "name": "stdout",
     "output_type": "stream",
     "text": [
      "['0406', '0411', '0416', '0421', '0426', '0431', '0436']\n",
      "['0806', '0811', '0816', '0821']\n",
      "['1006', '1011', '1016', '1021']\n",
      "['1206', '1211', '1216', '1221', '1226', '1231', '1236']\n",
      "['1606', '1611', '1616', '1621', '1626', '1631']\n",
      "['2006', '2011', '2016', '2021', '2026', '2031', '2036']\n",
      "['2406', '2411', '2416', '2421', '2426', '2431', '2436', '2441', '2446', '2451']\n",
      "['2806', '2811', '2816', '2821', '2826', '2831', '2836', '2841', '2846']\n",
      "['3206', '3211', '3216', '3221', '3226', '3231', '3236']\n",
      "['3606', '3611']\n",
      "['4006', '4011', '4016', '4021', '4026', '4031']\n",
      "['4406', '4411', '4416', '4421', '4426']\n",
      "['4806', '4811', '4816', '4821', '4826']\n",
      "['5206', '5211', '5216']\n",
      "['5606', '5611', '5616', '5621', '5626', '5631', '5636', '5641']\n",
      "['6006', '6011', '6016', '6021', '6026', '6031', '6036']\n",
      "['6406', '6411', '6416']\n",
      "['6606', '6611', '6616', '6621', '6626']\n",
      "['6806', '6811', '6816', '6821', '6826', '6831', '6836', '6841', '6846']\n",
      "['7206', '7211', '7216', '7221', '7226', '7231', '7236', '7241']\n",
      "['7606', '7611', '7616', '7621', '7626']\n"
     ]
    }
   ],
   "source": [
    "all_suported = []\n",
    "for i, (k, v) in enumerate(mappings.items()):\n",
    "    print(v)\n",
    "    all_suported.append(v)"
   ]
  },
  {
   "cell_type": "code",
   "execution_count": 134,
   "id": "6486662a",
   "metadata": {},
   "outputs": [],
   "source": [
    "all_suported_merged = list(itertools.chain(*all_suported))"
   ]
  },
  {
   "cell_type": "code",
   "execution_count": 140,
   "id": "d76466b8",
   "metadata": {},
   "outputs": [
    {
     "data": {
      "text/plain": [
       "127"
      ]
     },
     "execution_count": 140,
     "metadata": {},
     "output_type": "execute_result"
    }
   ],
   "source": [
    "len(all_suported_merged)"
   ]
  },
  {
   "cell_type": "code",
   "execution_count": 141,
   "id": "b152d5e4",
   "metadata": {},
   "outputs": [
    {
     "data": {
      "text/plain": [
       "['1060',\n",
       " '4608',\n",
       " '5311',\n",
       " '1185',\n",
       " '1761',\n",
       " '1486',\n",
       " '5634',\n",
       " '409',\n",
       " '5898',\n",
       " '4197',\n",
       " '2730',\n",
       " '1229',\n",
       " '2921',\n",
       " '1074',\n",
       " '5151',\n",
       " '1385',\n",
       " '1275',\n",
       " '2113',\n",
       " '5078',\n",
       " '2695',\n",
       " '3970',\n",
       " '2301',\n",
       " '5775',\n",
       " '2273',\n",
       " '3481',\n",
       " '5261',\n",
       " '3806',\n",
       " '2288',\n",
       " '1393',\n",
       " '3598',\n",
       " '1969',\n",
       " '439592',\n",
       " '63',\n",
       " '1321',\n",
       " '4857',\n",
       " '3732',\n",
       " '3225',\n",
       " '4767',\n",
       " '2054',\n",
       " '3673',\n",
       " '1274',\n",
       " '1989',\n",
       " '4351',\n",
       " '1946',\n",
       " '5404',\n",
       " '1738',\n",
       " '3869',\n",
       " '201',\n",
       " '4830',\n",
       " '6121',\n",
       " '6884',\n",
       " '1662',\n",
       " '2765',\n",
       " '3895',\n",
       " '3776',\n",
       " '2646',\n",
       " '2839',\n",
       " '3453',\n",
       " '6016',\n",
       " '5236',\n",
       " '4016',\n",
       " '3348',\n",
       " '7814',\n",
       " '240',\n",
       " '1490',\n",
       " '656',\n",
       " '2541',\n",
       " '3010',\n",
       " '3890',\n",
       " '475',\n",
       " '624',\n",
       " '5248',\n",
       " '2038',\n",
       " '1302',\n",
       " '2925',\n",
       " '3946',\n",
       " '544',\n",
       " '5705',\n",
       " '2723',\n",
       " '2026',\n",
       " '3908',\n",
       " '4900',\n",
       " '5787',\n",
       " '4316',\n",
       " '2902',\n",
       " '2408',\n",
       " '642',\n",
       " '2820',\n",
       " '1821',\n",
       " '3805',\n",
       " '3172',\n",
       " '1058',\n",
       " '4082',\n",
       " '1667',\n",
       " '4467',\n",
       " '3772',\n",
       " '1230',\n",
       " '2589',\n",
       " '4059',\n",
       " '7977',\n",
       " '4264',\n",
       " '764',\n",
       " '3635',\n",
       " '2492',\n",
       " '2955',\n",
       " '5063',\n",
       " '635',\n",
       " '4395',\n",
       " '5019',\n",
       " '1826',\n",
       " '152',\n",
       " '3026',\n",
       " '3585',\n",
       " '2493',\n",
       " '1762',\n",
       " '2298',\n",
       " '157',\n",
       " '5525',\n",
       " '2900',\n",
       " '3706',\n",
       " '2529',\n",
       " '3840',\n",
       " '1717',\n",
       " '2247',\n",
       " '3545',\n",
       " '2155',\n",
       " '3711',\n",
       " '4562',\n",
       " '5354',\n",
       " '2077',\n",
       " '2760',\n",
       " '1217',\n",
       " '4656',\n",
       " '3743',\n",
       " '295',\n",
       " '5923',\n",
       " '2045',\n",
       " '996',\n",
       " '2777',\n",
       " '1281',\n",
       " '1421',\n",
       " '1741',\n",
       " '2693',\n",
       " '461',\n",
       " '3526',\n",
       " '4500',\n",
       " '5575',\n",
       " '2709',\n",
       " '5150',\n",
       " '4507',\n",
       " '3090',\n",
       " '4802',\n",
       " '609',\n",
       " '4649',\n",
       " '6725',\n",
       " '3823',\n",
       " '5797',\n",
       " '3589',\n",
       " '1728',\n",
       " '214',\n",
       " '3434',\n",
       " '1996',\n",
       " '2472',\n",
       " '1566',\n",
       " '3300',\n",
       " '2944',\n",
       " '2579',\n",
       " '5605',\n",
       " '3591',\n",
       " '1136',\n",
       " '3866',\n",
       " '2157',\n",
       " '2258',\n",
       " '2378',\n",
       " '2356',\n",
       " '1609',\n",
       " '1798',\n",
       " '1037',\n",
       " '4037',\n",
       " '1371',\n",
       " '596',\n",
       " '1469',\n",
       " '6151',\n",
       " '1262',\n",
       " '1684',\n",
       " '5272',\n",
       " '3811',\n",
       " '829',\n",
       " '4062',\n",
       " '6359',\n",
       " '1895',\n",
       " '3310',\n",
       " '6067',\n",
       " '2185',\n",
       " '172',\n",
       " '4818',\n",
       " '3651',\n",
       " '3264',\n",
       " '2802',\n",
       " '1427',\n",
       " '57',\n",
       " '42',\n",
       " '5642',\n",
       " '4261',\n",
       " '5399',\n",
       " '40',\n",
       " '835',\n",
       " '1019',\n",
       " '6130',\n",
       " '5020',\n",
       " '2864',\n",
       " '2928',\n",
       " '454',\n",
       " '3561',\n",
       " '5363',\n",
       " '4227',\n",
       " '1361',\n",
       " '1534',\n",
       " '6174',\n",
       " '2755',\n",
       " '530',\n",
       " '2952',\n",
       " '6727',\n",
       " '1499',\n",
       " '180',\n",
       " '5352',\n",
       " '1882',\n",
       " '2336',\n",
       " '3259',\n",
       " '2342',\n",
       " '3884',\n",
       " '1147',\n",
       " '6731',\n",
       " '2985',\n",
       " '5233',\n",
       " '1426',\n",
       " '3731',\n",
       " '2838',\n",
       " '136',\n",
       " '1800',\n",
       " '5318',\n",
       " '786',\n",
       " '1777',\n",
       " '5871',\n",
       " '5590',\n",
       " '6824',\n",
       " '6135',\n",
       " '921',\n",
       " '5550',\n",
       " '7',\n",
       " '3849',\n",
       " '5873',\n",
       " '4824',\n",
       " '736',\n",
       " '5929',\n",
       " '451069',\n",
       " '3888',\n",
       " '6012',\n",
       " '2320',\n",
       " '5880',\n",
       " '6049',\n",
       " '4256',\n",
       " '3201',\n",
       " '604',\n",
       " '3544',\n",
       " '811',\n",
       " '890',\n",
       " '5877',\n",
       " '3634',\n",
       " '5992',\n",
       " '1084',\n",
       " '436',\n",
       " '4514',\n",
       " '77',\n",
       " '510',\n",
       " '1981',\n",
       " '3496',\n",
       " '4838',\n",
       " '5927',\n",
       " '439498',\n",
       " '1700',\n",
       " '5583',\n",
       " '6199',\n",
       " '440',\n",
       " '1503',\n",
       " '2477',\n",
       " '1333',\n",
       " '4232',\n",
       " '3642',\n",
       " '1142',\n",
       " '4324',\n",
       " '7935',\n",
       " '2545',\n",
       " '5810',\n",
       " '4692',\n",
       " '1235',\n",
       " '717',\n",
       " '188',\n",
       " '525',\n",
       " '5640',\n",
       " '5930',\n",
       " '3413',\n",
       " '1945',\n",
       " '4385',\n",
       " '1750',\n",
       " '4532',\n",
       " '1051',\n",
       " '8462',\n",
       " '441716',\n",
       " '690',\n",
       " '1381',\n",
       " '3295',\n",
       " '1012',\n",
       " '1247',\n",
       " '1117',\n",
       " '1572',\n",
       " '8308',\n",
       " '2671',\n",
       " '2136',\n",
       " '2938',\n",
       " '2661',\n",
       " '1382',\n",
       " '5408',\n",
       " '1852',\n",
       " '447756',\n",
       " '6786',\n",
       " '2916',\n",
       " '150',\n",
       " '3098',\n",
       " '458',\n",
       " '3983',\n",
       " '6029',\n",
       " '5650',\n",
       " '561',\n",
       " '1416',\n",
       " '2029',\n",
       " '2184',\n",
       " '3885',\n",
       " '4320',\n",
       " '4322',\n",
       " '4672',\n",
       " '1377',\n",
       " '785',\n",
       " '344',\n",
       " '4774',\n",
       " '936',\n",
       " '1804',\n",
       " '6379',\n",
       " '435164',\n",
       " '2713',\n",
       " '1670',\n",
       " '1188',\n",
       " '1119',\n",
       " '3251',\n",
       " '2460',\n",
       " '3125',\n",
       " '1465',\n",
       " '4056',\n",
       " '2779',\n",
       " '3897',\n",
       " '3454',\n",
       " '420',\n",
       " '2426',\n",
       " '7968',\n",
       " '1484',\n",
       " '973',\n",
       " '2909',\n",
       " '4373',\n",
       " '4217',\n",
       " '5726',\n",
       " '3077',\n",
       " '6048',\n",
       " '5988',\n",
       " '1083',\n",
       " '2144',\n",
       " '2828',\n",
       " '413',\n",
       " '328',\n",
       " '897',\n",
       " '6099',\n",
       " '566',\n",
       " '4669',\n",
       " '305',\n",
       " '4551',\n",
       " '2317',\n",
       " '6189',\n",
       " '1939',\n",
       " '2775',\n",
       " '2318',\n",
       " '6776',\n",
       " '2625',\n",
       " '1653',\n",
       " '1329',\n",
       " '5879',\n",
       " '5199',\n",
       " '4728',\n",
       " '1875',\n",
       " '4628',\n",
       " '2868',\n",
       " '5083',\n",
       " '2614',\n",
       " '3891',\n",
       " '1354',\n",
       " '1960',\n",
       " '6790',\n",
       " '5883',\n",
       " '3420',\n",
       " '3282',\n",
       " '5763',\n",
       " '2128',\n",
       " '628',\n",
       " '2853',\n",
       " '7975',\n",
       " '1284',\n",
       " '924',\n",
       " '8477',\n",
       " '1822',\n",
       " '4790',\n",
       " '3881',\n",
       " '1156',\n",
       " '227',\n",
       " '2770',\n",
       " '3071',\n",
       " '2965',\n",
       " '3269',\n",
       " '5964',\n",
       " '2208',\n",
       " '6706',\n",
       " '4186',\n",
       " '2726',\n",
       " '6064',\n",
       " '6191',\n",
       " '1360',\n",
       " '4160',\n",
       " '477',\n",
       " '5431',\n",
       " '3684',\n",
       " '1712',\n",
       " '3789',\n",
       " '1624',\n",
       " '3409',\n",
       " '6788',\n",
       " '922',\n",
       " '5427',\n",
       " '693',\n",
       " '2192',\n",
       " '2749',\n",
       " '97',\n",
       " '4614',\n",
       " '6256',\n",
       " '3581',\n",
       " '565',\n",
       " '695',\n",
       " '4131',\n",
       " '5381',\n",
       " '4877',\n",
       " '3998',\n",
       " '4394',\n",
       " '2186',\n",
       " '1277',\n",
       " '3287',\n",
       " '1655',\n",
       " '5447',\n",
       " '1165',\n",
       " '2879',\n",
       " '173',\n",
       " '1091',\n",
       " '6100',\n",
       " '945',\n",
       " '1613',\n",
       " '3005',\n",
       " '116',\n",
       " '4362',\n",
       " '2735',\n",
       " '5155',\n",
       " '2862',\n",
       " '301',\n",
       " '1854',\n",
       " '3181',\n",
       " '4468',\n",
       " '1651',\n",
       " '3851',\n",
       " '8279',\n",
       " '2455',\n",
       " '2924',\n",
       " '3403',\n",
       " '1025',\n",
       " '5765',\n",
       " '2534',\n",
       " '8281',\n",
       " '5680',\n",
       " '8452',\n",
       " '1565',\n",
       " '3152',\n",
       " '5509',\n",
       " '5943',\n",
       " '3878',\n",
       " '6350',\n",
       " '3906',\n",
       " '3800',\n",
       " '1116',\n",
       " '2131',\n",
       " '5317',\n",
       " '5865',\n",
       " '5839',\n",
       " '3382',\n",
       " '5548',\n",
       " '923',\n",
       " '5827',\n",
       " '435330',\n",
       " '6041',\n",
       " '3724',\n",
       " '60',\n",
       " '1902',\n",
       " '4810',\n",
       " '5255',\n",
       " '6084',\n",
       " '80',\n",
       " '599',\n",
       " '5421',\n",
       " '802',\n",
       " '279',\n",
       " '4636',\n",
       " '4647',\n",
       " '1853',\n",
       " '2484',\n",
       " '282',\n",
       " '4005',\n",
       " '5570',\n",
       " '4294',\n",
       " '325',\n",
       " '5024',\n",
       " '2738',\n",
       " '5218',\n",
       " '56',\n",
       " '1590',\n",
       " '2800',\n",
       " '128',\n",
       " '3971',\n",
       " '6260',\n",
       " '408',\n",
       " '735',\n",
       " '2891',\n",
       " '941',\n",
       " '254',\n",
       " '2831',\n",
       " '4043',\n",
       " '6902',\n",
       " '1038',\n",
       " '2319',\n",
       " '1375',\n",
       " '2751',\n",
       " '4560',\n",
       " '2428',\n",
       " '912',\n",
       " '1815',\n",
       " '3995',\n",
       " '2202',\n",
       " '92',\n",
       " '2505',\n",
       " '5900',\n",
       " '3865',\n",
       " '1918',\n",
       " '965',\n",
       " '4364',\n",
       " '446',\n",
       " '1525',\n",
       " '5969',\n",
       " '1812',\n",
       " '8553',\n",
       " '4358',\n",
       " '83',\n",
       " '5460',\n",
       " '5256',\n",
       " '4307',\n",
       " '2286',\n",
       " '2496',\n",
       " '913',\n",
       " '491',\n",
       " '1313',\n",
       " '3748',\n",
       " '810',\n",
       " '1952',\n",
       " '2373',\n",
       " '2538',\n",
       " '2226',\n",
       " '3841',\n",
       " '5156',\n",
       " '3415',\n",
       " '1505',\n",
       " '665',\n",
       " '93',\n",
       " '2657',\n",
       " '2522',\n",
       " '4533',\n",
       " '4034',\n",
       " '4210',\n",
       " '691',\n",
       " '3872',\n",
       " '3830',\n",
       " '4213',\n",
       " '1968',\n",
       " '1603',\n",
       " '860',\n",
       " '3451',\n",
       " '387',\n",
       " '3968',\n",
       " '6710',\n",
       " '2557',\n",
       " '4225',\n",
       " '834',\n",
       " '5403',\n",
       " '2682',\n",
       " '5791',\n",
       " '9',\n",
       " '1868',\n",
       " '4671',\n",
       " '5806',\n",
       " '2395',\n",
       " '3735',\n",
       " '1125',\n",
       " '4165',\n",
       " '3064',\n",
       " '5457',\n",
       " '2571',\n",
       " '2986',\n",
       " '4829',\n",
       " '4057',\n",
       " '2606',\n",
       " '3227',\n",
       " '6061',\n",
       " '432',\n",
       " '1487',\n",
       " '3291',\n",
       " '417',\n",
       " '2270',\n",
       " '2972',\n",
       " '3870',\n",
       " '2069',\n",
       " '3345',\n",
       " '4378',\n",
       " '7966',\n",
       " '3253',\n",
       " '940',\n",
       " '2482',\n",
       " '4662',\n",
       " '2933',\n",
       " '2469',\n",
       " '2912',\n",
       " '5448',\n",
       " '7221',\n",
       " '2150',\n",
       " '431',\n",
       " '2416',\n",
       " '6345',\n",
       " '4684',\n",
       " '5130',\n",
       " '5212',\n",
       " '1029',\n",
       " '2278',\n",
       " '4775',\n",
       " '3988',\n",
       " '4849',\n",
       " '5500',\n",
       " '447660',\n",
       " '4620',\n",
       " '2013',\n",
       " '6926',\n",
       " '1414',\n",
       " '2975',\n",
       " '3875',\n",
       " '5922',\n",
       " '2246',\n",
       " '5762',\n",
       " '1828',\n",
       " '6034',\n",
       " '1676',\n",
       " '756',\n",
       " '3596',\n",
       " '1820',\n",
       " '3365',\n",
       " '6723',\n",
       " '4646',\n",
       " '2649',\n",
       " '4207',\n",
       " '1300',\n",
       " '570',\n",
       " '391',\n",
       " '768',\n",
       " '870',\n",
       " '4690',\n",
       " '69',\n",
       " '1560',\n",
       " '5836',\n",
       " '355',\n",
       " '1056',\n",
       " '6767',\n",
       " '5461',\n",
       " '3106',\n",
       " '141',\n",
       " '2470',\n",
       " '6296',\n",
       " '3175',\n",
       " '4839',\n",
       " '1755',\n",
       " '5467',\n",
       " '2893',\n",
       " '1645',\n",
       " '2856',\n",
       " '5597',\n",
       " '1933',\n",
       " '2943',\n",
       " '3374',\n",
       " '4036',\n",
       " '1239',\n",
       " '3593',\n",
       " '3801',\n",
       " '4623',\n",
       " '5450',\n",
       " '3386',\n",
       " '4295',\n",
       " '4411',\n",
       " '545',\n",
       " '5023',\n",
       " '1644',\n",
       " '58',\n",
       " '2731',\n",
       " '6060',\n",
       " '4253',\n",
       " '504',\n",
       " '1231',\n",
       " '2520',\n",
       " '1372',\n",
       " '5041',\n",
       " '1104',\n",
       " '3129',\n",
       " '1028',\n",
       " '483',\n",
       " '2903',\n",
       " '2894',\n",
       " '1232',\n",
       " '2090',\n",
       " '4372',\n",
       " '4845',\n",
       " '1332',\n",
       " '2810',\n",
       " '1719',\n",
       " '2725',\n",
       " '262',\n",
       " '1561',\n",
       " '84',\n",
       " '822',\n",
       " '1607',\n",
       " '4687',\n",
       " '2237',\n",
       " '3624',\n",
       " '1827',\n",
       " '3396',\n",
       " '2962',\n",
       " '6361',\n",
       " '1686',\n",
       " '6774',\n",
       " '1005',\n",
       " '1932',\n",
       " '750',\n",
       " '3219',\n",
       " '3299',\n",
       " '2359',\n",
       " '1842',\n",
       " '2543',\n",
       " '2821',\n",
       " '2780',\n",
       " '3916',\n",
       " '1178',\n",
       " '3753',\n",
       " '668',\n",
       " '5376',\n",
       " '3378',\n",
       " '4044',\n",
       " '2843',\n",
       " '5889',\n",
       " '580',\n",
       " '345',\n",
       " '919',\n",
       " '2679',\n",
       " '5504',\n",
       " '2002',\n",
       " '2990',\n",
       " '6332',\n",
       " '4779',\n",
       " '3488',\n",
       " '5470',\n",
       " '5392',\n",
       " '5814',\n",
       " '3347',\n",
       " '1569',\n",
       " '3936',\n",
       " '3331',\n",
       " '3552',\n",
       " '5842',\n",
       " '1979',\n",
       " '1388',\n",
       " '5324',\n",
       " '245',\n",
       " '3397',\n",
       " '3326',\n",
       " '5039',\n",
       " '3398',\n",
       " '2114',\n",
       " '2824',\n",
       " '5465',\n",
       " '7219',\n",
       " '4858',\n",
       " '182',\n",
       " '828',\n",
       " '5289',\n",
       " '2799',\n",
       " '1814',\n",
       " '1252',\n",
       " '891',\n",
       " '2809',\n",
       " '6541',\n",
       " '2304',\n",
       " '3190',\n",
       " '3655',\n",
       " '928',\n",
       " '2718',\n",
       " '4141',\n",
       " '3578',\n",
       " '2027',\n",
       " '1279',\n",
       " '3474',\n",
       " '5109',\n",
       " '6700',\n",
       " '6747',\n",
       " '3959',\n",
       " '2311',\n",
       " '4288',\n",
       " '1026',\n",
       " '3949',\n",
       " '4470',\n",
       " '925',\n",
       " '4453',\n",
       " '2915',\n",
       " '1941',\n",
       " '2976',\n",
       " '5244',\n",
       " '2206',\n",
       " '4503',\n",
       " '154',\n",
       " '1034',\n",
       " '7980',\n",
       " '4311',\n",
       " '573',\n",
       " '185',\n",
       " '3072',\n",
       " '4129',\n",
       " '4070',\n",
       " '6124',\n",
       " '4216',\n",
       " '2702',\n",
       " '3714',\n",
       " '4651',\n",
       " '2816',\n",
       " '1997',\n",
       " '1537',\n",
       " '7875',\n",
       " '2078',\n",
       " '1512',\n",
       " '3069',\n",
       " '4685',\n",
       " '5691',\n",
       " '1604',\n",
       " '1807',\n",
       " '6411',\n",
       " '3535',\n",
       " '8460',\n",
       " '170',\n",
       " '3303',\n",
       " '4644',\n",
       " '5812',\n",
       " '4847',\n",
       " '952',\n",
       " '450658',\n",
       " '4519',\n",
       " '2634',\n",
       " '2911',\n",
       " '2850',\n",
       " '322',\n",
       " '1919',\n",
       " '5115',\n",
       " '353',\n",
       " '4268',\n",
       " '4579',\n",
       " '5856',\n",
       " '2098',\n",
       " '843',\n",
       " '3522',\n",
       " '5849',\n",
       " '3566',\n",
       " '3537',\n",
       " '2645',\n",
       " '1216',\n",
       " '4195',\n",
       " '5752',\n",
       " '4578',\n",
       " '1404',\n",
       " '5319',\n",
       " '1991',\n",
       " '54',\n",
       " '5206',\n",
       " '873',\n",
       " '6547',\n",
       " '5396',\n",
       " '416',\n",
       " '2761',\n",
       " '4798',\n",
       " '1830',\n",
       " '2951',\n",
       " '6044',\n",
       " '6163',\n",
       " '5585',\n",
       " '4506',\n",
       " '1937',\n",
       " '1015',\n",
       " '3664',\n",
       " '191',\n",
       " '3131',\n",
       " '4352',\n",
       " '5426',\n",
       " '2066',\n",
       " '1411',\n",
       " '4738',\n",
       " '3864',\n",
       " '6089',\n",
       " '4000',\n",
       " '4566',\n",
       " '89',\n",
       " '283',\n",
       " '2467',\n",
       " '737',\n",
       " '4708',\n",
       " '3349',\n",
       " '209',\n",
       " '1308',\n",
       " '3179',\n",
       " '2429',\n",
       " '1532',\n",
       " '4392',\n",
       " '6370',\n",
       " '3460',\n",
       " '4498',\n",
       " '1077',\n",
       " '3061',\n",
       " '3008',\n",
       " '2979',\n",
       " '1734',\n",
       " '2562',\n",
       " '4823',\n",
       " '5802',\n",
       " '2950',\n",
       " '5315',\n",
       " '3263',\n",
       " '5586',\n",
       " '4310',\n",
       " '8285',\n",
       " '1892',\n",
       " '2923',\n",
       " '5593',\n",
       " '5754',\n",
       " '6195',\n",
       " '4382',\n",
       " '529',\n",
       " '324',\n",
       " '8482',\n",
       " '5967',\n",
       " '5012',\n",
       " '5874',\n",
       " '3672',\n",
       " '5482',\n",
       " '4353',\n",
       " '1218',\n",
       " '3820',\n",
       " '4424',\n",
       " '1743',\n",
       " '2121',\n",
       " '1788',\n",
       " '956',\n",
       " '225',\n",
       " '2727',\n",
       " '3689',\n",
       " '6004',\n",
       " '2443',\n",
       " '1200',\n",
       " '4393',\n",
       " '1605',\n",
       " '5796',\n",
       " '4366',\n",
       " '2296',\n",
       " '1834',\n",
       " ...]"
      ]
     },
     "execution_count": 141,
     "metadata": {},
     "output_type": "execute_result"
    }
   ],
   "source": [
    "all_concepts_unique"
   ]
  },
  {
   "cell_type": "code",
   "execution_count": 154,
   "id": "dc673afa",
   "metadata": {},
   "outputs": [
    {
     "data": {
      "text/html": [
       "<div>\n",
       "<style scoped>\n",
       "    .dataframe tbody tr th:only-of-type {\n",
       "        vertical-align: middle;\n",
       "    }\n",
       "\n",
       "    .dataframe tbody tr th {\n",
       "        vertical-align: top;\n",
       "    }\n",
       "\n",
       "    .dataframe thead th {\n",
       "        text-align: right;\n",
       "    }\n",
       "</style>\n",
       "<table border=\"1\" class=\"dataframe\">\n",
       "  <thead>\n",
       "    <tr style=\"text-align: right;\">\n",
       "      <th></th>\n",
       "      <th>id</th>\n",
       "      <th>title</th>\n",
       "    </tr>\n",
       "  </thead>\n",
       "  <tbody>\n",
       "    <tr>\n",
       "      <th>1924</th>\n",
       "      <td>3292</td>\n",
       "      <td>optics</td>\n",
       "    </tr>\n",
       "  </tbody>\n",
       "</table>\n",
       "</div>"
      ],
      "text/plain": [
       "        id   title\n",
       "1924  3292  optics"
      ]
     },
     "execution_count": 154,
     "metadata": {},
     "output_type": "execute_result"
    }
   ],
   "source": [
    "eurovoc_pd[eurovoc_pd['id']=='3292']"
   ]
  },
  {
   "cell_type": "markdown",
   "id": "8312746e",
   "metadata": {},
   "source": [
    "## Документи који се односе на науку"
   ]
  },
  {
   "cell_type": "markdown",
   "id": "96ce6497",
   "metadata": {},
   "source": [
    "У овој секцији ћемо из скупа података посебно издвојити документе који носе једно од обележја-лабела EuroVoc тезауруса који се односе на науку. Две кровне поделе у тезаурусу су природне и примењене науке (са обележјем 3606) и хуманистичке науке (са обележјем 3611). Свака од ових подела даље има своје суптилније поделе. На пример, природне и примењене науке се деле на примењене науке (енгл. applied sciences), науке о земљи (енг. earth science), науке о животу (енг. life science), физичке науке (енг. physical sciences) и науке о свемиру (енг. space science), док географија, геологија и екологија представљају само неке од наука које се класификују као науке о земљи. У наставку следе пописи идентификатора природних и примењених наука и хуманистичких наука, онако како се могу видети у хијерархијском приказу EuroVoc тезауруса.    "
   ]
  },
  {
   "cell_type": "code",
   "execution_count": null,
   "id": "49b41c5f",
   "metadata": {},
   "outputs": [],
   "source": []
  },
  {
   "cell_type": "code",
   "execution_count": 208,
   "id": "77ed1084",
   "metadata": {},
   "outputs": [],
   "source": [
    "natural_and_applied_sciences = {\n",
    "    '3949': [\n",
    "        '685', '3293', '710', '5968', '3925', '1835', '7410', '1896'\n",
    "    ], \n",
    "    '3952': [\n",
    "        'c_a935cf3f', '1148', '5269', '6387', '1149', '7218', '7360', '6388', '1150', '6389', \\\n",
    "        '1151', '1147', '1152', '1276', '1936', '3294', '6391', '4176', '4770', \\\n",
    "        '6390', '6715', '1278', '1892', '6384', '6385', '2114', '3931', '6381', '6386', '6392'\n",
    "    ],\n",
    "    '3941': [\n",
    "        '4921', '5028', '5303', '5608', '5651', '6260', '6744', 'c_2c5a05a0', '1246', '5740', \\\n",
    "        'c_ff4dd793', '3282', '5338', '7955', 'c_5db9ac34', '4810', '442765', '632', '2232', '2367'\n",
    "    ], \n",
    "    '3946': [\n",
    "        '3291', '4107', '5966', '5300', '4889', '6111', '707', '2373', '709', '5287', '4110', '2376', \\\n",
    "        '5299', '5298', '3292', 'c_590e8349', '4109', '5301', '4108'\n",
    "    ], \n",
    "    '6382': [\n",
    "        '6383', '3790', '6716'\n",
    "    ]\n",
    "}"
   ]
  },
  {
   "cell_type": "code",
   "execution_count": 315,
   "id": "cccae2b5",
   "metadata": {},
   "outputs": [],
   "source": [
    "humanities = {\n",
    "    \n",
    "}"
   ]
  },
  {
   "cell_type": "code",
   "execution_count": null,
   "id": "82f0c373",
   "metadata": {},
   "outputs": [],
   "source": []
  },
  {
   "cell_type": "markdown",
   "id": "df66e003",
   "metadata": {},
   "source": [
    "Пошто нам је циљ да направимо класификатор који документа која припадају науци финије класификује на природне науке и примене тј. хуманистичке науке, потребно је да припремимо и подесне скупове докумената. Проширићемо учитане скупове података колоном is_natural_science: ако је вредност ове колоне 1 то ће значити да документ припада групи природних и примењених наука, а ако је вредност ове колоне 0 то ће значити да документ припада хуманистичким наукама. Прокоментаришимо да смо могли користити и колону is_humanities али да би ова информација била редундантна. "
   ]
  },
  {
   "cell_type": "markdown",
   "id": "17071e46",
   "metadata": {},
   "source": [
    "Да бисмо са лакоћом могли да придружимо документима тражена обележја, прво ћемо сузити скуп на скуп докумената који припадају науци, а потом их финије поделити. "
   ]
  },
  {
   "cell_type": "code",
   "execution_count": 316,
   "id": "fca209e5",
   "metadata": {},
   "outputs": [],
   "source": [
    "def get_natural_and_applied_science_ids(domain='all'): \n",
    "       \n",
    "    if domain == 'all':\n",
    "        ids = []\n",
    "        for (k, v) in natural_and_applied_sciences.items():\n",
    "            for id in v:\n",
    "                ids.append(id)\n",
    "            ids.append(k)\n",
    "    else:\n",
    "        ids = natural_and_applied_sciences[domain]\n",
    "        ids.append(domain)\n",
    "                \n",
    "    return ids"
   ]
  },
  {
   "cell_type": "code",
   "execution_count": 317,
   "id": "b54e47e2",
   "metadata": {},
   "outputs": [],
   "source": [
    "def is_natural_and_applied_science(concept_ids, domain='all'):\n",
    "    science_ids = get_natural_and_applied_science_ids(domain)\n",
    "    return len(set(science_ids).intersection(concept_ids)) != 0"
   ]
  },
  {
   "cell_type": "code",
   "execution_count": null,
   "id": "c1e55d70",
   "metadata": {},
   "outputs": [],
   "source": [
    "def is_humanities(concept_ids, domain='all'):\n",
    "    # TODO\n",
    "    science_ids = get_natural_and_applied_science_ids(domain)\n",
    "    return len(set(science_ids).intersection(concept_ids)) != 0"
   ]
  },
  {
   "cell_type": "code",
   "execution_count": 237,
   "id": "c8f4ccf9",
   "metadata": {},
   "outputs": [],
   "source": [
    "all_relevаant_ids = get_natural_and_applied_science_ids()"
   ]
  },
  {
   "cell_type": "code",
   "execution_count": 238,
   "id": "7a29acfd",
   "metadata": {},
   "outputs": [
    {
     "data": {
      "text/plain": [
       "7743"
      ]
     },
     "execution_count": 238,
     "metadata": {},
     "output_type": "execute_result"
    }
   ],
   "source": [
    "len(all_relevant_ids)"
   ]
  },
  {
   "cell_type": "code",
   "execution_count": null,
   "id": "950bf9c7",
   "metadata": {},
   "outputs": [],
   "source": []
  },
  {
   "cell_type": "code",
   "execution_count": 219,
   "id": "89a031a0",
   "metadata": {},
   "outputs": [],
   "source": []
  },
  {
   "cell_type": "code",
   "execution_count": 220,
   "id": "65bace69",
   "metadata": {},
   "outputs": [
    {
     "data": {
      "text/plain": [
       "False"
      ]
     },
     "execution_count": 220,
     "metadata": {},
     "output_type": "execute_result"
    }
   ],
   "source": [
    "is_natural_and_applied_science(['1309', '3607', '3591', '5034'])"
   ]
  },
  {
   "cell_type": "code",
   "execution_count": 221,
   "id": "da338251",
   "metadata": {},
   "outputs": [],
   "source": [
    "science_data_pd = train_data_pd[train_data_pd['eurovoc_concepts'].apply(lambda concept_ids: is_natural_and_applied_science(concept_ids))]"
   ]
  },
  {
   "cell_type": "code",
   "execution_count": 222,
   "id": "6566a9af",
   "metadata": {},
   "outputs": [
    {
     "data": {
      "text/plain": [
       "(638, 4)"
      ]
     },
     "execution_count": 222,
     "metadata": {},
     "output_type": "execute_result"
    }
   ],
   "source": [
    "science_data_pd.shape"
   ]
  },
  {
   "cell_type": "code",
   "execution_count": 217,
   "id": "7739f29f",
   "metadata": {},
   "outputs": [
    {
     "data": {
      "text/plain": [
       "['6383', '3790', '6716', '6382', '3606']"
      ]
     },
     "execution_count": 217,
     "metadata": {},
     "output_type": "execute_result"
    }
   ],
   "source": [
    "get_natural_and_applied_science_ids('6382')"
   ]
  },
  {
   "cell_type": "code",
   "execution_count": 224,
   "id": "cc8d1843",
   "metadata": {},
   "outputs": [],
   "source": [
    "pd_6382 = science_data_pd[science_data_pd['eurovoc_concepts'].apply(lambda concept_ids: is_natural_and_applied_science(concept_ids, domain='6382'))]"
   ]
  },
  {
   "cell_type": "code",
   "execution_count": 225,
   "id": "3794074e",
   "metadata": {},
   "outputs": [
    {
     "data": {
      "text/plain": [
       "(5, 4)"
      ]
     },
     "execution_count": 225,
     "metadata": {},
     "output_type": "execute_result"
    }
   ],
   "source": [
    "pd_6382.shape"
   ]
  },
  {
   "cell_type": "code",
   "execution_count": 226,
   "id": "97d51f4a",
   "metadata": {},
   "outputs": [],
   "source": [
    "pd_3946 = science_data_pd[science_data_pd['eurovoc_concepts'].apply(lambda concept_ids: is_natural_and_applied_science(concept_ids, domain='3946'))]"
   ]
  },
  {
   "cell_type": "code",
   "execution_count": 227,
   "id": "8f422940",
   "metadata": {},
   "outputs": [
    {
     "data": {
      "text/plain": [
       "(319, 4)"
      ]
     },
     "execution_count": 227,
     "metadata": {},
     "output_type": "execute_result"
    }
   ],
   "source": [
    "pd_3946.shape"
   ]
  },
  {
   "cell_type": "code",
   "execution_count": 228,
   "id": "1b6ffde6",
   "metadata": {},
   "outputs": [],
   "source": [
    "pd_3952 = science_data_pd[science_data_pd['eurovoc_concepts'].apply(lambda concept_ids: is_natural_and_applied_science(concept_ids, domain='3952'))]"
   ]
  },
  {
   "cell_type": "code",
   "execution_count": 229,
   "id": "30956725",
   "metadata": {},
   "outputs": [
    {
     "data": {
      "text/plain": [
       "(17, 4)"
      ]
     },
     "execution_count": 229,
     "metadata": {},
     "output_type": "execute_result"
    }
   ],
   "source": [
    "pd_3952.shape"
   ]
  },
  {
   "cell_type": "code",
   "execution_count": 230,
   "id": "b64e85e2",
   "metadata": {},
   "outputs": [],
   "source": [
    "pd_3941 = science_data_pd[science_data_pd['eurovoc_concepts'].apply(lambda concept_ids: is_natural_and_applied_science(concept_ids, domain='3941'))]"
   ]
  },
  {
   "cell_type": "code",
   "execution_count": 231,
   "id": "cadd8537",
   "metadata": {},
   "outputs": [
    {
     "data": {
      "text/plain": [
       "(285, 4)"
      ]
     },
     "execution_count": 231,
     "metadata": {},
     "output_type": "execute_result"
    }
   ],
   "source": [
    "pd_3941.shape"
   ]
  },
  {
   "cell_type": "code",
   "execution_count": 232,
   "id": "754a897b",
   "metadata": {},
   "outputs": [],
   "source": [
    "pd_3949 = science_data_pd[science_data_pd['eurovoc_concepts'].apply(lambda concept_ids: is_natural_and_applied_science(concept_ids, domain='3949'))]"
   ]
  },
  {
   "cell_type": "code",
   "execution_count": 233,
   "id": "0e922c38",
   "metadata": {},
   "outputs": [
    {
     "data": {
      "text/plain": [
       "(46, 4)"
      ]
     },
     "execution_count": 233,
     "metadata": {},
     "output_type": "execute_result"
    }
   ],
   "source": [
    "pd_3949.shape"
   ]
  },
  {
   "cell_type": "code",
   "execution_count": 240,
   "id": "6de81996",
   "metadata": {},
   "outputs": [
    {
     "data": {
      "text/plain": [
       "celex_id                                                   31982D0211\n",
       "title               82/211/EEC: Commission Decision of 17 March 19...\n",
       "text                COMMISSION  DECISION\\nof 17 March 1982\\nestabl...\n",
       "eurovoc_concepts                 [1091, 3842, 3874, 4110, 4381, 5287]\n",
       "Name: 3, dtype: object"
      ]
     },
     "execution_count": 240,
     "metadata": {},
     "output_type": "execute_result"
    }
   ],
   "source": [
    "science_data_pd.iloc[0]"
   ]
  },
  {
   "cell_type": "code",
   "execution_count": 275,
   "id": "c5c2c0f8",
   "metadata": {},
   "outputs": [
    {
     "name": "stdout",
     "output_type": "stream",
     "text": [
      "['1091', '3842', '3874', '4110', '4381', '5287']\n",
      "['191', '2232', '2415', '3579', '4490', '5100']\n",
      "['1091', '3291', '3842', '4381', '5301']\n",
      "['1595', '1763', '191', '2232', '3156']\n",
      "['1631', '2747', '3885', '4891', '5300', '893']\n",
      "['1439', '1895', '3489', '3949', '4258', '4415']\n",
      "['1255', '3011', '4359', '5181', '7410']\n",
      "['1091', '3842', '4381', '4810', '5722']\n",
      "['1091', '3842', '4381', '707']\n",
      "['1277', '1442', '5300', '5967', '6057']\n",
      "['1091', '3842', '4381', '5300']\n",
      "['1091', '2159', '3842', '4381', '5301']\n",
      "['1091', '2192', '3842', '4381', '5298']\n",
      "['1264', '1442', '2069', '2081', '4381', '5300']\n",
      "['1091', '3292', '3842', '4381', '5301']\n",
      "['1755', '1854', '2211', '5252', '5369', '5608', '619']\n",
      "['1091', '3842', '4381', '5301']\n",
      "['1277', '1590', '6052', '6111', '768']\n",
      "['1091', '2159', '3291', '3842', '4381', '5301']\n",
      "['336', '4081', '5028', '5360', '893']\n",
      "['1309', '1445', '2300', '3408', '4921', '5283']\n",
      "['1091', '3842', '4381', '5300']\n",
      "['1595', '1763', '192', '2232', '2680', '4765', '5283', '775']\n",
      "['191', '2232', '322', '4490', '5498', '5676']\n",
      "['1158', '2897', '3864', '707', '718']\n",
      "['3011', '4359', '5181', '5709', '6260', '7410']\n",
      "['1595', '191', '2232', '2563', '2754']\n",
      "['1091', '1754', '2157', '3842', '4381', '5303']\n",
      "['1277', '1442', '5451', '5734', '5740', '6052']\n",
      "['1091', '2114', '3842', '4381']\n",
      "['191', '2985', '5300', '5451']\n",
      "['1277', '1590', '5451', '5740', '6052', '6111']\n",
      "['1224', '5451', '5734', '6052', '6111', '768']\n",
      "['191', '2232', '2723', '2827', '3409', '4081']\n",
      "['1005', '1086', '1763', '2232', '4490', '5315']\n",
      "['1091', '3842', '4176', '4381']\n",
      "['1091', '3842', '4381', '5287']\n",
      "['1381', '2744', '2836', '2897', '4036', '5966']\n",
      "['1005', '1318', '1763', '2232', '4490', '4839', '862']\n",
      "['1277', '1598', '6052', '6111', '768']\n",
      "['1510', '1896', '2897', '3647', '3648', '4082']\n",
      "['1182', '2232', '2723', '4490', '862', '922']\n",
      "['3408', '4810', '5034', '5369', '619']\n",
      "['1091', '3842', '4381', '710', '747']\n",
      "['1091', '2159', '3842', '4381', '4921']\n",
      "['1730', '2232', '2723', '2792', '4490', '862']\n",
      "['1442', '1837', '2735', '2746', '2897', '5300']\n",
      "['1233', '1277', '1442', '2958', '2965', '5300']\n",
      "['3011', '4359', '5181', '5619', '6260', '7410']\n",
      "['1309', '192', '2525', '5034', '5369', '5608']\n",
      "['1277', '1590', '5451', '5740', '6052', '6569']\n",
      "['1091', '2367', '3842', '4381', '4921', '5300']\n",
      "['2744', '2897', '463', '5300', '5383']\n",
      "['1394', '4858', '5541', '632', '766', '889']\n",
      "['1091', '2923', '3842', '4381', '5301']\n",
      "['1595', '1763', '191', '2232', '2827']\n",
      "['1896', '2159', '2897']\n",
      "['1446', '2428', '3844', '5065', '5287', '5383', '5451']\n",
      "['1091', '3842', '4381', '5300']\n",
      "['1091', '3842', '4108', '4381', '5301']\n",
      "['1595', '1763', '191', '2232', '2827']\n",
      "['3011', '4359', '4839', '5181', '6260', '7410']\n",
      "['1274', '192', '3810', '4308', '5300', '5451']\n",
      "['2735', '2871', '2963', '5300', '741']\n",
      "['1595', '1763', '191', '2232', '2827', '5859', '616']\n",
      "['1091', '3842', '4381', '5287', '5301']\n",
      "['3408', '3574', '4810', '5034', '711']\n",
      "['1309', '1445', '3408', '5034', '5608', '888']\n",
      "['1755', '1854', '2211', '5034', '5252', '5300']\n",
      "['1005', '1445', '4743', '5300', '5760', '838', '8464']\n",
      "['1284', '1442', '2735', '463', '5300']\n",
      "['1031', '191', '2232', '2827', '3409']\n",
      "['1338', '1442', '2718', '3579', '5740']\n",
      "['1134', '2744', '3135', '4036', '5300']\n",
      "['1091', '3842', '4381', '5300']\n",
      "['1005', '1763', '191', '2232', '2563']\n",
      "['1596', '191', '2409', '2548', '5300', '5481']\n",
      "['1134', '2730', '2871', '4713', '5300']\n",
      "['1277', '1590', '5740', '6052']\n",
      "['2958', '4227', '4289', '5300']\n",
      "['1091', '3842', '4381', '4810']\n",
      "['1091', '3842', '4381', '5300']\n",
      "['13', '2428', '3836', '4036', '5300', '5359', '6569']\n",
      "['1896', '2159', '2897', '5235', '5481', '5726']\n",
      "['1309', '1445', '2300', '3408', '4810']\n",
      "['1445', '1895', '1929', '4810', '5034', '6030']\n",
      "['1763', '191', '2090', '2232', '2415', '2563', '2754', '2827']\n",
      "['1091', '2159', '3842', '4381', '5301']\n",
      "['1381', '2744', '4036', '5300']\n",
      "['1284', '1442', '2735', '5300', '6039']\n",
      "['1091', '3842', '4381', '5300']\n",
      "['2428', '3811', '4308', '5235', '5300', '893']\n",
      "['2069', '4381', '5034', '5608', '5740']\n",
      "['1595', '1763', '191', '2232', '2827']\n",
      "['1091', '3842', '3874', '4381', '5287', '5301']\n",
      "['1763', '191', '2232', '2827', '4801', '5283']\n",
      "['1277', '1442', '5451', '5734', '5740', '6052', '6111']\n",
      "['1284', '2428', '2735', '2897', '3836', '5300', '5359', '6569']\n",
      "['1730', '2232', '2723', '4490', '862', '922']\n",
      "['1264', '2069', '2871', '4381', '5300']\n",
      "['1091', '2169', '3842', '4381', '5287']\n",
      "['1063', '2232', '2723', '2827', '5383', '5791']\n",
      "['1595', '1763', '191', '2232', '2827', '4660', '4801']\n",
      "['3645', '3648', '4003', '4004', '4005', '5181', '7410']\n",
      "['1091', '1826', '3842', '4381', '5298']\n",
      "['1277', '2739', '5300', '5383']\n",
      "['1091', '3770', '3842', '4381', '5301']\n",
      "['1091', '3790', '3842', '4381', '5287']\n",
      "['1091', '2114', '2125', '3842', '4381', '4770']\n",
      "['1763', '191', '2232', '2827', '4801']\n",
      "['1277', '1360', '1442', '4039', '5300', '5346']\n",
      "['1277', '1590', '6052', '6111']\n",
      "['1091', '2545', '3842', '4381', '5300']\n",
      "['1091', '3842', '4381', '4921']\n",
      "['1005', '1086', '1763', '191', '2232', '2723', '2792']\n",
      "['1654', '1836', '3156', '3190', '4314', '5300', '5334']\n",
      "['1445', '192', '1929', '3408', '4810', '5034']\n",
      "['1091', '1892', '3842', '4381']\n",
      "['2850', '2901', '3468', '4842', '5463', '5651', '941']\n",
      "['1598', '3408', '4810', '5034', '616']\n",
      "['1091', '3842', '4381', '5300']\n",
      "['1233', '1277', '4743', '5300']\n",
      "['1309', '1445', '192', '2300', '3408', '5034', '5100', '5608', '888']\n",
      "['1091', '3842', '3874', '4381', '5287']\n",
      "['191', '2081', '2773', '2985', '5070', '5740', '616']\n",
      "['2735', '3191', '3660', '4085', '4453', '5287', '6569']\n",
      "['1896', '2897', '4082']\n",
      "['1896', '2095', '4324', '5237']\n",
      "['1091', '3842', '4381', '4921']\n",
      "['1086', '2232', '2723', '2792', '4490', '862']\n",
      "['1091', '3292', '3842', '4381']\n",
      "['1005', '1763', '191', '2232', '2792', '5283']\n",
      "['2232', '2723', '4490', '862', '863', '922']\n",
      "['1134', '2730', '2871', '4713', '5300']\n",
      "['1445', '1644', '1919', '192', '2300', '3191', '3308', '5034', '5369', '5608']\n",
      "['1091', '3842', '4307', '4381', '5104', '5301']\n",
      "['1091', '3795', '3842', '4381', '5301']\n",
      "['1264', '2871', '3647', '5300']\n",
      "['1091', '2159', '3842', '4176', '4381']\n",
      "['1590', '1894', '2737', '5300', '5734']\n",
      "['1755', '1854', '2211', '5252', '5300']\n",
      "['1091', '3291', '3842', '4381']\n",
      "['1005', '1730', '1763', '2232', '4490', '5315']\n",
      "['1091', '3842', '4381', '5301']\n",
      "['1759', '192', '2232', '5951']\n",
      "['191', '2357', '5300', '5451']\n",
      "['1741', '2523', '2739', '3135', '4125', '5300', '6030', '6398']\n",
      "['1091', '2159', '3842', '4108', '4381']\n",
      "['1091', '3789', '3842', '4381', '5301']\n",
      "['1595', '1763', '191', '2232', '5283', '5739']\n",
      "['191', '2232', '2723', '2825', '5369']\n",
      "['2871', '4722', '5300']\n",
      "['1894', '2734', '3191', '5300', '5751']\n",
      "['1091', '3291', '3842', '4381']\n",
      "['1091', '3842', '4381', '5300', '599']\n",
      "['1091', '3842', '4381', '5301']\n",
      "['1277', '1590', '2560', '3408', '3730', '4743', '5451', '6052', '6111', '768']\n",
      "['1837', '3892', '5300', '6272', '893', '990']\n",
      "['1595', '1605', '191', '2232', '2827']\n",
      "['1284', '2735', '2871', '3135', '5300']\n",
      "['1091', '3795', '3842', '4381', '5301']\n",
      "['1091', '3842', '4381', '5300']\n",
      "['1309', '1445', '192', '2771', '3408', '4160', '5034', '5100', '5608', '888']\n",
      "['1091', '3842', '4381', '5300']\n",
      "['2367', '2773', '2816', '2923', '4474', '5300']\n",
      "['2300', '2771', '5034', '5283', '5608', '946']\n",
      "['1595', '1763', '191', '2232', '2827', '4801']\n",
      "['1005', '1086', '2232', '2825', '4490']\n",
      "['1091', '3291', '3842', '4381']\n",
      "['1091', '1429', '3292', '3824', '3842', '4381']\n",
      "['1277', '1570', '2965', '3647', '5300']\n",
      "['1896', '2159', '2897', '5726']\n",
      "['1091', '1882', '2159', '3842', '4108', '4381']\n",
      "['1277', '1442', '2081', '6052', '6111']\n",
      "['2372', '2378', '3836', '3844', '50', '5287', '5383', '5451']\n",
      "['1595', '1763', '191', '2232', '4801', '5283']\n",
      "['1134', '13', '1425', '5018', '5300', '893']\n",
      "['1091', '1892', '3842', '4381']\n",
      "['1445', '2211', '3308', '3408', '4810', '5252']\n",
      "['1091', '3842', '4381', '5028', '5301']\n",
      "['2744', '2836', '2897', '4036', '5300']\n",
      "['1005', '1086', '191', '2232', '2723', '4490']\n",
      "['1277', '1590', '6052', '6111']\n",
      "['1091', '2373', '3842', '4381', '5301']\n",
      "['1442', '5073', '5300', '87']\n",
      "['1595', '191', '2232', '2563', '2754']\n",
      "['3949', '4258', '4415']\n",
      "['1091', '1882', '3842', '4381', '5300', '5301']\n",
      "['2193', '2871', '4059', '4215', '4994', '5300']\n",
      "['1763', '191', '2232', '2827', '4801', '5283']\n",
      "['1442', '2718', '3579', '4732', '5740']\n",
      "['1091', '3842', '4381', '5301']\n",
      "['1091', '3842', '3874', '4110', '4381', '5287']\n",
      "['1595', '1763', '191', '2232', '2827']\n",
      "['1091', '3842', '4381', '5300', '5301']\n",
      "['1442', '1445', '1755', '1759', '192', '4692', '5263', '5300']\n",
      "['1595', '1763', '191', '2232']\n",
      "['1445', '3191', '4689', '4692', '5300']\n",
      "['2744', '2871', '4783', '5300']\n",
      "['1448', '192', '2232', '2286', '3660', '862']\n",
      "['1005', '1730', '2232', '2723', '4490']\n",
      "['1005', '1086', '191', '2232', '2723', '4490']\n",
      "['1091', '2723', '3842', '4381', '5300']\n",
      "['1595', '1744', '1763', '191', '2232', '2827']\n",
      "['1837', '185', '2735', '5300']\n",
      "['2897', '5055', '5300', '765', '867']\n",
      "['1091', '3842', '4381', '5301']\n",
      "['1277', '1590', '5740', '6052', '6111']\n",
      "['1091', '3842', '4381', '5303']\n",
      "['1091', '1415', '3842', '4381', '5301']\n",
      "['2735', '2871', '2963', '5300', '741']\n",
      "['2729', '3568', '5018', '5300']\n",
      "['1091', '3795', '3842', '4381', '5300', '5301']\n",
      "['1091', '2159', '3842', '4381', '5301']\n",
      "['1277', '1590', '3815', '5740', '6052']\n",
      "['1277', '1442', '1590', '6052', '6111']\n",
      "['1005', '1763', '189', '2232', '2792', '5283']\n",
      "['2300', '4003', '5405', '5649', '5796', '5858', '7410']\n",
      "['1091', '3842', '4381', '5301']\n",
      "['191', '2985', '5300', '5451']\n",
      "['1595', '191', '2232', '2548', '2723', '4081']\n",
      "['1277', '1442', '1448', '5300', '6052']\n",
      "['1031', '191', '2232', '2827', '3409']\n",
      "['1224', '1585', '1590', '4743', '5451', '5740', '6052', '768']\n",
      "['1442', '1755', '192', '2734', '2735', '4081', '4687', '4689', '4743', '5263', '5740', '6307', '656', '6569']\n",
      "['1595', '1763', '191', '2232', '2827']\n",
      "['192', '3309', '5292', '5300', '6567']\n",
      "['1091', '3795', '3842', '4381', '5301']\n",
      "['1091', '3842', '4381', '5301']\n",
      "['1277', '1445', '5451', '5740', '6052', '6111']\n",
      "['1091', '3842', '4381', '5287', '5301']\n",
      "['1277', '5451', '5740', '6052', '6569']\n",
      "['2232', '2723', '2827', '3409', '4081', '6269', '867']\n",
      "['1091', '3842', '4381', '5301']\n",
      "['1595', '1605', '1763', '191', '2232', '2409', '2827']\n",
      "['1260', '1763', '191', '2232', '2286', '2409']\n",
      "['1091', '3842', '4381', '5301']\n",
      "['1284', '1442', '2735', '463', '5300']\n",
      "['1083', '1425', '1562', '2825', '5696', '5794', '632']\n",
      "['1091', '3842', '4381', '5287']\n",
      "['1277', '3795', '5740', '6052']\n",
      "['1091', '3842', '4381', '5301']\n",
      "['1595', '1755', '191', '2232', '2827']\n",
      "['1284', '1442', '2735', '5300', '6039']\n",
      "['1091', '3842', '4381', '4921']\n",
      "['2232', '2723', '2792', '4490', '5076', '862']\n",
      "['1091', '3291', '3842', '4381']\n",
      "['1091', '1840', '2159', '3842', '4381', '5301']\n",
      "['1763', '191', '2232', '2426', '2827']\n",
      "['1445', '1894', '192', '2211', '5651', '6112']\n",
      "['1598', '1755', '1854', '2211', '5034', '5300']\n",
      "['1595', '1763', '191', '2232', '2827', '4801']\n",
      "['1091', '3842', '3874', '4381', '5287', '747']\n",
      "['1594', '2367', '2897', '4474', '5734', '5916']\n",
      "['1091', '3842', '3844', '4381', '5301']\n",
      "['2247', '3347', '3774', '4821', '5550', '5552', '5856', '616', '6260', '7410', '8460', '8553']\n",
      "['1277', '5451', '5740', '6052', '6111', '6569']\n",
      "['1091', '3842', '4381', '4921', '5301']\n",
      "['1763', '191', '2232', '2827', '4801', '5283']\n",
      "['1091', '3292', '3842', '4381', '5301']\n",
      "['1091', '3842', '3874', '4110', '4381']\n",
      "['1005', '1763', '189', '2232', '2792', '5283']\n",
      "['191', '2357', '5300', '5451']\n",
      "['3645', '4005', '4359', '5235', '5796', '616', '7410']\n",
      "['1264', '1442', '2871', '5300']\n",
      "['1277', '1590', '3730', '5740', '6052', '6322']\n",
      "['1309', '1445', '2737', '2771', '5300', '5969']\n",
      "['1091', '2373', '3842', '3874', '4110', '4381']\n",
      "['1264', '1442', '2081', '5300']\n",
      "['1755', '1854', '192', '1937', '3885', '4125', '5608', '613']\n",
      "['1277', '1442', '5300', '6052']\n",
      "['192', '3408', '5034', '5608', '619']\n",
      "['1277', '1598', '6052', '6111', '768']\n",
      "['1277', '1590', '4743', '5740', '6052', '768']\n",
      "['1277', '1442', '192', '2737', '3842', '5300']\n",
      "['2286', '3011', '4359', '5181', '7410']\n",
      "['1019', '2232', '2563', '4353', '862', '922']\n",
      "['1091', '3842', '4176', '4381']\n",
      "['3011', '4320', '4359', '5181', '6260', '7410']\n",
      "['1091', '3817', '3842', '4381', '5301']\n",
      "['1595', '1763', '191', '2232', '2827', '4801']\n",
      "['1763', '191', '2232', '2404', '2827', '5225']\n",
      "['1595', '191', '2081', '2739', '2985', '5283', '5740']\n",
      "['1309', '1445', '2089', '5034', '5608', '888']\n",
      "['1896', '2159', '2897', '5383', '5481']\n",
      "['2594', '2735', '3135', '3730', '5241', '5300']\n",
      "['1595', '1763', '191', '2232', '5581']\n",
      "['1919', '2300', '3191', '5034', '5608']\n",
      "['1091', '2723', '3842', '4381', '5300']\n",
      "['1425', '1562', '164', '2825', '5312', '5696', '632']\n",
      "['1524', '1595', '1763', '191', '2232', '2396']\n",
      "['2825', '2903', '347', '4042', '5287', '6047', '753']\n",
      "['2232', '2320', '2437', '3730', '4490', '7126']\n",
      "['1091', '3842', '4381', '5301']\n",
      "['1091', '3842', '3874', '4381', '5287']\n",
      "['1091', '3842', '4381', '5287', '5301']\n",
      "['1196', '1595', '191', '2232', '2723', '2827']\n",
      "['1763', '191', '2232', '2827', '4801', '5283']\n",
      "['1277', '5451', '6052', '6111']\n",
      "['1252', '1309', '1445', '192', '2300', '3408', '5034', '5608']\n",
      "['1091', '3842', '4381', '5301']\n",
      "['1277', '5451', '5740', '6052']\n",
      "['1763', '191', '2232', '2548', '5369', '690']\n",
      "['1277', '2081', '5451', '5740', '6052', '6111']\n",
      "['1837', '2766', '4109', '4381', '4676', '5751']\n",
      "['134', '2901', '3153', '3461', '5343', '5463', '5651', '6308', '6569', '968']\n",
      "['1233', '1277', '5300', '5383']\n",
      "['1091', '3842', '4381', '5300', '5301']\n",
      "['1091', '2376', '3842', '4381', '5299']\n",
      "['2744', '2797', '2897', '5300', '6049']\n",
      "['1774', '3011', '4359', '5181', '6260', '7410']\n",
      "['1595', '1763', '191', '2232', '2827', '4801']\n",
      "['1837', '2783', '3892', '3893', '5300', '990']\n",
      "['1086', '2232', '4490', '862', '922']\n",
      "['192', '2479', '2868', '5233', '5234', '5303']\n",
      "['1182', '1896', '2159', '2563', '5726', '863']\n",
      "['1019', '1896', '2095', '5237', '5966']\n",
      "['3170', '4082', '5300', '5360']\n",
      "['1644', '1763', '191', '2232', '2548', '3579']\n",
      "['1595', '191', '2232', '2563', '2754']\n",
      "['1091', '3842', '4381', '5301']\n",
      "['1250', '2069', '4083', '4381', '4692', '5300']\n",
      "['1085', '1519', '1763', '191', '2232', '2827', '3730', '4708', '4734', '5860']\n",
      "['1896', '2081', '2159', '5235', '5726']\n",
      "['1277', '13', '2081', '5740', '6052']\n",
      "['1277', '1598', '6052', '6111', '768']\n",
      "['1091', '1147', '2821', '3842', '4381', '5300']\n",
      "['1284', '13', '192', '2435', '2732', '4545', '5300']\n",
      "['1252', '1309', '1445', '192', '2300', '2771', '3408', '5034', '5608']\n",
      "['1091', '3292', '3842', '3874', '4381', '5287']\n",
      "['1158', '2897', '3864', '5383', '707', '718']\n",
      "['1277', '2560', '4746', '6052', '6111', '6322']\n",
      "['1277', '2078', '5451', '5740', '6052']\n",
      "['1425', '1562', '2611', '2825', '5312', '5696', '632']\n",
      "['1005', '1086', '191', '2232', '4490', '5315']\n",
      "['2836', '4474', '5300', '5334', '5768', '6052', '6111', '6569']\n",
      "['1076', '1595', '1763', '191', '2232', '3422']\n",
      "['1763', '191', '2232', '2827', '4801', '5283']\n",
      "['1442', '1837', '2735', '2746', '3646', '5300']\n",
      "['1091', '313', '3842', '4381', '4810']\n",
      "['1277', '1442', '2775', '4039', '5300']\n",
      "['1309', '1445', '192', '2300', '2771', '3408', '5034', '5608']\n",
      "['1277', '1442', '1590', '6052', '6111']\n",
      "['2232', '2723', '2827', '3409', '4081', '6269', '867']\n",
      "['1277', '1590', '6052', '6111']\n",
      "['1284', '1442', '192', '3815', '5300', '619']\n",
      "['2479', '4291', '4308', '5234', '5968', '825']\n",
      "['1091', '3842', '4381', '5300', '5301']\n",
      "['1763', '191', '2232', '2548', '5369', '690']\n",
      "['1277', '1590', '4743', '6052', '6111']\n",
      "['2747', '3135', '5312', '5696', '6111']\n",
      "['1595', '191', '2232', '2415', '2563', '2754']\n",
      "['1021', '1504', '1896', '3160', '4082', '4522', '4827', '539']\n",
      "['1425', '3864', '4308', '707', '718', '893']\n",
      "['1005', '1019', '1085', '1763', '2232', '2563', '4490']\n",
      "['1451', '453', '616', '7218']\n",
      "['1595', '191', '2232', '2563', '2754']\n",
      "['2735', '2871', '2963', '5300', '741']\n",
      "['3011', '4359', '5181', '5619', '7410']\n",
      "['1115', '1602', '343', '3793', '4079', '4498', '5300', '5751']\n",
      "['1277', '1590', '5740', '6052', '6322']\n",
      "['1595', '1763', '191', '2232', '2827']\n",
      "['1091', '3842', '4381', '4921', '5301']\n",
      "['1885', '2744', '2897', '4084', '5300', '5383']\n",
      "['1091', '2373', '3842', '3874', '4381', '5287']\n",
      "['1595', '1763', '191', '2232', '2827']\n",
      "['1284', '1442', '2735', '5300', '6039']\n",
      "['1264', '1442', '2081', '5300']\n",
      "['5451', '6052', '6111']\n",
      "['1091', '2773', '3813', '3842', '4381', '5300']\n",
      "['1091', '3842', '4381', '5301']\n",
      "['1896', '3660', '5237', '867']\n",
      "['1091', '2159', '3842', '4381', '5300']\n",
      "['1091', '3842', '4176', '4381']\n",
      "['1091', '3842', '3874', '4110', '4381']\n",
      "['1091', '2159', '3842', '3946', '4381']\n",
      "['1091', '1670', '3842', '4381', '5301']\n",
      "['1277', '1590', '313', '3730', '5451', '5740', '6052', '6322']\n",
      "['2897', '5300', '623', '764']\n",
      "['1896', '2159', '2897', '5383', '5481']\n",
      "['13', '1896', '2897', '4082']\n",
      "['1091', '3842', '4381', '5301']\n",
      "['1594', '2367', '2773', '3342', '3472', '3645']\n",
      "['3408', '4810', '5034', '616']\n",
      "['1309', '1445', '3408', '5034', '5608', '888']\n",
      "['2232', '2723', '2827', '4490', '5383', '5791']\n",
      "['1284', '2735', '2871', '3135', '5300']\n",
      "['1091', '3842', '4110', '4381', '5287']\n",
      "['1091', '3842', '4381', '4810', '5301']\n",
      "['1763', '191', '2548', '2771', '3191', '5740', '6268', '690']\n",
      "['191', '5227', '5451', '5740']\n",
      "['217', '3011', '5181', '5551', '5859', '616', '7410']\n",
      "['1091', '2527', '2723', '3842', '4381', '5300']\n",
      "['1091', '3842', '4381', '5301']\n",
      "['1763', '191', '2232', '2548', '5369', '690']\n",
      "['1091', '1892', '3842', '4381']\n",
      "['1091', '1892', '3842', '4381']\n",
      "['1091', '1754', '2157', '3842', '4381', '5303']\n",
      "['1224', '1590', '1596', '5740', '6052']\n",
      "['1763', '191', '2232', '2827', '4801', '5283']\n",
      "['3408', '4810', '616', '619', '711', '842']\n",
      "['1091', '3842', '4381', '5300', '5301']\n",
      "['1277', '1590', '6052', '6111']\n",
      "['1091', '3842', '4307', '4381', '5104', '5303']\n",
      "['1425', '1562', '2825', '3139', '3861', '5312', '5696', '632']\n",
      "['1005', '1763', '2232', '2827', '392', '5283']\n",
      "['1233', '1277', '4743', '5300']\n",
      "['1562', '1929', '2211', '3308', '4810', '5252']\n",
      "['1896', '2897', '4082']\n",
      "['1763', '191', '2232', '2827', '4801', '5283']\n",
      "['1005', '1318', '1519', '1763', '1774', '189', '2090', '2232', '2286', '2563', '2792', '5898', '863']\n",
      "['1277', '1598', '6052', '6111', '768']\n",
      "['1091', '2692', '3282', '3842']\n",
      "['1252', '1338', '2735', '3660', '4085', '5287']\n",
      "['1091', '3842', '4381', '5301']\n",
      "['1595', '1763', '2081', '2232', '2827', '4081']\n",
      "['1277', '1590', '3730', '463', '5740', '6111']\n",
      "['1091', '3842', '4381', '5300']\n",
      "['1309', '2300', '3408', '4921', '5034', '5100']\n",
      "['1091', '3842', '4381', '5300']\n",
      "['1115', '1602', '343', '4079', '4314', '4498', '5300', '5751']\n",
      "['1277', '1590', '2560', '5740', '6052', '6322']\n",
      "['1031', '1595', '191', '2232', '2488', '4453']\n",
      "['1005', '1086', '1730', '2232', '2723', '4490', '5076', '5315']\n",
      "['1091', '2159', '3842', '4381', '5287']\n",
      "['1050', '2114', '2795', '3531', '5237']\n",
      "['1425', '1565', '2121', '2212', '2845', '2847', '4227', '4713', '6111', '893']\n",
      "['3408', '4810', '6057']\n",
      "['1602', '5300', '5751']\n",
      "['4381', '5287', '5751']\n",
      "['1274', '2357', '2734', '2735', '2985', '568', '5740', '6292']\n",
      "['1091', '2373', '3842', '3874', '4381', '5287']\n",
      "['1277', '2247', '2775', '3810', '5740', '5967']\n",
      "['192', '2735', '5451', '5740', '6569', '6789']\n",
      "['1091', '3842', '4381', '5301']\n",
      "['1309', '1595', '191', '2232', '2300', '693']\n",
      "['2543', '3011', '4359', '5181', '6260', '7410']\n",
      "['1170', '1654', '3568', '5300', '867']\n",
      "['1340', '2428', '3844', '5287', '5383', '5451']\n",
      "['1595', '2232', '2827', '5283', '862', '922']\n",
      "['2232', '2723', '2827', '3409', '4081', '6269', '867']\n",
      "['1005', '2232', '2394', '2723', '4490', '5076']\n",
      "['3011', '4359', '5181', '5706', '7410']\n",
      "['2897', '4227', '5300', '5967']\n",
      "['2069', '2367', '2773', '4381']\n",
      "['1595', '1763', '191', '2232', '2827', '4801']\n",
      "['1262', '1270', '2735', '5055', '5300']\n",
      "['1005', '1318', '1763', '191', '2232', '2286', '2792', '5898']\n",
      "['140', '1442', '2545', '2735', '2897', '5300', '6569']\n",
      "['1425', '2747', '2871', '3861', '5696', '632']\n",
      "['1005', '1086', '1730', '2232', '4490', '5076']\n",
      "['1896', '2159', '2897', '5726']\n",
      "['1445', '1919', '2988', '3660', '4635', '5300', '5969']\n",
      "['3140', '435007', '5300', '5650', '6043']\n",
      "['1595', '1763', '191', '2232', '2827', '4801']\n",
      "['1091', '3842', '4381', '5301']\n",
      "['1277', '1590', '2560', '5740', '6052']\n",
      "['1091', '3842', '3946', '4381', '5298']\n",
      "['1595', '191', '2232', '2563', '2754']\n",
      "['1091', '2012', '3842', '4381', '4810']\n",
      "['1524', '1595', '1763', '191', '2232', '2396']\n",
      "['1277', '191', '5451', '5740', '6052']\n",
      "['1091', '3842', '4381', '5300']\n",
      "['1763', '191', '2232', '4801']\n",
      "['1233', '1772', '2729', '3568', '5018', '5300']\n",
      "['1524', '1595', '2232', '2754', '5100', '5969', '888']\n",
      "['1595', '191', '2232', '2888', '5563', '5581']\n",
      "['1091', '3291', '3842', '3865', '4381']\n",
      "['1091', '3842', '4381', '5300']\n",
      "['1763', '191', '2232', '2548', '5369', '690']\n",
      "['1596', '1602', '191', '2409', '5300', '5481']\n",
      "['1091', '3842', '4109', '4381', '5301']\n",
      "['1091', '3842', '4381', '4921', '5301']\n",
      "['1519', '2232', '2723', '4490', '862', '922']\n",
      "['1277', '1596', '1598', '5740', '6052']\n",
      "['1309', '1596', '192', '2300', '2771', '5034', '5369', '5608']\n",
      "['1595', '1763', '191', '2232', '2827']\n",
      "['1277', '1590', '2560', '6052', '6111']\n",
      "['177', '1878', '1896', '2159', '2213', '2428', '2522', '4308']\n",
      "['1086', '2232', '2723', '4490', '862', '922']\n",
      "['1309', '1595', '191', '2232', '2300', '693']\n",
      "['1091', '3789', '3842', '4381', '5301']\n",
      "['1005', '1086', '1763', '2232', '4490']\n",
      "['1091', '1741', '1884', '3842', '4381', '5301']\n",
      "['191', '2987', '5300', '5451']\n",
      "['1091', '2159', '3842', '4381', '5287']\n",
      "['1091', '3842', '4381', '4921']\n",
      "['1837', '2735', '5300']\n",
      "['2825', '3085', '3885', '4036', '5740', '5768']\n",
      "['1595', '191', '2232', '2415', '2563', '2754']\n",
      "['1091', '3842', '3874', '4110', '4381', '5287']\n",
      "['1091', '1275', '3842', '4381', '5301']\n",
      "['1031', '191', '2232', '2827', '3409', '6269', '867']\n",
      "['180', '2871', '5300', '5360']\n",
      "['1005', '1086', '1763', '191', '2232', '2792']\n",
      "['1005', '2191', '2792', '2825', '5315', '632']\n",
      "['2884', '4455', '5235', '5287', '5305', '5306']\n",
      "['1445', '2300', '2771', '3191', '5034', '5608']\n",
      "['1005', '1730', '1763', '2232', '2563', '4490']\n",
      "['1091', '2373', '3842', '3874', '4381', '5287']\n",
      "['1091', '3842', '4381', '5301']\n",
      "['1763', '191', '2232', '2548', '5369', '690']\n",
      "['3844', '3885', '4821', '5305', '5338', '616']\n",
      "['191', '5227', '5451', '5740']\n",
      "['1091', '1892', '3842', '4381', '4488', '50']\n",
      "['1224', '2560', '4743', '5451', '6052', '6111', '6569']\n",
      "['1562', '2825', '2871', '632', '764', '893']\n",
      "['1091', '2159', '3790', '3842', '4381']\n",
      "['1091', '2159', '3842', '4381', '5287']\n",
      "['1091', '3842', '4381', '4810', '5301']\n",
      "['2271', '3646', '5540', '7410']\n",
      "['1596', '1598', '1755', '1759', '4743', '5740', '5962', '6152']\n",
      "['1091', '1416', '3790', '3842', '4381']\n",
      "['1091', '3842', '4381', '5301']\n",
      "['1309', '1595', '191', '2232', '2300', '693']\n",
      "['1091', '2192', '3842', '4381', '5287', '5922']\n",
      "['2221', '239', '2871', '4314', '5300']\n",
      "['1654', '1836', '3568', '4314', '5300', '5334']\n",
      "['1091', '2192', '3292', '3842', '4381', '5719']\n",
      "['1309', '1445', '192', '3408', '5034', '5100', '5608', '888']\n",
      "['1442', '1837', '2735', '2746', '3646', '5300']\n",
      "['1091', '2869', '3469', '3842', '4381', '5300']\n",
      "['1442', '1729', '2718', '3579', '5740']\n",
      "['1595', '1763', '191', '2232', '2827']\n",
      "['1277', '1590', '3408', '3730', '4743', '5451', '6052', '6111', '768']\n",
      "['1309', '1445', '3408', '5034', '5608', '888']\n",
      "['1595', '1763', '191', '2232', '2409', '2548', '3579', '5063']\n",
      "['1088', '1403', '1413', '709', '976']\n",
      "['1005', '1086', '1763', '2232', '392', '4490', '5315']\n",
      "['1091', '3842', '4381', '5289', '5301']\n",
      "['2602', '3017', '3645', '4359', '453', '5233', '6088', '7218']\n",
      "['1091', '2159', '3842', '3874', '4381', '4810']\n",
      "['1091', '3842', '4381', '5028', '5301']\n",
      "['1091', '212', '3842', '3967', '4381', '5301']\n",
      "['3011', '3763', '4359', '5181', '7410']\n",
      "['1763', '191', '2232', '4801']\n",
      "['1091', '3842', '4381', '5300']\n",
      "['192', '2737', '2773', '3815', '5300', '5734']\n",
      "['1264', '5300', '6271']\n",
      "['1091', '2825', '3842', '4381', '5301']\n",
      "['1091', '3667', '3842', '4381', '4810', '5305']\n",
      "['1509', '1892', '223', '4075', '4320']\n",
      "['3011', '4359', '5181', '5989', '6260', '7410']\n",
      "['1595', '1763', '2232', '2827']\n",
      "['1442', '1837', '2735', '5300']\n",
      "['1565', '1836', '239', '2871', '3156', '5300']\n",
      "['217', '3011', '5181', '5551', '5859', '616', '7410']\n",
      "['1019', '3011', '4359', '5181', '7410']\n",
      "['1381', '2744', '2836', '2897', '4036', '5300', '5383']\n",
      "['2871', '3810', '3892', '5300', '990']\n",
      "['1595', '191', '2232', '2415', '2563', '2754']\n",
      "['1595', '1763', '191', '2232', '2827', '4801']\n",
      "['1442', '1837', '192', '2735', '5300', '6569', '720']\n",
      "['1005', '1730', '2232', '2825', '4490']\n",
      "['1091', '3291', '3842', '4381']\n",
      "['1595', '191', '2232', '2415', '2563', '2754', '3577']\n",
      "['1277', '2560', '4743', '5740', '6052', '6111', '6569']\n",
      "['1375', '2611', '2755', '2825', '5696', '632']\n",
      "['3874', '50', '5287', '5383', '5988']\n",
      "['1445', '192', '3408', '5034', '5608', '888', '946']\n",
      "['3842', '4080', '4381', '5301']\n",
      "['1091', '2125', '3291', '3842', '4381']\n",
      "['1595', '1763', '191', '2232', '2827']\n",
      "['1929', '4256', '5034', '5356', '5651']\n",
      "['1233', '1277', '1570', '2958', '2965', '5300']\n",
      "['3011', '4359', '5181', '5860', '6260', '7410']\n",
      "['1445', '3191', '5034', '5608', '888']\n",
      "['1091', '2159', '3842', '4108', '4381']\n",
      "['2871', '2897', '3810', '5300', '990']\n",
      "['13', '2920', '3409', '4353', '5651']\n",
      "['1277', '1590', '3730', '4743', '5740', '6052', '768']\n",
      "['1277', '1445', '5451', '5740', '6052', '6111']\n",
      "['1091', '3292', '3842', '4381']\n",
      "['1091', '371', '3842', '4165', '4381', '5300']\n",
      "['1091', '1741', '1884', '3842', '4381', '5301']\n",
      "['191', '2081', '2739', '2985', '3139', '5283', '5740']\n",
      "['2271', '4045', '5235', '7410', '8433']\n",
      "['1595', '191', '2232', '2415', '2563', '2754']\n",
      "['3011', '4359', '5181', '5709', '7410']\n",
      "['1744', '2069', '4381', '5300', '970']\n",
      "['1445', '1596', '1929', '3408', '4291', '5034', '5608', '619']\n",
      "['4381', '5301', '5751']\n",
      "['1005', '1086', '2232', '2723', '4490']\n",
      "['1277', '5451', '5740', '6052', '6569', '842']\n",
      "['2081', '4717', '5300']\n",
      "['1091', '3842', '3946', '4381', '5300', '5301']\n",
      "['1442', '1729', '2718', '3579', '5740']\n",
      "['1644', '1763', '191', '2232', '3191', '693']\n",
      "['1091', '3842', '4381', '5301']\n",
      "['1595', '191', '2232', '2827', '3579', '693']\n",
      "['3645', '4005', '4359', '5235', '7410']\n",
      "['3139', '5740', '5768', '6004']\n",
      "['1091', '1670', '3842', '4381', '5301']\n",
      "['1277', '4743', '6052', '6111', '6569']\n",
      "['1277', '1442', '1570', '2965', '4227', '5300']\n",
      "['1085', '2232', '2723', '4490', '862', '922']\n",
      "['3292', '336', '3594', '6099']\n",
      "['1091', '3842', '4381', '5301']\n",
      "['1091', '3842', '4381', '4921']\n",
      "['1255', '3011', '4359', '5181', '6260', '7410']\n",
      "['1524', '1763', '191', '2232', '2396', '5581']\n",
      "['1091', '3842', '4381', '5300']\n",
      "['1445', '5034', '5047', '5300', '5369']\n",
      "['1091', '3842', '3844', '4381', '5301']\n",
      "['1091', '30', '3842', '3952', '4381', '4488']\n",
      "['1772', '2729', '3568', '5018', '5300']\n",
      "['1091', '2692', '3282', '3842', '4381']\n",
      "['1091', '3842', '4381', '5301', '5303']\n",
      "['1264', '1442', '2069', '2081', '4381', '5300']\n",
      "['1091', '3842', '4381', '5301', '5303']\n",
      "['1284', '1442', '2735', '5300', '6039']\n",
      "['1005', '1763', '191', '2232', '2563', '2792', '4839']\n",
      "['1091', '3790', '3842', '4381', '5301']\n",
      "['2884', '3057', '4039', '5287']\n",
      "['1929', '3191', '3308', '4810', '6322']\n",
      "['195', '4408', '5287', '5887', '5956', '6192']\n",
      "['1091', '3842', '4381', '5301']\n",
      "['1091', '3842', '4381', '5300']\n",
      "['1091', '3842', '3855', '3946', '4381', '5966']\n",
      "['1309', '1524', '1595', '1763', '2232', '2827', '3774', '525']\n",
      "['1091', '2376', '3842', '4381', '4422', '5298']\n",
      "['1595', '191', '2232', '2827', '619', '693']\n",
      "['191', '2232', '2723', '2827', '3409', '4081']\n",
      "['1091', '2545', '3842', '4381', '5300']\n",
      "['1091', '3842', '4381', '4810']\n",
      "['1252', '1445', '2525', '3408', '3579', '4160', '5034', '5608', '888']\n",
      "['2884', '3874', '4039', '468', '5234', '5287']\n",
      "['1091', '2159', '3842', '4381', '4810']\n",
      "['1091', '3842', '4381', '5301']\n",
      "['2428', '3811', '5300', '5383', '720', '893']\n",
      "['1277', '1997', '5734', '5739', '5740', '6052']\n",
      "['1123', '2095', '2850', '4109', '4320', '4324']\n",
      "['2232', '2563', '2723', '4490', '862', '922']\n",
      "['1595', '1763', '191', '2232', '2827']\n",
      "['1005', '1086', '1763', '2232', '4490']\n",
      "['1091', '3790', '3842', '4381']\n",
      "['1091', '3842', '4381', '5028']\n",
      "['1091', '3842', '4381', '5300', '5301']\n"
     ]
    }
   ],
   "source": [
    "for row in science_data_pd.itertuples():\n",
    "    print(row[4])"
   ]
  },
  {
   "cell_type": "code",
   "execution_count": 284,
   "id": "a07d8636",
   "metadata": {},
   "outputs": [
    {
     "data": {
      "text/plain": [
       "1"
      ]
     },
     "execution_count": 284,
     "metadata": {},
     "output_type": "execute_result"
    }
   ],
   "source": [
    "len(set(['1755', '1854', '2211', '5252', '5369', '5608', '619']).intersection(natural_and_applied_sciences['3941']))"
   ]
  },
  {
   "cell_type": "code",
   "execution_count": 293,
   "id": "be0c5c8e",
   "metadata": {},
   "outputs": [],
   "source": [
    "def prepare_dataset(data_pd):\n",
    "    categories = ['3949', '3952', '3941', '3946', '6382']\n",
    "    categories_distribution = {'3949': 0, '3952':0, '3941':0, '3946':0, '6382':0}\n",
    "    number_of_categories = 5\n",
    "    multilabel_documents = 0\n",
    "    \n",
    "    for row in data_pd.itertuples():\n",
    "        doc_labels = []\n",
    "        for category in categories:\n",
    "            common_categories = set(row[4]).intersection(natural_and_applied_sciences[category]) \n",
    "#             print(common_categories)\n",
    "            if len(common_categories)!=0:\n",
    "                doc_labels.append(category)\n",
    "                categories_distribution[category] += 1\n",
    "        if len(doc_labels)!=1:\n",
    "            multilabel_documents += 1\n",
    "        \n",
    "            \n",
    "    print(multilabel_documents)\n",
    "    print(categories_distribution)"
   ]
  },
  {
   "cell_type": "code",
   "execution_count": 294,
   "id": "20691987",
   "metadata": {},
   "outputs": [
    {
     "name": "stdout",
     "output_type": "stream",
     "text": [
      "44396\n",
      "{'3949': 46, '3952': 17, '3941': 285, '3946': 319, '6382': 5}\n"
     ]
    }
   ],
   "source": [
    "prepare_dataset(train_data_pd)"
   ]
  },
  {
   "cell_type": "code",
   "execution_count": 295,
   "id": "2f75d1e2",
   "metadata": {},
   "outputs": [],
   "source": [
    "test_data_pd = pd.DataFrame(test_data)"
   ]
  },
  {
   "cell_type": "code",
   "execution_count": 296,
   "id": "be2f6d2f",
   "metadata": {},
   "outputs": [
    {
     "name": "stdout",
     "output_type": "stream",
     "text": [
      "5929\n",
      "{'3949': 2, '3952': 3, '3941': 31, '3946': 43, '6382': 2}\n"
     ]
    }
   ],
   "source": [
    "prepare_dataset(test_data_pd)"
   ]
  },
  {
   "cell_type": "code",
   "execution_count": 297,
   "id": "013d7c91",
   "metadata": {},
   "outputs": [],
   "source": [
    "validation_data_pd = pd.DataFrame(validation_data)"
   ]
  },
  {
   "cell_type": "code",
   "execution_count": 298,
   "id": "10c777c7",
   "metadata": {},
   "outputs": [
    {
     "name": "stdout",
     "output_type": "stream",
     "text": [
      "5929\n",
      "{'3949': 8, '3952': 2, '3941': 37, '3946': 34, '6382': 0}\n"
     ]
    }
   ],
   "source": [
    "prepare_dataset(validation_data_pd)"
   ]
  },
  {
   "cell_type": "code",
   "execution_count": 42,
   "id": "039d54db",
   "metadata": {},
   "outputs": [
    {
     "data": {
      "text/html": [
       "<div>\n",
       "<style scoped>\n",
       "    .dataframe tbody tr th:only-of-type {\n",
       "        vertical-align: middle;\n",
       "    }\n",
       "\n",
       "    .dataframe tbody tr th {\n",
       "        vertical-align: top;\n",
       "    }\n",
       "\n",
       "    .dataframe thead th {\n",
       "        text-align: right;\n",
       "    }\n",
       "</style>\n",
       "<table border=\"1\" class=\"dataframe\">\n",
       "  <thead>\n",
       "    <tr style=\"text-align: right;\">\n",
       "      <th></th>\n",
       "      <th>title</th>\n",
       "      <th>id</th>\n",
       "    </tr>\n",
       "  </thead>\n",
       "  <tbody>\n",
       "    <tr>\n",
       "      <th>1057</th>\n",
       "      <td>health certificate</td>\n",
       "      <td>5369</td>\n",
       "    </tr>\n",
       "  </tbody>\n",
       "</table>\n",
       "</div>"
      ],
      "text/plain": [
       "                   title    id\n",
       "1057  health certificate  5369"
      ]
     },
     "execution_count": 42,
     "metadata": {},
     "output_type": "execute_result"
    }
   ],
   "source": [
    "eurovoc_pd[eurovoc_pd['id']=='5369']"
   ]
  },
  {
   "cell_type": "code",
   "execution_count": null,
   "id": "ddeeae00",
   "metadata": {},
   "outputs": [],
   "source": []
  }
 ],
 "metadata": {
  "kernelspec": {
   "display_name": "Python 3 (ipykernel)",
   "language": "python",
   "name": "python3"
  },
  "language_info": {
   "codemirror_mode": {
    "name": "ipython",
    "version": 3
   },
   "file_extension": ".py",
   "mimetype": "text/x-python",
   "name": "python",
   "nbconvert_exporter": "python",
   "pygments_lexer": "ipython3",
   "version": "3.9.5"
  }
 },
 "nbformat": 4,
 "nbformat_minor": 5
}
