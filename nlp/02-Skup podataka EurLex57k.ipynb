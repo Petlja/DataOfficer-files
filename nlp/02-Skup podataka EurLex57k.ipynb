{
 "cells": [
  {
   "cell_type": "markdown",
   "id": "29432899",
   "metadata": {},
   "source": [
    "# Скуп података EurLex57k"
   ]
  },
  {
   "cell_type": "markdown",
   "id": "f92af710",
   "metadata": {},
   "source": [
    "У овој секцији упознаћемо нешто детаљније скуп података **ЕurLex57k**.   \n",
    "> Скуп података ЕurLex57k је представљен на конференцији ACL 2019. године у раду\n",
    ">\n",
    "> Ilias Chalkidis et. al: Large-Scale Multi-Label Text Classification on EU Legislation\n",
    ">\n",
    "> Рад је доступан <a href='https://aclanthology.org/P19-1636/'> на овој </a> адреси. "
   ]
  },
  {
   "cell_type": "code",
   "execution_count": null,
   "id": "7d9f2d14",
   "metadata": {},
   "outputs": [],
   "source": []
  },
  {
   "cell_type": "markdown",
   "id": "d6b2e7a2",
   "metadata": {},
   "source": [
    "Скуп података **EurLex57k** представља колекцију од 57 хиљада докумената преузетих са платформе <a href='https://eur-lex.europa.eu/homepage.html'> EUR-lex </a>. Платформа EUR-lex је централна платформа преко које се са јавношћу деле званични документи Европске уније попут закона, међународних споразума, судских пракси, националних мера транспозиције и многих других типова правних докумената. Сваки од ових докумената је доступан на 24 званична језика Европске уније, али скуп података EurLex57k обједињује само верзије ових докумената на енглеском језику. \n",
    "\n",
    "Сваки документ скупа података EurLex57k има свој јединствени идентификатор, такозвани CELEX број. CELEX број се састоји из 4 дела: назнаке сектора којем документ припада, четвороцифрене године објављивања документа, дескриптора документа и броја документа. Сектора има укупно 12 и обележавају се бројевима од 0 до 9 или латиничним словима C и Е. Тако, на пример, сектору 9 припадају документа која се односе на парламентарна питања, а сектору 4 документа комплемнтарног законодавства. Дескриптор документа се састоји од једног или два слова са предефинисаним значењем. На пример, латинично слово *L* се односи на директиве, латинично слово *R* на регулативе, а латинично слово *D* на одлуке. Број документа се записује као четвороцифрени број и представља званични број, интерни број или датум публиковања. Постоје и нека одступања од ових правила именовања условљена верзионисањима и коректурама докумената. Више о CELEX бројевима се може прочитати на <a href='https://eur-lex.europa.eu/content/help/faq/celex-number.html'> званичној страници </a> EUR-Lex платформе.\n",
    "\n",
    "Документи се састоје од заглавља које садржи наслов и име регулаторног тела, рецитала и тела документа које је најчешће организовано по члановима. На <a href='https://eur-lex.europa.eu/eli/reg/2016/679/oj'> овој адреси </a> можете видети пример једног документа EurLex57k колекције - Опште регулативе о заштити података (енгл. General Data Protection Regulation) којој одговара CELEX број 32016R0679."
   ]
  },
  {
   "cell_type": "code",
   "execution_count": null,
   "id": "652dfb96",
   "metadata": {},
   "outputs": [],
   "source": []
  },
  {
   "cell_type": "markdown",
   "id": "1c17d63f",
   "metadata": {},
   "source": [
    "Да бисмо учитали скуп података EurLex57k искористићемо функцију `loda_dataset` пакет `datasets` библиотеке *transformers*. Довољно је да приликом њеног позива наведемо аргумент `eurlex`. "
   ]
  },
  {
   "cell_type": "code",
   "execution_count": 1,
   "id": "cabb8da1",
   "metadata": {},
   "outputs": [],
   "source": [
    "from datasets import load_dataset"
   ]
  },
  {
   "cell_type": "code",
   "execution_count": 2,
   "id": "9c9b2fa5",
   "metadata": {},
   "outputs": [
    {
     "name": "stderr",
     "output_type": "stream",
     "text": [
      "No config specified, defaulting to: eurlex/eurlex57k\n",
      "Reusing dataset eurlex (C:\\Users\\v-anzece\\.cache\\huggingface\\datasets\\eurlex\\eurlex57k\\1.1.0\\d2fdeaa4fcb5f41394d2ed0317c8541d7f9be85d2d601b9fa586c8b461bc3a34)\n"
     ]
    }
   ],
   "source": [
    "dataset = load_dataset('eurlex')"
   ]
  },
  {
   "cell_type": "markdown",
   "id": "29f3d4fd",
   "metadata": {},
   "source": [
    "Учитани скуп података, попут других скупова који су припремљени за задатке машинског учења, садржи скуп за обучавање (енгл. training set), скуп за валидацију (енгл. validation set) и скуп за тестирање (енгл. test set). Подсетимо се да се скуп за обучавање користи за креирање модела, скуп за валидацију за одређивање вредности метапараметара модела и праћење тока обучавања, док се скуп за тестирање користи за оцену квалитета наученог модела. Сваки од ових скупова података можемо издвојити из учитаног скупа `dataset` коришћењем назнака скупа `train`, `validation` или `test`. "
   ]
  },
  {
   "cell_type": "code",
   "execution_count": 3,
   "id": "ce1730bd",
   "metadata": {},
   "outputs": [],
   "source": [
    "train_data = dataset['train']\n",
    "validation_data = dataset['validation']\n",
    "test_data = dataset['test']"
   ]
  },
  {
   "cell_type": "code",
   "execution_count": null,
   "id": "7e43f3d2",
   "metadata": {},
   "outputs": [],
   "source": []
  },
  {
   "cell_type": "markdown",
   "id": "6c74eacf",
   "metadata": {},
   "source": [
    "За анализирање скупа докумената искористићемо скуп за обучавање `train_data` који ћемо због лакеше манипулације трансформисати у структуру DataFrame пакета Pandas. "
   ]
  },
  {
   "cell_type": "code",
   "execution_count": 4,
   "id": "b72d69c4",
   "metadata": {},
   "outputs": [],
   "source": [
    "import pandas as pd"
   ]
  },
  {
   "cell_type": "code",
   "execution_count": 5,
   "id": "b2132352",
   "metadata": {},
   "outputs": [],
   "source": [
    "train_data_pd = pd.DataFrame(train_data)"
   ]
  },
  {
   "cell_type": "markdown",
   "id": "2507b119",
   "metadata": {},
   "source": [
    "Сада можемо проверити колико докумената садржи скуп за тренирање. Подсетимо се, у томе нам може помоћи својство `shape`."
   ]
  },
  {
   "cell_type": "code",
   "execution_count": 6,
   "id": "f18a5758",
   "metadata": {},
   "outputs": [
    {
     "data": {
      "text/plain": [
       "(45000, 4)"
      ]
     },
     "execution_count": 6,
     "metadata": {},
     "output_type": "execute_result"
    }
   ],
   "source": [
    "train_data_pd.shape"
   ]
  },
  {
   "cell_type": "markdown",
   "id": "9199ac4e",
   "metadata": {},
   "source": [
    "Скуп за тренирање садржи 45 хиљада докумената, а можемо видети да се сваки од докумената описује са 4 атрибута. Истражимо о којим атрибутима је реч тако што ћемо прочитати имена колона скупа за тренирање. Можемо искористити својство `columns`."
   ]
  },
  {
   "cell_type": "code",
   "execution_count": 7,
   "id": "6e25194f",
   "metadata": {},
   "outputs": [
    {
     "data": {
      "text/plain": [
       "Index(['celex_id', 'title', 'text', 'eurovoc_concepts'], dtype='object')"
      ]
     },
     "execution_count": 7,
     "metadata": {},
     "output_type": "execute_result"
    }
   ],
   "source": [
    "train_data_pd.columns"
   ]
  },
  {
   "cell_type": "markdown",
   "id": "00813a4f",
   "metadata": {},
   "source": [
    "У питању су атрибути `celex_id`, `title`, `text` и `eurovoc_concepts`. Атрибут `celex_id` представља поменути јединствени CELEX број документа. Атрибут `title` садржи наслов документа, а атрибут `text` његов садржај. Атрибут `eurovoc_concepts` представља низ мануелно придржених лабела-концепата које одређују категорије којима документ припада. Пре него ли детаљније упознамо смисао ових лабела, издвојимо један насумичан документ скупа и његове атрибуте. На пример, можемо издвојити документ који се налази на 15. позицији у скупy (опрез: нумерација у програмским језицима најчешће почиње од нуле!). "
   ]
  },
  {
   "cell_type": "code",
   "execution_count": 8,
   "id": "077b410f",
   "metadata": {},
   "outputs": [],
   "source": [
    "example_index = 14\n",
    "train_document_example = train_data_pd.iloc[example_index]"
   ]
  },
  {
   "cell_type": "code",
   "execution_count": 9,
   "id": "5dbea2a6",
   "metadata": {},
   "outputs": [
    {
     "name": "stdout",
     "output_type": "stream",
     "text": [
      "CELEX broj:  31994R0358\n"
     ]
    }
   ],
   "source": [
    "print('CELEX broj: ', train_document_example['celex_id'])"
   ]
  },
  {
   "cell_type": "code",
   "execution_count": 10,
   "id": "9ce6b5dd",
   "metadata": {},
   "outputs": [
    {
     "name": "stdout",
     "output_type": "stream",
     "text": [
      "Naslov dokumenta:  Commission Regulation (EC) No 358/94 of 17 February 1994 opening for 1994 and laying down detailed rules for the application of an import quota for live bovine animals weighing between 160 and 300 kilograms, originating in and coming from the Republic of Poland, the Republic of Hungary, the Czech Republic and the Slovak Republic\n",
      "\n"
     ]
    }
   ],
   "source": [
    "print('Naslov dokumenta: ', train_document_example['title'])"
   ]
  },
  {
   "cell_type": "code",
   "execution_count": 11,
   "id": "b0823a96",
   "metadata": {},
   "outputs": [
    {
     "name": "stdout",
     "output_type": "stream",
     "text": [
      "Sadržaj dokumenta:  COMMISSION REGULATION (EC) No 358/94 of 17 February 1994 opening for 1994 and laying down detailed rules for the application of an import quota for live bovine animals weighing between 160 and 300 kilograms, originating in and coming from the  Republic of Poland, the Republic of Hungary, the Czech Republic and the Slovak Republic\n",
      "THE COMMISSION OF THE EUROPEAN COMMUNITIES\n",
      ",\n",
      "Having regard to the Treaty establishing the European Community,\n",
      "Having regard to Council Regulation (EC) No 3491/93 of 13 December 1993 on certain procedures for applying the Europe Agreement establishing an association between the European Commuities and their Member States, of the one part, and the Republic of  Hungary (1) of the other part, and in particular Article 1 thereof,\n",
      "Having regard to Council Regulation (EC) No 3492/93 of 13 December 1993 of 13 December 1993 on certain procedures for applying the Europe Agreement establishing an association between the European Communities and their Member States, of the one part,  and the Republic of Poland (2), of the other part, and in particular Article 1 thereof,\n",
      "Having regard to Council Regulation (EEC) No 520/92 of 27 February 1992 on certain procedures for applying the Interim Agreement on trade and trade-related matters between the Euorpean Economic Community and the European Coal and Steel Community, of the  one part, and the Czech and Slovak Federal Republic (3), of the other part, as amended by Regulation (EEC) No 2235/93 (4), and in particular Article 1 thereof,\n",
      "Having regard to Council Regulation (EEC) No 805/68 of 27 June 1968 on the common organization of the market in beef and veal (5), as last amended by Regulation (EC) No 3611/93 (6), and in particular Article 15 (2) thereof,\n",
      "Whereas the Association Agreements between the European Economic Community and the European Coal and Steel Community, of the one part, and the Republic of Hungary and the Republic of Poland, of the other part, entered into force on 1 January 1994;  whereas, pending the entry into force of the Association Agreement concluded with the former Czech and Slovak Federal Republic, the Community has decided to apply with effect from 1 March 1992 an interim agreement concluded with the aforesaid country,  hereinafter referred to as 'Interim Agreement';\n",
      "Whereas the Czech and Slovak Federal Republic was dissolved with effect from 1 January 1993; whereas, as successor States to the Czech and Slovak Federal Repbulic, the Czech Republic and the Slovak Republic will continue to assume all obligations  arising from all agreements between the Czecvh and Slovak Federal Republic and the European Communities, and in particular from the Interim Agreement; whereas the said Interim Agreement was amended by additional protocols and by supplementary protocols  concluded with the Czech Republic and the Slovak Republic;\n",
      "Whereas, in view of the trade concessions provided for in the abovementioned Agreements with respect to agricultural products, a Community tariff quota for imports of bovine animals weighing between 160 and 300 kilograms originating in and coming from  Poland, Hungary, the Slovak Republic or the Czech Republic at a reduced 25 % levy should be opened for 1994;\n",
      "Whereas that quota for 1994 amounts to 59 400 head taking into account the estimate of 198 000 head for 1994 of young male bovine animals intended for fattening;\n",
      "Whereas while recalling the provisions of the Interim Agreements intended to guarantee the origin of the product, the management of the system should be ensured through import licences; whereas, with that in mind, it would be appropriate to define, in  particular, the detailed rules for submission of applications, as well as the information which must be included on the applications and licences, notwithstanding certain provisions of Commission Regulation (EEC) No 3719/88 of 16 November 1988 laying  down common detailed rules for the application of the system of import and export licences and advance fixing certificates for agricultural products (7), as last amended by Regulation (EC) No 3519/93 (8), and Commission Regulation (EEC) No 2377/80 of 4  September 1980 on special detailed rules for the application of the system of import and export licences in the beef and veal sector (9), as last amended by Regulation (EEC) No 2867/93 (10); whereas provision should also be made for the licences to be  issued after a delay for consideration and, where necessary, with the application of a single percentage reduction;\n",
      "Whereas the measures provided for in this Regulation are in accordance with the opinion of the Management Committee for Beef and Veal,\n",
      "1. A tariff quota for imports of live bovine animals falling within CN codes 0102 90 41 or 0102 90 43 originating in and coming from Poland, Hungary, the Slovak Republic or the Czech Republic is hereby opened for 1994.\n",
      "The total volume of the quota shall be 59 400 head.\n",
      "2. The reduced import levy applicable to animals under this quota shall be 25 % of the full levy applicable on the date of acceptance of the declaration of release for free circulation.\n",
      "In order to qualify for the quota referred to in Article 1:\n",
      "(a) applicants for import licences must be natural or legal persons who are entered in the official register of a Member State and who, at the time applications are submitted, must prove to the satisfaction of the competent authorities of the Member  State concerned that they have imported and/or exported, during 1993, at least 50 animals falling within CN code 0102 90;\n",
      "(b) licence applications may be presented only in the Member State in which the applicant is registered;\n",
      "(c) licence applications shall: relate to a number equal to or greater than 50 head and relate to a quantity not exceeding 10 % of the quantity available.\n",
      "Where applications for import licences exceed this quantity, they shall only be considered within the limits of the said quantity;\n",
      "(d) Sections 7 and 8 of licence applications and licences shall show the countries referred to in Article 1 (1); licences shall carry with them an obligation to import from one or more of the countries indicated;\n",
      "(e) Section 20 of licence applications and licences shall show one of the following:\n",
      "Reglamento (CE) no 358/94,\n",
      "Forordning (EF) nr. 358/94,\n",
      "Verordnung (EG) Nr. 358/94,\n",
      "Kanonismos (EK) arith. 358/94,\n",
      "Regulation (EC) No 358/94,\n",
      "Règlement (CE) no 358/94,\n",
      "Regolamento (CE) n. 358/94,\n",
      "Verordening (EG) nr. 358/94,\n",
      "Regulamento (CE) nº 358/94.\n",
      "(f) Section 24 of licences shall contain one of the following statements:\n",
      "Exacción reguladora, tal como establece el Reglamento (CE) no 358/94,\n",
      "Importafgift i henhold til forordning (EF) nr. 358/94,\n",
      "Abschoepfung gemaess Verordnung (EG) Nr. 358/94,\n",
      "I eisfora opos provlepetai apo ton kanonismo (EK) arith. 358/94,\n",
      "Levy as provided for in Regulation (EC) No 358/94,\n",
      "Prélèvement comme prévu par le règlement (CE) no 358/94,\n",
      "Prelievo a norma del regolamento (CE) n. 358/94,\n",
      "Heffing overeenkomstig Verordening (EG) nr. 358/94,\n",
      "Direito nivelador conforme estabelecido no Regulamento (CE) nº 358/94.\n",
      "(g) at the time of acceptance of the declaration of release for free circulation, importers shall undertake to inform the competent authorities of the importing Member State, not later than one month after the date of import:\n",
      "- of the number of animals imported,\n",
      "- of the origin of the animals.\n",
      "The authorities shall forward this information to the Commission before the beginning of each month.\n",
      "1. Licence applications may be lodged only from 28 February to 4 March 1994.\n",
      "2. Where the same applicant lodges more than one application, all applications from that person shall be inadmissible.\n",
      "3. The Member States shall notify the Commission of the applications lodged not later than 17 March 1994. Such notification shall comprise a list of applicants and quantities applied for.\n",
      "All notifications, including notifications of 'nil' applications, shall be made by telex or fax, drawn up on the model in the Annex to this Regulation in the case where applications have been made.\n",
      "4. The Commission shall decide to what extent quantities may be awarded in respect of licence applications. If the quantities in respect of which licences have been applied for exceed the quantities available, the Commission shall fix a single  percentage reduction in the quantities applied for.\n",
      "5. Subject to a decision to accept applications by the Commission, licences shall be issued at the earliest opportunity.\n",
      "6. Import licences shall be issued only for a number equal to or greater than 50 head.\n",
      "If, because of the nubmers applied for, the percentage reduction results in fewer than 50 head per import licence, the Member States shall, by drawing lots, allocate licences covering 50 head.\n",
      "Member States shall inform the Commission of the number of animals in respect of which licences have not been issued.\n",
      "7. Licences issued shall be valid throughout the Community.\n",
      "Without prejudice to the provisions of this Regulation, Regulations (EEC) No 3719/88 and (EEC) No 2377/80 shall apply.\n",
      "However, in the case of quantities imported under the terms of Article 8 (4) of Regulation (EEC) No 3719/88, the levy shall be collected in full in respect of quantities in excess of those stated on the import licence.\n",
      "1. Notwithstanding Article 9 (1) of Regulation (EEC) No 3719/88, import licences issued pursuant to this Regulation shall not be transferable.\n",
      "2. Notwithstanding Article 4 (c) of Commission Regulation (EEC) No 2377/80, the term of validity of import licences expires on 31 December 1994.\n",
      "The animals shall be put into free circulation on the presentation of a movement certificate EUR 1 issued by the exporting country in accordance with Protocol 4 annexed to the Interim Agreements.\n",
      "1. Each animal imported under the arrangements referred to in Article 1 shall be identified by either:\n",
      "- an indelible tattoo, or\n",
      "- an official earmark or an earmark officially approved by the Member State on at least one of its ears.\n",
      "2. The said tattoo or marks shall be so designed as to enable the date when the animal was put into free circulation and the identity of the importer to be established, by means of a record made when the animal is put into free circulation.\n",
      "This Regulation shall enter into force on the third day following its publication in the Official Journal of the European Communities.\n",
      "This Regulation shall be binding in its entirety and directly applicable in all Member States.\n"
     ]
    }
   ],
   "source": [
    "print('Sadržaj dokumenta: ', train_document_example['text'])"
   ]
  },
  {
   "cell_type": "code",
   "execution_count": 12,
   "id": "49ef0cf2",
   "metadata": {},
   "outputs": [
    {
     "name": "stdout",
     "output_type": "stream",
     "text": [
      "EuroVoc labele dokumenta:  ['1309', '2300', '3591', '5034']\n"
     ]
    }
   ],
   "source": [
    "print('EuroVoc labele dokumenta: ', train_document_example['eurovoc_concepts'])"
   ]
  },
  {
   "cell_type": "code",
   "execution_count": null,
   "id": "1aed2e04",
   "metadata": {},
   "outputs": [],
   "source": []
  },
  {
   "cell_type": "markdown",
   "id": "aa3f407f",
   "metadata": {},
   "source": [
    "Да би колекција докумената којом располаже Европска унија могла систематично да се организује, одржава и претражује, сваком од докумената је мануелно придружено неколико лабела које одређују којим то категоријама документ припада. За те сврхе је од стране Европске уније креиран и попис свих релевантних одредница, такозвани терминолошки речник или тезаурус, који се зове **EuroVoc**. Овај тезаурус покрива све сегменте деловања Европске уније (политику, међународне односе, економију, образовање, науку, агрикултуру, итд.) и тренутно садржи 7, 201 лабела-одредница на свим званичним језицима Европске уније и, додатно, за албански, македонски и српски језик. На <a href='https://op.europa.eu/en/web/eu-vocabularies/dataset/-/resource?uri=http://publications.europa.eu/resource/dataset/eurovoc'> званичној адреси </a> се може прочитати више о самом тезаурусу, кaо и претраживати колекција докумената у складу са овако дефинисаним одредницама. "
   ]
  },
  {
   "cell_type": "markdown",
   "id": "9bbb1005",
   "metadata": {},
   "source": [
    "Да бисмо истражили организацију EuroVoc теазауруса и разумели значење одредница које су придружене нашем документу, преузели смо верзију тезауруса у формату JSONL са <a href='https://archive.org/download/EURLEX57K/eurovoc_concepts.jsonl'> ове адресе </a> и сачували је под именом *eurovoc_concepts.jsonl* у директоријуму *data*. Следећа функција *eurovoc_from_jsonl_to_pd* ће нам помоћи да на основу ове датотеке креирамо структуру DataFrame која омогућава лакши рад.  "
   ]
  },
  {
   "cell_type": "markdown",
   "id": "6d2bfe23",
   "metadata": {},
   "source": [
    "Формат датотеке JSONL (енгл. JSON line) представља формат датотеке у којем је свака линија записана у JSON формату. Овај формат сте упознали у уводној секцији о програмском језику Python. "
   ]
  },
  {
   "cell_type": "code",
   "execution_count": 13,
   "id": "fbb94f7f",
   "metadata": {},
   "outputs": [],
   "source": [
    "import json"
   ]
  },
  {
   "cell_type": "code",
   "execution_count": 14,
   "id": "9bd8ae20",
   "metadata": {},
   "outputs": [],
   "source": [
    "def eurovoc_from_jsonl_to_pd(path='data/eurovoc_concepts.jsonl'):\n",
    "    \n",
    "    # kreiramo strukturu DataFrame u koju cemo smestiti identifikatore i imena koncepata\n",
    "    eurovoc_concepts_pd = pd.DataFrame(columns={'id', 'title'})\n",
    "    \n",
    "    # pripremamo datoteku za citanje\n",
    "    with open(path, 'r') as eurovoc_file:\n",
    "        \n",
    "        # citamo liniju po liniju datoteke\n",
    "        for eurovoc_line in eurovoc_file.readlines():\n",
    "            \n",
    "            # procitanu liniju prebacujemo iz JSON formata u recnik\n",
    "            eurovoc_concept = json.loads(eurovoc_line)\n",
    "            \n",
    "            # dodajemo red sa odgovarajucim podacima recnika kreiranoj DataFrame strukturi\n",
    "            eurovoc_concepts_pd = eurovoc_concepts_pd.append({\n",
    "                'id': eurovoc_concept['id'], \n",
    "                'title': eurovoc_concept['title']\n",
    "            }, ignore_index=True)\n",
    "            \n",
    "    # kreiranu i popunjenu strukturu vracamo kao rezultat funkcije       \n",
    "    return eurovoc_concepts_pd"
   ]
  },
  {
   "cell_type": "code",
   "execution_count": 15,
   "id": "13543a57",
   "metadata": {},
   "outputs": [],
   "source": [
    "eurovoc_pd = eurovoc_from_jsonl_to_pd()"
   ]
  },
  {
   "cell_type": "markdown",
   "id": "5fa01434",
   "metadata": {},
   "source": [
    "Пре свега, можемо потврдити да тезаурус EuroVoc садржи јако велики број лабела-одредница, чак 7, 201!"
   ]
  },
  {
   "cell_type": "code",
   "execution_count": 16,
   "id": "c379dd1d",
   "metadata": {},
   "outputs": [
    {
     "data": {
      "text/plain": [
       "(7201, 2)"
      ]
     },
     "execution_count": 16,
     "metadata": {},
     "output_type": "execute_result"
    }
   ],
   "source": [
    "eurovoc_pd.shape"
   ]
  },
  {
   "cell_type": "markdown",
   "id": "b9cb61c7",
   "metadata": {},
   "source": [
    "Првих 10 одредница тезауруса можемо прочитати користећи функцију `head` са аргументом 10."
   ]
  },
  {
   "cell_type": "code",
   "execution_count": 17,
   "id": "b3301dfd",
   "metadata": {},
   "outputs": [
    {
     "data": {
      "text/html": [
       "<div>\n",
       "<style scoped>\n",
       "    .dataframe tbody tr th:only-of-type {\n",
       "        vertical-align: middle;\n",
       "    }\n",
       "\n",
       "    .dataframe tbody tr th {\n",
       "        vertical-align: top;\n",
       "    }\n",
       "\n",
       "    .dataframe thead th {\n",
       "        text-align: right;\n",
       "    }\n",
       "</style>\n",
       "<table border=\"1\" class=\"dataframe\">\n",
       "  <thead>\n",
       "    <tr style=\"text-align: right;\">\n",
       "      <th></th>\n",
       "      <th>title</th>\n",
       "      <th>id</th>\n",
       "    </tr>\n",
       "  </thead>\n",
       "  <tbody>\n",
       "    <tr>\n",
       "      <th>0</th>\n",
       "      <td>international affairs</td>\n",
       "      <td>3474</td>\n",
       "    </tr>\n",
       "    <tr>\n",
       "      <th>1</th>\n",
       "      <td>school legislation</td>\n",
       "      <td>1597</td>\n",
       "    </tr>\n",
       "    <tr>\n",
       "      <th>2</th>\n",
       "      <td>union representative</td>\n",
       "      <td>3363</td>\n",
       "    </tr>\n",
       "    <tr>\n",
       "      <th>3</th>\n",
       "      <td>data processing</td>\n",
       "      <td>4488</td>\n",
       "    </tr>\n",
       "    <tr>\n",
       "      <th>4</th>\n",
       "      <td>barge</td>\n",
       "      <td>2316</td>\n",
       "    </tr>\n",
       "    <tr>\n",
       "      <th>5</th>\n",
       "      <td>Lithuania</td>\n",
       "      <td>5709</td>\n",
       "    </tr>\n",
       "    <tr>\n",
       "      <th>6</th>\n",
       "      <td>blue-veined cheese</td>\n",
       "      <td>1107</td>\n",
       "    </tr>\n",
       "    <tr>\n",
       "      <th>7</th>\n",
       "      <td>construction policy</td>\n",
       "      <td>2475</td>\n",
       "    </tr>\n",
       "    <tr>\n",
       "      <th>8</th>\n",
       "      <td>petrology</td>\n",
       "      <td>3294</td>\n",
       "    </tr>\n",
       "    <tr>\n",
       "      <th>9</th>\n",
       "      <td>cost of borrowing</td>\n",
       "      <td>278</td>\n",
       "    </tr>\n",
       "  </tbody>\n",
       "</table>\n",
       "</div>"
      ],
      "text/plain": [
       "                   title    id\n",
       "0  international affairs  3474\n",
       "1     school legislation  1597\n",
       "2   union representative  3363\n",
       "3        data processing  4488\n",
       "4                  barge  2316\n",
       "5              Lithuania  5709\n",
       "6     blue-veined cheese  1107\n",
       "7    construction policy  2475\n",
       "8              petrology  3294\n",
       "9      cost of borrowing   278"
      ]
     },
     "execution_count": 17,
     "metadata": {},
     "output_type": "execute_result"
    }
   ],
   "source": [
    "eurovoc_pd.head(10)"
   ]
  },
  {
   "cell_type": "markdown",
   "id": "b01e0f43",
   "metadata": {},
   "source": [
    "Kао што смо очекивали свака лабела-одредница има свој јединствени идентификатор представљен атрибутом `id` и своје име представљено атрибутом `title`. "
   ]
  },
  {
   "cell_type": "markdown",
   "id": "0c530695",
   "metadata": {},
   "source": [
    "Пример документа из скупа за обучавање је имао придружене лабеле-одреднице чији су идентификатори ['1309', '2300', '3591', '5034'], па сада можемо видети и о којим одредницама је реч. Техничка напомена је да се у структури `eurovoc_pd` идентификатори представљају као ниске, чак и ако не видимо наводнике око њих (ова тврдња се може проверити извршавањем функције  `eurovoc_pd.info()` и праћењем типова колона)."
   ]
  },
  {
   "cell_type": "code",
   "execution_count": 18,
   "id": "04588d2a",
   "metadata": {},
   "outputs": [
    {
     "data": {
      "text/plain": [
       "470                       import\n",
       "747                       cattle\n",
       "3509    quantitative restriction\n",
       "5007               third country\n",
       "Name: title, dtype: object"
      ]
     },
     "execution_count": 18,
     "metadata": {},
     "output_type": "execute_result"
    }
   ],
   "source": [
    "eurovoc_pd[eurovoc_pd['id'].isin(['1309', '2300', '3591', '5034'])]['title']"
   ]
  },
  {
   "cell_type": "code",
   "execution_count": null,
   "id": "fcdb18a8",
   "metadata": {},
   "outputs": [],
   "source": []
  },
  {
   "cell_type": "markdown",
   "id": "400b3335",
   "metadata": {},
   "source": [
    "Пошто ће нам очитавање имена одредница често бити потребно, можемо написати и функцију која за задати низ идентификатора одредница враћа листу њихових имена.  "
   ]
  },
  {
   "cell_type": "code",
   "execution_count": 19,
   "id": "cba5ea5b",
   "metadata": {},
   "outputs": [],
   "source": [
    "def concept_names(eurovoc_pd, eurovoc_concepts_ids):\n",
    "    return eurovoc_pd[eurovoc_pd['id'].isin(eurovoc_concepts_ids)]['title'].values.tolist()"
   ]
  },
  {
   "cell_type": "markdown",
   "id": "55d9f0e3",
   "metadata": {},
   "source": [
    "Проверимо још једном како изгледа резултат позива функције на примеру документа из скупа за обучавање. "
   ]
  },
  {
   "cell_type": "code",
   "execution_count": 20,
   "id": "fb4bec08",
   "metadata": {},
   "outputs": [
    {
     "data": {
      "text/plain": [
       "['import', 'cattle', 'quantitative restriction', 'third country']"
      ]
     },
     "execution_count": 20,
     "metadata": {},
     "output_type": "execute_result"
    }
   ],
   "source": [
    "concept_names(eurovoc_pd, train_document_example['eurovoc_concepts'])"
   ]
  },
  {
   "cell_type": "code",
   "execution_count": null,
   "id": "05267826",
   "metadata": {},
   "outputs": [],
   "source": []
  },
  {
   "cell_type": "markdown",
   "id": "e13f0ae0",
   "metadata": {},
   "source": [
    "Даље можемо истражити колико концепата-лабела у просеку имамо по документу у скупу за обучавање. "
   ]
  },
  {
   "cell_type": "code",
   "execution_count": 21,
   "id": "4c6b03d1",
   "metadata": {},
   "outputs": [],
   "source": [
    "number_of_concepts_per_document = train_data_pd['eurovoc_concepts'].apply(lambda concepts: len(concepts)).values"
   ]
  },
  {
   "cell_type": "code",
   "execution_count": 22,
   "id": "f7411f71",
   "metadata": {},
   "outputs": [
    {
     "name": "stdout",
     "output_type": "stream",
     "text": [
      "Prosečan broj koncepata-labela po dokumentu je:  5.073822222222222\n"
     ]
    }
   ],
   "source": [
    "average_number_of_concepts = number_of_concepts_per_document.mean()\n",
    "print('Prosečan broj koncepata-labela po dokumentu je: ', average_number_of_concepts)"
   ]
  },
  {
   "cell_type": "code",
   "execution_count": null,
   "id": "cf1e62bf",
   "metadata": {},
   "outputs": [],
   "source": []
  },
  {
   "cell_type": "markdown",
   "id": "27de1eac",
   "metadata": {},
   "source": [
    "Можемо издвојити и документ којем је придружен највећи број концепата-лабела. "
   ]
  },
  {
   "cell_type": "code",
   "execution_count": 23,
   "id": "5b17d49d",
   "metadata": {},
   "outputs": [],
   "source": [
    "document_index = number_of_concepts_per_document.argmax()"
   ]
  },
  {
   "cell_type": "code",
   "execution_count": 24,
   "id": "0ff57032",
   "metadata": {},
   "outputs": [],
   "source": [
    "train_document_with_max_concepts = train_data_pd.iloc[document_index]"
   ]
  },
  {
   "cell_type": "code",
   "execution_count": 25,
   "id": "85d67a4f",
   "metadata": {},
   "outputs": [
    {
     "name": "stdout",
     "output_type": "stream",
     "text": [
      "Naslov dokumenta sa najviše koncepata je:  2013/266/EU: Commission Implementing Decision of 5 June 2013 determining the date from which the Visa Information System (VIS) is to start operations in a sixth and a seventh region\n",
      "\n"
     ]
    }
   ],
   "source": [
    "print('Naslov dokumenta sa najviše koncepata je: ', train_document_with_max_concepts['title'])"
   ]
  },
  {
   "cell_type": "code",
   "execution_count": 26,
   "id": "97fbfaa1",
   "metadata": {},
   "outputs": [
    {
     "name": "stdout",
     "output_type": "stream",
     "text": [
      "Broj koncepata pridruženih ovom dokumentu je:  26\n"
     ]
    }
   ],
   "source": [
    "print('Broj koncepata pridruženih ovom dokumentu je: ', len(train_document_with_max_concepts['eurovoc_concepts']))"
   ]
  },
  {
   "cell_type": "code",
   "execution_count": null,
   "id": "0bca6def",
   "metadata": {},
   "outputs": [],
   "source": []
  },
  {
   "cell_type": "markdown",
   "id": "7db9c92d",
   "metadata": {},
   "source": [
    "Ипак, нису сви концепти-лабеле равноправно присутни. Даље можемо издвојити концепте-лабеле и њихов број појављивања у скупу за обучавање. У томе нам може помоћи следећа функција. "
   ]
  },
  {
   "cell_type": "code",
   "execution_count": 27,
   "id": "d2151832",
   "metadata": {},
   "outputs": [],
   "source": [
    "import itertools"
   ]
  },
  {
   "cell_type": "code",
   "execution_count": 28,
   "id": "07cddd98",
   "metadata": {},
   "outputs": [],
   "source": [
    "def concepts_frequency(data_pd):\n",
    "    # listа svih koncepata koji se pojavljuju u celom skupu је inicijalno prazna\n",
    "    all_concepts = []\n",
    "    \n",
    "    # citamo red po red zadatog skupa podataka\n",
    "    # procitani red ce imati formu torke \n",
    "    for row in data_pd.itertuples():\n",
    "        \n",
    "        # iz reda izdvajamo listu koncepata - lista koncepata se nalazi na poziciji 4\n",
    "        # njoj prethodi indeks reda, CELEX broj, naslov dokumenta i sadrzaj dokumenta\n",
    "        # listu koncepata dodajemo na kraj liste svih koncepata\n",
    "        all_concepts.append(row[4])\n",
    "    \n",
    "    # kako lista svih koncepata predstavlja listu listi, ova naredba ce nam pomoci da dobijemo listu sa pojedinacnim konceptima\n",
    "    # na primer, ova naredba nam pomaze da od liste [[34, 21], [8, 9], [24]] dobijemo listu [34, 21, 8, 9, 24] \n",
    "    all_concepts_merged = list(itertools.chain(*all_concepts))\n",
    "\n",
    "    # izdvojene koncepte cemo smestiti u strukturu Series i pomocu njene funkcije value_counts brzo dobiti statistiku ponavljanja\n",
    "    all_concepts_statistics = pd.Series(all_concepts_merged).value_counts()\n",
    "    \n",
    "    # generisanu statistiku cemo vratiti kao rezultat funkcije\n",
    "    return all_concepts_statistics"
   ]
  },
  {
   "cell_type": "code",
   "execution_count": null,
   "id": "e253a5c9",
   "metadata": {},
   "outputs": [],
   "source": []
  },
  {
   "cell_type": "markdown",
   "id": "256495db",
   "metadata": {},
   "source": [
    "Позивом горње функције добијамо фреквенције концепата у скупу за обучавање. "
   ]
  },
  {
   "cell_type": "code",
   "execution_count": 29,
   "id": "b5f9105d",
   "metadata": {},
   "outputs": [],
   "source": [
    "train_data_concepts_frequency = concepts_frequency(train_data_pd)"
   ]
  },
  {
   "cell_type": "markdown",
   "id": "f88a1ab3",
   "metadata": {},
   "source": [
    "Даље, издвојимо 10 најчешће коришћених концепата."
   ]
  },
  {
   "cell_type": "code",
   "execution_count": 30,
   "id": "e651e492",
   "metadata": {},
   "outputs": [
    {
     "data": {
      "text/plain": [
       "1309    3645\n",
       "3568    3554\n",
       "1118    3005\n",
       "1605    3004\n",
       "693     2988\n",
       "2635    2959\n",
       "20      2796\n",
       "161     2271\n",
       "2300    2158\n",
       "2771    2152\n",
       "dtype: int64"
      ]
     },
     "execution_count": 30,
     "metadata": {},
     "output_type": "execute_result"
    }
   ],
   "source": [
    "train_data_concepts_frequency.head(10)"
   ]
  },
  {
   "cell_type": "markdown",
   "id": "9c682c51",
   "metadata": {},
   "source": [
    "Најчешће коришћени концепт има идентификатор 1309 и укупно 3, 645 појављивања. Њему одговара име *import*."
   ]
  },
  {
   "cell_type": "code",
   "execution_count": 31,
   "id": "6d4334a8",
   "metadata": {},
   "outputs": [
    {
     "data": {
      "text/plain": [
       "['import']"
      ]
     },
     "execution_count": 31,
     "metadata": {},
     "output_type": "execute_result"
    }
   ],
   "source": [
    "concept_names(eurovoc_pd, ['1309'])"
   ]
  },
  {
   "cell_type": "markdown",
   "id": "e4233eda",
   "metadata": {},
   "source": [
    "Имена свих 10 најчешће коришћених концепата можемо добити позивом функције `concept_names`."
   ]
  },
  {
   "cell_type": "code",
   "execution_count": 32,
   "id": "50177c14",
   "metadata": {},
   "outputs": [
    {
     "data": {
      "text/plain": [
       "['import',\n",
       " 'import price',\n",
       " 'originating product',\n",
       " 'fruit vegetable',\n",
       " 'pip fruit',\n",
       " 'award of contract',\n",
       " 'tariff quota',\n",
       " 'third country',\n",
       " 'citrus fruit',\n",
       " 'export refund']"
      ]
     },
     "execution_count": 32,
     "metadata": {},
     "output_type": "execute_result"
    }
   ],
   "source": [
    "concept_names(eurovoc_pd, train_data_concepts_frequency.head(10).index)"
   ]
  },
  {
   "cell_type": "code",
   "execution_count": null,
   "id": "df860ed6",
   "metadata": {},
   "outputs": [],
   "source": []
  },
  {
   "cell_type": "markdown",
   "id": "f76d1516",
   "metadata": {},
   "source": [
    "Концепти који се појављују барем 50 пута у скупу за обучавање се могу добити следећим блоком кода. "
   ]
  },
  {
   "cell_type": "code",
   "execution_count": 33,
   "id": "f263b7e3",
   "metadata": {},
   "outputs": [],
   "source": [
    "train_data_concpets_frequency_50 = train_data_concepts_frequency[train_data_concepts_frequency >= 50]"
   ]
  },
  {
   "cell_type": "markdown",
   "id": "bb44ed4c",
   "metadata": {},
   "source": [
    "Приметимо да ових концепата има значајно мање, свега 746."
   ]
  },
  {
   "cell_type": "code",
   "execution_count": 34,
   "id": "62dcb9fe",
   "metadata": {},
   "outputs": [
    {
     "data": {
      "text/plain": [
       "(746,)"
      ]
     },
     "execution_count": 34,
     "metadata": {},
     "output_type": "execute_result"
    }
   ],
   "source": [
    "train_data_concpets_frequency_50.shape"
   ]
  },
  {
   "cell_type": "code",
   "execution_count": null,
   "id": "a67d2e56",
   "metadata": {},
   "outputs": [],
   "source": []
  },
  {
   "cell_type": "markdown",
   "id": "6cddd477",
   "metadata": {},
   "source": [
    "### Задаци за вежбу:"
   ]
  },
  {
   "cell_type": "markdown",
   "id": "f7383b5a",
   "metadata": {},
   "source": [
    "1. Занимљиво је да сви документи скупа података EurLex57k припадају истом сектору. Откријте о ком сектору је реч! \n",
    "\n",
    "Помоћ: Информација о сектору којем документ припада одређена је почетним словом CELEX броја. "
   ]
  },
  {
   "cell_type": "code",
   "execution_count": 35,
   "id": "67b4e89d",
   "metadata": {},
   "outputs": [],
   "source": [
    "sectors = [0, 1, 2, 3, 4, 5, 6, 7, 8, 9, 'C', 'E']\n",
    "number_of_documents_per_sector = {\n",
    "    '0': 0,  \n",
    "    '1': 0, \n",
    "    '2': 0,\n",
    "    '3': 0,\n",
    "    '4': 0, \n",
    "    '5': 0, \n",
    "    '6': 0, \n",
    "    '7': 0, \n",
    "    '8': 0, \n",
    "    '9': 0, \n",
    "    'C': 0, \n",
    "    'E': 0\n",
    "}"
   ]
  },
  {
   "cell_type": "code",
   "execution_count": 36,
   "id": "f567887a",
   "metadata": {},
   "outputs": [],
   "source": [
    "for row in train_data_pd.itertuples():\n",
    "    sector = row[1][0]\n",
    "    number_of_documents_per_sector[sector] += 1"
   ]
  },
  {
   "cell_type": "code",
   "execution_count": 37,
   "id": "be1b766c",
   "metadata": {},
   "outputs": [
    {
     "data": {
      "text/plain": [
       "{'0': 0,\n",
       " '1': 0,\n",
       " '2': 0,\n",
       " '3': 45000,\n",
       " '4': 0,\n",
       " '5': 0,\n",
       " '6': 0,\n",
       " '7': 0,\n",
       " '8': 0,\n",
       " '9': 0,\n",
       " 'C': 0,\n",
       " 'E': 0}"
      ]
     },
     "execution_count": 37,
     "metadata": {},
     "output_type": "execute_result"
    }
   ],
   "source": [
    "number_of_documents_per_sector"
   ]
  },
  {
   "cell_type": "markdown",
   "id": "aed54280",
   "metadata": {},
   "source": [
    "Сви документи припадају сектору број 3 тј. сектору правних актова (енгл. legal acts)."
   ]
  },
  {
   "cell_type": "code",
   "execution_count": null,
   "id": "7223cc40",
   "metadata": {},
   "outputs": [],
   "source": []
  },
  {
   "cell_type": "markdown",
   "id": "bea97c30",
   "metadata": {},
   "source": [
    "2. Одредити колико докумената скупа за тренирање припада категорији транспорт. Документ припада категорији транспорт ако му је придружено неко од обележја 4806 (транспортне полисе), 4811 (организација транспорта), 4816 (друмски саобраћај), 4821 (морски и поморски саобраћај) или 4826 (аеро или свемирски транспорт). "
   ]
  },
  {
   "cell_type": "code",
   "execution_count": 38,
   "id": "c336731a",
   "metadata": {},
   "outputs": [],
   "source": [
    "transport_ids = ['4806', '4811', '4816', '4821', '4826']"
   ]
  },
  {
   "cell_type": "code",
   "execution_count": 39,
   "id": "ee917862",
   "metadata": {},
   "outputs": [],
   "source": [
    "documents = []\n",
    "for row in train_data_pd.itertuples():\n",
    "    for id in transport_ids:\n",
    "        if id in row[4]:\n",
    "            documents.append(row[1])"
   ]
  },
  {
   "cell_type": "code",
   "execution_count": 40,
   "id": "0a180b8e",
   "metadata": {},
   "outputs": [
    {
     "name": "stdout",
     "output_type": "stream",
     "text": [
      "Broj dokumenata koji pripada kategoriji transport je:  78\n"
     ]
    }
   ],
   "source": [
    "print('Broj dokumenata koji pripada kategoriji transport je: ', len(documents))"
   ]
  },
  {
   "cell_type": "code",
   "execution_count": 41,
   "id": "cb22cefa",
   "metadata": {},
   "outputs": [
    {
     "name": "stdout",
     "output_type": "stream",
     "text": [
      "CELEX brojevi trazenih dokumenata su:  ['32012D0780', '31998D0589', '32001D0011', '31999R0509', '31994L0007', '31993D0013', '32006D0132', '32010D0300', '32003R0456', '31999D0520', '32003D0239', '32014L0064', '32009D0479', '32004D0588', '32007L0018', '32014D0333', '32012R1205', '32002R0407', '31999R0132', '32003D0506', '31997D0138', '31998R2105', '31999D0376', '32010D0720', '31999D0317', '32009D0540', '32005D0415', '31999D0696', '32014D0836', '31999D0546', '32014D0837', '32005D0087', '32003D0024', '32007R1321', '32007R1423', '32013L0049', '31999D0377', '32005D0422', '31999D0571', '32000L0015', '31995L0067', '31976D0632', '32015R0272', '31997R1754', '31990D0255', '32001D0672', '32010D0692', '32005D0270', '32000D0678', '32003D0375', '32007D0371', '31994D0375', '31998R1177', '31977D0616', '31997D0394', '31995D0505', '32010D0227', '32003D0257', '31991R2348', '32000D0490', '32014R0178', '31992D0563', '31994D0305', '31993D0704', '31999R1663', '31998D0590', '32001D0399', '32014R0179', '32002D0067', '32009D0898', '32003D1152', '32004D0590', '32004D0764', '31997R2630', '32005D0105', '32011D0685', '31999D0693', '31999D0001']\n"
     ]
    }
   ],
   "source": [
    "print('CELEX brojevi trazenih dokumenata su: ', documents)"
   ]
  },
  {
   "cell_type": "markdown",
   "id": "b7f5aa01",
   "metadata": {},
   "source": [
    "Провере ради, можемо издвојити наслов документа чији је CELEX broj `32009D0898` и њему придружене одреднице-лабеле.  "
   ]
  },
  {
   "cell_type": "code",
   "execution_count": 42,
   "id": "9348fcfd",
   "metadata": {},
   "outputs": [],
   "source": [
    "transport_document_celex_id = '32009D0898'\n",
    "transport_document_title = train_data_pd[train_data_pd['celex_id']==transport_document_celex_id]['title'].values[0]\n",
    "transport_document_concepts = train_data_pd[train_data_pd['celex_id']==transport_document_celex_id]['eurovoc_concepts'].values[0]"
   ]
  },
  {
   "cell_type": "code",
   "execution_count": 43,
   "id": "6e24ea06",
   "metadata": {},
   "outputs": [
    {
     "name": "stdout",
     "output_type": "stream",
     "text": [
      "Naslov dokumenta je:  2009/898/EC: Council Decision of 30 November 2009 on the conclusion of the Agreement between the European Community and Barbados on the short-stay visa waiver\n",
      "\n"
     ]
    }
   ],
   "source": [
    "print('Naslov dokumenta je: ', transport_document_title)"
   ]
  },
  {
   "cell_type": "code",
   "execution_count": 44,
   "id": "e151c0a6",
   "metadata": {},
   "outputs": [
    {
     "name": "stdout",
     "output_type": "stream",
     "text": [
      "Pridruzeni EuroVoc koncepti su:  ['1474', '2901', '4004', '4816', '5796']\n"
     ]
    }
   ],
   "source": [
    "print('Pridruzeni EuroVoc koncepti su: ', transport_document_concepts)"
   ]
  },
  {
   "cell_type": "code",
   "execution_count": null,
   "id": "163157b2",
   "metadata": {},
   "outputs": [],
   "source": []
  },
  {
   "cell_type": "markdown",
   "id": "16edfa60",
   "metadata": {},
   "source": [
    "3. Приказати графиконом са стубићима однос директива, регулатива и одлука у скупу података EurLex57k. Подсетимо се да у сектору правних актова дескриптор означава тип документа. Латинично слово *L* означава директиве, латинично слово *R* означава регулативе, а латинично слово *D* одлуке."
   ]
  },
  {
   "cell_type": "code",
   "execution_count": 45,
   "id": "6c342546",
   "metadata": {},
   "outputs": [],
   "source": [
    "import re\n",
    "from matplotlib import pyplot as plt"
   ]
  },
  {
   "cell_type": "code",
   "execution_count": null,
   "id": "edad7302",
   "metadata": {},
   "outputs": [],
   "source": []
  },
  {
   "cell_type": "code",
   "execution_count": 46,
   "id": "25f1abec",
   "metadata": {},
   "outputs": [],
   "source": [
    "directive_indexes = train_data_pd['celex_id'].apply(lambda id: re.match('^.[0-9]{4}L[0-9]{4}$', id) != None)\n",
    "number_of_directives = train_data_pd[directive_indexes].shape[0]"
   ]
  },
  {
   "cell_type": "code",
   "execution_count": null,
   "id": "03243487",
   "metadata": {},
   "outputs": [],
   "source": []
  },
  {
   "cell_type": "code",
   "execution_count": 47,
   "id": "dfa00386",
   "metadata": {},
   "outputs": [],
   "source": [
    "regulation_indexes = train_data_pd['celex_id'].apply(lambda id: re.match('^.[0-9]{4}R[0-9]{4}$', id) != None)\n",
    "number_of_regulations = train_data_pd[regulation_indexes].shape[0]"
   ]
  },
  {
   "cell_type": "code",
   "execution_count": null,
   "id": "2d37436c",
   "metadata": {},
   "outputs": [],
   "source": []
  },
  {
   "cell_type": "code",
   "execution_count": 48,
   "id": "d1a091dd",
   "metadata": {},
   "outputs": [],
   "source": [
    "decision_indexes = train_data_pd['celex_id'].apply(lambda id: re.match('^.[0-9]{4}D[0-9]{4}$', id) != None)\n",
    "number_of_decisions = train_data_pd[decision_indexes].shape[0]"
   ]
  },
  {
   "cell_type": "code",
   "execution_count": null,
   "id": "bd566a88",
   "metadata": {},
   "outputs": [],
   "source": []
  },
  {
   "cell_type": "code",
   "execution_count": 49,
   "id": "1d7c7786",
   "metadata": {},
   "outputs": [
    {
     "data": {
      "image/png": "[encoded data removed]",
      "text/plain": [
       "<Figure size 432x288 with 1 Axes>"
      ]
     },
     "metadata": {
      "needs_background": "light"
     },
     "output_type": "display_data"
    }
   ],
   "source": [
    "plt.bar(['direktive', 'regulative', 'odluke'], [number_of_directives, number_of_regulations, number_of_decisions])\n",
    "plt.title('Skup podataka EurLex57k')\n",
    "plt.ylabel('Broj dokumenata u kategoriji')\n",
    "plt.show()"
   ]
  },
  {
   "cell_type": "markdown",
   "id": "90f95a0b",
   "metadata": {},
   "source": [
    "На основу приказа можемо закључити да су регулативе најбројнији тип докумената."
   ]
  },
  {
   "cell_type": "code",
   "execution_count": null,
   "id": "263cb372",
   "metadata": {},
   "outputs": [],
   "source": []
  }
 ],
 "metadata": {
  "kernelspec": {
   "display_name": "Python 3 (ipykernel)",
   "language": "python",
   "name": "python3"
  },
  "language_info": {
   "codemirror_mode": {
    "name": "ipython",
    "version": 3
   },
   "file_extension": ".py",
   "mimetype": "text/x-python",
   "name": "python",
   "nbconvert_exporter": "python",
   "pygments_lexer": "ipython3",
   "version": "3.9.5"
  }
 },
 "nbformat": 4,
 "nbformat_minor": 5
}
