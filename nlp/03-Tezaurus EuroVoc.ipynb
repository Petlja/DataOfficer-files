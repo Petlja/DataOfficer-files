{
 "cells": [
  {
   "cell_type": "markdown",
   "id": "be502851",
   "metadata": {},
   "source": [
    "# Тезаурус EuroVoc"
   ]
  },
  {
   "cell_type": "markdown",
   "id": "9c776a6c",
   "metadata": {},
   "source": [
    "У овој секцији упознаћемо детаљније тезаурус **EuroVoc** и начин на који је организован."
   ]
  },
  {
   "cell_type": "markdown",
   "id": "e8b84dcf",
   "metadata": {},
   "source": [
    "Тезаурус <a href='https://op.europa.eu/en/web/eu-vocabularies/dataset/-/resource?uri=http://publications.europa.eu/resource/dataset/eurovoc'> EuroVoc </a> је врста речника која обједињује концепте који се придружују званичним документима Европске уније зарад систематичне организације. На пример, документу који се бави миграцијама се могу придружити концепти *family migration* или *geographical mobility*. Овако контролисани вокабулар омогућава униформу организацију докумената између свих чланица Европске уније и њихово лакше претраживање.  "
   ]
  },
  {
   "cell_type": "markdown",
   "id": "2b6967e7",
   "metadata": {},
   "source": [
    "<figure style='text-align: center'>\n",
    "    <img src='assets/eurovoc_small.png'>\n",
    "    <figcaption> \n",
    "        Организација тезауруса EuroVoc (слика је преузета са <a href='https://medium.com/datapy-ai/extreme-multi-label-classification-for-eurovoc-b51d74623820'> ове </a> адресе)\n",
    "    </figcaption>\n",
    "</figure>"
   ]
  },
  {
   "cell_type": "markdown",
   "id": "74e09479",
   "metadata": {},
   "source": [
    "Информације које су садржане у тезаурусу су физички подељене у већи број датотека и могу се презети са званичне адресе у већем броју формата. Ми ћемо користити архиву <a href='https://op.europa.eu/o/opportal-service/euvoc-download-handler?cellarURI=http%3A%2F%2Fpublications.europa.eu%2Fresource%2Fcellar%2Fb868cf85-c47b-11eb-a925-01aa75ed71a1.0001.07%2FDOC_1&fileName=eurovoc_xml.zip'>eurovoc_xml.zip</a> која садржи датотеке у формату XML, као и попис свих концепата <a href='http://publications.europa.eu/resource/dataset/eurovoc'>DOC_1.xml</a>. \n",
    "\n",
    "Посебно, на нивоу архиве пратићемо документе који се односе на енглески језик тј. документе који у називу имају суфикс *_eng*."
   ]
  },
  {
   "cell_type": "markdown",
   "id": "908e94e4",
   "metadata": {},
   "source": [
    "За обраду информација записаних у XML формату користићемо библиотеку <a href='https://www.crummy.com/software/BeautifulSoup/'> BeаutifulSoup</a>. Функције ове библиотеке нам омогућавају да се лако крећемо кроз хијерархијску структуру докумената, као и да једноставно издвојимо елементе на основу имена или атрибута који им је придружен. "
   ]
  },
  {
   "cell_type": "code",
   "execution_count": 1,
   "id": "408f6fa0",
   "metadata": {},
   "outputs": [],
   "source": [
    "from bs4 import BeautifulSoup"
   ]
  },
  {
   "cell_type": "markdown",
   "id": "a7287a6d",
   "metadata": {},
   "source": [
    "## Домени"
   ]
  },
  {
   "cell_type": "markdown",
   "id": "9bbc9cfb",
   "metadata": {},
   "source": [
    "На највишем нивоу хијерархије тезауруса налазе се домени. Домени се представљају двоцифреним идентификаторима и има их укупно 21. Физички, информације о доменима тезауруса се налазе у датотеци `dom_en.xml`. Следећим блоком кода се из ове датотека могу издвојити идентификатори и имена домена. "
   ]
  },
  {
   "cell_type": "code",
   "execution_count": 2,
   "id": "6009d4cc",
   "metadata": {},
   "outputs": [],
   "source": [
    "domains_file = open('../data/eurovoc_thesaurus/dom_en.xml', 'r') \n",
    "domains_file_content = domains_file.read()"
   ]
  },
  {
   "cell_type": "code",
   "execution_count": 3,
   "id": "dfef773b",
   "metadata": {},
   "outputs": [],
   "source": [
    "domains_soup = BeautifulSoup(domains_file_content, 'html.parser')\n",
    "domain_ids = [id.get_text() for id in domains_soup.find_all('domaine_id')]\n",
    "domain_names = [name.get_text() for name in domains_soup.find_all('libelle')]"
   ]
  },
  {
   "cell_type": "code",
   "execution_count": null,
   "id": "89b7f44b",
   "metadata": {},
   "outputs": [],
   "source": []
  },
  {
   "cell_type": "code",
   "execution_count": 4,
   "id": "0dc54d3f",
   "metadata": {},
   "outputs": [
    {
     "name": "stdout",
     "output_type": "stream",
     "text": [
      "Identifikatori i imena domena: \n",
      "04 POLITICS\n",
      "08 INTERNATIONAL RELATIONS\n",
      "10 EUROPEAN UNION\n",
      "12 LAW\n",
      "16 ECONOMICS\n",
      "20 TRADE\n",
      "24 FINANCE\n",
      "28 SOCIAL QUESTIONS\n",
      "32 EDUCATION AND COMMUNICATIONS\n",
      "36 SCIENCE\n",
      "40 BUSINESS AND COMPETITION\n",
      "44 EMPLOYMENT AND WORKING CONDITIONS\n",
      "48 TRANSPORT\n",
      "52 ENVIRONMENT\n",
      "56 AGRICULTURE, FORESTRY AND FISHERIES\n",
      "60 AGRI-FOODSTUFFS\n",
      "64 PRODUCTION, TECHNOLOGY AND RESEARCH\n",
      "66 ENERGY\n",
      "68 INDUSTRY\n",
      "72 GEOGRAPHY\n",
      "76 INTERNATIONAL ORGANISATIONS\n"
     ]
    }
   ],
   "source": [
    "print('Identifikatori i imena domena: ')\n",
    "for id, name in zip (domain_ids, domain_names):\n",
    "    print (id, name)"
   ]
  },
  {
   "cell_type": "markdown",
   "id": "692d51c9",
   "metadata": {},
   "source": [
    "Сличан блок кода искористићемо да сачувамо овај пар идентификатора и имена у датотеци *domains_with_id_and_name.txt*."
   ]
  },
  {
   "cell_type": "code",
   "execution_count": 6,
   "id": "ea3e2153",
   "metadata": {},
   "outputs": [],
   "source": [
    "domains_with_id_and_name = {}\n",
    "\n",
    "for id, name in zip (domain_ids, domain_names):\n",
    "    domains_with_id_and_name[id] = name\n",
    "    \n",
    "with open('../data/domains_with_id_and_name.txt', 'w') as file:\n",
    "    file.write(str(domains_with_id_and_name))"
   ]
  },
  {
   "cell_type": "code",
   "execution_count": 10,
   "id": "dc2c8cb6",
   "metadata": {},
   "outputs": [],
   "source": []
  },
  {
   "cell_type": "markdown",
   "id": "6a569da8",
   "metadata": {},
   "source": [
    "## Микротезауруси"
   ]
  },
  {
   "cell_type": "markdown",
   "id": "5ed28146",
   "metadata": {},
   "source": [
    "Микротезауруси представљају сегменте тезауруса који се односе на специфичне домене. Њих карактеришу четвороцифрени идентификатори чије се прве две цифре преклапају са идентификатором домена. Тако, на пример, домену \"наука\" са идентификатором 36 одговарају два микротезауруса 3606 и 3611 - први обједињује концепте који се односе на природне и примењене науке, а други концепте који се односе на хуманистичке науке. Микротезауруса има укупно 127, а њихова имена и кодови се могу прочитати из датотеке са именом `thes_en.xml`. "
   ]
  },
  {
   "cell_type": "markdown",
   "id": "85724bef",
   "metadata": {},
   "source": [
    "Следећим блоком кода ћемо издвојити имена и кодове микротезауруса."
   ]
  },
  {
   "cell_type": "code",
   "execution_count": 7,
   "id": "d90ca66a",
   "metadata": {},
   "outputs": [],
   "source": [
    "microthesaurus_file = open('../data/eurovoc_thesaurus/thes_en.xml', 'r') \n",
    "microthesaurus_file_content = microthesaurus_file.read()"
   ]
  },
  {
   "cell_type": "code",
   "execution_count": 8,
   "id": "6c314c2f",
   "metadata": {},
   "outputs": [],
   "source": [
    "microthesaurus_soup = BeautifulSoup(microthesaurus_file_content, 'html.parser')\n",
    "microthesaurus_ids = [id.get_text() for id in microthesaurus_soup.find_all('thesaurus_id')]\n",
    "microthesaurus_names = [name.get_text() for name in microthesaurus_soup.find_all('libelle')]"
   ]
  },
  {
   "cell_type": "code",
   "execution_count": null,
   "id": "983e2633",
   "metadata": {},
   "outputs": [],
   "source": []
  },
  {
   "cell_type": "code",
   "execution_count": 9,
   "id": "0c5ece0a",
   "metadata": {},
   "outputs": [
    {
     "name": "stdout",
     "output_type": "stream",
     "text": [
      "Identifikatori i imena mikrotezaurusa: \n",
      "0406 political framework\n",
      "0411 political party\n",
      "0416 electoral procedure and voting\n",
      "0421 parliament\n",
      "0426 parliamentary proceedings\n",
      "0431 politics and public safety\n",
      "0436 executive power and public service\n",
      "0806 international affairs\n",
      "0811 cooperation policy\n",
      "0816 international security\n",
      "0821 defence\n",
      "1006 EU institutions and European civil service\n",
      "1011 European Union law\n",
      "1016 European construction\n",
      "1021 EU finance\n",
      "1206 sources and branches of the law\n",
      "1211 civil law\n",
      "1216 criminal law\n",
      "1221 justice\n",
      "1226 organisation of the legal system\n",
      "1231 international law\n",
      "1236 rights and freedoms\n",
      "1606 economic policy\n",
      "1611 economic conditions\n",
      "1616 regions and regional policy\n",
      "1621 economic structure\n",
      "1626 national accounts\n",
      "1631 economic analysis\n",
      "2006 trade policy\n",
      "2011 tariff policy\n",
      "2016 trade\n",
      "2021 international trade\n",
      "2026 consumption\n",
      "2031 marketing\n",
      "2036 distributive trades\n",
      "2406 monetary relations\n",
      "2411 monetary economics\n",
      "2416 financial institutions and credit\n",
      "2421 free movement of capital\n",
      "2426 financing and investment\n",
      "2431 insurance\n",
      "2436 public finance and budget policy\n",
      "2441 budget\n",
      "2446 taxation\n",
      "2451 prices\n",
      "2806 family\n",
      "2811 migration\n",
      "2816 demography and population\n",
      "2821 social framework\n",
      "2826 social affairs\n",
      "2831 culture and religion\n",
      "2836 social protection\n",
      "2841 health\n",
      "2846 construction and town planning\n",
      "3206 education\n",
      "3211 teaching\n",
      "3216 organisation of teaching\n",
      "3221 documentation\n",
      "3226 communications\n",
      "3231 information and information processing\n",
      "3236 information technology and data processing\n",
      "3606 natural and applied sciences\n",
      "3611 humanities\n",
      "4006 business organisation\n",
      "4011 business classification\n",
      "4016 legal form of organisations\n",
      "4021 management\n",
      "4026 accounting\n",
      "4031 competition\n",
      "4406 employment\n",
      "4411 labour market\n",
      "4416 organisation of work and working conditions\n",
      "4421 personnel management and staff remuneration\n",
      "4426 labour law and labour relations\n",
      "4806 transport policy\n",
      "4811 organisation of transport\n",
      "4816 land transport\n",
      "4821 maritime and inland waterway transport\n",
      "4826 air and space transport\n",
      "5206 environmental policy\n",
      "5211 natural environment\n",
      "5216 deterioration of the environment\n",
      "5606 agricultural policy\n",
      "5611 agricultural structures and production\n",
      "5616 farming systems\n",
      "5621 cultivation of agricultural land\n",
      "5626 means of agricultural production\n",
      "5631 agricultural activity\n",
      "5636 forestry\n",
      "5641 fisheries\n",
      "6006 plant product\n",
      "6011 animal product\n",
      "6016 processed agricultural produce\n",
      "6021 beverages and sugar\n",
      "6026 foodstuff\n",
      "6031 agri-foodstuffs\n",
      "6036 food technology\n",
      "6406 production\n",
      "6411 technology and technical regulations\n",
      "6416 research and intellectual property\n",
      "6606 energy policy\n",
      "6611 coal and mining industries\n",
      "6616 oil industry\n",
      "6621 electrical and nuclear industries\n",
      "6626 soft energy\n",
      "6806 industrial structures and policy\n",
      "6811 chemistry\n",
      "6816 iron, steel and other metal industries\n",
      "6821 mechanical engineering\n",
      "6826 electronics and electrical engineering\n",
      "6831 building and public works\n",
      "6836 wood industry\n",
      "6841 leather and textile industries\n",
      "6846 miscellaneous industries\n",
      "7206 Europe\n",
      "7211 regions of EU Member States\n",
      "7216 America\n",
      "7221 Africa\n",
      "7226 Asia and Oceania\n",
      "7231 economic geography\n",
      "7236 political geography\n",
      "7241 overseas countries and territories\n",
      "7606 United Nations\n",
      "7611 European organisations\n",
      "7616 extra-European organisations\n",
      "7621 world organisations\n",
      "7626 non-governmental organisations\n"
     ]
    }
   ],
   "source": [
    "print('Identifikatori i imena mikrotezaurusa: ')\n",
    "for id, name in zip(microthesaurus_ids, microthesaurus_names):\n",
    "    print(id, name)"
   ]
  },
  {
   "cell_type": "code",
   "execution_count": null,
   "id": "4d289bb4",
   "metadata": {},
   "outputs": [],
   "source": []
  },
  {
   "cell_type": "markdown",
   "id": "50288a0b",
   "metadata": {},
   "source": [
    "На основу прочитаних информација можемо објединити домене и микротезаурусе који им припадају. Искористићемо својство да се прве две цифре идентификатора микротезауруса преклапају са идентификатором домена."
   ]
  },
  {
   "cell_type": "code",
   "execution_count": 10,
   "id": "a728529c",
   "metadata": {},
   "outputs": [],
   "source": [
    "microthesauruses_per_domain = {}\n",
    "\n",
    "for domain_id in domain_ids:\n",
    "    microthesauruses_per_domain[domain_id] = []\n",
    "\n",
    "for microthesaurus_id in microthesaurus_ids:\n",
    "    domain_id = microthesaurus_id[0:2]\n",
    "    microthesauruses_per_domain[domain_id].append(microthesaurus_id)  "
   ]
  },
  {
   "cell_type": "code",
   "execution_count": 11,
   "id": "49399fb1",
   "metadata": {},
   "outputs": [
    {
     "data": {
      "text/plain": [
       "{'04': ['0406', '0411', '0416', '0421', '0426', '0431', '0436'],\n",
       " '08': ['0806', '0811', '0816', '0821'],\n",
       " '10': ['1006', '1011', '1016', '1021'],\n",
       " '12': ['1206', '1211', '1216', '1221', '1226', '1231', '1236'],\n",
       " '16': ['1606', '1611', '1616', '1621', '1626', '1631'],\n",
       " '20': ['2006', '2011', '2016', '2021', '2026', '2031', '2036'],\n",
       " '24': ['2406',\n",
       "  '2411',\n",
       "  '2416',\n",
       "  '2421',\n",
       "  '2426',\n",
       "  '2431',\n",
       "  '2436',\n",
       "  '2441',\n",
       "  '2446',\n",
       "  '2451'],\n",
       " '28': ['2806',\n",
       "  '2811',\n",
       "  '2816',\n",
       "  '2821',\n",
       "  '2826',\n",
       "  '2831',\n",
       "  '2836',\n",
       "  '2841',\n",
       "  '2846'],\n",
       " '32': ['3206', '3211', '3216', '3221', '3226', '3231', '3236'],\n",
       " '36': ['3606', '3611'],\n",
       " '40': ['4006', '4011', '4016', '4021', '4026', '4031'],\n",
       " '44': ['4406', '4411', '4416', '4421', '4426'],\n",
       " '48': ['4806', '4811', '4816', '4821', '4826'],\n",
       " '52': ['5206', '5211', '5216'],\n",
       " '56': ['5606', '5611', '5616', '5621', '5626', '5631', '5636', '5641'],\n",
       " '60': ['6006', '6011', '6016', '6021', '6026', '6031', '6036'],\n",
       " '64': ['6406', '6411', '6416'],\n",
       " '66': ['6606', '6611', '6616', '6621', '6626'],\n",
       " '68': ['6806',\n",
       "  '6811',\n",
       "  '6816',\n",
       "  '6821',\n",
       "  '6826',\n",
       "  '6831',\n",
       "  '6836',\n",
       "  '6841',\n",
       "  '6846'],\n",
       " '72': ['7206', '7211', '7216', '7221', '7226', '7231', '7236', '7241'],\n",
       " '76': ['7606', '7611', '7616', '7621', '7626']}"
      ]
     },
     "execution_count": 11,
     "metadata": {},
     "output_type": "execute_result"
    }
   ],
   "source": [
    "microthesauruses_per_domain"
   ]
  },
  {
   "cell_type": "markdown",
   "id": "c180d518",
   "metadata": {},
   "source": [
    "Највећи број микротезауруса је придружен домену \"финансије\" са идентификатором 24."
   ]
  },
  {
   "cell_type": "code",
   "execution_count": 13,
   "id": "e42d9728",
   "metadata": {},
   "outputs": [
    {
     "name": "stdout",
     "output_type": "stream",
     "text": [
      "Domen  04 : broj mikrotezaurusa:  7\n",
      "Domen  08 : broj mikrotezaurusa:  4\n",
      "Domen  10 : broj mikrotezaurusa:  4\n",
      "Domen  12 : broj mikrotezaurusa:  7\n",
      "Domen  16 : broj mikrotezaurusa:  6\n",
      "Domen  20 : broj mikrotezaurusa:  7\n",
      "Domen  24 : broj mikrotezaurusa:  10\n",
      "Domen  28 : broj mikrotezaurusa:  9\n",
      "Domen  32 : broj mikrotezaurusa:  7\n",
      "Domen  36 : broj mikrotezaurusa:  2\n",
      "Domen  40 : broj mikrotezaurusa:  6\n",
      "Domen  44 : broj mikrotezaurusa:  5\n",
      "Domen  48 : broj mikrotezaurusa:  5\n",
      "Domen  52 : broj mikrotezaurusa:  3\n",
      "Domen  56 : broj mikrotezaurusa:  8\n",
      "Domen  60 : broj mikrotezaurusa:  7\n",
      "Domen  64 : broj mikrotezaurusa:  3\n",
      "Domen  66 : broj mikrotezaurusa:  5\n",
      "Domen  68 : broj mikrotezaurusa:  9\n",
      "Domen  72 : broj mikrotezaurusa:  8\n",
      "Domen  76 : broj mikrotezaurusa:  5\n"
     ]
    }
   ],
   "source": [
    "for (domain, all_thesauruses) in microthesauruses_per_domain.items():\n",
    "    print ('Domen ', domain, ': broj mikrotezaurusa: ', len(all_thesauruses))"
   ]
  },
  {
   "cell_type": "code",
   "execution_count": null,
   "id": "d2797f07",
   "metadata": {},
   "outputs": [],
   "source": []
  },
  {
   "cell_type": "markdown",
   "id": "e79d0582",
   "metadata": {},
   "source": [
    "## Концепти и њихове релације"
   ]
  },
  {
   "cell_type": "markdown",
   "id": "7ffb1e3f",
   "metadata": {},
   "source": [
    "Концепти тезауруса су, такође, хијерархијски организовани. Главни концепти (енгл. top terms) се налазе на врху хијерархије и везани за сам микротезаурус, док су преостали концепти везани за главне концепте према нивоима специфичности. Актуелна верзија тезауруса подржава везе генеричког (на пример, концепти *protected area* и *national park*) и партитивног (на пример, *chemistry* и *analytical chemistry*) типа, као и угњежђавања највише дубине два.  "
   ]
  },
  {
   "cell_type": "markdown",
   "id": "72341e49",
   "metadata": {},
   "source": [
    "### Издвајање свих концепата  микротезауруса"
   ]
  },
  {
   "cell_type": "markdown",
   "id": "cec02dde",
   "metadata": {},
   "source": [
    "Сви концепти тезауруса се могу прочитати из датотеке *DOC_1.xml*. Нама ће бити занимљиво да издвојимо концепте који припадају одређеном микротезаурусу - идентификатори концепата ће нам значити за само кодирање док ће нам имена ових концепата омогућити да лакше испратимо организацију. "
   ]
  },
  {
   "cell_type": "markdown",
   "id": "14a667bf",
   "metadata": {},
   "source": [
    "Следећим блоком кода ћемо припремити датотеку *DOC_1.xml* за рад, док ће нам функција *get_concepts_for_microthesaurus* омогућити да из овако припремљене датотеке за задати идентификатор микротезауруса прочитамо концепте који му припадају."
   ]
  },
  {
   "cell_type": "code",
   "execution_count": 14,
   "id": "a6588dd3",
   "metadata": {},
   "outputs": [],
   "source": [
    "main_thesaurus_file = open('../data/eurovoc_thesaurus/DOC_1.xml', 'r', encoding='utf-8')\n",
    "main_thesaurus_content = main_thesaurus_file.read()"
   ]
  },
  {
   "cell_type": "code",
   "execution_count": 15,
   "id": "4c0f60fe",
   "metadata": {},
   "outputs": [],
   "source": [
    "main_thesaurus_soup = BeautifulSoup(main_thesaurus_content, 'html.parser')"
   ]
  },
  {
   "cell_type": "code",
   "execution_count": 16,
   "id": "3886e6aa",
   "metadata": {},
   "outputs": [],
   "source": [
    "def get_concepts_for_microthesaurus(microthesaurus_id, main_thesaurus_soup):\n",
    "    concepts = {}\n",
    "    for record in main_thesaurus_soup.find_all(thesaurus_id=microthesaurus_id):\n",
    "        id = record['id']\n",
    "        concept_wrapper = record.parent.parent.find_all('xs:documentation')[0].get_text()\n",
    "        concept = concept_wrapper[0:concept_wrapper.find('/')-1]\n",
    "        concepts[id] = concept\n",
    "    return concepts"
   ]
  },
  {
   "cell_type": "markdown",
   "id": "92380991",
   "metadata": {},
   "source": [
    "У наставку можемо видети све концепте микротезауруса за природне и примењене науке."
   ]
  },
  {
   "cell_type": "code",
   "execution_count": 17,
   "id": "4572689f",
   "metadata": {},
   "outputs": [
    {
     "data": {
      "text/plain": [
       "{'1147': 'geochemistry',\n",
       " '1148': 'geography',\n",
       " '1149': 'economic geography',\n",
       " '1150': 'political geography',\n",
       " '1151': 'geology',\n",
       " '1152': 'geophysics',\n",
       " '1246': 'histology',\n",
       " '1276': 'hydrogeology',\n",
       " '1278': 'hydrology',\n",
       " '1835': 'mathematics',\n",
       " '1892': 'meteorology',\n",
       " '1896': 'metrology',\n",
       " '1936': 'mineralogy',\n",
       " '2114': 'oceanography',\n",
       " '2232': 'parasitology',\n",
       " '2367': 'pharmacology',\n",
       " '2373': 'photochemistry',\n",
       " '2376': 'nuclear physics',\n",
       " '3282': 'neurobiology',\n",
       " '3291': 'acoustics',\n",
       " '3292': 'optics',\n",
       " '3293': 'cybernetics',\n",
       " '3294': 'petrology',\n",
       " '3790': 'astronomy',\n",
       " '3925': 'information science',\n",
       " '3931': 'soil science',\n",
       " '3941': 'life sciences',\n",
       " '3946': 'physical sciences',\n",
       " '3949': 'applied sciences',\n",
       " '3952': 'earth sciences',\n",
       " '4107': 'aerodynamics',\n",
       " '4108': 'thermodynamics',\n",
       " '4109': 'plasma physics',\n",
       " '4110': 'laser physics',\n",
       " '4176': 'seismology',\n",
       " '442765': 'animal taxonomy',\n",
       " '442791': 'plant taxonomy',\n",
       " '4770': 'volcanology',\n",
       " '4810': 'zoology',\n",
       " '4889': 'biochemistry',\n",
       " '4921': 'biology',\n",
       " '5028': 'botany',\n",
       " '5269': 'cartography',\n",
       " '5287': 'ionising radiation',\n",
       " '5298': 'fundamental particle',\n",
       " '5299': 'atom',\n",
       " '5300': 'analytical chemistry',\n",
       " '5301': 'spectrometry',\n",
       " '5303': 'cytology',\n",
       " '5338': 'radiobiology',\n",
       " '5608': 'embryo and foetus',\n",
       " '5651': 'genetics',\n",
       " '5740': 'microorganism',\n",
       " '5966': 'chemistry',\n",
       " '5968': 'industrial chemistry',\n",
       " '6111': 'enzyme',\n",
       " '6260': 'DNA',\n",
       " '632': 'ecology',\n",
       " '6381': 'soil analysis',\n",
       " '6382': 'space science',\n",
       " '6383': 'astronautics',\n",
       " '6384': 'climatology',\n",
       " '6385': 'bioclimatology',\n",
       " '6386': 'soil chemistry',\n",
       " '6387': 'cultural geography',\n",
       " '6388': 'human geography',\n",
       " '6389': 'regional geography',\n",
       " '6390': 'geomorphology',\n",
       " '6391': 'sedimentology',\n",
       " '6392': 'soil type',\n",
       " '6715': 'hazard science',\n",
       " '6716': 'cosmology',\n",
       " '6744': 'eugenics',\n",
       " '685': 'agronomy',\n",
       " '707': 'electrochemistry',\n",
       " '709': 'electronics',\n",
       " '710': 'electrotechnology',\n",
       " '7218': 'geographical information system',\n",
       " '7360': 'historical geography',\n",
       " '7410': 'biometrics',\n",
       " '7955': 'stem cell',\n",
       " '8438': 'geodesy',\n",
       " 'c_2c5a05a0': 'genetic database',\n",
       " 'c_590e8349': 'photonics',\n",
       " 'c_5db9ac34': 'substance of human origin',\n",
       " 'c_a935cf3f': 'earth observation',\n",
       " 'c_ff4dd793': 'molecular biology'}"
      ]
     },
     "execution_count": 17,
     "metadata": {},
     "output_type": "execute_result"
    }
   ],
   "source": [
    "get_concepts_for_microthesaurus('3606', main_thesaurus_soup)"
   ]
  },
  {
   "cell_type": "code",
   "execution_count": null,
   "id": "16b91524",
   "metadata": {},
   "outputs": [],
   "source": []
  },
  {
   "cell_type": "markdown",
   "id": "e727b773",
   "metadata": {},
   "source": [
    "Сдржај датотеке *DOC_1.xml* можемо искористи и за очитавање имена појединачних концепата на основу њихових идентификатора. Функција *get_concept_name* имплементира баш овај задатак. Њеним коришћењем је генерисан и листинг свих концепата *eurovoc_concepts.jsonl* који смо упознали у секцији o EuroLex57k скупу података.  "
   ]
  },
  {
   "cell_type": "code",
   "execution_count": 18,
   "id": "8917b339",
   "metadata": {},
   "outputs": [],
   "source": [
    "def get_concept_name(concept_id, main_thesaurus_soup):\n",
    "    concept_value = \"eurovoc:\" + concept_id\n",
    "    concept_parent = main_thesaurus_soup.find(\"xs:enumeration\", value=concept_value)\n",
    "    concept_wrapper = concept_parent.find('xs:documentation').get_text()\n",
    "    concept = concept_wrapper[0:concept_wrapper.find('/')-1]\n",
    "    return concept"
   ]
  },
  {
   "cell_type": "code",
   "execution_count": 19,
   "id": "afd7d69f",
   "metadata": {},
   "outputs": [
    {
     "data": {
      "text/plain": [
       "'international finance'"
      ]
     },
     "execution_count": 19,
     "metadata": {},
     "output_type": "execute_result"
    }
   ],
   "source": [
    "get_concept_name('1016', main_thesaurus_soup)"
   ]
  },
  {
   "cell_type": "markdown",
   "id": "3abaaea3",
   "metadata": {},
   "source": [
    "### Издвајање главних концепата микротезауруса"
   ]
  },
  {
   "cell_type": "markdown",
   "id": "2e5f47ff",
   "metadata": {},
   "source": [
    "Главни концепти тезаурзса EuroVoc су концепти који се налазе на врху хијерархије микротезауруса и који немају даљих уопштења. Док је све концепте микротезауруса лако издвојити, да би се добили ови концепти потребно је нешто мало више техничког посла. Датотека *mappings.xml* која садржи информације о овим мапирањима главних концепата и микротезауруса преузета је са <a href='http://publications.europa.eu/resource/authority/eurovoc/100141'> ове </a> адресе. "
   ]
  },
  {
   "cell_type": "code",
   "execution_count": 20,
   "id": "28fb3292",
   "metadata": {},
   "outputs": [],
   "source": [
    "top_terms_file = open('../data/eurovoc_thesaurus/mappings.xml', 'r')\n",
    "top_terms_file_content = top_terms_file.read()\n",
    "top_terms_soup = BeautifulSoup(top_terms_file_content, 'html.parser')"
   ]
  },
  {
   "cell_type": "code",
   "execution_count": null,
   "id": "e7f6e227",
   "metadata": {},
   "outputs": [],
   "source": []
  },
  {
   "cell_type": "markdown",
   "id": "d96aafff",
   "metadata": {},
   "source": [
    "Из овако припремљеног документа могу се издвојити линкови до страница које садрже попис главних концепата одговарајућих микротезауруса. Линкова има укупно 127 - са сваки микротезаурус по један. Функција *get_top_terms* нам омогућава да пратећи линк дохватимо тражене информације."
   ]
  },
  {
   "cell_type": "code",
   "execution_count": 21,
   "id": "ff8980fc",
   "metadata": {},
   "outputs": [],
   "source": [
    "import requests"
   ]
  },
  {
   "cell_type": "code",
   "execution_count": 22,
   "id": "8c20979b",
   "metadata": {},
   "outputs": [],
   "source": [
    "top_terms_resources = [resource['rdf:resource'] for resource in top_terms_soup.find_all('ns5:haspart')]"
   ]
  },
  {
   "cell_type": "code",
   "execution_count": 23,
   "id": "13cf179a",
   "metadata": {},
   "outputs": [],
   "source": [
    "def get_top_terms(resource_link):\n",
    "    \n",
    "    response = requests.get(resource_link)\n",
    "    if response.status_code != 200:\n",
    "        print('Resource ', resource_link, 'could not be fetched (status code: ', response.status_code, ')')\n",
    "        return \n",
    "    response_text = response.text\n",
    "    \n",
    "    soup = BeautifulSoup(response_text, 'html.parser')\n",
    "    \n",
    "    microthesaurus_id = soup.find('skos:notation').text\n",
    "    \n",
    "    top_terms = []\n",
    "    for top_term in soup.find_all('skos:hastopconcept'):\n",
    "        resource = top_term['rdf:resource']\n",
    "        index = resource.rfind('/') + 1\n",
    "        id = resource[index: ]\n",
    "        top_terms.append(id)\n",
    "    \n",
    "    return microthesaurus_id, top_terms"
   ]
  },
  {
   "cell_type": "code",
   "execution_count": 24,
   "id": "f25a313f",
   "metadata": {},
   "outputs": [],
   "source": [
    "top_terms_per_microthesaurus = {}\n",
    "for top_term_resource in top_terms_resources:\n",
    "    microthesaurus_id, top_terms = get_top_terms(top_term_resource)\n",
    "    top_terms_per_microthesaurus[microthesaurus_id] = top_terms"
   ]
  },
  {
   "cell_type": "code",
   "execution_count": 25,
   "id": "342e71b3",
   "metadata": {},
   "outputs": [
    {
     "data": {
      "text/plain": [
       "{'6626': ['744'],\n",
       " '2441': ['2698', '394', '929', '1012'],\n",
       " '5636': ['2505', '1063', '651'],\n",
       " '1016': ['4040', '26', '5442', '4057', '4060'],\n",
       " '1606': ['2402', '712', '2497'],\n",
       " '6026': ['1258', '2736', '2735'],\n",
       " '6031': ['656', '1360'],\n",
       " '6016': ['6788', '239', '2775', '2763'],\n",
       " '6021': ['5017', '4314'],\n",
       " '6411': ['4415', '4418', '3641', '3632', '3689', '3797'],\n",
       " '6416': ['4185', '2478', '2914', '2817'],\n",
       " '6036': ['4416', '6052'],\n",
       " '6406': ['2707', '2481'],\n",
       " '5621': ['4363', '4412', '4630'],\n",
       " '5626': ['2014', '5962'],\n",
       " '5611': ['2972', '2493', '2477'],\n",
       " '5616': ['3605', '4358', '2551', '962', '2814', '937'],\n",
       " '6006': ['2414',\n",
       "  '1602',\n",
       "  '1115',\n",
       "  '2413',\n",
       "  '2418',\n",
       "  '2417',\n",
       "  '5360',\n",
       "  '2416',\n",
       "  '2412'],\n",
       " '6011': ['2737'],\n",
       " '5631': ['2711', '1277', '711', '5877', '2723', '2734'],\n",
       " '5641': ['2320', '5913', '1652', '1372', '2476', '3544'],\n",
       " '4821': ['4515', '4522', '2512'],\n",
       " '4826': ['4505', '3092'],\n",
       " '4811': ['3098', '1954', '2181', '2015'],\n",
       " '4816': ['4539'],\n",
       " '5216': ['2090', '343', '2524', '371'],\n",
       " '5606': ['2443', '2442'],\n",
       " '5206': ['2470', '2825', 'c_98d1408a', '1707', '1158', '434743'],\n",
       " '5211': ['3146', '6011', '833', '3150', '3549'],\n",
       " '4406': ['2468', '1074', '3522', '4299', '5974'],\n",
       " '4411': ['4276', '5275', '1737', '1802'],\n",
       " '4026': ['54', '1155'],\n",
       " '4031': ['802', '539', '3581', '2474'],\n",
       " '4426': ['2178', '3209', '557'],\n",
       " '4806': ['3160', '3131', '2494', '3101'],\n",
       " '4416': ['2184', '4543', '82'],\n",
       " '4421': ['1163', '3273', '2491'],\n",
       " '7621': ['2188'],\n",
       " '7626': ['2191', '4826'],\n",
       " '7231': ['c_b2c019c8',\n",
       "  '8369',\n",
       "  '2117',\n",
       "  '7207',\n",
       "  'c_2b2e17b1',\n",
       "  '5083',\n",
       "  '8367',\n",
       "  '1191',\n",
       "  '5781',\n",
       "  '6205',\n",
       "  '8278',\n",
       "  '5302',\n",
       "  '4607',\n",
       "  'c_964c9649',\n",
       "  '1105',\n",
       "  '4845',\n",
       "  '2148',\n",
       "  '5283',\n",
       "  '8366',\n",
       "  '5087',\n",
       "  '2106',\n",
       "  '4690',\n",
       "  '1847',\n",
       "  '5776',\n",
       "  '4587',\n",
       "  '5265',\n",
       "  '1794',\n",
       "  'c_c385cfb4',\n",
       "  '187',\n",
       "  '5778',\n",
       "  '1844',\n",
       "  '594',\n",
       "  '5780',\n",
       "  '8365',\n",
       "  '4069'],\n",
       " '7236': ['4483',\n",
       "  '1658',\n",
       "  '130',\n",
       "  '122',\n",
       "  '2119',\n",
       "  '2079',\n",
       "  '4590',\n",
       "  'c_6e703074',\n",
       "  '2200',\n",
       "  'c_789ead37',\n",
       "  '5775',\n",
       "  '5655',\n",
       "  '5437'],\n",
       " '7221': ['281', '5424', '311'],\n",
       " '7226': ['2705', '2848', '2113', '2838', '5448', '956', '2858'],\n",
       " '7611': ['2187'],\n",
       " '7616': ['2171', '2167', '2170', '2190', '2172'],\n",
       " '7241': ['1087', '3778', '1086', '2287'],\n",
       " '7606': ['1455', '2179', '4826', '8380', '4365'],\n",
       " '6836': ['1386'],\n",
       " '6841': ['1418', '1388'],\n",
       " '6826': ['1400', '1401'],\n",
       " '6831': ['4414', '3879', '4565'],\n",
       " '7211': ['7868',\n",
       "  '7855',\n",
       "  '7861',\n",
       "  '7879',\n",
       "  '337',\n",
       "  '6136',\n",
       "  '1329',\n",
       "  '8189',\n",
       "  '1520',\n",
       "  '2288',\n",
       "  '7814',\n",
       "  '7816',\n",
       "  '7815',\n",
       "  '864',\n",
       "  'c_6acbfd25',\n",
       "  '7817',\n",
       "  '6138',\n",
       "  '1088',\n",
       "  '1506',\n",
       "  '8301',\n",
       "  '4840',\n",
       "  '1184',\n",
       "  '6135',\n",
       "  '2564'],\n",
       " '7216': ['1615', '5259', '1587', '1632'],\n",
       " '6846': ['1398', '3895', '1390', '5359'],\n",
       " '7206': ['5781', '913', '912', '909', '914', '911'],\n",
       " '6616': ['1274', '2364', '1414'],\n",
       " '6621': ['753', '1412', '5350', '3783'],\n",
       " '6606': ['3737', '2498'],\n",
       " '6611': ['3743', '2767', '1411'],\n",
       " '6816': ['1417', '3820', '1882'],\n",
       " '6821': ['1410', '1718', '1845', '1834', '5614', '5615'],\n",
       " '6806': ['2507', '2720', '3587', '4303'],\n",
       " '6811': ['1362', '3810', '3798', '3809'],\n",
       " '2006': ['2449', '1810', 'c_4c7717f3', '1786', '2488', '524', '2487', '2450'],\n",
       " '2011': ['3156', '4380', '2519', '2520', '5842'],\n",
       " '1626': ['4362', '3659', '56'],\n",
       " '1631': ['4256', '2616', '1800'],\n",
       " '2026': ['139', '3193', '138'],\n",
       " '2031': ['87', '13', '5268'],\n",
       " '2016': ['2292', '614', '2128'],\n",
       " '2021': ['3584', '11', '3185'],\n",
       " '1226': ['2351', '5923'],\n",
       " '1231': ['566', '4010', '6922', '567', '565'],\n",
       " '1216': ['3878', '3954', '1432', '573', '3513'],\n",
       " '1221': ['5371', '1538', '5400', '2701'],\n",
       " '1616': ['3058', '2515', '5848'],\n",
       " '1621': ['637', '4006', '3013'],\n",
       " '1236': ['3900', '7347', '3908', '584', '538', '3899', '3901'],\n",
       " '1611': ['427', '335', '84'],\n",
       " '0821': ['2628', '2464', '3451', '2647'],\n",
       " '1006': ['5640', '2163', '4304', '5769', '1451', '5767', '5130', '4067'],\n",
       " '0811': ['2460', '3074', '3489'],\n",
       " '0816': ['6722', '3450', '99', '2500', '3476', '4697'],\n",
       " '1206': ['4222', '5789', '3935'],\n",
       " '1211': ['523', '3929'],\n",
       " '1011': ['8473', '5258', '525', '4017', '4479'],\n",
       " '1021': ['438855', '5576', '3258', '5620', '1005', '5051'],\n",
       " '0416': ['4750', '558', '1953', '4157', '4367', '2186', '1748', '695'],\n",
       " '0421': ['53', '2246', '3232', '41', '2242'],\n",
       " '0406': ['1282', '883', '3025', '1453', '2573', '2370'],\n",
       " '0411': ['2258', '2180', '4436'],\n",
       " '0436': ['6034', '3062', '2166', '517', '77'],\n",
       " '0806': ['1346', '3461', '3474', '3467', '2189'],\n",
       " '0426': ['2703', '2702'],\n",
       " '0431': ['4045', '4704', '2152', '4179', '2001'],\n",
       " '3606': ['6382', '3949', '3941', '3946', '3952'],\n",
       " '3611': ['3928', '3956'],\n",
       " '3231': ['2472', '4486', '1422'],\n",
       " '3236': ['4488', '5922', '3028', '1405', '1426'],\n",
       " '4016': ['4189'],\n",
       " '4021': ['1154', '4413', '1164'],\n",
       " '4006': ['3582', '69', '2469', '554', '4300', '4703'],\n",
       " '4011': ['5985', '445', '813'],\n",
       " '2846': ['490', '2475', '2496', '1687', '1690', '1221', '4619'],\n",
       " '3206': ['668', '2467', '3683'],\n",
       " '2836': ['108', '4050', '1004'],\n",
       " '2841': ['c_4ee83dea', '1754', '1268', '2789', '5881', '2479', '1415'],\n",
       " '3221': ['494', '4366', '486'],\n",
       " '3226': ['2012', '4361', '3855', '1370', '2473', 'c_415bab24'],\n",
       " '3211': ['784', '873', '2059', '778', '795'],\n",
       " '3216': ['3278', '4705', '2175', '4554'],\n",
       " '2806': ['2398', '3307', '4184', '965', '540'],\n",
       " '2811': ['1909', '1916'],\n",
       " '2446': ['1310', '2504', '1321', '1325', '1021', '1326'],\n",
       " '2451': ['2656', '2489', '1039', '2639', '2632'],\n",
       " '2826': ['2517', '2690', '4706', '1700'],\n",
       " '2831': ['2688', '317', '2459', '3257'],\n",
       " '2816': ['52', '385', '3300', '3318'],\n",
       " '2821': ['4305', '1820', '85', '3487'],\n",
       " '2411': ['2486', '1809', '4602', '2510'],\n",
       " '2416': ['1452', '2149', '8469', '285', '2495'],\n",
       " '2036': ['474', '4291'],\n",
       " '2406': ['6332', '1850', '1016', '4370', '4671', '3239'],\n",
       " '2431': ['3151'],\n",
       " '2436': ['424', '2448', '1018'],\n",
       " '2421': ['1804', '1630'],\n",
       " '2426': ['1488', '1000']}"
      ]
     },
     "execution_count": 25,
     "metadata": {},
     "output_type": "execute_result"
    }
   ],
   "source": [
    "top_terms_per_microthesaurus"
   ]
  },
  {
   "cell_type": "code",
   "execution_count": null,
   "id": "3df5621b",
   "metadata": {},
   "outputs": [],
   "source": []
  },
  {
   "cell_type": "markdown",
   "id": "9975c6a1",
   "metadata": {},
   "source": [
    "### Издвајање концепата на основу хијерархије"
   ]
  },
  {
   "cell_type": "markdown",
   "id": "b60b6bef",
   "metadata": {},
   "source": [
    "Хијерархијске релације између концепата су пописане у датотеци *relation_bt.xml*."
   ]
  },
  {
   "cell_type": "code",
   "execution_count": 26,
   "id": "40dfea00",
   "metadata": {},
   "outputs": [],
   "source": [
    "relations_file = open('../data/eurovoc_thesaurus/relation_bt.xml', 'r')\n",
    "relations_content = relations_file.read()\n",
    "relations_soup = BeautifulSoup(relations_content, 'html.parser')"
   ]
  },
  {
   "cell_type": "markdown",
   "id": "b9254338",
   "metadata": {},
   "source": [
    "Функција *get_children_for_concept* нам може помоћи да прочитамо индетификаторе концепата који се налазе у хијерархији испод задатог концепта (обично такве концепте зовемо *децом*). "
   ]
  },
  {
   "cell_type": "code",
   "execution_count": 27,
   "id": "7da2efd4",
   "metadata": {},
   "outputs": [],
   "source": [
    "def get_children_for_concept(concept_id, relations_soup):\n",
    "    records = relations_soup.find_all('record')    \n",
    "    source_ids = []\n",
    "    for record in records:\n",
    "        source_id = record.select('source_id')[0].get_text()\n",
    "        cible_id = record.select('cible_id')[0].get_text()\n",
    "\n",
    "        if cible_id == concept_id:\n",
    "            source_ids.append(source_id)\n",
    "    return source_ids"
   ]
  },
  {
   "cell_type": "markdown",
   "id": "1ef45111",
   "metadata": {},
   "source": [
    "Можемо проверити који се то концепти налазе у хијерархији испод концепта *population dynamics* са иденгификатором 3318."
   ]
  },
  {
   "cell_type": "code",
   "execution_count": 28,
   "id": "bddedc89",
   "metadata": {},
   "outputs": [
    {
     "data": {
      "text/plain": [
       "['3324', '405', '4231', '4343', '4852', '6544']"
      ]
     },
     "execution_count": 28,
     "metadata": {},
     "output_type": "execute_result"
    }
   ],
   "source": [
    "get_children_for_concept('3318', relations_soup)"
   ]
  },
  {
   "cell_type": "markdown",
   "id": "e42cee60",
   "metadata": {},
   "source": [
    "Имена ових концепата можемо добити помоћу функције *get_concept_name*."
   ]
  },
  {
   "cell_type": "code",
   "execution_count": 29,
   "id": "e6dd1769",
   "metadata": {},
   "outputs": [
    {
     "name": "stdout",
     "output_type": "stream",
     "text": [
      "population ageing\n",
      "depopulation\n",
      "underpopulation\n",
      "overpopulation\n",
      "population growth\n",
      "generation renewal\n"
     ]
    }
   ],
   "source": [
    "children_concepts_3318 = get_children_for_concept('3318', relations_soup)\n",
    "for concept in children_concepts_3318:\n",
    "    concept_name = get_concept_name(concept, main_thesaurus_soup)\n",
    "    print(concept_name)"
   ]
  },
  {
   "cell_type": "code",
   "execution_count": null,
   "id": "0b44ed4c",
   "metadata": {},
   "outputs": [],
   "source": []
  },
  {
   "cell_type": "markdown",
   "id": "496fd763",
   "metadata": {},
   "source": [
    "Како ЕuroVoc хијерархија дозвољава угњежђавање концепата до дубине два, уколико желимо да добијемо и ову децу за задати концепт можемо искористити функцију *get_all_children_for_concept*. "
   ]
  },
  {
   "cell_type": "code",
   "execution_count": 30,
   "id": "e3544ae7",
   "metadata": {},
   "outputs": [],
   "source": [
    "def get_all_children_for_concept(concept_id, relations_soup):\n",
    "    all_children = []\n",
    "    \n",
    "    children = get_children_for_concept(concept_id, relations_soup)\n",
    "    for child in children:\n",
    "        all_children.append(child)\n",
    "        \n",
    "        children_level_1 = get_children_for_concept(child, relations_soup)\n",
    "        \n",
    "        for inner_child in children_level_1:\n",
    "            all_children.append(inner_child)\n",
    "            \n",
    "            children_level_2 = get_children_for_concept(inner_child, relations_soup)\n",
    "            for very_inner_child in children_level_2:\n",
    "                all_children.append(very_inner_child)\n",
    "        \n",
    "    return all_children"
   ]
  },
  {
   "cell_type": "markdown",
   "id": "d6a7c73c",
   "metadata": {},
   "source": [
    "Тако се, на пример, сва деца концепта \"демографија\" са идентификатором 385 могу добити следећим позивом:"
   ]
  },
  {
   "cell_type": "code",
   "execution_count": 31,
   "id": "9236cba6",
   "metadata": {},
   "outputs": [],
   "source": [
    "all_children_concepts_385 = get_all_children_for_concept('385', relations_soup)"
   ]
  },
  {
   "cell_type": "code",
   "execution_count": 32,
   "id": "310c8ddd",
   "metadata": {},
   "outputs": [
    {
     "name": "stdout",
     "output_type": "stream",
     "text": [
      "demographic analysis\n",
      "world population\n",
      "population census\n",
      "population statistics\n",
      "migration statistics\n",
      "population forecast\n",
      "mortality\n",
      "infant mortality\n",
      "occupational mortality\n",
      "births\n",
      "fertility\n",
      "marriage rate\n",
      "population policy\n",
      "birth policy\n",
      "life expectancy\n"
     ]
    }
   ],
   "source": [
    "for concept in all_children_concepts_385:\n",
    "    concept_name = get_concept_name(concept, main_thesaurus_soup)\n",
    "    print(concept_name)"
   ]
  },
  {
   "cell_type": "code",
   "execution_count": null,
   "id": "511937d7",
   "metadata": {},
   "outputs": [],
   "source": []
  },
  {
   "cell_type": "markdown",
   "id": "51147357",
   "metadata": {},
   "source": [
    "## Упаривање домена и свих концепата који му припадају"
   ]
  },
  {
   "cell_type": "markdown",
   "id": "c0633a08",
   "metadata": {},
   "source": [
    "Следећим блоком кода упарићемо информације о доменима и концептима који им припадају. Оваква структура нам је неопходне за трансформацију обележја скупа EurlLex57k на начин који је подесан за вишелабеларну класификацију. "
   ]
  },
  {
   "cell_type": "code",
   "execution_count": 33,
   "id": "e36dc98b",
   "metadata": {},
   "outputs": [],
   "source": [
    "concepts_per_domain = {}\n",
    "\n",
    "for (domain, microthesauruses) in microthesauruses_per_domain.items():\n",
    "    concepts = []\n",
    "    for microthesaurus_id in microthesauruses:\n",
    "        concepts_per_microthesaurus = get_concepts_for_microthesaurus(microthesaurus_id, main_thesaurus_soup)\n",
    "        concepts += concepts_per_microthesaurus\n",
    "        \n",
    "    concepts_per_domain[domain] = concepts"
   ]
  },
  {
   "cell_type": "markdown",
   "id": "55aee770",
   "metadata": {},
   "source": [
    "Сада се лако могу добити сви концепти који припадају домену науке. Има их укупно 133!"
   ]
  },
  {
   "cell_type": "code",
   "execution_count": 34,
   "id": "8f22b9e5",
   "metadata": {},
   "outputs": [],
   "source": [
    "science_concepts = concepts_per_domain['36']"
   ]
  },
  {
   "cell_type": "code",
   "execution_count": 35,
   "id": "4b0a8c8d",
   "metadata": {},
   "outputs": [
    {
     "data": {
      "text/plain": [
       "133"
      ]
     },
     "execution_count": 35,
     "metadata": {},
     "output_type": "execute_result"
    }
   ],
   "source": [
    "len(science_concepts)"
   ]
  },
  {
   "cell_type": "markdown",
   "id": "9cd75b6b",
   "metadata": {},
   "source": [
    "Овако креирану структуру ћемо сачувати за даље коришћење у датотеци са именом *concepts_per_domain.txt*. "
   ]
  },
  {
   "cell_type": "code",
   "execution_count": 37,
   "id": "97eda0d2",
   "metadata": {},
   "outputs": [],
   "source": [
    "with open('../data/concepts_per_domain.txt', 'w') as file:\n",
    "    file.write(str(concepts_per_domain))"
   ]
  },
  {
   "cell_type": "code",
   "execution_count": null,
   "id": "d678e650",
   "metadata": {},
   "outputs": [],
   "source": []
  }
 ],
 "metadata": {
  "kernelspec": {
   "display_name": "Python 3 (ipykernel)",
   "language": "python",
   "name": "python3"
  },
  "language_info": {
   "codemirror_mode": {
    "name": "ipython",
    "version": 3
   },
   "file_extension": ".py",
   "mimetype": "text/x-python",
   "name": "python",
   "nbconvert_exporter": "python",
   "pygments_lexer": "ipython3",
   "version": "3.9.5"
  }
 },
 "nbformat": 4,
 "nbformat_minor": 5
}
