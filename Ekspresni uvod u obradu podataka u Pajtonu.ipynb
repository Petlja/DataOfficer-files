{
 "cells": [
  {
   "cell_type": "markdown",
   "id": "0b5d3ec4",
   "metadata": {},
   "source": [
    "# Експресни увод у обраду података у Пајтону"
   ]
  },
  {
   "cell_type": "markdown",
   "id": "05664598",
   "metadata": {},
   "source": [
    "Овај курс се заснива на радној претпоставци да сте већ усвојили основе програмског језика Пајтон. Разумна претпоставка је, међутим, да нисте и да се са њим тек сада сусрећете. Ми ћемо се држати неразумне радне препоставке и брзо кренути са коришћењем Пајтона рачунајући на то да ћете ствари учити у лету. Спремни?\n",
    "\n",
    "Нама је заправо најбитније да обрађујемо податке у Пајтону. Од вас нико не очекује да програмирате већ да програмски код написан у Џупитер свескама користите. Уколико касније напишете неку програмску линију самостално, то ће бити успех само по себи.\n",
    "\n",
    "У овом уводу ћемо само представити основне појмове који су нам потребни за рад. Како то све функционише, видећете кроз примере. Из примера се свакако неће видети које су вам све опције на располагању. За то је потребан додатни рад. Ако дотле стигнете, то ће значити да сте већ на напредном нивоу."
   ]
  },
  {
   "cell_type": "markdown",
   "id": "5433cc2f",
   "metadata": {},
   "source": [
    "## Типови података"
   ]
  },
  {
   "cell_type": "markdown",
   "id": "7d259dbb",
   "metadata": {},
   "source": [
    "Основни типови података у Пајтону су цео број (_int_), децимални број (_float_), текст (_str_) и вредност логичког исказа (_boolean_). Комбинацијом основних типова променљивих можемо да добијемо сложеније типове. Функција `type()` нам приказује тип променљиве."
   ]
  },
  {
   "cell_type": "code",
   "execution_count": 1,
   "id": "82ed0167",
   "metadata": {},
   "outputs": [
    {
     "data": {
      "text/plain": [
       "int"
      ]
     },
     "execution_count": 1,
     "metadata": {},
     "output_type": "execute_result"
    }
   ],
   "source": [
    "type(5)"
   ]
  },
  {
   "cell_type": "code",
   "execution_count": 2,
   "id": "6d885749",
   "metadata": {},
   "outputs": [
    {
     "data": {
      "text/plain": [
       "float"
      ]
     },
     "execution_count": 2,
     "metadata": {},
     "output_type": "execute_result"
    }
   ],
   "source": [
    "type(5.1)"
   ]
  },
  {
   "cell_type": "code",
   "execution_count": 3,
   "id": "8da32ef6",
   "metadata": {},
   "outputs": [
    {
     "data": {
      "text/plain": [
       "str"
      ]
     },
     "execution_count": 3,
     "metadata": {},
     "output_type": "execute_result"
    }
   ],
   "source": [
    "type(\"Пајтон\")"
   ]
  },
  {
   "cell_type": "code",
   "execution_count": 4,
   "id": "8a39461a",
   "metadata": {},
   "outputs": [
    {
     "data": {
      "text/plain": [
       "bool"
      ]
     },
     "execution_count": 4,
     "metadata": {},
     "output_type": "execute_result"
    }
   ],
   "source": [
    "type(True)"
   ]
  },
  {
   "cell_type": "markdown",
   "id": "1b96c183",
   "metadata": {},
   "source": [
    "Имајте у виду да рачунске операције и функције за рад са подацима не раде исто за све типове променљивих. Неке операције чак раде и са различитим типовима. Погледајте примере. "
   ]
  },
  {
   "cell_type": "code",
   "execution_count": 5,
   "id": "b86ea708",
   "metadata": {},
   "outputs": [
    {
     "data": {
      "text/plain": [
       "4"
      ]
     },
     "execution_count": 5,
     "metadata": {},
     "output_type": "execute_result"
    }
   ],
   "source": [
    "2+2"
   ]
  },
  {
   "cell_type": "code",
   "execution_count": 6,
   "id": "8ffd3ae1",
   "metadata": {},
   "outputs": [
    {
     "data": {
      "text/plain": [
       "'рачунскеоперације'"
      ]
     },
     "execution_count": 6,
     "metadata": {},
     "output_type": "execute_result"
    }
   ],
   "source": [
    "\"рачунске\"+\"операције\""
   ]
  },
  {
   "cell_type": "markdown",
   "id": "65e8f609",
   "metadata": {},
   "source": [
    "## Структуре података"
   ]
  },
  {
   "cell_type": "markdown",
   "id": "eaed0a45",
   "metadata": {},
   "source": [
    "Структура података је начин на који податке организујемо и чувамо у меморији рачунара како бисмо тим подацима по потреби приступали. Најједноставније структуре су, наравно, саме променљиве. Низ променљивих већ представља листу."
   ]
  },
  {
   "cell_type": "markdown",
   "id": "41beca13",
   "metadata": {},
   "source": [
    "### Листе"
   ]
  },
  {
   "cell_type": "markdown",
   "id": "684ba9d3",
   "metadata": {},
   "source": [
    "Једнодимензионалне структуре података које најчешће користимо у Пајтону су листе. То су најопштији низови података који не морају да буду истог типа."
   ]
  },
  {
   "cell_type": "code",
   "execution_count": 7,
   "id": "addb4594",
   "metadata": {},
   "outputs": [],
   "source": [
    "lista=[2, \"други елемент\", 2==2, 19.4]"
   ]
  },
  {
   "cell_type": "code",
   "execution_count": 8,
   "id": "070bb9f0",
   "metadata": {},
   "outputs": [
    {
     "data": {
      "text/plain": [
       "[2, 'други елемент', True, 19.4]"
      ]
     },
     "execution_count": 8,
     "metadata": {},
     "output_type": "execute_result"
    }
   ],
   "source": [
    "lista"
   ]
  },
  {
   "cell_type": "code",
   "execution_count": 9,
   "id": "5b1247b3",
   "metadata": {},
   "outputs": [
    {
     "data": {
      "text/plain": [
       "list"
      ]
     },
     "execution_count": 9,
     "metadata": {},
     "output_type": "execute_result"
    }
   ],
   "source": [
    "type(lista)"
   ]
  },
  {
   "cell_type": "markdown",
   "id": "1da16ac6",
   "metadata": {},
   "source": [
    "Елементима листе се приступа преко индекса елемента. Пошто Пајтон елементе нумерише почевши од нултог, први елемент листе има индекс 0, други има индекс 1 итд."
   ]
  },
  {
   "cell_type": "code",
   "execution_count": 10,
   "id": "c2707277",
   "metadata": {
    "scrolled": true
   },
   "outputs": [
    {
     "data": {
      "text/plain": [
       "2"
      ]
     },
     "execution_count": 10,
     "metadata": {},
     "output_type": "execute_result"
    }
   ],
   "source": [
    "lista[0]"
   ]
  },
  {
   "cell_type": "markdown",
   "id": "2408f6dd",
   "metadata": {},
   "source": [
    "Ако хоћете да додате елемент листи, то можете да урадите помоћу функције `append()` или једноставно да додате елемент са + [нови елемент]. За уметање елемента на одређено место у листи можете да користите `insert()` мада је и ово једноставније помоћу индекса. "
   ]
  },
  {
   "cell_type": "code",
   "execution_count": 11,
   "id": "ee5eff16",
   "metadata": {},
   "outputs": [],
   "source": [
    "lista.append(\"пети елемент\")\n",
    "# или\n",
    "# lista=lista+[\"пети елемент\"]"
   ]
  },
  {
   "cell_type": "markdown",
   "id": "b2e0573b",
   "metadata": {},
   "source": [
    "Обратите пажњу на нетипичан начин на који се у Пајтону позива функција -- иза имена променљиве ставимо тачку и име функције."
   ]
  },
  {
   "cell_type": "code",
   "execution_count": 12,
   "id": "6fc5ade6",
   "metadata": {},
   "outputs": [
    {
     "data": {
      "text/plain": [
       "[2, 'други елемент', True, 19.4, 'пети елемент']"
      ]
     },
     "execution_count": 12,
     "metadata": {},
     "output_type": "execute_result"
    }
   ],
   "source": [
    "lista"
   ]
  },
  {
   "cell_type": "code",
   "execution_count": 13,
   "id": "c7105ca7",
   "metadata": {},
   "outputs": [],
   "source": [
    "lista[2]=False"
   ]
  },
  {
   "cell_type": "code",
   "execution_count": 14,
   "id": "44703286",
   "metadata": {
    "scrolled": true
   },
   "outputs": [
    {
     "data": {
      "text/plain": [
       "[2, 'други елемент', False, 19.4, 'пети елемент']"
      ]
     },
     "execution_count": 14,
     "metadata": {},
     "output_type": "execute_result"
    }
   ],
   "source": [
    "lista"
   ]
  },
  {
   "cell_type": "markdown",
   "id": "b001e57f",
   "metadata": {},
   "source": [
    "### DataFrame"
   ]
  },
  {
   "cell_type": "markdown",
   "id": "16b84c1f",
   "metadata": {},
   "source": [
    "За дводимензиналне податке (табеле) најчешће користимо _DataFrame_. Основно окружење Пајтона нема тип _DataFrame_ и функције за рад са овом структуром. Неопходно је да учитамо библиотеку __pandas__ која садржи све што нам је неопходно."
   ]
  },
  {
   "cell_type": "code",
   "execution_count": 15,
   "id": "ff5d7628",
   "metadata": {},
   "outputs": [],
   "source": [
    "import pandas as pd"
   ]
  },
  {
   "cell_type": "markdown",
   "id": "d88c4161",
   "metadata": {},
   "source": [
    "Приметите да смо учитали __pandas__ биоблиотеку и назвали је __pd__. Ово смо учинили да бисмо касније мање куцали при позивању фукција ове библиотеке. Свака фукција из библиотеке __Pandas__ се позива са __pd.__+назив функције. Видећете касније на примерима како то функционише."
   ]
  },
  {
   "cell_type": "markdown",
   "id": "3a7d6b82",
   "metadata": {},
   "source": [
    "Сада ћемо направити једну једноставну табелу. _DataFrame_ можемо да формирамо тако што направимо листу листа па онда резултат претворимо у _DataFrame_ уз помоћ истоимене функције."
   ]
  },
  {
   "cell_type": "code",
   "execution_count": 16,
   "id": "edb7beb0",
   "metadata": {},
   "outputs": [],
   "source": [
    "lista2=[[\"Београд\", \"BG\", 11000],\n",
    "        [\"Нови Сад\", \"NS\", 21000],\n",
    "        [\"Ниш\", \"NI\", 18000]]"
   ]
  },
  {
   "cell_type": "code",
   "execution_count": 17,
   "id": "b17802fa",
   "metadata": {},
   "outputs": [
    {
     "data": {
      "text/plain": [
       "[['Београд', 'BG', 11000], ['Нови Сад', 'NS', 21000], ['Ниш', 'NI', 18000]]"
      ]
     },
     "execution_count": 17,
     "metadata": {},
     "output_type": "execute_result"
    }
   ],
   "source": [
    "lista2"
   ]
  },
  {
   "cell_type": "code",
   "execution_count": 18,
   "id": "0b1f9dea",
   "metadata": {},
   "outputs": [],
   "source": [
    "df=pd.DataFrame(lista2)"
   ]
  },
  {
   "cell_type": "code",
   "execution_count": 19,
   "id": "5e95f5d1",
   "metadata": {},
   "outputs": [
    {
     "data": {
      "text/html": [
       "<div>\n",
       "<style scoped>\n",
       "    .dataframe tbody tr th:only-of-type {\n",
       "        vertical-align: middle;\n",
       "    }\n",
       "\n",
       "    .dataframe tbody tr th {\n",
       "        vertical-align: top;\n",
       "    }\n",
       "\n",
       "    .dataframe thead th {\n",
       "        text-align: right;\n",
       "    }\n",
       "</style>\n",
       "<table border=\"1\" class=\"dataframe\">\n",
       "  <thead>\n",
       "    <tr style=\"text-align: right;\">\n",
       "      <th></th>\n",
       "      <th>0</th>\n",
       "      <th>1</th>\n",
       "      <th>2</th>\n",
       "    </tr>\n",
       "  </thead>\n",
       "  <tbody>\n",
       "    <tr>\n",
       "      <th>0</th>\n",
       "      <td>Београд</td>\n",
       "      <td>BG</td>\n",
       "      <td>11000</td>\n",
       "    </tr>\n",
       "    <tr>\n",
       "      <th>1</th>\n",
       "      <td>Нови Сад</td>\n",
       "      <td>NS</td>\n",
       "      <td>21000</td>\n",
       "    </tr>\n",
       "    <tr>\n",
       "      <th>2</th>\n",
       "      <td>Ниш</td>\n",
       "      <td>NI</td>\n",
       "      <td>18000</td>\n",
       "    </tr>\n",
       "  </tbody>\n",
       "</table>\n",
       "</div>"
      ],
      "text/plain": [
       "          0   1      2\n",
       "0   Београд  BG  11000\n",
       "1  Нови Сад  NS  21000\n",
       "2       Ниш  NI  18000"
      ]
     },
     "execution_count": 19,
     "metadata": {},
     "output_type": "execute_result"
    }
   ],
   "source": [
    "df"
   ]
  },
  {
   "cell_type": "markdown",
   "id": "cc874a64",
   "metadata": {},
   "source": [
    "Поља у различитим колонама ове табеле могу садржати различите типове променљивих. У нашем примеру две колоне садрже текстове, а једна бројеве. "
   ]
  },
  {
   "cell_type": "markdown",
   "id": "5fd37d31",
   "metadata": {},
   "source": [
    "Видимо да Пајтон ставља ознаке за колоне и редове иако то нисмо тражили. Ако нам се не свиђају, боље је да неведемо називе колона при креирању структуре __df__. \n",
    "\n",
    "Назив колоне у табели може да буде било који текст, али то није препоручљиво. Из практичних разлога добро је да називи колона буду кратки, по могућству да то буде само једна реч. Има функција које чак не раде како треба ако назив колоне није једна реч. Зато је некад добро преименовати колоне пре обраде података."
   ]
  },
  {
   "cell_type": "code",
   "execution_count": 20,
   "id": "4536cf56",
   "metadata": {},
   "outputs": [],
   "source": [
    "df=pd.DataFrame(lista2,columns=['Grad',\"Auto_oznaka\",\"Poštanski_broj\"])"
   ]
  },
  {
   "cell_type": "code",
   "execution_count": 21,
   "id": "f944725e",
   "metadata": {},
   "outputs": [
    {
     "data": {
      "text/html": [
       "<div>\n",
       "<style scoped>\n",
       "    .dataframe tbody tr th:only-of-type {\n",
       "        vertical-align: middle;\n",
       "    }\n",
       "\n",
       "    .dataframe tbody tr th {\n",
       "        vertical-align: top;\n",
       "    }\n",
       "\n",
       "    .dataframe thead th {\n",
       "        text-align: right;\n",
       "    }\n",
       "</style>\n",
       "<table border=\"1\" class=\"dataframe\">\n",
       "  <thead>\n",
       "    <tr style=\"text-align: right;\">\n",
       "      <th></th>\n",
       "      <th>Grad</th>\n",
       "      <th>Auto_oznaka</th>\n",
       "      <th>Poštanski_broj</th>\n",
       "    </tr>\n",
       "  </thead>\n",
       "  <tbody>\n",
       "    <tr>\n",
       "      <th>0</th>\n",
       "      <td>Београд</td>\n",
       "      <td>BG</td>\n",
       "      <td>11000</td>\n",
       "    </tr>\n",
       "    <tr>\n",
       "      <th>1</th>\n",
       "      <td>Нови Сад</td>\n",
       "      <td>NS</td>\n",
       "      <td>21000</td>\n",
       "    </tr>\n",
       "    <tr>\n",
       "      <th>2</th>\n",
       "      <td>Ниш</td>\n",
       "      <td>NI</td>\n",
       "      <td>18000</td>\n",
       "    </tr>\n",
       "  </tbody>\n",
       "</table>\n",
       "</div>"
      ],
      "text/plain": [
       "       Grad Auto_oznaka  Poštanski_broj\n",
       "0   Београд          BG           11000\n",
       "1  Нови Сад          NS           21000\n",
       "2       Ниш          NI           18000"
      ]
     },
     "execution_count": 21,
     "metadata": {},
     "output_type": "execute_result"
    }
   ],
   "source": [
    "df"
   ]
  },
  {
   "cell_type": "markdown",
   "id": "ba7f4269",
   "metadata": {},
   "source": [
    "Да бисмо издвојили неку колону, довољно је да уз име табеле ставимо тачку и наведемо њен назив. "
   ]
  },
  {
   "cell_type": "code",
   "execution_count": 22,
   "id": "b2879312",
   "metadata": {},
   "outputs": [
    {
     "data": {
      "text/plain": [
       "0    BG\n",
       "1    NS\n",
       "2    NI\n",
       "Name: Auto_oznaka, dtype: object"
      ]
     },
     "execution_count": 22,
     "metadata": {},
     "output_type": "execute_result"
    }
   ],
   "source": [
    "df.Auto_oznaka"
   ]
  },
  {
   "cell_type": "markdown",
   "id": "56504a2d",
   "metadata": {},
   "source": [
    "Алтернативно, можемо да наведемо назив колоне као индекс у угластим заградама."
   ]
  },
  {
   "cell_type": "code",
   "execution_count": 23,
   "id": "d5ee0362",
   "metadata": {},
   "outputs": [
    {
     "data": {
      "text/plain": [
       "0    BG\n",
       "1    NS\n",
       "2    NI\n",
       "Name: Auto_oznaka, dtype: object"
      ]
     },
     "execution_count": 23,
     "metadata": {},
     "output_type": "execute_result"
    }
   ],
   "source": [
    "df['Auto_oznaka']"
   ]
  },
  {
   "cell_type": "markdown",
   "id": "52adafd8",
   "metadata": {},
   "source": [
    "Колоне и редови увек имају своје ознаке, макар биле и бројеви 0, 1, 2... То нам олакшава да приступимо подацима у табели.\n",
    "\n",
    "Постоји неколико начина како да приступимо елементима табеле. Наводимо овде два примера која би требало да буду разумљиви и без посебног објашњења."
   ]
  },
  {
   "cell_type": "code",
   "execution_count": 24,
   "id": "d030bb86",
   "metadata": {},
   "outputs": [
    {
     "data": {
      "text/plain": [
       "'Ниш'"
      ]
     },
     "execution_count": 24,
     "metadata": {},
     "output_type": "execute_result"
    }
   ],
   "source": [
    "df.Grad[2]"
   ]
  },
  {
   "cell_type": "code",
   "execution_count": 25,
   "id": "dd0996e2",
   "metadata": {},
   "outputs": [
    {
     "data": {
      "text/plain": [
       "'Ниш'"
      ]
     },
     "execution_count": 25,
     "metadata": {},
     "output_type": "execute_result"
    }
   ],
   "source": [
    "df['Grad'][2]"
   ]
  },
  {
   "cell_type": "markdown",
   "id": "4d47068e",
   "metadata": {},
   "source": [
    "`iloc[]` је посебна врста функције (_accessor_) која нам омогућава да елементима табеле приступимо на још један начин. Њени аргументи су индекси редова и колона."
   ]
  },
  {
   "cell_type": "code",
   "execution_count": 26,
   "id": "7b82dc89",
   "metadata": {},
   "outputs": [
    {
     "data": {
      "text/plain": [
       "'Ниш'"
      ]
     },
     "execution_count": 26,
     "metadata": {},
     "output_type": "execute_result"
    }
   ],
   "source": [
    "df.iloc[2,0]"
   ]
  },
  {
   "cell_type": "markdown",
   "id": "93418f1f",
   "metadata": {},
   "source": [
    "### Мета-подаци "
   ]
  },
  {
   "cell_type": "markdown",
   "id": "97e088fc",
   "metadata": {},
   "source": [
    "Корисне мета-податке о табели можете да добијете користећи низ функција садржаних у библиотеци __pandas__. Ево неколико примера:\n",
    "- __columns__ називи колона\n",
    "- __index__ називи редова\n",
    "- __ndim__ број димензија табеле\n",
    "- __shape__ број редова и колона табеле\n",
    "- __info()__ преглед основних информација\n",
    "- __memory_usage()__ потрошња меморије\n"
   ]
  },
  {
   "cell_type": "code",
   "execution_count": 27,
   "id": "51cd9bca",
   "metadata": {},
   "outputs": [
    {
     "data": {
      "text/plain": [
       "(3, 3)"
      ]
     },
     "execution_count": 27,
     "metadata": {},
     "output_type": "execute_result"
    }
   ],
   "source": [
    "df.shape"
   ]
  },
  {
   "cell_type": "markdown",
   "id": "50e77716",
   "metadata": {},
   "source": [
    "Ово је био врло кратак преглед основних типова и структура података. У примерима које будемо обрађивали током овог курса вероватно ћемо користити само њих."
   ]
  }
 ],
 "metadata": {
  "kernelspec": {
   "display_name": "Python 3",
   "language": "python",
   "name": "python3"
  },
  "language_info": {
   "codemirror_mode": {
    "name": "ipython",
    "version": 3
   },
   "file_extension": ".py",
   "mimetype": "text/x-python",
   "name": "python",
   "nbconvert_exporter": "python",
   "pygments_lexer": "ipython3",
   "version": "3.8.8"
  }
 },
 "nbformat": 4,
 "nbformat_minor": 5
}
