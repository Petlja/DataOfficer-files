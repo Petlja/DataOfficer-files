{
 "cells": [
  {
   "cell_type": "markdown",
   "id": "0b5d3ec4",
   "metadata": {},
   "source": [
    "# Пример свеске за лекцију Експресни увод у обраду података у Пајтону"
   ]
  },
  {
   "cell_type": "markdown",
   "id": "05664598",
   "metadata": {},
   "source": [
    "Ово је пример радне свеске који прати лекцију [Експресни увод у обраду података у Пајтону](https://petlja.org/biblioteka/r/lekcije/DataOfficer-jupyter/ekspresni-uvod-u-obradu-podataka-u-pajtonu)  у оквиру [Приручника за службенике за податке.](https://petlja.org/biblioteka/r/kursevi/DataOfficer-jupyter)\n"
   ]
  },
  {
   "cell_type": "markdown",
   "id": "6c945f6c-4689-41fe-9242-58e6a0cd8671",
   "metadata": {
    "tags": []
   },
   "source": [
    "## Типови података"
   ]
  },
  {
   "cell_type": "markdown",
   "id": "6b102af2-e751-478f-a4c3-8cc66033ee43",
   "metadata": {},
   "source": [
    "Основни типови података у Пајтону су цео број (_int_), децимални број (_float_), текст (_str_) и вредност логичког исказа (_boolean_). Комбинацијом основних типова променљивих можемо да добијемо сложеније типове. Функција `type()` нам приказује тип променљиве."
   ]
  },
  {
   "cell_type": "code",
   "execution_count": 3,
   "id": "746da67c-8a10-4fd3-80eb-81abce14bf2c",
   "metadata": {},
   "outputs": [
    {
     "data": {
      "text/plain": [
       "int"
      ]
     },
     "execution_count": 3,
     "metadata": {},
     "output_type": "execute_result"
    }
   ],
   "source": [
    "type(5)"
   ]
  },
  {
   "cell_type": "code",
   "execution_count": 4,
   "id": "18788dfa-60d4-4041-9851-9e77d0cd8c43",
   "metadata": {},
   "outputs": [
    {
     "data": {
      "text/plain": [
       "float"
      ]
     },
     "execution_count": 4,
     "metadata": {},
     "output_type": "execute_result"
    }
   ],
   "source": [
    "type(5.1)"
   ]
  },
  {
   "cell_type": "code",
   "execution_count": 5,
   "id": "29896bae-f732-4860-8445-58a724fa0eba",
   "metadata": {},
   "outputs": [
    {
     "data": {
      "text/plain": [
       "str"
      ]
     },
     "execution_count": 5,
     "metadata": {},
     "output_type": "execute_result"
    }
   ],
   "source": [
    "type(\"Пајтон\")"
   ]
  },
  {
   "cell_type": "code",
   "execution_count": 6,
   "id": "0e3ce459-ebb0-44e6-9b72-fb46755685ee",
   "metadata": {},
   "outputs": [
    {
     "data": {
      "text/plain": [
       "bool"
      ]
     },
     "execution_count": 6,
     "metadata": {},
     "output_type": "execute_result"
    }
   ],
   "source": [
    "type(True)"
   ]
  },
  {
   "cell_type": "markdown",
   "id": "8b4c16b2-2447-4fc4-86a3-41700b0c7347",
   "metadata": {},
   "source": [
    "Имајте у виду да рачунске операције и функције за рад са подацима не раде исто за све типове променљивих. Неке операције чак раде и са различитим типовима. Погледајте примере. "
   ]
  },
  {
   "cell_type": "code",
   "execution_count": 7,
   "id": "273a32dd-7121-458d-827b-bc892c86d4bf",
   "metadata": {},
   "outputs": [
    {
     "data": {
      "text/plain": [
       "4"
      ]
     },
     "execution_count": 7,
     "metadata": {},
     "output_type": "execute_result"
    }
   ],
   "source": [
    "2+2"
   ]
  },
  {
   "cell_type": "code",
   "execution_count": 8,
   "id": "cb5b2e4e-b571-4ece-a416-094532d47c52",
   "metadata": {},
   "outputs": [
    {
     "data": {
      "text/plain": [
       "'рачунскеоперације'"
      ]
     },
     "execution_count": 8,
     "metadata": {},
     "output_type": "execute_result"
    }
   ],
   "source": [
    "\"рачунске\"+\"операције\""
   ]
  },
  {
   "cell_type": "markdown",
   "id": "3c87b507-94e4-441f-8ff3-1bbfb2fca3a7",
   "metadata": {},
   "source": [
    "## Структуре података"
   ]
  },
  {
   "cell_type": "markdown",
   "id": "80fed36b-1799-4b02-a751-3c17f2aba4ba",
   "metadata": {},
   "source": [
    "Структура података је начин на који податке организујемо и чувамо у меморији рачунара како бисмо тим подацима по потреби приступали. То могу да буду појединачни подаци, њихови низови, табеле или нешто још сложеније. Базе података податке чувају у табелама. Програмски језици имају мноштво различитих структура. Најједноставније структуре су, наравно, саме променљиве. Променљивама увек дамо неко име и доделимо јој бројчану, текстуалну или логичку вредност. Неки програмски језици инсистирају да напишемо ког је типа променљива. Пајтон није такав, он покушава да погоди тип променљиве на основу онога што смо унели као вредност. Број 5 је број, а текст \"5\" је текст."
   ]
  },
  {
   "cell_type": "markdown",
   "id": "ba74aa9b-fd18-4b2f-9819-73fa8fabfe83",
   "metadata": {},
   "source": [
    "### Листе"
   ]
  },
  {
   "cell_type": "markdown",
   "id": "398cfe51-37a4-427d-88a1-700ace689285",
   "metadata": {},
   "source": [
    "Када података под истим именом има више, онда нам је потребна сложенија структура. Једнодимензионалне структуре података које најчешће користимо у Пајтону су листе. То су најопштији низови података који не морају да буду истог типа."
   ]
  },
  {
   "cell_type": "code",
   "execution_count": 9,
   "id": "2c82a056-0627-4e64-bf58-3b9fd6cf8d9c",
   "metadata": {},
   "outputs": [],
   "source": [
    "lista=[2, \"други елемент\", 2==2, 19.4]"
   ]
  },
  {
   "cell_type": "code",
   "execution_count": 10,
   "id": "2e7eeb24-4fee-4090-acf3-b5385643e0d2",
   "metadata": {},
   "outputs": [
    {
     "data": {
      "text/plain": [
       "[2, 'други елемент', True, 19.4]"
      ]
     },
     "execution_count": 10,
     "metadata": {},
     "output_type": "execute_result"
    }
   ],
   "source": [
    "lista"
   ]
  },
  {
   "cell_type": "code",
   "execution_count": 11,
   "id": "19d9a0fc-16ad-4e39-abfe-ac74e1f4c3aa",
   "metadata": {},
   "outputs": [
    {
     "data": {
      "text/plain": [
       "list"
      ]
     },
     "execution_count": 11,
     "metadata": {},
     "output_type": "execute_result"
    }
   ],
   "source": [
    "type(lista)"
   ]
  },
  {
   "cell_type": "markdown",
   "id": "08e2d2bc-dfea-4ea5-95dd-ffc07d5eb49d",
   "metadata": {},
   "source": [
    "Елементима листе се приступа преко индекса елемента. Пошто Пајтон елементе нумерише почевши од нултог, први елемент листе има индекс 0, други има индекс 1 итд."
   ]
  },
  {
   "cell_type": "code",
   "execution_count": 12,
   "id": "9a4e0cdb-46e0-4c17-9497-fedafd4e9aa6",
   "metadata": {
    "tags": []
   },
   "outputs": [
    {
     "data": {
      "text/plain": [
       "2"
      ]
     },
     "execution_count": 12,
     "metadata": {},
     "output_type": "execute_result"
    }
   ],
   "source": [
    "lista[0]"
   ]
  },
  {
   "cell_type": "markdown",
   "id": "a883b438-591f-4a48-aced-ad533b812cb2",
   "metadata": {},
   "source": [
    "Ако хоћете да додате елемент листи, то можете да урадите помоћу функције `append()` или једноставно да додате елемент са + [нови елемент]. За уметање елемента на одређено место у листи можете да користите `insert()` мада је и ово једноставније помоћу индекса. "
   ]
  },
  {
   "cell_type": "code",
   "execution_count": 13,
   "id": "ed51002e-00a4-4a08-9aa9-21e5cf9c9501",
   "metadata": {},
   "outputs": [],
   "source": [
    "lista.append(\"пети елемент\")\n",
    "# или\n",
    "# lista=lista+[\"пети елемент\"]"
   ]
  },
  {
   "cell_type": "markdown",
   "id": "56d06047-46c9-404f-bc0a-2f86e1c74992",
   "metadata": {},
   "source": [
    "Обратите пажњу на нетипичан начин на који се у Пајтону позива функција -- иза имена променљиве ставимо тачку и име функције."
   ]
  },
  {
   "cell_type": "code",
   "execution_count": 14,
   "id": "98ecd4e9-e5d5-40b3-86ae-0eb389aa5b9e",
   "metadata": {},
   "outputs": [
    {
     "data": {
      "text/plain": [
       "[2, 'други елемент', True, 19.4, 'пети елемент']"
      ]
     },
     "execution_count": 14,
     "metadata": {},
     "output_type": "execute_result"
    }
   ],
   "source": [
    "lista"
   ]
  },
  {
   "cell_type": "code",
   "execution_count": 15,
   "id": "bfc8d7fe-db03-408b-8185-7e7bea54f2cc",
   "metadata": {},
   "outputs": [],
   "source": [
    "lista[2]=False"
   ]
  },
  {
   "cell_type": "code",
   "execution_count": 16,
   "id": "fb0d4b20-8b04-4266-9f7c-e46292a009a2",
   "metadata": {
    "tags": []
   },
   "outputs": [
    {
     "data": {
      "text/plain": [
       "[2, 'други елемент', False, 19.4, 'пети елемент']"
      ]
     },
     "execution_count": 16,
     "metadata": {},
     "output_type": "execute_result"
    }
   ],
   "source": [
    "lista"
   ]
  },
  {
   "cell_type": "markdown",
   "id": "405b2113-408d-4a29-aaae-c756e2e8491e",
   "metadata": {},
   "source": [
    "### DataFrame"
   ]
  },
  {
   "cell_type": "markdown",
   "id": "ecfce835-70cc-4ee1-b837-41b113e30b39",
   "metadata": {},
   "source": [
    "За дводимензионалне податке (табеле) најчешће користимо _DataFrame_. Основно окружење Пајтона нема тип _DataFrame_ и функције за рад са овом структуром. Неопходно је да учитамо библиотеку __pandas__ која садржи све што нам је неопходно."
   ]
  },
  {
   "cell_type": "code",
   "execution_count": 17,
   "id": "b7f5fc55-c4ca-48dc-8dab-3fa65c58a1ab",
   "metadata": {},
   "outputs": [],
   "source": [
    "import pandas as pd"
   ]
  },
  {
   "cell_type": "markdown",
   "id": "131bf73a-de6d-4a78-b19b-79646e3ac87a",
   "metadata": {},
   "source": [
    "Приметите да смо учитали __pandas__ библиотеку и назвали је __pd__. Ово смо учинили да бисмо касније мање куцали при позивању функција ове библиотеке. Свака функција из библиотеке __Pandas__ се позива са __pd.__+назив функције. Видећете касније на примерима како то функционише."
   ]
  },
  {
   "cell_type": "markdown",
   "id": "1d1160e7-cbd8-4b6f-97cb-46c7db9ac211",
   "metadata": {},
   "source": [
    "Сада ћемо направити једну једноставну табелу. _DataFrame_ можемо да формирамо тако што направимо листу листа па онда резултат претворимо у _DataFrame_ уз помоћ истоимене функције."
   ]
  },
  {
   "cell_type": "code",
   "execution_count": 18,
   "id": "f064b137-527c-4013-9fe7-94fee6a31841",
   "metadata": {},
   "outputs": [],
   "source": [
    "lista2=[[\"Београд\", \"BG\", 11000],\n",
    "        [\"Нови Сад\", \"NS\", 21000],\n",
    "        [\"Ниш\", \"NI\", 18000]]"
   ]
  },
  {
   "cell_type": "code",
   "execution_count": 19,
   "id": "e1607953-2920-4840-9a8c-38fc1f059424",
   "metadata": {},
   "outputs": [
    {
     "data": {
      "text/plain": [
       "[['Београд', 'BG', 11000], ['Нови Сад', 'NS', 21000], ['Ниш', 'NI', 18000]]"
      ]
     },
     "execution_count": 19,
     "metadata": {},
     "output_type": "execute_result"
    }
   ],
   "source": [
    "lista2"
   ]
  },
  {
   "cell_type": "code",
   "execution_count": 20,
   "id": "d9e99ace-eb9d-4492-8192-edfcc076d69c",
   "metadata": {},
   "outputs": [],
   "source": [
    "df=pd.DataFrame(lista2)"
   ]
  },
  {
   "cell_type": "code",
   "execution_count": 21,
   "id": "068d789f-4e6a-4dc5-979a-0a82755347ea",
   "metadata": {},
   "outputs": [
    {
     "data": {
      "text/html": [
       "<div>\n",
       "<style scoped>\n",
       "    .dataframe tbody tr th:only-of-type {\n",
       "        vertical-align: middle;\n",
       "    }\n",
       "\n",
       "    .dataframe tbody tr th {\n",
       "        vertical-align: top;\n",
       "    }\n",
       "\n",
       "    .dataframe thead th {\n",
       "        text-align: right;\n",
       "    }\n",
       "</style>\n",
       "<table border=\"1\" class=\"dataframe\">\n",
       "  <thead>\n",
       "    <tr style=\"text-align: right;\">\n",
       "      <th></th>\n",
       "      <th>0</th>\n",
       "      <th>1</th>\n",
       "      <th>2</th>\n",
       "    </tr>\n",
       "  </thead>\n",
       "  <tbody>\n",
       "    <tr>\n",
       "      <th>0</th>\n",
       "      <td>Београд</td>\n",
       "      <td>BG</td>\n",
       "      <td>11000</td>\n",
       "    </tr>\n",
       "    <tr>\n",
       "      <th>1</th>\n",
       "      <td>Нови Сад</td>\n",
       "      <td>NS</td>\n",
       "      <td>21000</td>\n",
       "    </tr>\n",
       "    <tr>\n",
       "      <th>2</th>\n",
       "      <td>Ниш</td>\n",
       "      <td>NI</td>\n",
       "      <td>18000</td>\n",
       "    </tr>\n",
       "  </tbody>\n",
       "</table>\n",
       "</div>"
      ],
      "text/plain": [
       "          0   1      2\n",
       "0   Београд  BG  11000\n",
       "1  Нови Сад  NS  21000\n",
       "2       Ниш  NI  18000"
      ]
     },
     "execution_count": 21,
     "metadata": {},
     "output_type": "execute_result"
    }
   ],
   "source": [
    "df"
   ]
  },
  {
   "cell_type": "markdown",
   "id": "ef48f8ff-b9e8-4e04-ae1c-20be8c7ee192",
   "metadata": {},
   "source": [
    "Поља у различитим колонама ове табеле могу садржати различите типове променљивих. У нашем примеру две колоне садрже текстове, а једна бројеве. "
   ]
  },
  {
   "cell_type": "markdown",
   "id": "c9a338f5-66f3-482b-8dac-a5c72a3a0aac",
   "metadata": {},
   "source": [
    "Видимо да Пајтон ставља ознаке за колоне и редове иако то нисмо тражили. Ако нам се не свиђају, боље је да наведемо називе колона при креирању структуре __df__. \n",
    "\n",
    "Назив колоне у табели може да буде било који текст, али то није препоручљиво. Из практичних разлога добро је да називи колона буду кратки, по могућству да то буде само једна реч. Има функција које чак не раде како треба ако назив колоне није једна реч. Зато је некад добро преименовати колоне пре обраде података."
   ]
  },
  {
   "cell_type": "code",
   "execution_count": 22,
   "id": "85e34483-55bb-448e-bdcc-1a319f37c5ae",
   "metadata": {},
   "outputs": [],
   "source": [
    "df=pd.DataFrame(lista2,columns=['Grad',\"Auto_oznaka\",\"Poštanski_broj\"])"
   ]
  },
  {
   "cell_type": "code",
   "execution_count": 23,
   "id": "b8e985e4-f1a2-41e1-b824-01ffd1a195a5",
   "metadata": {},
   "outputs": [
    {
     "data": {
      "text/html": [
       "<div>\n",
       "<style scoped>\n",
       "    .dataframe tbody tr th:only-of-type {\n",
       "        vertical-align: middle;\n",
       "    }\n",
       "\n",
       "    .dataframe tbody tr th {\n",
       "        vertical-align: top;\n",
       "    }\n",
       "\n",
       "    .dataframe thead th {\n",
       "        text-align: right;\n",
       "    }\n",
       "</style>\n",
       "<table border=\"1\" class=\"dataframe\">\n",
       "  <thead>\n",
       "    <tr style=\"text-align: right;\">\n",
       "      <th></th>\n",
       "      <th>Grad</th>\n",
       "      <th>Auto_oznaka</th>\n",
       "      <th>Poštanski_broj</th>\n",
       "    </tr>\n",
       "  </thead>\n",
       "  <tbody>\n",
       "    <tr>\n",
       "      <th>0</th>\n",
       "      <td>Београд</td>\n",
       "      <td>BG</td>\n",
       "      <td>11000</td>\n",
       "    </tr>\n",
       "    <tr>\n",
       "      <th>1</th>\n",
       "      <td>Нови Сад</td>\n",
       "      <td>NS</td>\n",
       "      <td>21000</td>\n",
       "    </tr>\n",
       "    <tr>\n",
       "      <th>2</th>\n",
       "      <td>Ниш</td>\n",
       "      <td>NI</td>\n",
       "      <td>18000</td>\n",
       "    </tr>\n",
       "  </tbody>\n",
       "</table>\n",
       "</div>"
      ],
      "text/plain": [
       "       Grad Auto_oznaka  Poštanski_broj\n",
       "0   Београд          BG           11000\n",
       "1  Нови Сад          NS           21000\n",
       "2       Ниш          NI           18000"
      ]
     },
     "execution_count": 23,
     "metadata": {},
     "output_type": "execute_result"
    }
   ],
   "source": [
    "df"
   ]
  },
  {
   "cell_type": "markdown",
   "id": "7a739b42-b7e0-42ba-9078-9a1dd6683600",
   "metadata": {},
   "source": [
    "Да бисмо издвојили неку колону, довољно је да уз име табеле ставимо тачку и наведемо њен назив. "
   ]
  },
  {
   "cell_type": "code",
   "execution_count": 24,
   "id": "44cdd8fb-e617-4f7e-b86a-e4117b9825ee",
   "metadata": {},
   "outputs": [
    {
     "data": {
      "text/plain": [
       "0    BG\n",
       "1    NS\n",
       "2    NI\n",
       "Name: Auto_oznaka, dtype: object"
      ]
     },
     "execution_count": 24,
     "metadata": {},
     "output_type": "execute_result"
    }
   ],
   "source": [
    "df.Auto_oznaka"
   ]
  },
  {
   "cell_type": "markdown",
   "id": "c8c8986e-27ca-4efa-8f8d-c7ca9d418c79",
   "metadata": {},
   "source": [
    "Алтернативно, можемо да наведемо назив колоне као индекс у угластим заградама."
   ]
  },
  {
   "cell_type": "code",
   "execution_count": 25,
   "id": "8bfa8528-eeb7-4475-80d7-e79844a063a0",
   "metadata": {},
   "outputs": [
    {
     "data": {
      "text/plain": [
       "0    BG\n",
       "1    NS\n",
       "2    NI\n",
       "Name: Auto_oznaka, dtype: object"
      ]
     },
     "execution_count": 25,
     "metadata": {},
     "output_type": "execute_result"
    }
   ],
   "source": [
    "df['Auto_oznaka']"
   ]
  },
  {
   "cell_type": "markdown",
   "id": "20435e5f-bc54-4dce-955c-51e817d9a04d",
   "metadata": {},
   "source": [
    "Колоне и редови увек имају своје ознаке, макар биле и бројеви 0, 1, 2... То нам олакшава да приступимо подацима у табели.\n",
    "\n",
    "Постоји неколико начина како да приступимо елементима табеле. Наводимо овде два примера која би требало да буду разумљиви и без посебног објашњења."
   ]
  },
  {
   "cell_type": "code",
   "execution_count": 26,
   "id": "cb85477c-365b-41a2-86da-2d93cc11b451",
   "metadata": {},
   "outputs": [
    {
     "data": {
      "text/plain": [
       "'Ниш'"
      ]
     },
     "execution_count": 26,
     "metadata": {},
     "output_type": "execute_result"
    }
   ],
   "source": [
    "df.Grad[2]"
   ]
  },
  {
   "cell_type": "code",
   "execution_count": 27,
   "id": "4ffb4949-0e3b-4fbb-822d-8729ab107cd4",
   "metadata": {},
   "outputs": [
    {
     "data": {
      "text/plain": [
       "'Ниш'"
      ]
     },
     "execution_count": 27,
     "metadata": {},
     "output_type": "execute_result"
    }
   ],
   "source": [
    "df['Grad'][2]"
   ]
  },
  {
   "cell_type": "markdown",
   "id": "63416cd0-279a-47aa-954d-162808c49ffe",
   "metadata": {},
   "source": [
    "`iloc[]` је посебна врста функције (_accessor_) која нам омогућава да елементима табеле приступимо на још један начин. Њени аргументи су индекси редова и колона."
   ]
  },
  {
   "cell_type": "code",
   "execution_count": 28,
   "id": "d72d3f9f-2284-4a69-bbb7-93192eb89424",
   "metadata": {},
   "outputs": [
    {
     "data": {
      "text/plain": [
       "'Ниш'"
      ]
     },
     "execution_count": 28,
     "metadata": {},
     "output_type": "execute_result"
    }
   ],
   "source": [
    "df.iloc[2,0]"
   ]
  },
  {
   "cell_type": "markdown",
   "id": "d6c2e77f-f638-43b6-92e7-e97d8decf5d9",
   "metadata": {},
   "source": [
    "### Подаци о подацима"
   ]
  },
  {
   "cell_type": "markdown",
   "id": "7d5d6550-cfcf-4b5e-9067-0cf2e9b3ac8a",
   "metadata": {},
   "source": [
    "За рад са подацима нам је увек згодно да знамо још нешто о томе шта представљају, како су спаковани, одакле долазе итд. Податке о подацима зовемо метаподаци. Конкретно, у Пајтону постоје подаци за све структуре у којима чувамо податке. Када учитамо нове податке важно нам је да видимо колико имају редова и колона, ког су типа, колико меморије заузимају итд."
   ]
  },
  {
   "cell_type": "markdown",
   "id": "6489f84c-a467-43b8-b4d2-35858e129e35",
   "metadata": {},
   "source": [
    "За разне метаподатке о табели постоји низ функција садржаних у библиотеци __pandas__. Ево неколико примера:\n",
    "- __columns__ називи колона\n",
    "- __index__ називи редова\n",
    "- __ndim__ број димензија табеле\n",
    "- __shape__ број редова и колона табеле\n",
    "- __info()__ преглед основних информација\n",
    "- __memory_usage()__ потрошња меморије\n"
   ]
  },
  {
   "cell_type": "code",
   "execution_count": 29,
   "id": "79117c8e-47ca-4b04-ba53-a655ac225695",
   "metadata": {},
   "outputs": [
    {
     "data": {
      "text/plain": [
       "(3, 3)"
      ]
     },
     "execution_count": 29,
     "metadata": {},
     "output_type": "execute_result"
    }
   ],
   "source": [
    "df.shape"
   ]
  },
  {
   "cell_type": "markdown",
   "id": "c5c63d63-edb5-45c0-adbd-05f584be8d4a",
   "metadata": {
    "tags": []
   },
   "source": [
    "Ово је био врло кратак преглед основних типова и структура података. У примерима које будемо обрађивали током овог курса вероватно ћемо користити само њих."
   ]
  }
 ],
 "metadata": {
  "kernelspec": {
   "display_name": "Python 3",
   "language": "python",
   "name": "python3"
  },
  "language_info": {
   "codemirror_mode": {
    "name": "ipython",
    "version": 3
   },
   "file_extension": ".py",
   "mimetype": "text/x-python",
   "name": "python",
   "nbconvert_exporter": "python",
   "pygments_lexer": "ipython3",
   "version": "3.9.5"
  }
 },
 "nbformat": 4,
 "nbformat_minor": 5
}
