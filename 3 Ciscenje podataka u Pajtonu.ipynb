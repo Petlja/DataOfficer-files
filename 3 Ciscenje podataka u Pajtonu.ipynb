{
 "cells": [
  {
   "cell_type": "markdown",
   "id": "0c9133bc",
   "metadata": {},
   "source": [
    "# Чишћење података у Пајтону"
   ]
  },
  {
   "cell_type": "markdown",
   "id": "86d8b6d4",
   "metadata": {},
   "source": [
    "Велике количине података које прикупљају и уносе различити људи увек носе ризик од недоследности у погледу формата уноса. Са машинама је лако, али људи у складу са својом културом, навикама или потребом да буду креативни често уносе оно што нам не треба. За машински читљиве податке је најважније да имају познату структуру и да буду форматирани на исти начин. Ово можда звучи као непотребно цепидлачење, али није. Људи који се баве обрадом и анализом података највећи део свог времена троше на чишћење података (енг. _data cleaning_).  "
   ]
  },
  {
   "cell_type": "markdown",
   "id": "3b498897",
   "metadata": {},
   "source": [
    "Увек треба имати на уму да је чишћење података, у крајњој линији, произвољно мењање података о којима знамо мање од онога ко је податке уносио. Нормално је да они који уносе податке направе превид или податак унесу на погрешан начин. Исто тако је нормално да ми то приметимо и направимо корекцију. За неке друге податке, опет, не знамо шта да мислимо; можда је грешка, можда није. Граница је свакако субјективна. Онај ко чисти податке мора да има знање из области на коју се подаци односе, да зна шта је могуће а шта није, шта може да буде веродостојно, а шта је сигурно грешка. Баш због тога што је критеријум за корекцију података субјективан не можемо потпуно да га аутоматизујемо. То морају да раде људи који знају контекст података. Машина може да помогне да то урадимо брже."
   ]
  },
  {
   "cell_type": "markdown",
   "id": "9dbe6258",
   "metadata": {},
   "source": [
    "Нас у овом курсу интересују пре свега подаци спаковани у табеле, односно једну конкретну табеларну структуру _DataFrame_. Ова структура, као и функције за рад са њом, саставни су део библиотеке __pandas__ па је упутно на почетку рада са подацима у Пајтону увек прво учитати ову библиотеку."
   ]
  },
  {
   "cell_type": "code",
   "execution_count": 1,
   "id": "26b2083f",
   "metadata": {},
   "outputs": [],
   "source": [
    "import pandas as pd"
   ]
  },
  {
   "cell_type": "markdown",
   "id": "5c66792d",
   "metadata": {},
   "source": [
    "За потребе обуке учитаћемо један фајл ком је потребно мало чишћења. То је [библиотечки регистар](https://github.com/realpython/python-data-cleaning/blob/master/Datasets/BL-Flickr-Images-Book.csv) у ком се налазе име књиге, аутор, издавач, година издања итд."
   ]
  },
  {
   "cell_type": "code",
   "execution_count": 2,
   "id": "b90fa439",
   "metadata": {},
   "outputs": [],
   "source": [
    "bibreg=pd.read_csv(\"data/BL-Flickr-Images-Book.csv\")"
   ]
  },
  {
   "cell_type": "code",
   "execution_count": 3,
   "id": "35860284",
   "metadata": {},
   "outputs": [
    {
     "data": {
      "text/html": [
       "<div>\n",
       "<style scoped>\n",
       "    .dataframe tbody tr th:only-of-type {\n",
       "        vertical-align: middle;\n",
       "    }\n",
       "\n",
       "    .dataframe tbody tr th {\n",
       "        vertical-align: top;\n",
       "    }\n",
       "\n",
       "    .dataframe thead th {\n",
       "        text-align: right;\n",
       "    }\n",
       "</style>\n",
       "<table border=\"1\" class=\"dataframe\">\n",
       "  <thead>\n",
       "    <tr style=\"text-align: right;\">\n",
       "      <th></th>\n",
       "      <th>Identifier</th>\n",
       "      <th>Edition Statement</th>\n",
       "      <th>Place of Publication</th>\n",
       "      <th>Date of Publication</th>\n",
       "      <th>Publisher</th>\n",
       "      <th>Title</th>\n",
       "      <th>Author</th>\n",
       "      <th>Contributors</th>\n",
       "      <th>Corporate Author</th>\n",
       "      <th>Corporate Contributors</th>\n",
       "      <th>Former owner</th>\n",
       "      <th>Engraver</th>\n",
       "      <th>Issuance type</th>\n",
       "      <th>Flickr URL</th>\n",
       "      <th>Shelfmarks</th>\n",
       "    </tr>\n",
       "  </thead>\n",
       "  <tbody>\n",
       "    <tr>\n",
       "      <th>0</th>\n",
       "      <td>206</td>\n",
       "      <td>NaN</td>\n",
       "      <td>London</td>\n",
       "      <td>1879 [1878]</td>\n",
       "      <td>S. Tinsley &amp; Co.</td>\n",
       "      <td>Walter Forbes. [A novel.] By A. A</td>\n",
       "      <td>A. A.</td>\n",
       "      <td>FORBES, Walter.</td>\n",
       "      <td>NaN</td>\n",
       "      <td>NaN</td>\n",
       "      <td>NaN</td>\n",
       "      <td>NaN</td>\n",
       "      <td>monographic</td>\n",
       "      <td>http://www.flickr.com/photos/britishlibrary/ta...</td>\n",
       "      <td>British Library HMNTS 12641.b.30.</td>\n",
       "    </tr>\n",
       "    <tr>\n",
       "      <th>1</th>\n",
       "      <td>216</td>\n",
       "      <td>NaN</td>\n",
       "      <td>London; Virtue &amp; Yorston</td>\n",
       "      <td>1868</td>\n",
       "      <td>Virtue &amp; Co.</td>\n",
       "      <td>All for Greed. [A novel. The dedication signed...</td>\n",
       "      <td>A., A. A.</td>\n",
       "      <td>BLAZE DE BURY, Marie Pauline Rose - Baroness</td>\n",
       "      <td>NaN</td>\n",
       "      <td>NaN</td>\n",
       "      <td>NaN</td>\n",
       "      <td>NaN</td>\n",
       "      <td>monographic</td>\n",
       "      <td>http://www.flickr.com/photos/britishlibrary/ta...</td>\n",
       "      <td>British Library HMNTS 12626.cc.2.</td>\n",
       "    </tr>\n",
       "    <tr>\n",
       "      <th>2</th>\n",
       "      <td>218</td>\n",
       "      <td>NaN</td>\n",
       "      <td>London</td>\n",
       "      <td>1869</td>\n",
       "      <td>Bradbury, Evans &amp; Co.</td>\n",
       "      <td>Love the Avenger. By the author of “All for Gr...</td>\n",
       "      <td>A., A. A.</td>\n",
       "      <td>BLAZE DE BURY, Marie Pauline Rose - Baroness</td>\n",
       "      <td>NaN</td>\n",
       "      <td>NaN</td>\n",
       "      <td>NaN</td>\n",
       "      <td>NaN</td>\n",
       "      <td>monographic</td>\n",
       "      <td>http://www.flickr.com/photos/britishlibrary/ta...</td>\n",
       "      <td>British Library HMNTS 12625.dd.1.</td>\n",
       "    </tr>\n",
       "    <tr>\n",
       "      <th>3</th>\n",
       "      <td>472</td>\n",
       "      <td>NaN</td>\n",
       "      <td>London</td>\n",
       "      <td>1851</td>\n",
       "      <td>James Darling</td>\n",
       "      <td>Welsh Sketches, chiefly ecclesiastical, to the...</td>\n",
       "      <td>A., E. S.</td>\n",
       "      <td>Appleyard, Ernest Silvanus.</td>\n",
       "      <td>NaN</td>\n",
       "      <td>NaN</td>\n",
       "      <td>NaN</td>\n",
       "      <td>NaN</td>\n",
       "      <td>monographic</td>\n",
       "      <td>http://www.flickr.com/photos/britishlibrary/ta...</td>\n",
       "      <td>British Library HMNTS 10369.bbb.15.</td>\n",
       "    </tr>\n",
       "    <tr>\n",
       "      <th>4</th>\n",
       "      <td>480</td>\n",
       "      <td>A new edition, revised, etc.</td>\n",
       "      <td>London</td>\n",
       "      <td>1857</td>\n",
       "      <td>Wertheim &amp; Macintosh</td>\n",
       "      <td>[The World in which I live, and my place in it...</td>\n",
       "      <td>A., E. S.</td>\n",
       "      <td>BROOME, John Henry.</td>\n",
       "      <td>NaN</td>\n",
       "      <td>NaN</td>\n",
       "      <td>NaN</td>\n",
       "      <td>NaN</td>\n",
       "      <td>monographic</td>\n",
       "      <td>http://www.flickr.com/photos/britishlibrary/ta...</td>\n",
       "      <td>British Library HMNTS 9007.d.28.</td>\n",
       "    </tr>\n",
       "    <tr>\n",
       "      <th>5</th>\n",
       "      <td>481</td>\n",
       "      <td>Fourth edition, revised, etc.</td>\n",
       "      <td>London</td>\n",
       "      <td>1875</td>\n",
       "      <td>William Macintosh</td>\n",
       "      <td>[The World in which I live, and my place in it...</td>\n",
       "      <td>A., E. S.</td>\n",
       "      <td>BROOME, John Henry.</td>\n",
       "      <td>NaN</td>\n",
       "      <td>NaN</td>\n",
       "      <td>NaN</td>\n",
       "      <td>NaN</td>\n",
       "      <td>monographic</td>\n",
       "      <td>http://www.flickr.com/photos/britishlibrary/ta...</td>\n",
       "      <td>British Library HMNTS 9006.ee.10.</td>\n",
       "    </tr>\n",
       "    <tr>\n",
       "      <th>6</th>\n",
       "      <td>519</td>\n",
       "      <td>NaN</td>\n",
       "      <td>London</td>\n",
       "      <td>1872</td>\n",
       "      <td>The Author</td>\n",
       "      <td>Lagonells. By the author of Darmayne (F. E. A....</td>\n",
       "      <td>A., F. E.</td>\n",
       "      <td>ASHLEY, Florence Emily.</td>\n",
       "      <td>NaN</td>\n",
       "      <td>NaN</td>\n",
       "      <td>NaN</td>\n",
       "      <td>NaN</td>\n",
       "      <td>monographic</td>\n",
       "      <td>http://www.flickr.com/photos/britishlibrary/ta...</td>\n",
       "      <td>British Library HMNTS 12637.e.3.</td>\n",
       "    </tr>\n",
       "    <tr>\n",
       "      <th>7</th>\n",
       "      <td>667</td>\n",
       "      <td>NaN</td>\n",
       "      <td>pp. 40. G. Bryan &amp; Co: Oxford, 1898</td>\n",
       "      <td>NaN</td>\n",
       "      <td>NaN</td>\n",
       "      <td>The Coming of Spring, and other poems. By J. A...</td>\n",
       "      <td>A., J.|A., J.</td>\n",
       "      <td>ANDREWS, J. - Writer of Verse</td>\n",
       "      <td>NaN</td>\n",
       "      <td>NaN</td>\n",
       "      <td>NaN</td>\n",
       "      <td>NaN</td>\n",
       "      <td>monographic</td>\n",
       "      <td>http://www.flickr.com/photos/britishlibrary/ta...</td>\n",
       "      <td>British Library HMNTS 011652.g.73.</td>\n",
       "    </tr>\n",
       "  </tbody>\n",
       "</table>\n",
       "</div>"
      ],
      "text/plain": [
       "   Identifier              Edition Statement  \\\n",
       "0         206                            NaN   \n",
       "1         216                            NaN   \n",
       "2         218                            NaN   \n",
       "3         472                            NaN   \n",
       "4         480   A new edition, revised, etc.   \n",
       "5         481  Fourth edition, revised, etc.   \n",
       "6         519                            NaN   \n",
       "7         667                            NaN   \n",
       "\n",
       "                  Place of Publication Date of Publication  \\\n",
       "0                               London         1879 [1878]   \n",
       "1             London; Virtue & Yorston                1868   \n",
       "2                               London                1869   \n",
       "3                               London                1851   \n",
       "4                               London                1857   \n",
       "5                               London                1875   \n",
       "6                               London                1872   \n",
       "7  pp. 40. G. Bryan & Co: Oxford, 1898                 NaN   \n",
       "\n",
       "               Publisher                                              Title  \\\n",
       "0       S. Tinsley & Co.                  Walter Forbes. [A novel.] By A. A   \n",
       "1           Virtue & Co.  All for Greed. [A novel. The dedication signed...   \n",
       "2  Bradbury, Evans & Co.  Love the Avenger. By the author of “All for Gr...   \n",
       "3          James Darling  Welsh Sketches, chiefly ecclesiastical, to the...   \n",
       "4   Wertheim & Macintosh  [The World in which I live, and my place in it...   \n",
       "5      William Macintosh  [The World in which I live, and my place in it...   \n",
       "6             The Author  Lagonells. By the author of Darmayne (F. E. A....   \n",
       "7                    NaN  The Coming of Spring, and other poems. By J. A...   \n",
       "\n",
       "          Author                                  Contributors  \\\n",
       "0          A. A.                               FORBES, Walter.   \n",
       "1      A., A. A.  BLAZE DE BURY, Marie Pauline Rose - Baroness   \n",
       "2      A., A. A.  BLAZE DE BURY, Marie Pauline Rose - Baroness   \n",
       "3      A., E. S.                   Appleyard, Ernest Silvanus.   \n",
       "4      A., E. S.                           BROOME, John Henry.   \n",
       "5      A., E. S.                           BROOME, John Henry.   \n",
       "6      A., F. E.                       ASHLEY, Florence Emily.   \n",
       "7  A., J.|A., J.                 ANDREWS, J. - Writer of Verse   \n",
       "\n",
       "   Corporate Author  Corporate Contributors Former owner  Engraver  \\\n",
       "0               NaN                     NaN          NaN       NaN   \n",
       "1               NaN                     NaN          NaN       NaN   \n",
       "2               NaN                     NaN          NaN       NaN   \n",
       "3               NaN                     NaN          NaN       NaN   \n",
       "4               NaN                     NaN          NaN       NaN   \n",
       "5               NaN                     NaN          NaN       NaN   \n",
       "6               NaN                     NaN          NaN       NaN   \n",
       "7               NaN                     NaN          NaN       NaN   \n",
       "\n",
       "  Issuance type                                         Flickr URL  \\\n",
       "0   monographic  http://www.flickr.com/photos/britishlibrary/ta...   \n",
       "1   monographic  http://www.flickr.com/photos/britishlibrary/ta...   \n",
       "2   monographic  http://www.flickr.com/photos/britishlibrary/ta...   \n",
       "3   monographic  http://www.flickr.com/photos/britishlibrary/ta...   \n",
       "4   monographic  http://www.flickr.com/photos/britishlibrary/ta...   \n",
       "5   monographic  http://www.flickr.com/photos/britishlibrary/ta...   \n",
       "6   monographic  http://www.flickr.com/photos/britishlibrary/ta...   \n",
       "7   monographic  http://www.flickr.com/photos/britishlibrary/ta...   \n",
       "\n",
       "                            Shelfmarks  \n",
       "0    British Library HMNTS 12641.b.30.  \n",
       "1    British Library HMNTS 12626.cc.2.  \n",
       "2    British Library HMNTS 12625.dd.1.  \n",
       "3  British Library HMNTS 10369.bbb.15.  \n",
       "4     British Library HMNTS 9007.d.28.  \n",
       "5    British Library HMNTS 9006.ee.10.  \n",
       "6     British Library HMNTS 12637.e.3.  \n",
       "7   British Library HMNTS 011652.g.73.  "
      ]
     },
     "execution_count": 3,
     "metadata": {},
     "output_type": "execute_result"
    }
   ],
   "source": [
    "bibreg.head(8)"
   ]
  },
  {
   "cell_type": "markdown",
   "id": "6d04ffce",
   "metadata": {},
   "source": [
    "Чак и површан увид у податке открива да има много поља у којима пише NaN што значи да тог податка нема, а да је неки софтвер празно поље заменио овом ознаком. Надајмо се да се ниједан издавач или књига не зову баш \"NaN\". Такође, видимо да неки подаци нису конзистетно уношени. За годину издања (_Date of Publication_) углавном стоји број, али има и оних са угластим заградама. Имена аутора изгледају као хаос посебне врсте."
   ]
  },
  {
   "cell_type": "markdown",
   "id": "60cb7476",
   "metadata": {},
   "source": [
    "## Индексна колона"
   ]
  },
  {
   "cell_type": "markdown",
   "id": "f0167c39",
   "metadata": {},
   "source": [
    "Врло важна карактеристика функционалне табеле са подацима јесте да има индексну колону у којој су вредности јединствене. То нам омогућава једноставно и недвосмислено референцирање на редове у табели. Наравно, исто што важи за редове, важи и за колоне. Потребан нам је \"индексни ред\". То је заправо заглавље табеле, односно ред у ком су називи колона."
   ]
  },
  {
   "cell_type": "markdown",
   "id": "bf0caaeb",
   "metadata": {},
   "source": [
    "Сваки _DataFrame_ аутоматски добија своју индексну колону. Ако ми не кажемо машини која је то колона, Пајтон ће сам доделити колону са индексом 0, 1, 2, 3... Најважније својство индексне колоне је да садржи јединствене податке. Ако се подаци у колони понављају онда она не може да буде индексна. \n",
    "\n",
    "У табели __bibreg__ постоји колона __Identifier__ која би могла да буде тај јединствени идентификатор који су унели библиотекари много пре него што се неко сетио да прави табеле у Пајтону. Да ли су све вредности у колони јединствене можемо да проверимо функцијом `is.unique()`."
   ]
  },
  {
   "cell_type": "code",
   "execution_count": 4,
   "id": "d92623c5",
   "metadata": {},
   "outputs": [
    {
     "data": {
      "text/plain": [
       "True"
      ]
     },
     "execution_count": 4,
     "metadata": {},
     "output_type": "execute_result"
    }
   ],
   "source": [
    "bibreg['Identifier'].is_unique"
   ]
  },
  {
   "cell_type": "markdown",
   "id": "dff1a07e",
   "metadata": {},
   "source": [
    "Јесте јединствена. То значи да можемо њу да користимо уместо аутоматски додељеног низа ненегативних целих бројева. То ћемо учинити помоћу функције `set_index()`. Главни аргумент ове функције је назив колоне коју ћемо прогласити за индексну, али аргумената може да буде више. Овде ћемо искористити аргумент __inplace=True__ који Пајтону саопштава да хоћемо да промени и запамти садржај табеле. Без тога бисмо само добили испис у ком је постављена индексна колона док би у меморији остао исти онај стари _DataFrame_. Наравно, исти резултат бисмо могли да добијемо и ако новој табели придружимо измењену табелу: `bibreg=bibreg.set_index('Identifier')`. То су два начина да добијемо исти резултат. Бирајте шта вам се више свиђа."
   ]
  },
  {
   "cell_type": "code",
   "execution_count": 5,
   "id": "53bc64a4",
   "metadata": {
    "scrolled": true
   },
   "outputs": [
    {
     "data": {
      "text/html": [
       "<div>\n",
       "<style scoped>\n",
       "    .dataframe tbody tr th:only-of-type {\n",
       "        vertical-align: middle;\n",
       "    }\n",
       "\n",
       "    .dataframe tbody tr th {\n",
       "        vertical-align: top;\n",
       "    }\n",
       "\n",
       "    .dataframe thead th {\n",
       "        text-align: right;\n",
       "    }\n",
       "</style>\n",
       "<table border=\"1\" class=\"dataframe\">\n",
       "  <thead>\n",
       "    <tr style=\"text-align: right;\">\n",
       "      <th></th>\n",
       "      <th>Edition Statement</th>\n",
       "      <th>Place of Publication</th>\n",
       "      <th>Date of Publication</th>\n",
       "      <th>Publisher</th>\n",
       "      <th>Title</th>\n",
       "      <th>Author</th>\n",
       "      <th>Contributors</th>\n",
       "      <th>Corporate Author</th>\n",
       "      <th>Corporate Contributors</th>\n",
       "      <th>Former owner</th>\n",
       "      <th>Engraver</th>\n",
       "      <th>Issuance type</th>\n",
       "      <th>Flickr URL</th>\n",
       "      <th>Shelfmarks</th>\n",
       "    </tr>\n",
       "    <tr>\n",
       "      <th>Identifier</th>\n",
       "      <th></th>\n",
       "      <th></th>\n",
       "      <th></th>\n",
       "      <th></th>\n",
       "      <th></th>\n",
       "      <th></th>\n",
       "      <th></th>\n",
       "      <th></th>\n",
       "      <th></th>\n",
       "      <th></th>\n",
       "      <th></th>\n",
       "      <th></th>\n",
       "      <th></th>\n",
       "      <th></th>\n",
       "    </tr>\n",
       "  </thead>\n",
       "  <tbody>\n",
       "    <tr>\n",
       "      <th>206</th>\n",
       "      <td>NaN</td>\n",
       "      <td>London</td>\n",
       "      <td>1879 [1878]</td>\n",
       "      <td>S. Tinsley &amp; Co.</td>\n",
       "      <td>Walter Forbes. [A novel.] By A. A</td>\n",
       "      <td>A. A.</td>\n",
       "      <td>FORBES, Walter.</td>\n",
       "      <td>NaN</td>\n",
       "      <td>NaN</td>\n",
       "      <td>NaN</td>\n",
       "      <td>NaN</td>\n",
       "      <td>monographic</td>\n",
       "      <td>http://www.flickr.com/photos/britishlibrary/ta...</td>\n",
       "      <td>British Library HMNTS 12641.b.30.</td>\n",
       "    </tr>\n",
       "    <tr>\n",
       "      <th>216</th>\n",
       "      <td>NaN</td>\n",
       "      <td>London; Virtue &amp; Yorston</td>\n",
       "      <td>1868</td>\n",
       "      <td>Virtue &amp; Co.</td>\n",
       "      <td>All for Greed. [A novel. The dedication signed...</td>\n",
       "      <td>A., A. A.</td>\n",
       "      <td>BLAZE DE BURY, Marie Pauline Rose - Baroness</td>\n",
       "      <td>NaN</td>\n",
       "      <td>NaN</td>\n",
       "      <td>NaN</td>\n",
       "      <td>NaN</td>\n",
       "      <td>monographic</td>\n",
       "      <td>http://www.flickr.com/photos/britishlibrary/ta...</td>\n",
       "      <td>British Library HMNTS 12626.cc.2.</td>\n",
       "    </tr>\n",
       "    <tr>\n",
       "      <th>218</th>\n",
       "      <td>NaN</td>\n",
       "      <td>London</td>\n",
       "      <td>1869</td>\n",
       "      <td>Bradbury, Evans &amp; Co.</td>\n",
       "      <td>Love the Avenger. By the author of “All for Gr...</td>\n",
       "      <td>A., A. A.</td>\n",
       "      <td>BLAZE DE BURY, Marie Pauline Rose - Baroness</td>\n",
       "      <td>NaN</td>\n",
       "      <td>NaN</td>\n",
       "      <td>NaN</td>\n",
       "      <td>NaN</td>\n",
       "      <td>monographic</td>\n",
       "      <td>http://www.flickr.com/photos/britishlibrary/ta...</td>\n",
       "      <td>British Library HMNTS 12625.dd.1.</td>\n",
       "    </tr>\n",
       "    <tr>\n",
       "      <th>472</th>\n",
       "      <td>NaN</td>\n",
       "      <td>London</td>\n",
       "      <td>1851</td>\n",
       "      <td>James Darling</td>\n",
       "      <td>Welsh Sketches, chiefly ecclesiastical, to the...</td>\n",
       "      <td>A., E. S.</td>\n",
       "      <td>Appleyard, Ernest Silvanus.</td>\n",
       "      <td>NaN</td>\n",
       "      <td>NaN</td>\n",
       "      <td>NaN</td>\n",
       "      <td>NaN</td>\n",
       "      <td>monographic</td>\n",
       "      <td>http://www.flickr.com/photos/britishlibrary/ta...</td>\n",
       "      <td>British Library HMNTS 10369.bbb.15.</td>\n",
       "    </tr>\n",
       "    <tr>\n",
       "      <th>480</th>\n",
       "      <td>A new edition, revised, etc.</td>\n",
       "      <td>London</td>\n",
       "      <td>1857</td>\n",
       "      <td>Wertheim &amp; Macintosh</td>\n",
       "      <td>[The World in which I live, and my place in it...</td>\n",
       "      <td>A., E. S.</td>\n",
       "      <td>BROOME, John Henry.</td>\n",
       "      <td>NaN</td>\n",
       "      <td>NaN</td>\n",
       "      <td>NaN</td>\n",
       "      <td>NaN</td>\n",
       "      <td>monographic</td>\n",
       "      <td>http://www.flickr.com/photos/britishlibrary/ta...</td>\n",
       "      <td>British Library HMNTS 9007.d.28.</td>\n",
       "    </tr>\n",
       "  </tbody>\n",
       "</table>\n",
       "</div>"
      ],
      "text/plain": [
       "                       Edition Statement      Place of Publication  \\\n",
       "Identifier                                                           \n",
       "206                                  NaN                    London   \n",
       "216                                  NaN  London; Virtue & Yorston   \n",
       "218                                  NaN                    London   \n",
       "472                                  NaN                    London   \n",
       "480         A new edition, revised, etc.                    London   \n",
       "\n",
       "           Date of Publication              Publisher  \\\n",
       "Identifier                                              \n",
       "206                1879 [1878]       S. Tinsley & Co.   \n",
       "216                       1868           Virtue & Co.   \n",
       "218                       1869  Bradbury, Evans & Co.   \n",
       "472                       1851          James Darling   \n",
       "480                       1857   Wertheim & Macintosh   \n",
       "\n",
       "                                                        Title     Author  \\\n",
       "Identifier                                                                 \n",
       "206                         Walter Forbes. [A novel.] By A. A      A. A.   \n",
       "216         All for Greed. [A novel. The dedication signed...  A., A. A.   \n",
       "218         Love the Avenger. By the author of “All for Gr...  A., A. A.   \n",
       "472         Welsh Sketches, chiefly ecclesiastical, to the...  A., E. S.   \n",
       "480         [The World in which I live, and my place in it...  A., E. S.   \n",
       "\n",
       "                                            Contributors  Corporate Author  \\\n",
       "Identifier                                                                   \n",
       "206                                      FORBES, Walter.               NaN   \n",
       "216         BLAZE DE BURY, Marie Pauline Rose - Baroness               NaN   \n",
       "218         BLAZE DE BURY, Marie Pauline Rose - Baroness               NaN   \n",
       "472                          Appleyard, Ernest Silvanus.               NaN   \n",
       "480                                  BROOME, John Henry.               NaN   \n",
       "\n",
       "            Corporate Contributors Former owner  Engraver Issuance type  \\\n",
       "Identifier                                                                \n",
       "206                            NaN          NaN       NaN   monographic   \n",
       "216                            NaN          NaN       NaN   monographic   \n",
       "218                            NaN          NaN       NaN   monographic   \n",
       "472                            NaN          NaN       NaN   monographic   \n",
       "480                            NaN          NaN       NaN   monographic   \n",
       "\n",
       "                                                   Flickr URL  \\\n",
       "Identifier                                                      \n",
       "206         http://www.flickr.com/photos/britishlibrary/ta...   \n",
       "216         http://www.flickr.com/photos/britishlibrary/ta...   \n",
       "218         http://www.flickr.com/photos/britishlibrary/ta...   \n",
       "472         http://www.flickr.com/photos/britishlibrary/ta...   \n",
       "480         http://www.flickr.com/photos/britishlibrary/ta...   \n",
       "\n",
       "                                     Shelfmarks  \n",
       "Identifier                                       \n",
       "206           British Library HMNTS 12641.b.30.  \n",
       "216           British Library HMNTS 12626.cc.2.  \n",
       "218           British Library HMNTS 12625.dd.1.  \n",
       "472         British Library HMNTS 10369.bbb.15.  \n",
       "480            British Library HMNTS 9007.d.28.  "
      ]
     },
     "execution_count": 5,
     "metadata": {},
     "output_type": "execute_result"
    }
   ],
   "source": [
    "bibreg.set_index('Identifier', inplace = True)\n",
    "bibreg.head()"
   ]
  },
  {
   "cell_type": "markdown",
   "id": "7bf2bf57",
   "metadata": {},
   "source": [
    "## Приступање подацима помоћу \"приступника\" loc[] и iloc[]"
   ]
  },
  {
   "cell_type": "markdown",
   "id": "fa388c1c",
   "metadata": {},
   "source": [
    "Сад кад имамо индексну колону, подацима у табели можемо да приступамо на различите начине. __loc[]__ и __iloc[]__ су посебни начини приступа подацима преко ознака и индекса. У првом случају користимо ознаке, тј. податке из индексне колоне и називе колона, а у другом редне бројеве редова и колона који почињу нулом. Ево примера како можемо да их употребимо. Приметите како се индексна колона не броји као ни ред у ком су називи колона."
   ]
  },
  {
   "cell_type": "code",
   "execution_count": 6,
   "id": "d5938e13",
   "metadata": {},
   "outputs": [
    {
     "data": {
      "text/plain": [
       "'Virtue & Co.'"
      ]
     },
     "execution_count": 6,
     "metadata": {},
     "output_type": "execute_result"
    }
   ],
   "source": [
    "bibreg.loc[216,'Publisher']"
   ]
  },
  {
   "cell_type": "code",
   "execution_count": 7,
   "id": "b8ba9822",
   "metadata": {},
   "outputs": [
    {
     "data": {
      "text/plain": [
       "'Virtue & Co.'"
      ]
     },
     "execution_count": 7,
     "metadata": {},
     "output_type": "execute_result"
    }
   ],
   "source": [
    "bibreg.iloc[1,3]"
   ]
  },
  {
   "cell_type": "markdown",
   "id": "2548e2fb",
   "metadata": {},
   "source": [
    "Слично можемо да приступимо само одређеним редовима или колонама. На пример, овако:"
   ]
  },
  {
   "cell_type": "code",
   "execution_count": 8,
   "id": "c640baae",
   "metadata": {},
   "outputs": [
    {
     "data": {
      "text/plain": [
       "Edition Statement                                                       NaN\n",
       "Place of Publication                               London; Virtue & Yorston\n",
       "Date of Publication                                                    1868\n",
       "Publisher                                                      Virtue & Co.\n",
       "Title                     All for Greed. [A novel. The dedication signed...\n",
       "Author                                                            A., A. A.\n",
       "Contributors                   BLAZE DE BURY, Marie Pauline Rose - Baroness\n",
       "Corporate Author                                                        NaN\n",
       "Corporate Contributors                                                  NaN\n",
       "Former owner                                                            NaN\n",
       "Engraver                                                                NaN\n",
       "Issuance type                                                   monographic\n",
       "Flickr URL                http://www.flickr.com/photos/britishlibrary/ta...\n",
       "Shelfmarks                                British Library HMNTS 12626.cc.2.\n",
       "Name: 216, dtype: object"
      ]
     },
     "execution_count": 8,
     "metadata": {},
     "output_type": "execute_result"
    }
   ],
   "source": [
    "bibreg.loc[216]"
   ]
  },
  {
   "cell_type": "code",
   "execution_count": 9,
   "id": "9207b9cf",
   "metadata": {},
   "outputs": [
    {
     "data": {
      "text/plain": [
       "Identifier\n",
       "206                          London\n",
       "216        London; Virtue & Yorston\n",
       "218                          London\n",
       "472                          London\n",
       "480                          London\n",
       "                     ...           \n",
       "4158088                      London\n",
       "4158128                       Derby\n",
       "4159563                      London\n",
       "4159587         Newcastle upon Tyne\n",
       "4160339                      London\n",
       "Name: Place of Publication, Length: 8287, dtype: object"
      ]
     },
     "execution_count": 9,
     "metadata": {},
     "output_type": "execute_result"
    }
   ],
   "source": [
    "bibreg.iloc[:,1]"
   ]
  },
  {
   "cell_type": "markdown",
   "id": "dca2adf1",
   "metadata": {},
   "source": [
    "## Избор колона"
   ]
  },
  {
   "cell_type": "markdown",
   "id": "0f19665e",
   "metadata": {},
   "source": [
    "Табеле са подацима знају да буду превелике. Не због меморије рачунара, него зато што не можемо лако да видимо податке на екрану. Зато је увек добро ослободити се баласта на почетку. Ако нам за конретан задатак неке колоне (или редови) нису потребне, онда их треба одмах избрисати и радити сам мањом табелом."
   ]
  },
  {
   "cell_type": "markdown",
   "id": "6f12067a",
   "metadata": {},
   "source": [
    "Ако нам је потребно свега неколико колона, најбоље је да њихове називе ставимо у листу и сведемо _DataFrame_ тако да садржи само њих. У супротном, ако хоћемо само неке да искључимо, ставимо их у листу и позовемо функцију `drop()` из __Pandas__ библиотеке. На пример, можемо да ставимо као аргумент функције __drop()__ листу __za_brisanje__ коју смо претходно дефинисали као `za_brisanje=['Edition Statement','Corporate Author','Corporate Contributors','Former owner','Engraver','Contributors','Issuance type','Shelfmarks']`. Признаћете, мало је заметно наводити све називе колона које хоћемо да обришемо. Алтенатива је да исту листу дефинишемо преко редних бројева колона: `za_brisanje=bibreg.columns[[0,6,7,8,9,10,11,13]]`.   "
   ]
  },
  {
   "cell_type": "code",
   "execution_count": 10,
   "id": "c646852d",
   "metadata": {},
   "outputs": [],
   "source": [
    "za_brisanje=bibreg.columns[[0,6,7,8,9,10,11,13]]"
   ]
  },
  {
   "cell_type": "code",
   "execution_count": 11,
   "id": "e69a00d5",
   "metadata": {
    "scrolled": true
   },
   "outputs": [],
   "source": [
    "bibreg.drop(za_brisanje, axis = 1, inplace = True)"
   ]
  },
  {
   "cell_type": "markdown",
   "id": "86921ec3",
   "metadata": {},
   "source": [
    "Аргумент `axis=1` каже функцији да треба обрисати колоне. Да је та вредност 0, функција би обрисала редове. "
   ]
  },
  {
   "cell_type": "code",
   "execution_count": 12,
   "id": "600a8a3a",
   "metadata": {},
   "outputs": [
    {
     "data": {
      "text/html": [
       "<div>\n",
       "<style scoped>\n",
       "    .dataframe tbody tr th:only-of-type {\n",
       "        vertical-align: middle;\n",
       "    }\n",
       "\n",
       "    .dataframe tbody tr th {\n",
       "        vertical-align: top;\n",
       "    }\n",
       "\n",
       "    .dataframe thead th {\n",
       "        text-align: right;\n",
       "    }\n",
       "</style>\n",
       "<table border=\"1\" class=\"dataframe\">\n",
       "  <thead>\n",
       "    <tr style=\"text-align: right;\">\n",
       "      <th></th>\n",
       "      <th>Place of Publication</th>\n",
       "      <th>Date of Publication</th>\n",
       "      <th>Publisher</th>\n",
       "      <th>Title</th>\n",
       "      <th>Author</th>\n",
       "      <th>Flickr URL</th>\n",
       "    </tr>\n",
       "    <tr>\n",
       "      <th>Identifier</th>\n",
       "      <th></th>\n",
       "      <th></th>\n",
       "      <th></th>\n",
       "      <th></th>\n",
       "      <th></th>\n",
       "      <th></th>\n",
       "    </tr>\n",
       "  </thead>\n",
       "  <tbody>\n",
       "    <tr>\n",
       "      <th>206</th>\n",
       "      <td>London</td>\n",
       "      <td>1879 [1878]</td>\n",
       "      <td>S. Tinsley &amp; Co.</td>\n",
       "      <td>Walter Forbes. [A novel.] By A. A</td>\n",
       "      <td>A. A.</td>\n",
       "      <td>http://www.flickr.com/photos/britishlibrary/ta...</td>\n",
       "    </tr>\n",
       "    <tr>\n",
       "      <th>216</th>\n",
       "      <td>London; Virtue &amp; Yorston</td>\n",
       "      <td>1868</td>\n",
       "      <td>Virtue &amp; Co.</td>\n",
       "      <td>All for Greed. [A novel. The dedication signed...</td>\n",
       "      <td>A., A. A.</td>\n",
       "      <td>http://www.flickr.com/photos/britishlibrary/ta...</td>\n",
       "    </tr>\n",
       "    <tr>\n",
       "      <th>218</th>\n",
       "      <td>London</td>\n",
       "      <td>1869</td>\n",
       "      <td>Bradbury, Evans &amp; Co.</td>\n",
       "      <td>Love the Avenger. By the author of “All for Gr...</td>\n",
       "      <td>A., A. A.</td>\n",
       "      <td>http://www.flickr.com/photos/britishlibrary/ta...</td>\n",
       "    </tr>\n",
       "    <tr>\n",
       "      <th>472</th>\n",
       "      <td>London</td>\n",
       "      <td>1851</td>\n",
       "      <td>James Darling</td>\n",
       "      <td>Welsh Sketches, chiefly ecclesiastical, to the...</td>\n",
       "      <td>A., E. S.</td>\n",
       "      <td>http://www.flickr.com/photos/britishlibrary/ta...</td>\n",
       "    </tr>\n",
       "    <tr>\n",
       "      <th>480</th>\n",
       "      <td>London</td>\n",
       "      <td>1857</td>\n",
       "      <td>Wertheim &amp; Macintosh</td>\n",
       "      <td>[The World in which I live, and my place in it...</td>\n",
       "      <td>A., E. S.</td>\n",
       "      <td>http://www.flickr.com/photos/britishlibrary/ta...</td>\n",
       "    </tr>\n",
       "  </tbody>\n",
       "</table>\n",
       "</div>"
      ],
      "text/plain": [
       "                Place of Publication Date of Publication  \\\n",
       "Identifier                                                 \n",
       "206                           London         1879 [1878]   \n",
       "216         London; Virtue & Yorston                1868   \n",
       "218                           London                1869   \n",
       "472                           London                1851   \n",
       "480                           London                1857   \n",
       "\n",
       "                        Publisher  \\\n",
       "Identifier                          \n",
       "206              S. Tinsley & Co.   \n",
       "216                  Virtue & Co.   \n",
       "218         Bradbury, Evans & Co.   \n",
       "472                 James Darling   \n",
       "480          Wertheim & Macintosh   \n",
       "\n",
       "                                                        Title     Author  \\\n",
       "Identifier                                                                 \n",
       "206                         Walter Forbes. [A novel.] By A. A      A. A.   \n",
       "216         All for Greed. [A novel. The dedication signed...  A., A. A.   \n",
       "218         Love the Avenger. By the author of “All for Gr...  A., A. A.   \n",
       "472         Welsh Sketches, chiefly ecclesiastical, to the...  A., E. S.   \n",
       "480         [The World in which I live, and my place in it...  A., E. S.   \n",
       "\n",
       "                                                   Flickr URL  \n",
       "Identifier                                                     \n",
       "206         http://www.flickr.com/photos/britishlibrary/ta...  \n",
       "216         http://www.flickr.com/photos/britishlibrary/ta...  \n",
       "218         http://www.flickr.com/photos/britishlibrary/ta...  \n",
       "472         http://www.flickr.com/photos/britishlibrary/ta...  \n",
       "480         http://www.flickr.com/photos/britishlibrary/ta...  "
      ]
     },
     "execution_count": 12,
     "metadata": {},
     "output_type": "execute_result"
    }
   ],
   "source": [
    "bibreg.head()"
   ]
  },
  {
   "cell_type": "markdown",
   "id": "9d3d3b97",
   "metadata": {},
   "source": [
    "### Припрема нумеричких података"
   ]
  },
  {
   "cell_type": "markdown",
   "id": "b84e1e60",
   "metadata": {},
   "source": [
    "Сада имамо табелу са мање колона где је прилично јасно шта је садржај. Оно што је спорно је форма садржаја. У другој колони би требало да буду бројеви који означавају године. Међутим, машина ту не види бројеве већ текст. CSV фајлови не чувају податке о типу променљиве. За Пајтон је одмах по учитавању све између зареза стринг. За било какву нумеричку анализу, нпр. тражење минимума, збира или средње вредности потребно је подацима променимо тип променљиве. Док год постоје у колони елементи са знацима који нису цифре, минус и децимална тачка то неће бити могуће.\n",
    "\n",
    "Пробајте да нађете најстарију књигу у регистру. То би требало да буде најмањи број у колони помоћу функције `min()`. "
   ]
  },
  {
   "cell_type": "code",
   "execution_count": null,
   "id": "755b84de",
   "metadata": {
    "scrolled": true
   },
   "outputs": [],
   "source": [
    "# bibreg['Date of Publication'].min()"
   ]
  },
  {
   "cell_type": "markdown",
   "id": "3dc4d652",
   "metadata": {},
   "source": [
    "Пре чишћења података прво треба да видимо ког су типа променљиве у колонама. Од тога зависи које ћемо технике користити за чишћење."
   ]
  },
  {
   "cell_type": "code",
   "execution_count": 13,
   "id": "60356668",
   "metadata": {},
   "outputs": [
    {
     "data": {
      "text/plain": [
       "Place of Publication    object\n",
       "Date of Publication     object\n",
       "Publisher               object\n",
       "Title                   object\n",
       "Author                  object\n",
       "Flickr URL              object\n",
       "dtype: object"
      ]
     },
     "execution_count": 13,
     "metadata": {},
     "output_type": "execute_result"
    }
   ],
   "source": [
    "bibreg.dtypes"
   ]
  },
  {
   "cell_type": "markdown",
   "id": "a1cd6eef",
   "metadata": {},
   "source": [
    "Видимо да је и __Data of Publication__ типа __object__. Разлог за то су угласте заграде, зарези и цртице које се налазе у неким пољима те колоне. Док год постоји барем једно поље у ком није број, Пајтон колону неће препознати као нумеричку. Уколико тих поља има мало, уређивање можемо да урадимо и ручно. Да видимо исплати ли се то написаћемо мали програм који покушава да елемент низа претвори у цео број. За сваки елемент где не успе у томе програм ће повећати бројач __n__ за један. "
   ]
  },
  {
   "cell_type": "code",
   "execution_count": 14,
   "id": "2c2f1e97",
   "metadata": {},
   "outputs": [],
   "source": [
    "n=0\n",
    "for element in bibreg['Date of Publication']:\n",
    "    try:\n",
    "        tmp = int(element)\n",
    "    except:\n",
    "        n=n+1"
   ]
  },
  {
   "cell_type": "code",
   "execution_count": 15,
   "id": "96c64f16",
   "metadata": {
    "scrolled": true
   },
   "outputs": [
    {
     "data": {
      "text/plain": [
       "1759"
      ]
     },
     "execution_count": 15,
     "metadata": {},
     "output_type": "execute_result"
    }
   ],
   "source": [
    "n"
   ]
  },
  {
   "cell_type": "code",
   "execution_count": 16,
   "id": "38ccd8bc",
   "metadata": {},
   "outputs": [
    {
     "data": {
      "text/plain": [
       "8287"
      ]
     },
     "execution_count": 16,
     "metadata": {},
     "output_type": "execute_result"
    }
   ],
   "source": [
    "len(bibreg)"
   ]
  },
  {
   "cell_type": "markdown",
   "id": "c0852800",
   "metadata": {},
   "source": [
    "Видимо да чак 1759 од 8287 елемената у овој колони не можемо да претворимо у број. То свакако не треба да радимо ручно. "
   ]
  },
  {
   "cell_type": "code",
   "execution_count": 17,
   "id": "9cef4d69",
   "metadata": {},
   "outputs": [
    {
     "name": "stdout",
     "output_type": "stream",
     "text": [
      "Identifier\n",
      "206            1879 [1878]\n",
      "216                   1868\n",
      "218                   1869\n",
      "472                   1851\n",
      "480                   1857\n",
      "481                   1875\n",
      "519                   1872\n",
      "667                    NaN\n",
      "874                   1676\n",
      "1143                  1679\n",
      "1280                  1802\n",
      "1808                  1859\n",
      "1905                  1888\n",
      "1929           1839, 38-54\n",
      "2836                  1897\n",
      "2854                  1865\n",
      "2956               1860-63\n",
      "2957                  1873\n",
      "3017                  1866\n",
      "3131                  1899\n",
      "4598                  1814\n",
      "4884                  1820\n",
      "4976                  1800\n",
      "5382    1847, 48 [1846-48]\n",
      "5385               [1897?]\n",
      "5389               [1897?]\n",
      "5432                  1893\n",
      "6036                  1805\n",
      "6821                  1837\n",
      "7521                  1896\n",
      "Name: Date of Publication, dtype: object\n"
     ]
    }
   ],
   "source": [
    "print (bibreg['Date of Publication'][:30])"
   ]
  },
  {
   "cell_type": "markdown",
   "id": "bce2985a",
   "metadata": {},
   "source": [
    "Аутоматско чишћење података у овој колони није једноставно. Прво, зато што нисмо сигурни шта треба да препознамо као број. Друго, зато што не постоји једноставан начин за то.\n",
    "\n",
    "Да се договоримо прво шта треба да препознамо као број. Једно решење (које не мора да буде најбоље) је да тражимо само оне елементе у колони који почињу са четири цифре, да те четири цифре претворимо у број, а да све остало занемаримо. То значи да би први елемент био 1879, други 1868 итд.\n",
    "\n",
    "Начин на који ћемо то урадити је да препознамо део текста користећи регуларне изразе. Ово је доста компликована тема коју овде не можемо да обрадимо. Можда је најбоље да нам верујете да то тако заиста ради."
   ]
  },
  {
   "cell_type": "markdown",
   "id": "32658aeb",
   "metadata": {},
   "source": [
    "### Регуларни изрази"
   ]
  },
  {
   "cell_type": "markdown",
   "id": "55a30df4",
   "metadata": {},
   "source": [
    "Регуларни изрази (енг. _regular expressions_) су кодирани описи садржаја у неком тексту. Пајтон може да претражи низ текстуалних података у потрази за садржајем који одговарају том опису. Начин на који се кодирају регуларни изрази нису баш интуитивни. Другим речима, ако су вам начини на који се записују и раде регуларни изрази збуњујући и неразумљиви, то је сасвим нормално."
   ]
  },
  {
   "cell_type": "markdown",
   "id": "d7f55d9f",
   "metadata": {},
   "source": [
    "Ми ћемо помоћу регуларних израза да потражимо групе од четири цифре на почетку текстуалне променљиве. [Регуларни израз](https://regex101.com/r/3AJ1Pv/1) који то описује је `^(\\d{4})`. Код __\\d__ означава _digit_, односно било коју цифру, __{4}__ значи да се цифре понављају тачно 4 пута, заграде означавају групу коју треба обележити, а код __^__ да се тим текстом почиње ред. За разлику од обичног текста који стављамо под наводнике кад га придружујемо променљивој, овде испед наводника стоји слово __r__ које означава да то није обичан текст већ кодирани опис текста."
   ]
  },
  {
   "cell_type": "code",
   "execution_count": 18,
   "id": "c5407895",
   "metadata": {},
   "outputs": [],
   "source": [
    "maska=r'^(\\d{4})'"
   ]
  },
  {
   "cell_type": "markdown",
   "id": "d2db5043",
   "metadata": {},
   "source": [
    "Сада треба да прођемо кроз све елементе колоне __Date of Publication__ и извучемо стринг са траженим описом уколико постоји у том елементу. То ћемо урадити помоћу функције `str.extract()`. Аргументи ове функције су регуларни израз који смо ставили у променљиву __maska__ и напомена Пајтону да излаз буде само једна колона."
   ]
  },
  {
   "cell_type": "code",
   "execution_count": 19,
   "id": "64060631",
   "metadata": {},
   "outputs": [],
   "source": [
    "year = bibreg['Date of Publication'].str.extract(maska, expand=False)"
   ]
  },
  {
   "cell_type": "code",
   "execution_count": 20,
   "id": "b87025bd",
   "metadata": {
    "scrolled": true
   },
   "outputs": [
    {
     "data": {
      "text/plain": [
       "Identifier\n",
       "206        1879\n",
       "216        1868\n",
       "218        1869\n",
       "472        1851\n",
       "480        1857\n",
       "           ... \n",
       "4158088    1838\n",
       "4158128    1831\n",
       "4159563     NaN\n",
       "4159587    1834\n",
       "4160339    1834\n",
       "Name: Date of Publication, Length: 8287, dtype: object"
      ]
     },
     "execution_count": 20,
     "metadata": {},
     "output_type": "execute_result"
    }
   ],
   "source": [
    "year"
   ]
  },
  {
   "cell_type": "markdown",
   "id": "8a1ed845",
   "metadata": {},
   "source": [
    "Видимо да је Пајтон препознао и издвојио групе од четири цифре које би требало да представљају године. Тамо где му то није пошло за руком пише __NaN__. Приметите да ови подаци и даље нису бројеви него стрингови. Да би постали бројеви потребно је да их претворимо у бројеве помоћу функције `to_numeric()`. То није било могуће пре чишћења. Надајмо се да ће сада радити."
   ]
  },
  {
   "cell_type": "code",
   "execution_count": 21,
   "id": "965d2834",
   "metadata": {},
   "outputs": [],
   "source": [
    "year = pd.to_numeric(year)"
   ]
  },
  {
   "cell_type": "markdown",
   "id": "7f60d949",
   "metadata": {},
   "source": [
    "Ако је све у реду онда ћемо моћи да нађемо најстарију књигу."
   ]
  },
  {
   "cell_type": "code",
   "execution_count": 22,
   "id": "c68b9d05",
   "metadata": {},
   "outputs": [
    {
     "data": {
      "text/plain": [
       "1510.0"
      ]
     },
     "execution_count": 22,
     "metadata": {},
     "output_type": "execute_result"
    }
   ],
   "source": [
    "year.min()"
   ]
  },
  {
   "cell_type": "markdown",
   "id": "309665ea",
   "metadata": {},
   "source": [
    "Најстарија књига је из 1510. године. То је баш старо. Можете ли да откријете која је то књига?"
   ]
  },
  {
   "cell_type": "code",
   "execution_count": 23,
   "id": "6e175370",
   "metadata": {},
   "outputs": [
    {
     "data": {
      "text/html": [
       "<div>\n",
       "<style scoped>\n",
       "    .dataframe tbody tr th:only-of-type {\n",
       "        vertical-align: middle;\n",
       "    }\n",
       "\n",
       "    .dataframe tbody tr th {\n",
       "        vertical-align: top;\n",
       "    }\n",
       "\n",
       "    .dataframe thead th {\n",
       "        text-align: right;\n",
       "    }\n",
       "</style>\n",
       "<table border=\"1\" class=\"dataframe\">\n",
       "  <thead>\n",
       "    <tr style=\"text-align: right;\">\n",
       "      <th></th>\n",
       "      <th>Place of Publication</th>\n",
       "      <th>Date of Publication</th>\n",
       "      <th>Publisher</th>\n",
       "      <th>Title</th>\n",
       "      <th>Author</th>\n",
       "      <th>Flickr URL</th>\n",
       "    </tr>\n",
       "    <tr>\n",
       "      <th>Identifier</th>\n",
       "      <th></th>\n",
       "      <th></th>\n",
       "      <th></th>\n",
       "      <th></th>\n",
       "      <th></th>\n",
       "      <th></th>\n",
       "    </tr>\n",
       "  </thead>\n",
       "  <tbody>\n",
       "    <tr>\n",
       "      <th>2938347</th>\n",
       "      <td>Paris</td>\n",
       "      <td>1510?]</td>\n",
       "      <td>in aedibus Nicolai Crispini</td>\n",
       "      <td>Piutarchi Chaeronensis Regum  Imperatorum Apo...</td>\n",
       "      <td>NaN</td>\n",
       "      <td>http://www.flickr.com/photos/britishlibrary/ta...</td>\n",
       "    </tr>\n",
       "  </tbody>\n",
       "</table>\n",
       "</div>"
      ],
      "text/plain": [
       "           Place of Publication Date of Publication  \\\n",
       "Identifier                                            \n",
       "2938347                   Paris              1510?]   \n",
       "\n",
       "                              Publisher  \\\n",
       "Identifier                                \n",
       "2938347     in aedibus Nicolai Crispini   \n",
       "\n",
       "                                                        Title Author  \\\n",
       "Identifier                                                             \n",
       "2938347     Piutarchi Chaeronensis Regum  Imperatorum Apo...    NaN   \n",
       "\n",
       "                                                   Flickr URL  \n",
       "Identifier                                                     \n",
       "2938347     http://www.flickr.com/photos/britishlibrary/ta...  "
      ]
     },
     "execution_count": 23,
     "metadata": {},
     "output_type": "execute_result"
    }
   ],
   "source": [
    "bibreg.loc[year==1510]"
   ]
  },
  {
   "cell_type": "markdown",
   "id": "56823b58",
   "metadata": {},
   "source": [
    "Све књиге за које нисмо успели да препознамо годину издавања имају ознаку __NaN__ коју уочавамо помоћу функције `isnull()`. Ако саберемо колико таквих има, имаћемо показатељ успешности чишћења."
   ]
  },
  {
   "cell_type": "code",
   "execution_count": 24,
   "id": "019a8d16",
   "metadata": {
    "scrolled": false
   },
   "outputs": [
    {
     "data": {
      "text/plain": [
       "971"
      ]
     },
     "execution_count": 24,
     "metadata": {},
     "output_type": "execute_result"
    }
   ],
   "source": [
    "year.isnull().sum()"
   ]
  },
  {
   "cell_type": "markdown",
   "id": "0a128c4e",
   "metadata": {},
   "source": [
    "У поређењу са 1759 број 971 јесте мањи, али и даље значајан. Међутим, оно што је значајније јесте да смо текстуалне записе претворили у бројеве које можемо даље да анализирамо. "
   ]
  },
  {
   "cell_type": "markdown",
   "id": "fa93bb64",
   "metadata": {},
   "source": [
    "Било би добро очишћене нумеричке податке убацити назад у табелу, али није препоручљиво да то урадите тако што пребришете оригиналне податке у колони __Date of Publication__. Тако бисмо изгубили могућност да проверимо је ли чишћење било добро и евентуално променимо критеријум касније. Боље је да имамо оригиналну и очишћену колону једну поред друге. Помоћу функције `insert()` можемо да убацимо на одређено место у табели колону са именом и вредностима као аргументима."
   ]
  },
  {
   "cell_type": "code",
   "execution_count": 25,
   "id": "01a82b27",
   "metadata": {},
   "outputs": [],
   "source": [
    "bibreg.insert(2, \"Year\", year)"
   ]
  },
  {
   "cell_type": "code",
   "execution_count": 26,
   "id": "84a6011c",
   "metadata": {
    "scrolled": true
   },
   "outputs": [
    {
     "data": {
      "text/html": [
       "<div>\n",
       "<style scoped>\n",
       "    .dataframe tbody tr th:only-of-type {\n",
       "        vertical-align: middle;\n",
       "    }\n",
       "\n",
       "    .dataframe tbody tr th {\n",
       "        vertical-align: top;\n",
       "    }\n",
       "\n",
       "    .dataframe thead th {\n",
       "        text-align: right;\n",
       "    }\n",
       "</style>\n",
       "<table border=\"1\" class=\"dataframe\">\n",
       "  <thead>\n",
       "    <tr style=\"text-align: right;\">\n",
       "      <th></th>\n",
       "      <th>Place of Publication</th>\n",
       "      <th>Date of Publication</th>\n",
       "      <th>Year</th>\n",
       "      <th>Publisher</th>\n",
       "      <th>Title</th>\n",
       "      <th>Author</th>\n",
       "      <th>Flickr URL</th>\n",
       "    </tr>\n",
       "    <tr>\n",
       "      <th>Identifier</th>\n",
       "      <th></th>\n",
       "      <th></th>\n",
       "      <th></th>\n",
       "      <th></th>\n",
       "      <th></th>\n",
       "      <th></th>\n",
       "      <th></th>\n",
       "    </tr>\n",
       "  </thead>\n",
       "  <tbody>\n",
       "    <tr>\n",
       "      <th>206</th>\n",
       "      <td>London</td>\n",
       "      <td>1879 [1878]</td>\n",
       "      <td>1879.0</td>\n",
       "      <td>S. Tinsley &amp; Co.</td>\n",
       "      <td>Walter Forbes. [A novel.] By A. A</td>\n",
       "      <td>A. A.</td>\n",
       "      <td>http://www.flickr.com/photos/britishlibrary/ta...</td>\n",
       "    </tr>\n",
       "    <tr>\n",
       "      <th>216</th>\n",
       "      <td>London; Virtue &amp; Yorston</td>\n",
       "      <td>1868</td>\n",
       "      <td>1868.0</td>\n",
       "      <td>Virtue &amp; Co.</td>\n",
       "      <td>All for Greed. [A novel. The dedication signed...</td>\n",
       "      <td>A., A. A.</td>\n",
       "      <td>http://www.flickr.com/photos/britishlibrary/ta...</td>\n",
       "    </tr>\n",
       "    <tr>\n",
       "      <th>218</th>\n",
       "      <td>London</td>\n",
       "      <td>1869</td>\n",
       "      <td>1869.0</td>\n",
       "      <td>Bradbury, Evans &amp; Co.</td>\n",
       "      <td>Love the Avenger. By the author of “All for Gr...</td>\n",
       "      <td>A., A. A.</td>\n",
       "      <td>http://www.flickr.com/photos/britishlibrary/ta...</td>\n",
       "    </tr>\n",
       "    <tr>\n",
       "      <th>472</th>\n",
       "      <td>London</td>\n",
       "      <td>1851</td>\n",
       "      <td>1851.0</td>\n",
       "      <td>James Darling</td>\n",
       "      <td>Welsh Sketches, chiefly ecclesiastical, to the...</td>\n",
       "      <td>A., E. S.</td>\n",
       "      <td>http://www.flickr.com/photos/britishlibrary/ta...</td>\n",
       "    </tr>\n",
       "    <tr>\n",
       "      <th>480</th>\n",
       "      <td>London</td>\n",
       "      <td>1857</td>\n",
       "      <td>1857.0</td>\n",
       "      <td>Wertheim &amp; Macintosh</td>\n",
       "      <td>[The World in which I live, and my place in it...</td>\n",
       "      <td>A., E. S.</td>\n",
       "      <td>http://www.flickr.com/photos/britishlibrary/ta...</td>\n",
       "    </tr>\n",
       "    <tr>\n",
       "      <th>...</th>\n",
       "      <td>...</td>\n",
       "      <td>...</td>\n",
       "      <td>...</td>\n",
       "      <td>...</td>\n",
       "      <td>...</td>\n",
       "      <td>...</td>\n",
       "      <td>...</td>\n",
       "    </tr>\n",
       "    <tr>\n",
       "      <th>4158088</th>\n",
       "      <td>London</td>\n",
       "      <td>1838</td>\n",
       "      <td>1838.0</td>\n",
       "      <td>NaN</td>\n",
       "      <td>The Parochial History of Cornwall, founded on,...</td>\n",
       "      <td>GIDDY, afterwards GILBERT, Davies.</td>\n",
       "      <td>http://www.flickr.com/photos/britishlibrary/ta...</td>\n",
       "    </tr>\n",
       "    <tr>\n",
       "      <th>4158128</th>\n",
       "      <td>Derby</td>\n",
       "      <td>1831, 32</td>\n",
       "      <td>1831.0</td>\n",
       "      <td>M. Mozley &amp; Son</td>\n",
       "      <td>The History and Gazetteer of the County of Der...</td>\n",
       "      <td>GLOVER, Stephen - of Derby</td>\n",
       "      <td>http://www.flickr.com/photos/britishlibrary/ta...</td>\n",
       "    </tr>\n",
       "    <tr>\n",
       "      <th>4159563</th>\n",
       "      <td>London</td>\n",
       "      <td>[1806]-22</td>\n",
       "      <td>NaN</td>\n",
       "      <td>T. Cadell and W. Davies</td>\n",
       "      <td>Magna Britannia; being a concise topographical...</td>\n",
       "      <td>LYSONS, Daniel - M.A., F.R.S., and LYSONS (Sam...</td>\n",
       "      <td>http://www.flickr.com/photos/britishlibrary/ta...</td>\n",
       "    </tr>\n",
       "    <tr>\n",
       "      <th>4159587</th>\n",
       "      <td>Newcastle upon Tyne</td>\n",
       "      <td>1834</td>\n",
       "      <td>1834.0</td>\n",
       "      <td>Mackenzie &amp; Dent</td>\n",
       "      <td>An historical, topographical and descriptive v...</td>\n",
       "      <td>Mackenzie, E. (Eneas)</td>\n",
       "      <td>http://www.flickr.com/photos/britishlibrary/ta...</td>\n",
       "    </tr>\n",
       "    <tr>\n",
       "      <th>4160339</th>\n",
       "      <td>London</td>\n",
       "      <td>1834-43</td>\n",
       "      <td>1834.0</td>\n",
       "      <td>NaN</td>\n",
       "      <td>Collectanea Topographica et Genealogica. [Firs...</td>\n",
       "      <td>NaN</td>\n",
       "      <td>http://www.flickr.com/photos/britishlibrary/ta...</td>\n",
       "    </tr>\n",
       "  </tbody>\n",
       "</table>\n",
       "<p>8287 rows × 7 columns</p>\n",
       "</div>"
      ],
      "text/plain": [
       "                Place of Publication Date of Publication    Year  \\\n",
       "Identifier                                                         \n",
       "206                           London         1879 [1878]  1879.0   \n",
       "216         London; Virtue & Yorston                1868  1868.0   \n",
       "218                           London                1869  1869.0   \n",
       "472                           London                1851  1851.0   \n",
       "480                           London                1857  1857.0   \n",
       "...                              ...                 ...     ...   \n",
       "4158088                       London                1838  1838.0   \n",
       "4158128                        Derby            1831, 32  1831.0   \n",
       "4159563                       London           [1806]-22     NaN   \n",
       "4159587          Newcastle upon Tyne                1834  1834.0   \n",
       "4160339                       London             1834-43  1834.0   \n",
       "\n",
       "                          Publisher  \\\n",
       "Identifier                            \n",
       "206                S. Tinsley & Co.   \n",
       "216                    Virtue & Co.   \n",
       "218           Bradbury, Evans & Co.   \n",
       "472                   James Darling   \n",
       "480            Wertheim & Macintosh   \n",
       "...                             ...   \n",
       "4158088                         NaN   \n",
       "4158128             M. Mozley & Son   \n",
       "4159563     T. Cadell and W. Davies   \n",
       "4159587            Mackenzie & Dent   \n",
       "4160339                         NaN   \n",
       "\n",
       "                                                        Title  \\\n",
       "Identifier                                                      \n",
       "206                         Walter Forbes. [A novel.] By A. A   \n",
       "216         All for Greed. [A novel. The dedication signed...   \n",
       "218         Love the Avenger. By the author of “All for Gr...   \n",
       "472         Welsh Sketches, chiefly ecclesiastical, to the...   \n",
       "480         [The World in which I live, and my place in it...   \n",
       "...                                                       ...   \n",
       "4158088     The Parochial History of Cornwall, founded on,...   \n",
       "4158128     The History and Gazetteer of the County of Der...   \n",
       "4159563     Magna Britannia; being a concise topographical...   \n",
       "4159587     An historical, topographical and descriptive v...   \n",
       "4160339     Collectanea Topographica et Genealogica. [Firs...   \n",
       "\n",
       "                                                       Author  \\\n",
       "Identifier                                                      \n",
       "206                                                     A. A.   \n",
       "216                                                 A., A. A.   \n",
       "218                                                 A., A. A.   \n",
       "472                                                 A., E. S.   \n",
       "480                                                 A., E. S.   \n",
       "...                                                       ...   \n",
       "4158088                    GIDDY, afterwards GILBERT, Davies.   \n",
       "4158128                            GLOVER, Stephen - of Derby   \n",
       "4159563     LYSONS, Daniel - M.A., F.R.S., and LYSONS (Sam...   \n",
       "4159587                                 Mackenzie, E. (Eneas)   \n",
       "4160339                                                   NaN   \n",
       "\n",
       "                                                   Flickr URL  \n",
       "Identifier                                                     \n",
       "206         http://www.flickr.com/photos/britishlibrary/ta...  \n",
       "216         http://www.flickr.com/photos/britishlibrary/ta...  \n",
       "218         http://www.flickr.com/photos/britishlibrary/ta...  \n",
       "472         http://www.flickr.com/photos/britishlibrary/ta...  \n",
       "480         http://www.flickr.com/photos/britishlibrary/ta...  \n",
       "...                                                       ...  \n",
       "4158088     http://www.flickr.com/photos/britishlibrary/ta...  \n",
       "4158128     http://www.flickr.com/photos/britishlibrary/ta...  \n",
       "4159563     http://www.flickr.com/photos/britishlibrary/ta...  \n",
       "4159587     http://www.flickr.com/photos/britishlibrary/ta...  \n",
       "4160339     http://www.flickr.com/photos/britishlibrary/ta...  \n",
       "\n",
       "[8287 rows x 7 columns]"
      ]
     },
     "execution_count": 26,
     "metadata": {},
     "output_type": "execute_result"
    }
   ],
   "source": [
    "bibreg"
   ]
  },
  {
   "cell_type": "markdown",
   "id": "35ba0720",
   "metadata": {},
   "source": [
    "### Чишћење текстуалних података"
   ]
  },
  {
   "cell_type": "markdown",
   "id": "ad22a2d5",
   "metadata": {},
   "source": [
    "За разлику од нумеричких података, текстуалне можемо да анализирамо и пре чишћења. За текст имамо другу врсте анализе (колико има којих елемената, ког има највише итд.). Резултати можда неће бити најпоузданији, али ћемо нешто добити нешто информативно. Да видимо, на пример, статистику места издавања књига из регистра __bibreg__."
   ]
  },
  {
   "cell_type": "code",
   "execution_count": 27,
   "id": "6b75d6aa",
   "metadata": {},
   "outputs": [
    {
     "data": {
      "text/plain": [
       "London              3868\n",
       "Paris                479\n",
       "Edinburgh            208\n",
       "New York             177\n",
       "Leipzig              119\n",
       "                    ... \n",
       "Copenhagne             1\n",
       "New York, 1866         1\n",
       "Baltimore [U.S.]       1\n",
       "Windham, N.H           1\n",
       "Leopoli                1\n",
       "Name: Place of Publication, Length: 1441, dtype: int64"
      ]
     },
     "execution_count": 27,
     "metadata": {},
     "output_type": "execute_result"
    }
   ],
   "source": [
    "bibreg['Place of Publication'].value_counts()"
   ]
  },
  {
   "cell_type": "markdown",
   "id": "1122e333",
   "metadata": {},
   "source": [
    "Имамо 1441 различит запис места издавања. Вероватно места издавања има мање, али су записани другачије. Промена тог броја може да буде показатељ колико смо добро очистили колону."
   ]
  },
  {
   "cell_type": "code",
   "execution_count": 28,
   "id": "a6d0e476",
   "metadata": {},
   "outputs": [
    {
     "data": {
      "text/plain": [
       "London                3868\n",
       "Paris                  479\n",
       "Edinburgh              208\n",
       "New York               177\n",
       "Leipzig                119\n",
       "Philadelphia            89\n",
       "Berlin                  70\n",
       "Boston [Mass.]          52\n",
       "Dublin                  48\n",
       "Glasgow                 45\n",
       "Oxford                  44\n",
       "Boston                  41\n",
       "Wien                    38\n",
       "Stockholm               33\n",
       "Madrid                  33\n",
       "Bruxelles               28\n",
       "Cambridge               26\n",
       "Amsterdam               25\n",
       "Firenze                 24\n",
       "Stuttgart               24\n",
       "Chicago                 24\n",
       "Birmingham              23\n",
       "Manchester              20\n",
       "Milano                  20\n",
       "Tours                   19\n",
       "Calcutta                19\n",
       "enk                     19\n",
       "Kjøbenhavn              18\n",
       "Bristol                 18\n",
       "Buenos Aires            16\n",
       "New-York                16\n",
       "Lisboa                  16\n",
       "С.-Петербургъ           16\n",
       "Edinburgh & London      16\n",
       "Norwich                 16\n",
       "London]                 14\n",
       "México                 14\n",
       "Haarlem                 14\n",
       "Cincinnati              14\n",
       "Napoli                  14\n",
       "Name: Place of Publication, dtype: int64"
      ]
     },
     "execution_count": 28,
     "metadata": {},
     "output_type": "execute_result"
    }
   ],
   "source": [
    "bibreg['Place of Publication'].value_counts()[:40]"
   ]
  },
  {
   "cell_type": "markdown",
   "id": "1130e1e6",
   "metadata": {},
   "source": [
    "Оно што видимо на први поглед је да имамо више записа који се односе на исти град. На пример, __London__ (3868) и __London]__ (14) или __Boston [Mass.]__ (52) и __Boston__ (41). Чишћење податка би то требало да обједини. Већ из 40 најчешћих места издавања видимо да се називи места понављају кроз различите записе. Међу осталих хиљаду мора да их има још много."
   ]
  },
  {
   "cell_type": "markdown",
   "id": "120bd769",
   "metadata": {},
   "source": [
    "Да видимо за записе у којима се појављују речи __\"London\"__, __\"Paris\"__ или __\"Boston\"__ каквих све облика има."
   ]
  },
  {
   "cell_type": "code",
   "execution_count": 29,
   "id": "c742cfbd",
   "metadata": {},
   "outputs": [],
   "source": [
    "place=bibreg['Place of Publication']"
   ]
  },
  {
   "cell_type": "markdown",
   "id": "e872a3e0",
   "metadata": {},
   "source": [
    "Као и код нумерички података добра је пракса не мењати оригиналне податке него направити још једну колону (__place__) у којој су подаци очишћењни како мислимо да треба. То нам оставља могућност да касније, под утицајем неких нових сазнања, променимо одлуку. Добро је да оригинална колона и колона са очишћеним подацима стоје једна поред друге. "
   ]
  },
  {
   "cell_type": "code",
   "execution_count": 30,
   "id": "971a5559",
   "metadata": {},
   "outputs": [
    {
     "data": {
      "text/plain": [
       "Identifier\n",
       "16544              Boston\n",
       "28758              Boston\n",
       "45172              Boston\n",
       "53627              Boston\n",
       "69331              Boston\n",
       "                ...      \n",
       "3954038    Boston [Mass.]\n",
       "3954691            Boston\n",
       "3954692            Boston\n",
       "3954693    Boston [Mass.]\n",
       "3970785     Boston [U.S.]\n",
       "Name: Place of Publication, Length: 119, dtype: object"
      ]
     },
     "execution_count": 30,
     "metadata": {},
     "output_type": "execute_result"
    }
   ],
   "source": [
    "place[place.str.contains(\"Boston\")]"
   ]
  },
  {
   "cell_type": "code",
   "execution_count": 31,
   "id": "5a25db12",
   "metadata": {
    "scrolled": true
   },
   "outputs": [
    {
     "data": {
      "text/plain": [
       "New York                                            177\n",
       "New-York                                             16\n",
       "London & New York                                    10\n",
       "York                                                  8\n",
       "London; New York [printed]                            3\n",
       "New York & London                                     3\n",
       "Macmillan & Co.; New York                             2\n",
       "Nueva York                                            1\n",
       "London; New York printed                              1\n",
       "Neuva York [sic]                                      1\n",
       "Boston and New York                                   1\n",
       "New York, London                                      1\n",
       "pp. 171. J. Lane: London & New York, 1896             1\n",
       "pp. viii. 291. Harper & Bros.: New York, 1888         1\n",
       "New York [printed]; London                            1\n",
       "New York, 1866                                        1\n",
       "London [printed], New York                            1\n",
       "pp. 110. John Lane: London, New York, 1918            1\n",
       "London, Edinburgh and New York                        1\n",
       "Nueva-York                                            1\n",
       "London, York [printed]                                1\n",
       "Nouvelle-York                                         1\n",
       "pp. 330. J. Lane: London & New York, 1899 [1898]      1\n",
       "Boston & New York                                     1\n",
       "New York; Kegan Paul & Co                             1\n",
       "4 vol. The Century Co.: New York, 1887, 8º            1\n",
       "London & New York, Macmillan & Co                     1\n",
       "New York [printed], Chicago                           1\n",
       "Name: Place of Publication, dtype: int64"
      ]
     },
     "execution_count": 31,
     "metadata": {},
     "output_type": "execute_result"
    }
   ],
   "source": [
    "place[place.str.contains(\"York\")].value_counts()"
   ]
  },
  {
   "cell_type": "markdown",
   "id": "10fc63fb",
   "metadata": {},
   "source": [
    "Има чак 245 различитих записа у којима се помиње Лондон. То неће бити једноставно за чишћење. Неке од ових записа вероватно не би требало мењати: __Edinburgh & London__ би требало да остане тако како јесте, али би __Longman & Co. London__ требало променити у __London__. Међутим, код чишћења података треба бити практичан. Ако већ знамо да чишћење податка тражи много времена и да никад не можемо да будемо сигурни јесмо ли све исправили како треба, онда треба почети од очигледних и значајних измена. Прво исправљајте грешке које су најбројније. Спојте __Boston [Mass.]__ и __Boston__ у један запис, промените __New-York__ у __New York__ па онда редом.\n",
    "\n",
    "Постоји ли нешто што можемо да урадимо пре него што конкретне називе места кренемо да замењујемо другима? Видимо на пример да постоје различити записи __\"Boston and New York\"__ и __\"Boston & New York\"__. Ако заменимо \" and \" са \" & \" онда ће то имати ефекта код свих комбинација градова, не само код Бостона и Њујорка."
   ]
  },
  {
   "cell_type": "code",
   "execution_count": 32,
   "id": "c60495f5",
   "metadata": {},
   "outputs": [],
   "source": [
    "place=place.str.replace(\" and \", \" & \")"
   ]
  },
  {
   "cell_type": "code",
   "execution_count": 33,
   "id": "9393896d",
   "metadata": {},
   "outputs": [
    {
     "data": {
      "text/plain": [
       "London                                  3868\n",
       "Paris                                    479\n",
       "Edinburgh                                208\n",
       "New York                                 177\n",
       "Leipzig                                  119\n",
       "                                        ... \n",
       "pp. xvi. 151. E. Stock: London, 1887       1\n",
       "Windsor,]                                  1\n",
       "Pesth, Darmstadt [printed]                 1\n",
       "Paris, Orléans [printed]                  1\n",
       "Leopoli                                    1\n",
       "Name: Place of Publication, Length: 1439, dtype: int64"
      ]
     },
     "execution_count": 33,
     "metadata": {},
     "output_type": "execute_result"
    }
   ],
   "source": [
    "place.value_counts()"
   ]
  },
  {
   "cell_type": "markdown",
   "id": "2ccd4a77",
   "metadata": {},
   "source": [
    "Смањили смо број различитих облика записа за 2. Није превише успешно. Да видимо даље. Изгледа да знак \"__;__\" у запису значи да после тога иде нешто мање важно, нпр. где је књига штампана или се још једном појави ко је издавач. "
   ]
  },
  {
   "cell_type": "code",
   "execution_count": 34,
   "id": "71feafe6",
   "metadata": {
    "scrolled": true
   },
   "outputs": [
    {
     "data": {
      "text/plain": [
       "London; Edinburgh [printed]             6\n",
       "London; Guildford [printed]             4\n",
       "London; Perth [printed                  3\n",
       "London; Edinburgh printed               3\n",
       "London; New York [printed]              3\n",
       "                                       ..\n",
       "Dalbeattie; Castle-Douglas [printed]    1\n",
       "Burns & Oates; London                   1\n",
       "London; W. Frederick                    1\n",
       "New York; Kegan Paul & Co               1\n",
       "J. Vincent; London                      1\n",
       "Name: Place of Publication, Length: 69, dtype: int64"
      ]
     },
     "execution_count": 34,
     "metadata": {},
     "output_type": "execute_result"
    }
   ],
   "source": [
    "place[place.str.contains(\";\")].value_counts()"
   ]
  },
  {
   "cell_type": "markdown",
   "id": "6f61f913",
   "metadata": {},
   "source": [
    "Можда бисмо могли да помоћу функције уклонимо све што се појављује после \";\", односно да поделимо стрингове на листе `split()` тако што ће управо тачка-зарез бити сепаратор па да онда узмемо само први елемент листе. Аргумент __expand=True__ служи да резултат претвори у _DataFrame_ како бисмо могли да узмемо само први део, односно колону са индексом 0."
   ]
  },
  {
   "cell_type": "code",
   "execution_count": 35,
   "id": "8ffbeb81",
   "metadata": {},
   "outputs": [],
   "source": [
    "place=place.str.split(\";\",expand=True)[0]"
   ]
  },
  {
   "cell_type": "code",
   "execution_count": 36,
   "id": "169ccfe2",
   "metadata": {},
   "outputs": [
    {
     "data": {
      "text/plain": [
       "London                3923\n",
       "Paris                  480\n",
       "Edinburgh              211\n",
       "New York               178\n",
       "Leipzig                119\n",
       "Philadelphia            90\n",
       "Berlin                  70\n",
       "Boston [Mass.]          53\n",
       "Dublin                  48\n",
       "Glasgow                 45\n",
       "Oxford                  44\n",
       "Boston                  42\n",
       "Wien                    38\n",
       "Madrid                  34\n",
       "Stockholm               33\n",
       "Bruxelles               28\n",
       "Cambridge               26\n",
       "Amsterdam               25\n",
       "Stuttgart               24\n",
       "Firenze                 24\n",
       "Chicago                 24\n",
       "Birmingham              23\n",
       "Manchester              22\n",
       "Edinburgh & London      22\n",
       "Milano                  20\n",
       "Bristol                 19\n",
       "Calcutta                19\n",
       "Tours                   19\n",
       "enk                     19\n",
       "Kjøbenhavn              18\n",
       "С.-Петербургъ           16\n",
       "Buenos Aires            16\n",
       "New-York                16\n",
       "Norwich                 16\n",
       "Lisboa                  16\n",
       "México                 14\n",
       "Napoli                  14\n",
       "Haarlem                 14\n",
       "London]                 14\n",
       "Cincinnati              14\n",
       "Name: 0, dtype: int64"
      ]
     },
     "execution_count": 36,
     "metadata": {},
     "output_type": "execute_result"
    }
   ],
   "source": [
    "place.value_counts()[:40]"
   ]
  },
  {
   "cell_type": "markdown",
   "id": "ade1bc6c",
   "metadata": {},
   "source": [
    "Ово је изгледа помогло више. Сада имамо 49 облика записа мање. Број записа где је Лондон место издавања се повећао са 3868 на 3923. То значи да смо за кратко време направили помак. Да смо ручно чистили податке, много више времена би нам требало. На сличан начин бисмо могли да чистимо и угласте заграде, да бришемо називе држава из записа (нпр. U.S.A.), али би коришћење регуларних израза било врло пожељно. Пробајте сами шта можете да очистите на овај начин."
   ]
  },
  {
   "cell_type": "markdown",
   "id": "a1b3905a",
   "metadata": {},
   "source": [
    "Сада да заменимо конкретне записе које смо помињали раније."
   ]
  },
  {
   "cell_type": "code",
   "execution_count": 37,
   "id": "9f78cad3",
   "metadata": {},
   "outputs": [],
   "source": [
    "place[place=='Boston [Mass.]']='Boston'\n",
    "place[place=='New-York']='New York'"
   ]
  },
  {
   "cell_type": "code",
   "execution_count": 38,
   "id": "c4e1e241",
   "metadata": {},
   "outputs": [
    {
     "data": {
      "text/plain": [
       "London                3923\n",
       "Paris                  480\n",
       "Edinburgh              211\n",
       "New York               194\n",
       "Leipzig                119\n",
       "Boston                  95\n",
       "Philadelphia            90\n",
       "Berlin                  70\n",
       "Dublin                  48\n",
       "Glasgow                 45\n",
       "Oxford                  44\n",
       "Wien                    38\n",
       "Madrid                  34\n",
       "Stockholm               33\n",
       "Bruxelles               28\n",
       "Cambridge               26\n",
       "Amsterdam               25\n",
       "Stuttgart               24\n",
       "Chicago                 24\n",
       "Firenze                 24\n",
       "Birmingham              23\n",
       "Edinburgh & London      22\n",
       "Manchester              22\n",
       "Milano                  20\n",
       "enk                     19\n",
       "Bristol                 19\n",
       "Calcutta                19\n",
       "Tours                   19\n",
       "Kjøbenhavn              18\n",
       "Lisboa                  16\n",
       "Norwich                 16\n",
       "С.-Петербургъ           16\n",
       "Buenos Aires            16\n",
       "London]                 14\n",
       "Cincinnati              14\n",
       "Napoli                  14\n",
       "Haarlem                 14\n",
       "México                 14\n",
       "Mexico                  13\n",
       "Budapest                13\n",
       "Name: 0, dtype: int64"
      ]
     },
     "execution_count": 38,
     "metadata": {},
     "output_type": "execute_result"
    }
   ],
   "source": [
    "place.value_counts()[:40]"
   ]
  },
  {
   "cell_type": "markdown",
   "id": "a2757dc4",
   "metadata": {},
   "source": [
    "Табела сада изгледа чистије, али посао чишћења ни изблиза није готов. Ми ћемо се, међутим, овде зауставити јер не желимо да цео курс прође у чишћењу података у овој једној колони. Коначно, убацићемо низ __place__ као нову колону поред __Place of Publication__ како бисмо могли да контролошемо је ли чишћење било успешно."
   ]
  },
  {
   "cell_type": "code",
   "execution_count": 39,
   "id": "6a94a249",
   "metadata": {},
   "outputs": [],
   "source": [
    "bibreg.insert(1, \"Place\", place)"
   ]
  },
  {
   "cell_type": "code",
   "execution_count": 40,
   "id": "0e50f68a",
   "metadata": {},
   "outputs": [
    {
     "data": {
      "text/html": [
       "<div>\n",
       "<style scoped>\n",
       "    .dataframe tbody tr th:only-of-type {\n",
       "        vertical-align: middle;\n",
       "    }\n",
       "\n",
       "    .dataframe tbody tr th {\n",
       "        vertical-align: top;\n",
       "    }\n",
       "\n",
       "    .dataframe thead th {\n",
       "        text-align: right;\n",
       "    }\n",
       "</style>\n",
       "<table border=\"1\" class=\"dataframe\">\n",
       "  <thead>\n",
       "    <tr style=\"text-align: right;\">\n",
       "      <th></th>\n",
       "      <th>Place of Publication</th>\n",
       "      <th>Place</th>\n",
       "      <th>Date of Publication</th>\n",
       "      <th>Year</th>\n",
       "      <th>Publisher</th>\n",
       "      <th>Title</th>\n",
       "      <th>Author</th>\n",
       "      <th>Flickr URL</th>\n",
       "    </tr>\n",
       "    <tr>\n",
       "      <th>Identifier</th>\n",
       "      <th></th>\n",
       "      <th></th>\n",
       "      <th></th>\n",
       "      <th></th>\n",
       "      <th></th>\n",
       "      <th></th>\n",
       "      <th></th>\n",
       "      <th></th>\n",
       "    </tr>\n",
       "  </thead>\n",
       "  <tbody>\n",
       "    <tr>\n",
       "      <th>206</th>\n",
       "      <td>London</td>\n",
       "      <td>London</td>\n",
       "      <td>1879 [1878]</td>\n",
       "      <td>1879.0</td>\n",
       "      <td>S. Tinsley &amp; Co.</td>\n",
       "      <td>Walter Forbes. [A novel.] By A. A</td>\n",
       "      <td>A. A.</td>\n",
       "      <td>http://www.flickr.com/photos/britishlibrary/ta...</td>\n",
       "    </tr>\n",
       "    <tr>\n",
       "      <th>216</th>\n",
       "      <td>London; Virtue &amp; Yorston</td>\n",
       "      <td>London</td>\n",
       "      <td>1868</td>\n",
       "      <td>1868.0</td>\n",
       "      <td>Virtue &amp; Co.</td>\n",
       "      <td>All for Greed. [A novel. The dedication signed...</td>\n",
       "      <td>A., A. A.</td>\n",
       "      <td>http://www.flickr.com/photos/britishlibrary/ta...</td>\n",
       "    </tr>\n",
       "    <tr>\n",
       "      <th>218</th>\n",
       "      <td>London</td>\n",
       "      <td>London</td>\n",
       "      <td>1869</td>\n",
       "      <td>1869.0</td>\n",
       "      <td>Bradbury, Evans &amp; Co.</td>\n",
       "      <td>Love the Avenger. By the author of “All for Gr...</td>\n",
       "      <td>A., A. A.</td>\n",
       "      <td>http://www.flickr.com/photos/britishlibrary/ta...</td>\n",
       "    </tr>\n",
       "    <tr>\n",
       "      <th>472</th>\n",
       "      <td>London</td>\n",
       "      <td>London</td>\n",
       "      <td>1851</td>\n",
       "      <td>1851.0</td>\n",
       "      <td>James Darling</td>\n",
       "      <td>Welsh Sketches, chiefly ecclesiastical, to the...</td>\n",
       "      <td>A., E. S.</td>\n",
       "      <td>http://www.flickr.com/photos/britishlibrary/ta...</td>\n",
       "    </tr>\n",
       "    <tr>\n",
       "      <th>480</th>\n",
       "      <td>London</td>\n",
       "      <td>London</td>\n",
       "      <td>1857</td>\n",
       "      <td>1857.0</td>\n",
       "      <td>Wertheim &amp; Macintosh</td>\n",
       "      <td>[The World in which I live, and my place in it...</td>\n",
       "      <td>A., E. S.</td>\n",
       "      <td>http://www.flickr.com/photos/britishlibrary/ta...</td>\n",
       "    </tr>\n",
       "    <tr>\n",
       "      <th>...</th>\n",
       "      <td>...</td>\n",
       "      <td>...</td>\n",
       "      <td>...</td>\n",
       "      <td>...</td>\n",
       "      <td>...</td>\n",
       "      <td>...</td>\n",
       "      <td>...</td>\n",
       "      <td>...</td>\n",
       "    </tr>\n",
       "    <tr>\n",
       "      <th>4158088</th>\n",
       "      <td>London</td>\n",
       "      <td>London</td>\n",
       "      <td>1838</td>\n",
       "      <td>1838.0</td>\n",
       "      <td>NaN</td>\n",
       "      <td>The Parochial History of Cornwall, founded on,...</td>\n",
       "      <td>GIDDY, afterwards GILBERT, Davies.</td>\n",
       "      <td>http://www.flickr.com/photos/britishlibrary/ta...</td>\n",
       "    </tr>\n",
       "    <tr>\n",
       "      <th>4158128</th>\n",
       "      <td>Derby</td>\n",
       "      <td>Derby</td>\n",
       "      <td>1831, 32</td>\n",
       "      <td>1831.0</td>\n",
       "      <td>M. Mozley &amp; Son</td>\n",
       "      <td>The History and Gazetteer of the County of Der...</td>\n",
       "      <td>GLOVER, Stephen - of Derby</td>\n",
       "      <td>http://www.flickr.com/photos/britishlibrary/ta...</td>\n",
       "    </tr>\n",
       "    <tr>\n",
       "      <th>4159563</th>\n",
       "      <td>London</td>\n",
       "      <td>London</td>\n",
       "      <td>[1806]-22</td>\n",
       "      <td>NaN</td>\n",
       "      <td>T. Cadell and W. Davies</td>\n",
       "      <td>Magna Britannia; being a concise topographical...</td>\n",
       "      <td>LYSONS, Daniel - M.A., F.R.S., and LYSONS (Sam...</td>\n",
       "      <td>http://www.flickr.com/photos/britishlibrary/ta...</td>\n",
       "    </tr>\n",
       "    <tr>\n",
       "      <th>4159587</th>\n",
       "      <td>Newcastle upon Tyne</td>\n",
       "      <td>Newcastle upon Tyne</td>\n",
       "      <td>1834</td>\n",
       "      <td>1834.0</td>\n",
       "      <td>Mackenzie &amp; Dent</td>\n",
       "      <td>An historical, topographical and descriptive v...</td>\n",
       "      <td>Mackenzie, E. (Eneas)</td>\n",
       "      <td>http://www.flickr.com/photos/britishlibrary/ta...</td>\n",
       "    </tr>\n",
       "    <tr>\n",
       "      <th>4160339</th>\n",
       "      <td>London</td>\n",
       "      <td>London</td>\n",
       "      <td>1834-43</td>\n",
       "      <td>1834.0</td>\n",
       "      <td>NaN</td>\n",
       "      <td>Collectanea Topographica et Genealogica. [Firs...</td>\n",
       "      <td>NaN</td>\n",
       "      <td>http://www.flickr.com/photos/britishlibrary/ta...</td>\n",
       "    </tr>\n",
       "  </tbody>\n",
       "</table>\n",
       "<p>8287 rows × 8 columns</p>\n",
       "</div>"
      ],
      "text/plain": [
       "                Place of Publication                Place Date of Publication  \\\n",
       "Identifier                                                                      \n",
       "206                           London               London         1879 [1878]   \n",
       "216         London; Virtue & Yorston               London                1868   \n",
       "218                           London               London                1869   \n",
       "472                           London               London                1851   \n",
       "480                           London               London                1857   \n",
       "...                              ...                  ...                 ...   \n",
       "4158088                       London               London                1838   \n",
       "4158128                        Derby                Derby            1831, 32   \n",
       "4159563                       London               London           [1806]-22   \n",
       "4159587          Newcastle upon Tyne  Newcastle upon Tyne                1834   \n",
       "4160339                       London               London             1834-43   \n",
       "\n",
       "              Year                Publisher  \\\n",
       "Identifier                                    \n",
       "206         1879.0         S. Tinsley & Co.   \n",
       "216         1868.0             Virtue & Co.   \n",
       "218         1869.0    Bradbury, Evans & Co.   \n",
       "472         1851.0            James Darling   \n",
       "480         1857.0     Wertheim & Macintosh   \n",
       "...            ...                      ...   \n",
       "4158088     1838.0                      NaN   \n",
       "4158128     1831.0          M. Mozley & Son   \n",
       "4159563        NaN  T. Cadell and W. Davies   \n",
       "4159587     1834.0         Mackenzie & Dent   \n",
       "4160339     1834.0                      NaN   \n",
       "\n",
       "                                                        Title  \\\n",
       "Identifier                                                      \n",
       "206                         Walter Forbes. [A novel.] By A. A   \n",
       "216         All for Greed. [A novel. The dedication signed...   \n",
       "218         Love the Avenger. By the author of “All for Gr...   \n",
       "472         Welsh Sketches, chiefly ecclesiastical, to the...   \n",
       "480         [The World in which I live, and my place in it...   \n",
       "...                                                       ...   \n",
       "4158088     The Parochial History of Cornwall, founded on,...   \n",
       "4158128     The History and Gazetteer of the County of Der...   \n",
       "4159563     Magna Britannia; being a concise topographical...   \n",
       "4159587     An historical, topographical and descriptive v...   \n",
       "4160339     Collectanea Topographica et Genealogica. [Firs...   \n",
       "\n",
       "                                                       Author  \\\n",
       "Identifier                                                      \n",
       "206                                                     A. A.   \n",
       "216                                                 A., A. A.   \n",
       "218                                                 A., A. A.   \n",
       "472                                                 A., E. S.   \n",
       "480                                                 A., E. S.   \n",
       "...                                                       ...   \n",
       "4158088                    GIDDY, afterwards GILBERT, Davies.   \n",
       "4158128                            GLOVER, Stephen - of Derby   \n",
       "4159563     LYSONS, Daniel - M.A., F.R.S., and LYSONS (Sam...   \n",
       "4159587                                 Mackenzie, E. (Eneas)   \n",
       "4160339                                                   NaN   \n",
       "\n",
       "                                                   Flickr URL  \n",
       "Identifier                                                     \n",
       "206         http://www.flickr.com/photos/britishlibrary/ta...  \n",
       "216         http://www.flickr.com/photos/britishlibrary/ta...  \n",
       "218         http://www.flickr.com/photos/britishlibrary/ta...  \n",
       "472         http://www.flickr.com/photos/britishlibrary/ta...  \n",
       "480         http://www.flickr.com/photos/britishlibrary/ta...  \n",
       "...                                                       ...  \n",
       "4158088     http://www.flickr.com/photos/britishlibrary/ta...  \n",
       "4158128     http://www.flickr.com/photos/britishlibrary/ta...  \n",
       "4159563     http://www.flickr.com/photos/britishlibrary/ta...  \n",
       "4159587     http://www.flickr.com/photos/britishlibrary/ta...  \n",
       "4160339     http://www.flickr.com/photos/britishlibrary/ta...  \n",
       "\n",
       "[8287 rows x 8 columns]"
      ]
     },
     "execution_count": 40,
     "metadata": {},
     "output_type": "execute_result"
    }
   ],
   "source": [
    "bibreg"
   ]
  },
  {
   "cell_type": "markdown",
   "id": "b45e2957",
   "metadata": {},
   "source": [
    "### Датум и време"
   ]
  },
  {
   "cell_type": "markdown",
   "id": "39cd2d90",
   "metadata": {},
   "source": [
    "Слично као што Пајтон не препознаје бројеве у \"прљавој\" колони, не препознаје ни датуме и време. Да бисмо могли да анализирамо временске податке, неопходно је да их забележимо у истом формату и да их конвертујемо у одговарајући, _DateTime_ формат помоћу функције `to_datetime()`.\n",
    "\n",
    "Стринг који садржи датум, према ISO стандарду, треба да има формат 'YYYY-MM-DD' или 'YYYY-MM-DD HH:MM:SS' ако садржи и време. Уколико Пајтон прочита овакав стринг, умеће лако да га претвори у променљиву типа датум одакле можемо да прочитамо годину, дан, месец итд. Ако је датум записан у стринг у овом формату, онда нема потребе да наглашавамо који је формат. Међутим, ако уместо 2021-07-13 стоји 12. 7. 2021. или July 13, 2021 онда морамо Пајтону тачно да кажемо како да прочита тај податак.  "
   ]
  },
  {
   "cell_type": "code",
   "execution_count": 41,
   "id": "bbbc3ad6",
   "metadata": {},
   "outputs": [],
   "source": [
    "datum_string='2021-07-13'\n",
    "# datum_string='2021-07-13 10:15:00'\n",
    "\n",
    "datum = pd.to_datetime(datum_string)\n",
    "# datum = pd.to_datetime(datum_string, format='%Y-%m-%d')\n",
    "godina= datum.year\n",
    "mesec = datum.month\n",
    "dan = datum.day\n",
    "sat=datum.hour\n",
    "minut=datum.minute\n",
    "sekund=datum.second"
   ]
  },
  {
   "cell_type": "code",
   "execution_count": 42,
   "id": "1a2928d5",
   "metadata": {},
   "outputs": [
    {
     "data": {
      "text/plain": [
       "13"
      ]
     },
     "execution_count": 42,
     "metadata": {},
     "output_type": "execute_result"
    }
   ],
   "source": [
    "dan"
   ]
  },
  {
   "cell_type": "code",
   "execution_count": 43,
   "id": "765e6cbf",
   "metadata": {},
   "outputs": [
    {
     "data": {
      "text/plain": [
       "Timestamp('1970-05-23 00:00:00')"
      ]
     },
     "execution_count": 43,
     "metadata": {},
     "output_type": "execute_result"
    }
   ],
   "source": [
    "pd.to_datetime(\"23. 5. 1970.\",format=\"%d. %m. %Y.\")"
   ]
  },
  {
   "cell_type": "markdown",
   "id": "0f18fa8e",
   "metadata": {},
   "source": [
    "Уколико је потребно, све вредности у колони можемо да конвертујемо у датумски формат помоћу `to_datetime()` функције. У примеру са библиотечким регистром то нема много смисла јер су дате само године без датума па је и само један број довољан да прикаже годину издања. "
   ]
  },
  {
   "cell_type": "code",
   "execution_count": 44,
   "id": "39b71d42",
   "metadata": {},
   "outputs": [],
   "source": [
    "y=pd.to_datetime(bibreg['Year'],format='%Y-%m-%d')"
   ]
  },
  {
   "cell_type": "code",
   "execution_count": 45,
   "id": "ca8167f9",
   "metadata": {},
   "outputs": [
    {
     "data": {
      "text/plain": [
       "Identifier\n",
       "206   1970-01-01 00:00:00.000001879\n",
       "216   1970-01-01 00:00:00.000001868\n",
       "218   1970-01-01 00:00:00.000001869\n",
       "472   1970-01-01 00:00:00.000001851\n",
       "480   1970-01-01 00:00:00.000001857\n",
       "Name: Year, dtype: datetime64[ns]"
      ]
     },
     "execution_count": 45,
     "metadata": {},
     "output_type": "execute_result"
    }
   ],
   "source": [
    "y.head()"
   ]
  },
  {
   "cell_type": "markdown",
   "id": "f04e24b3",
   "metadata": {},
   "source": [
    "## Бонус проблеми"
   ]
  },
  {
   "cell_type": "markdown",
   "id": "c655fb05",
   "metadata": {},
   "source": [
    "Чишћење података у Србији је мало изазовније него у већини других (европских) земаља. Први разлог за то је што користимо два писма па се често суочавамо са неконзистентно унетим подацима. Други разлог је недоследна употреба децималног зареза. На рачунару и калкулатору обично користимо тачку, а званични докумети траже зарез. Још горе, сепаратор за хиљаде је у српском језику тачка, а у енглеском зарез. Коначно, трећи разлог за изазовније чишћење података је недоследно записивање датума."
   ]
  },
  {
   "cell_type": "markdown",
   "id": "dcaf3880",
   "metadata": {},
   "source": [
    "### Ћирилица и латиница"
   ]
  },
  {
   "cell_type": "markdown",
   "id": "fc73e576",
   "metadata": {},
   "source": [
    "У следећој ћелији изгледа као са смо исти кôд написали два пута. Логично, очекујемо да ће излаз у оба случаја бити исти. Међутим, слово __А__ је једном укуцано коришћењем латиничне, а други пут коришћењем ћириличне тастатуре. Пајтон је приметио ту разлику и запамтио две различите вредности ASCII кôдова. То што __A__ и __А__ изгледају исто, не значи да их рачунар исто региструје. "
   ]
  },
  {
   "cell_type": "code",
   "execution_count": 46,
   "id": "8a82be68",
   "metadata": {},
   "outputs": [
    {
     "name": "stdout",
     "output_type": "stream",
     "text": [
      "ASCII вредност знака 'A' је 65\n",
      "ASCII вредност знака 'А' је 1040\n"
     ]
    }
   ],
   "source": [
    "slovo = 'A' # А латиницом\n",
    "print(\"ASCII вредност знака '\" + slovo + \"' је\", ord(slovo))\n",
    "\n",
    "slovo = 'А' # А ћирилицом\n",
    "print(\"ASCII вредност знака '\" + slovo + \"' је\", ord(slovo))"
   ]
  },
  {
   "cell_type": "markdown",
   "id": "f170c155",
   "metadata": {},
   "source": [
    "Заиста, кад питамо Пајтон да ли су ова два знака иста, он каже да нису."
   ]
  },
  {
   "cell_type": "code",
   "execution_count": 47,
   "id": "9a33b78b",
   "metadata": {},
   "outputs": [
    {
     "data": {
      "text/plain": [
       "False"
      ]
     },
     "execution_count": 47,
     "metadata": {},
     "output_type": "execute_result"
    }
   ],
   "source": [
    "\"A\"==\"А\""
   ]
  },
  {
   "cell_type": "markdown",
   "id": "eabfbfae",
   "metadata": {},
   "source": [
    "Ова особина текстова писаних ћирилицом у односу на оне писане латиницом често прави неочекиване проблеме у обради текстуалних података. Зато је веома важно да то стално имамо на уму и да, кад год је то могуће, податке уносимо коришћењем истог писма и исте тастатуре."
   ]
  },
  {
   "cell_type": "markdown",
   "id": "6fb48bef",
   "metadata": {},
   "source": [
    "Пајтон има библиотеке које могу да помогну у уједначавању текста. Библиотека `cyrtranslit` има функције које могу да ураде транслитерацију и ћирилични текст препишу у латинични и обрнуто."
   ]
  },
  {
   "cell_type": "code",
   "execution_count": 48,
   "id": "2855dca8",
   "metadata": {},
   "outputs": [
    {
     "name": "stdout",
     "output_type": "stream",
     "text": [
      "даждевњак\n",
      "mravinjak\n"
     ]
    }
   ],
   "source": [
    "# Ако библиотека cyrtranslit није већ инсталирана, инсталирајте је са\n",
    "# pip install cyrtranslit\n",
    "\n",
    "import cyrtranslit\n",
    "\n",
    "# из латинице у ћирилицу\n",
    "print(cyrtranslit.to_cyrillic(\"daždevnjak\"))\n",
    "\n",
    "# и из ћирилице у латиницу\n",
    "print(cyrtranslit.to_latin(\"мравињак\"))"
   ]
  },
  {
   "cell_type": "markdown",
   "id": "80f1c538",
   "metadata": {},
   "source": [
    "### Децимални зарез и децимална тачка"
   ]
  },
  {
   "cell_type": "markdown",
   "id": "d6713cf7",
   "metadata": {},
   "source": [
    "Када учитавате или снимате фајл са подацима који су децимални бројеви, водите рачуна да ли се користи децимална тачка или зарез. Званични подаци у Србији би требало да увек имају децимални зарез. Ако користимо CSV формат, то ће сигурно бити проблем. Не може исти знак да одваја целобројни и децимални део броја, као и да одваја бројчане податке у фајлу.  "
   ]
  },
  {
   "cell_type": "markdown",
   "id": "bb1ac91a",
   "metadata": {},
   "source": [
    "Да бисмо видели како се тај проблем решава, учитаћемо једну табелу са националног [Портала за отворене податке](https://data.gov.rs/sr/). "
   ]
  },
  {
   "cell_type": "code",
   "execution_count": 49,
   "id": "0effcbda",
   "metadata": {
    "collapsed": true
   },
   "outputs": [
    {
     "ename": "HTTPError",
     "evalue": "HTTP Error 400: Bad Request",
     "output_type": "error",
     "traceback": [
      "\u001b[1;31m---------------------------------------------------------------------------\u001b[0m",
      "\u001b[1;31mHTTPError\u001b[0m                                 Traceback (most recent call last)",
      "\u001b[1;32m<ipython-input-49-ca2986aa76f8>\u001b[0m in \u001b[0;36m<module>\u001b[1;34m\u001b[0m\n\u001b[1;32m----> 1\u001b[1;33m \u001b[0mpokazatelji\u001b[0m\u001b[1;33m=\u001b[0m\u001b[0mpd\u001b[0m\u001b[1;33m.\u001b[0m\u001b[0mread_csv\u001b[0m\u001b[1;33m(\u001b[0m\u001b[1;34m\"https://data.gov.rs/sr/datasets/r/b1f1f94a-fe21-3a2a-b801-6f0f05b24257\"\u001b[0m\u001b[1;33m,\u001b[0m\u001b[0msep\u001b[0m\u001b[1;33m=\u001b[0m\u001b[1;34m\";\"\u001b[0m\u001b[1;33m)\u001b[0m\u001b[1;33m\u001b[0m\u001b[1;33m\u001b[0m\u001b[0m\n\u001b[0m",
      "\u001b[1;32m~\\anaconda3\\lib\\site-packages\\pandas\\io\\parsers.py\u001b[0m in \u001b[0;36mread_csv\u001b[1;34m(filepath_or_buffer, sep, delimiter, header, names, index_col, usecols, squeeze, prefix, mangle_dupe_cols, dtype, engine, converters, true_values, false_values, skipinitialspace, skiprows, skipfooter, nrows, na_values, keep_default_na, na_filter, verbose, skip_blank_lines, parse_dates, infer_datetime_format, keep_date_col, date_parser, dayfirst, cache_dates, iterator, chunksize, compression, thousands, decimal, lineterminator, quotechar, quoting, doublequote, escapechar, comment, encoding, dialect, error_bad_lines, warn_bad_lines, delim_whitespace, low_memory, memory_map, float_precision, storage_options)\u001b[0m\n\u001b[0;32m    608\u001b[0m     \u001b[0mkwds\u001b[0m\u001b[1;33m.\u001b[0m\u001b[0mupdate\u001b[0m\u001b[1;33m(\u001b[0m\u001b[0mkwds_defaults\u001b[0m\u001b[1;33m)\u001b[0m\u001b[1;33m\u001b[0m\u001b[1;33m\u001b[0m\u001b[0m\n\u001b[0;32m    609\u001b[0m \u001b[1;33m\u001b[0m\u001b[0m\n\u001b[1;32m--> 610\u001b[1;33m     \u001b[1;32mreturn\u001b[0m \u001b[0m_read\u001b[0m\u001b[1;33m(\u001b[0m\u001b[0mfilepath_or_buffer\u001b[0m\u001b[1;33m,\u001b[0m \u001b[0mkwds\u001b[0m\u001b[1;33m)\u001b[0m\u001b[1;33m\u001b[0m\u001b[1;33m\u001b[0m\u001b[0m\n\u001b[0m\u001b[0;32m    611\u001b[0m \u001b[1;33m\u001b[0m\u001b[0m\n\u001b[0;32m    612\u001b[0m \u001b[1;33m\u001b[0m\u001b[0m\n",
      "\u001b[1;32m~\\anaconda3\\lib\\site-packages\\pandas\\io\\parsers.py\u001b[0m in \u001b[0;36m_read\u001b[1;34m(filepath_or_buffer, kwds)\u001b[0m\n\u001b[0;32m    460\u001b[0m \u001b[1;33m\u001b[0m\u001b[0m\n\u001b[0;32m    461\u001b[0m     \u001b[1;31m# Create the parser.\u001b[0m\u001b[1;33m\u001b[0m\u001b[1;33m\u001b[0m\u001b[1;33m\u001b[0m\u001b[0m\n\u001b[1;32m--> 462\u001b[1;33m     \u001b[0mparser\u001b[0m \u001b[1;33m=\u001b[0m \u001b[0mTextFileReader\u001b[0m\u001b[1;33m(\u001b[0m\u001b[0mfilepath_or_buffer\u001b[0m\u001b[1;33m,\u001b[0m \u001b[1;33m**\u001b[0m\u001b[0mkwds\u001b[0m\u001b[1;33m)\u001b[0m\u001b[1;33m\u001b[0m\u001b[1;33m\u001b[0m\u001b[0m\n\u001b[0m\u001b[0;32m    463\u001b[0m \u001b[1;33m\u001b[0m\u001b[0m\n\u001b[0;32m    464\u001b[0m     \u001b[1;32mif\u001b[0m \u001b[0mchunksize\u001b[0m \u001b[1;32mor\u001b[0m \u001b[0miterator\u001b[0m\u001b[1;33m:\u001b[0m\u001b[1;33m\u001b[0m\u001b[1;33m\u001b[0m\u001b[0m\n",
      "\u001b[1;32m~\\anaconda3\\lib\\site-packages\\pandas\\io\\parsers.py\u001b[0m in \u001b[0;36m__init__\u001b[1;34m(self, f, engine, **kwds)\u001b[0m\n\u001b[0;32m    817\u001b[0m             \u001b[0mself\u001b[0m\u001b[1;33m.\u001b[0m\u001b[0moptions\u001b[0m\u001b[1;33m[\u001b[0m\u001b[1;34m\"has_index_names\"\u001b[0m\u001b[1;33m]\u001b[0m \u001b[1;33m=\u001b[0m \u001b[0mkwds\u001b[0m\u001b[1;33m[\u001b[0m\u001b[1;34m\"has_index_names\"\u001b[0m\u001b[1;33m]\u001b[0m\u001b[1;33m\u001b[0m\u001b[1;33m\u001b[0m\u001b[0m\n\u001b[0;32m    818\u001b[0m \u001b[1;33m\u001b[0m\u001b[0m\n\u001b[1;32m--> 819\u001b[1;33m         \u001b[0mself\u001b[0m\u001b[1;33m.\u001b[0m\u001b[0m_engine\u001b[0m \u001b[1;33m=\u001b[0m \u001b[0mself\u001b[0m\u001b[1;33m.\u001b[0m\u001b[0m_make_engine\u001b[0m\u001b[1;33m(\u001b[0m\u001b[0mself\u001b[0m\u001b[1;33m.\u001b[0m\u001b[0mengine\u001b[0m\u001b[1;33m)\u001b[0m\u001b[1;33m\u001b[0m\u001b[1;33m\u001b[0m\u001b[0m\n\u001b[0m\u001b[0;32m    820\u001b[0m \u001b[1;33m\u001b[0m\u001b[0m\n\u001b[0;32m    821\u001b[0m     \u001b[1;32mdef\u001b[0m \u001b[0mclose\u001b[0m\u001b[1;33m(\u001b[0m\u001b[0mself\u001b[0m\u001b[1;33m)\u001b[0m\u001b[1;33m:\u001b[0m\u001b[1;33m\u001b[0m\u001b[1;33m\u001b[0m\u001b[0m\n",
      "\u001b[1;32m~\\anaconda3\\lib\\site-packages\\pandas\\io\\parsers.py\u001b[0m in \u001b[0;36m_make_engine\u001b[1;34m(self, engine)\u001b[0m\n\u001b[0;32m   1048\u001b[0m             )\n\u001b[0;32m   1049\u001b[0m         \u001b[1;31m# error: Too many arguments for \"ParserBase\"\u001b[0m\u001b[1;33m\u001b[0m\u001b[1;33m\u001b[0m\u001b[1;33m\u001b[0m\u001b[0m\n\u001b[1;32m-> 1050\u001b[1;33m         \u001b[1;32mreturn\u001b[0m \u001b[0mmapping\u001b[0m\u001b[1;33m[\u001b[0m\u001b[0mengine\u001b[0m\u001b[1;33m]\u001b[0m\u001b[1;33m(\u001b[0m\u001b[0mself\u001b[0m\u001b[1;33m.\u001b[0m\u001b[0mf\u001b[0m\u001b[1;33m,\u001b[0m \u001b[1;33m**\u001b[0m\u001b[0mself\u001b[0m\u001b[1;33m.\u001b[0m\u001b[0moptions\u001b[0m\u001b[1;33m)\u001b[0m  \u001b[1;31m# type: ignore[call-arg]\u001b[0m\u001b[1;33m\u001b[0m\u001b[1;33m\u001b[0m\u001b[0m\n\u001b[0m\u001b[0;32m   1051\u001b[0m \u001b[1;33m\u001b[0m\u001b[0m\n\u001b[0;32m   1052\u001b[0m     \u001b[1;32mdef\u001b[0m \u001b[0m_failover_to_python\u001b[0m\u001b[1;33m(\u001b[0m\u001b[0mself\u001b[0m\u001b[1;33m)\u001b[0m\u001b[1;33m:\u001b[0m\u001b[1;33m\u001b[0m\u001b[1;33m\u001b[0m\u001b[0m\n",
      "\u001b[1;32m~\\anaconda3\\lib\\site-packages\\pandas\\io\\parsers.py\u001b[0m in \u001b[0;36m__init__\u001b[1;34m(self, src, **kwds)\u001b[0m\n\u001b[0;32m   1865\u001b[0m \u001b[1;33m\u001b[0m\u001b[0m\n\u001b[0;32m   1866\u001b[0m         \u001b[1;31m# open handles\u001b[0m\u001b[1;33m\u001b[0m\u001b[1;33m\u001b[0m\u001b[1;33m\u001b[0m\u001b[0m\n\u001b[1;32m-> 1867\u001b[1;33m         \u001b[0mself\u001b[0m\u001b[1;33m.\u001b[0m\u001b[0m_open_handles\u001b[0m\u001b[1;33m(\u001b[0m\u001b[0msrc\u001b[0m\u001b[1;33m,\u001b[0m \u001b[0mkwds\u001b[0m\u001b[1;33m)\u001b[0m\u001b[1;33m\u001b[0m\u001b[1;33m\u001b[0m\u001b[0m\n\u001b[0m\u001b[0;32m   1868\u001b[0m         \u001b[1;32massert\u001b[0m \u001b[0mself\u001b[0m\u001b[1;33m.\u001b[0m\u001b[0mhandles\u001b[0m \u001b[1;32mis\u001b[0m \u001b[1;32mnot\u001b[0m \u001b[1;32mNone\u001b[0m\u001b[1;33m\u001b[0m\u001b[1;33m\u001b[0m\u001b[0m\n\u001b[0;32m   1869\u001b[0m         \u001b[1;32mfor\u001b[0m \u001b[0mkey\u001b[0m \u001b[1;32min\u001b[0m \u001b[1;33m(\u001b[0m\u001b[1;34m\"storage_options\"\u001b[0m\u001b[1;33m,\u001b[0m \u001b[1;34m\"encoding\"\u001b[0m\u001b[1;33m,\u001b[0m \u001b[1;34m\"memory_map\"\u001b[0m\u001b[1;33m,\u001b[0m \u001b[1;34m\"compression\"\u001b[0m\u001b[1;33m)\u001b[0m\u001b[1;33m:\u001b[0m\u001b[1;33m\u001b[0m\u001b[1;33m\u001b[0m\u001b[0m\n",
      "\u001b[1;32m~\\anaconda3\\lib\\site-packages\\pandas\\io\\parsers.py\u001b[0m in \u001b[0;36m_open_handles\u001b[1;34m(self, src, kwds)\u001b[0m\n\u001b[0;32m   1360\u001b[0m         \u001b[0mLet\u001b[0m \u001b[0mthe\u001b[0m \u001b[0mreaders\u001b[0m \u001b[0mopen\u001b[0m \u001b[0mIOHanldes\u001b[0m \u001b[0mafter\u001b[0m \u001b[0mthey\u001b[0m \u001b[0mare\u001b[0m \u001b[0mdone\u001b[0m \u001b[1;32mwith\u001b[0m \u001b[0mtheir\u001b[0m \u001b[0mpotential\u001b[0m \u001b[0mraises\u001b[0m\u001b[1;33m.\u001b[0m\u001b[1;33m\u001b[0m\u001b[1;33m\u001b[0m\u001b[0m\n\u001b[0;32m   1361\u001b[0m         \"\"\"\n\u001b[1;32m-> 1362\u001b[1;33m         self.handles = get_handle(\n\u001b[0m\u001b[0;32m   1363\u001b[0m             \u001b[0msrc\u001b[0m\u001b[1;33m,\u001b[0m\u001b[1;33m\u001b[0m\u001b[1;33m\u001b[0m\u001b[0m\n\u001b[0;32m   1364\u001b[0m             \u001b[1;34m\"r\"\u001b[0m\u001b[1;33m,\u001b[0m\u001b[1;33m\u001b[0m\u001b[1;33m\u001b[0m\u001b[0m\n",
      "\u001b[1;32m~\\anaconda3\\lib\\site-packages\\pandas\\io\\common.py\u001b[0m in \u001b[0;36mget_handle\u001b[1;34m(path_or_buf, mode, encoding, compression, memory_map, is_text, errors, storage_options)\u001b[0m\n\u001b[0;32m    556\u001b[0m \u001b[1;33m\u001b[0m\u001b[0m\n\u001b[0;32m    557\u001b[0m     \u001b[1;31m# open URLs\u001b[0m\u001b[1;33m\u001b[0m\u001b[1;33m\u001b[0m\u001b[1;33m\u001b[0m\u001b[0m\n\u001b[1;32m--> 558\u001b[1;33m     ioargs = _get_filepath_or_buffer(\n\u001b[0m\u001b[0;32m    559\u001b[0m         \u001b[0mpath_or_buf\u001b[0m\u001b[1;33m,\u001b[0m\u001b[1;33m\u001b[0m\u001b[1;33m\u001b[0m\u001b[0m\n\u001b[0;32m    560\u001b[0m         \u001b[0mencoding\u001b[0m\u001b[1;33m=\u001b[0m\u001b[0mencoding\u001b[0m\u001b[1;33m,\u001b[0m\u001b[1;33m\u001b[0m\u001b[1;33m\u001b[0m\u001b[0m\n",
      "\u001b[1;32m~\\anaconda3\\lib\\site-packages\\pandas\\io\\common.py\u001b[0m in \u001b[0;36m_get_filepath_or_buffer\u001b[1;34m(filepath_or_buffer, encoding, compression, mode, storage_options)\u001b[0m\n\u001b[0;32m    287\u001b[0m                 \u001b[1;34m\"storage_options passed with file object or non-fsspec file path\"\u001b[0m\u001b[1;33m\u001b[0m\u001b[1;33m\u001b[0m\u001b[0m\n\u001b[0;32m    288\u001b[0m             )\n\u001b[1;32m--> 289\u001b[1;33m         \u001b[0mreq\u001b[0m \u001b[1;33m=\u001b[0m \u001b[0murlopen\u001b[0m\u001b[1;33m(\u001b[0m\u001b[0mfilepath_or_buffer\u001b[0m\u001b[1;33m)\u001b[0m\u001b[1;33m\u001b[0m\u001b[1;33m\u001b[0m\u001b[0m\n\u001b[0m\u001b[0;32m    290\u001b[0m         \u001b[0mcontent_encoding\u001b[0m \u001b[1;33m=\u001b[0m \u001b[0mreq\u001b[0m\u001b[1;33m.\u001b[0m\u001b[0mheaders\u001b[0m\u001b[1;33m.\u001b[0m\u001b[0mget\u001b[0m\u001b[1;33m(\u001b[0m\u001b[1;34m\"Content-Encoding\"\u001b[0m\u001b[1;33m,\u001b[0m \u001b[1;32mNone\u001b[0m\u001b[1;33m)\u001b[0m\u001b[1;33m\u001b[0m\u001b[1;33m\u001b[0m\u001b[0m\n\u001b[0;32m    291\u001b[0m         \u001b[1;32mif\u001b[0m \u001b[0mcontent_encoding\u001b[0m \u001b[1;33m==\u001b[0m \u001b[1;34m\"gzip\"\u001b[0m\u001b[1;33m:\u001b[0m\u001b[1;33m\u001b[0m\u001b[1;33m\u001b[0m\u001b[0m\n",
      "\u001b[1;32m~\\anaconda3\\lib\\site-packages\\pandas\\io\\common.py\u001b[0m in \u001b[0;36murlopen\u001b[1;34m(*args, **kwargs)\u001b[0m\n\u001b[0;32m    193\u001b[0m     \u001b[1;32mimport\u001b[0m \u001b[0murllib\u001b[0m\u001b[1;33m.\u001b[0m\u001b[0mrequest\u001b[0m\u001b[1;33m\u001b[0m\u001b[1;33m\u001b[0m\u001b[0m\n\u001b[0;32m    194\u001b[0m \u001b[1;33m\u001b[0m\u001b[0m\n\u001b[1;32m--> 195\u001b[1;33m     \u001b[1;32mreturn\u001b[0m \u001b[0murllib\u001b[0m\u001b[1;33m.\u001b[0m\u001b[0mrequest\u001b[0m\u001b[1;33m.\u001b[0m\u001b[0murlopen\u001b[0m\u001b[1;33m(\u001b[0m\u001b[1;33m*\u001b[0m\u001b[0margs\u001b[0m\u001b[1;33m,\u001b[0m \u001b[1;33m**\u001b[0m\u001b[0mkwargs\u001b[0m\u001b[1;33m)\u001b[0m\u001b[1;33m\u001b[0m\u001b[1;33m\u001b[0m\u001b[0m\n\u001b[0m\u001b[0;32m    196\u001b[0m \u001b[1;33m\u001b[0m\u001b[0m\n\u001b[0;32m    197\u001b[0m \u001b[1;33m\u001b[0m\u001b[0m\n",
      "\u001b[1;32m~\\anaconda3\\lib\\urllib\\request.py\u001b[0m in \u001b[0;36murlopen\u001b[1;34m(url, data, timeout, cafile, capath, cadefault, context)\u001b[0m\n\u001b[0;32m    220\u001b[0m     \u001b[1;32melse\u001b[0m\u001b[1;33m:\u001b[0m\u001b[1;33m\u001b[0m\u001b[1;33m\u001b[0m\u001b[0m\n\u001b[0;32m    221\u001b[0m         \u001b[0mopener\u001b[0m \u001b[1;33m=\u001b[0m \u001b[0m_opener\u001b[0m\u001b[1;33m\u001b[0m\u001b[1;33m\u001b[0m\u001b[0m\n\u001b[1;32m--> 222\u001b[1;33m     \u001b[1;32mreturn\u001b[0m \u001b[0mopener\u001b[0m\u001b[1;33m.\u001b[0m\u001b[0mopen\u001b[0m\u001b[1;33m(\u001b[0m\u001b[0murl\u001b[0m\u001b[1;33m,\u001b[0m \u001b[0mdata\u001b[0m\u001b[1;33m,\u001b[0m \u001b[0mtimeout\u001b[0m\u001b[1;33m)\u001b[0m\u001b[1;33m\u001b[0m\u001b[1;33m\u001b[0m\u001b[0m\n\u001b[0m\u001b[0;32m    223\u001b[0m \u001b[1;33m\u001b[0m\u001b[0m\n\u001b[0;32m    224\u001b[0m \u001b[1;32mdef\u001b[0m \u001b[0minstall_opener\u001b[0m\u001b[1;33m(\u001b[0m\u001b[0mopener\u001b[0m\u001b[1;33m)\u001b[0m\u001b[1;33m:\u001b[0m\u001b[1;33m\u001b[0m\u001b[1;33m\u001b[0m\u001b[0m\n",
      "\u001b[1;32m~\\anaconda3\\lib\\urllib\\request.py\u001b[0m in \u001b[0;36mopen\u001b[1;34m(self, fullurl, data, timeout)\u001b[0m\n\u001b[0;32m    529\u001b[0m         \u001b[1;32mfor\u001b[0m \u001b[0mprocessor\u001b[0m \u001b[1;32min\u001b[0m \u001b[0mself\u001b[0m\u001b[1;33m.\u001b[0m\u001b[0mprocess_response\u001b[0m\u001b[1;33m.\u001b[0m\u001b[0mget\u001b[0m\u001b[1;33m(\u001b[0m\u001b[0mprotocol\u001b[0m\u001b[1;33m,\u001b[0m \u001b[1;33m[\u001b[0m\u001b[1;33m]\u001b[0m\u001b[1;33m)\u001b[0m\u001b[1;33m:\u001b[0m\u001b[1;33m\u001b[0m\u001b[1;33m\u001b[0m\u001b[0m\n\u001b[0;32m    530\u001b[0m             \u001b[0mmeth\u001b[0m \u001b[1;33m=\u001b[0m \u001b[0mgetattr\u001b[0m\u001b[1;33m(\u001b[0m\u001b[0mprocessor\u001b[0m\u001b[1;33m,\u001b[0m \u001b[0mmeth_name\u001b[0m\u001b[1;33m)\u001b[0m\u001b[1;33m\u001b[0m\u001b[1;33m\u001b[0m\u001b[0m\n\u001b[1;32m--> 531\u001b[1;33m             \u001b[0mresponse\u001b[0m \u001b[1;33m=\u001b[0m \u001b[0mmeth\u001b[0m\u001b[1;33m(\u001b[0m\u001b[0mreq\u001b[0m\u001b[1;33m,\u001b[0m \u001b[0mresponse\u001b[0m\u001b[1;33m)\u001b[0m\u001b[1;33m\u001b[0m\u001b[1;33m\u001b[0m\u001b[0m\n\u001b[0m\u001b[0;32m    532\u001b[0m \u001b[1;33m\u001b[0m\u001b[0m\n\u001b[0;32m    533\u001b[0m         \u001b[1;32mreturn\u001b[0m \u001b[0mresponse\u001b[0m\u001b[1;33m\u001b[0m\u001b[1;33m\u001b[0m\u001b[0m\n",
      "\u001b[1;32m~\\anaconda3\\lib\\urllib\\request.py\u001b[0m in \u001b[0;36mhttp_response\u001b[1;34m(self, request, response)\u001b[0m\n\u001b[0;32m    638\u001b[0m         \u001b[1;31m# request was successfully received, understood, and accepted.\u001b[0m\u001b[1;33m\u001b[0m\u001b[1;33m\u001b[0m\u001b[1;33m\u001b[0m\u001b[0m\n\u001b[0;32m    639\u001b[0m         \u001b[1;32mif\u001b[0m \u001b[1;32mnot\u001b[0m \u001b[1;33m(\u001b[0m\u001b[1;36m200\u001b[0m \u001b[1;33m<=\u001b[0m \u001b[0mcode\u001b[0m \u001b[1;33m<\u001b[0m \u001b[1;36m300\u001b[0m\u001b[1;33m)\u001b[0m\u001b[1;33m:\u001b[0m\u001b[1;33m\u001b[0m\u001b[1;33m\u001b[0m\u001b[0m\n\u001b[1;32m--> 640\u001b[1;33m             response = self.parent.error(\n\u001b[0m\u001b[0;32m    641\u001b[0m                 'http', request, response, code, msg, hdrs)\n\u001b[0;32m    642\u001b[0m \u001b[1;33m\u001b[0m\u001b[0m\n",
      "\u001b[1;32m~\\anaconda3\\lib\\urllib\\request.py\u001b[0m in \u001b[0;36merror\u001b[1;34m(self, proto, *args)\u001b[0m\n\u001b[0;32m    561\u001b[0m             \u001b[0mhttp_err\u001b[0m \u001b[1;33m=\u001b[0m \u001b[1;36m0\u001b[0m\u001b[1;33m\u001b[0m\u001b[1;33m\u001b[0m\u001b[0m\n\u001b[0;32m    562\u001b[0m         \u001b[0margs\u001b[0m \u001b[1;33m=\u001b[0m \u001b[1;33m(\u001b[0m\u001b[0mdict\u001b[0m\u001b[1;33m,\u001b[0m \u001b[0mproto\u001b[0m\u001b[1;33m,\u001b[0m \u001b[0mmeth_name\u001b[0m\u001b[1;33m)\u001b[0m \u001b[1;33m+\u001b[0m \u001b[0margs\u001b[0m\u001b[1;33m\u001b[0m\u001b[1;33m\u001b[0m\u001b[0m\n\u001b[1;32m--> 563\u001b[1;33m         \u001b[0mresult\u001b[0m \u001b[1;33m=\u001b[0m \u001b[0mself\u001b[0m\u001b[1;33m.\u001b[0m\u001b[0m_call_chain\u001b[0m\u001b[1;33m(\u001b[0m\u001b[1;33m*\u001b[0m\u001b[0margs\u001b[0m\u001b[1;33m)\u001b[0m\u001b[1;33m\u001b[0m\u001b[1;33m\u001b[0m\u001b[0m\n\u001b[0m\u001b[0;32m    564\u001b[0m         \u001b[1;32mif\u001b[0m \u001b[0mresult\u001b[0m\u001b[1;33m:\u001b[0m\u001b[1;33m\u001b[0m\u001b[1;33m\u001b[0m\u001b[0m\n\u001b[0;32m    565\u001b[0m             \u001b[1;32mreturn\u001b[0m \u001b[0mresult\u001b[0m\u001b[1;33m\u001b[0m\u001b[1;33m\u001b[0m\u001b[0m\n",
      "\u001b[1;32m~\\anaconda3\\lib\\urllib\\request.py\u001b[0m in \u001b[0;36m_call_chain\u001b[1;34m(self, chain, kind, meth_name, *args)\u001b[0m\n\u001b[0;32m    500\u001b[0m         \u001b[1;32mfor\u001b[0m \u001b[0mhandler\u001b[0m \u001b[1;32min\u001b[0m \u001b[0mhandlers\u001b[0m\u001b[1;33m:\u001b[0m\u001b[1;33m\u001b[0m\u001b[1;33m\u001b[0m\u001b[0m\n\u001b[0;32m    501\u001b[0m             \u001b[0mfunc\u001b[0m \u001b[1;33m=\u001b[0m \u001b[0mgetattr\u001b[0m\u001b[1;33m(\u001b[0m\u001b[0mhandler\u001b[0m\u001b[1;33m,\u001b[0m \u001b[0mmeth_name\u001b[0m\u001b[1;33m)\u001b[0m\u001b[1;33m\u001b[0m\u001b[1;33m\u001b[0m\u001b[0m\n\u001b[1;32m--> 502\u001b[1;33m             \u001b[0mresult\u001b[0m \u001b[1;33m=\u001b[0m \u001b[0mfunc\u001b[0m\u001b[1;33m(\u001b[0m\u001b[1;33m*\u001b[0m\u001b[0margs\u001b[0m\u001b[1;33m)\u001b[0m\u001b[1;33m\u001b[0m\u001b[1;33m\u001b[0m\u001b[0m\n\u001b[0m\u001b[0;32m    503\u001b[0m             \u001b[1;32mif\u001b[0m \u001b[0mresult\u001b[0m \u001b[1;32mis\u001b[0m \u001b[1;32mnot\u001b[0m \u001b[1;32mNone\u001b[0m\u001b[1;33m:\u001b[0m\u001b[1;33m\u001b[0m\u001b[1;33m\u001b[0m\u001b[0m\n\u001b[0;32m    504\u001b[0m                 \u001b[1;32mreturn\u001b[0m \u001b[0mresult\u001b[0m\u001b[1;33m\u001b[0m\u001b[1;33m\u001b[0m\u001b[0m\n",
      "\u001b[1;32m~\\anaconda3\\lib\\urllib\\request.py\u001b[0m in \u001b[0;36mhttp_error_302\u001b[1;34m(self, req, fp, code, msg, headers)\u001b[0m\n\u001b[0;32m    753\u001b[0m         \u001b[0mfp\u001b[0m\u001b[1;33m.\u001b[0m\u001b[0mclose\u001b[0m\u001b[1;33m(\u001b[0m\u001b[1;33m)\u001b[0m\u001b[1;33m\u001b[0m\u001b[1;33m\u001b[0m\u001b[0m\n\u001b[0;32m    754\u001b[0m \u001b[1;33m\u001b[0m\u001b[0m\n\u001b[1;32m--> 755\u001b[1;33m         \u001b[1;32mreturn\u001b[0m \u001b[0mself\u001b[0m\u001b[1;33m.\u001b[0m\u001b[0mparent\u001b[0m\u001b[1;33m.\u001b[0m\u001b[0mopen\u001b[0m\u001b[1;33m(\u001b[0m\u001b[0mnew\u001b[0m\u001b[1;33m,\u001b[0m \u001b[0mtimeout\u001b[0m\u001b[1;33m=\u001b[0m\u001b[0mreq\u001b[0m\u001b[1;33m.\u001b[0m\u001b[0mtimeout\u001b[0m\u001b[1;33m)\u001b[0m\u001b[1;33m\u001b[0m\u001b[1;33m\u001b[0m\u001b[0m\n\u001b[0m\u001b[0;32m    756\u001b[0m \u001b[1;33m\u001b[0m\u001b[0m\n\u001b[0;32m    757\u001b[0m     \u001b[0mhttp_error_301\u001b[0m \u001b[1;33m=\u001b[0m \u001b[0mhttp_error_303\u001b[0m \u001b[1;33m=\u001b[0m \u001b[0mhttp_error_307\u001b[0m \u001b[1;33m=\u001b[0m \u001b[0mhttp_error_302\u001b[0m\u001b[1;33m\u001b[0m\u001b[1;33m\u001b[0m\u001b[0m\n",
      "\u001b[1;32m~\\anaconda3\\lib\\urllib\\request.py\u001b[0m in \u001b[0;36mopen\u001b[1;34m(self, fullurl, data, timeout)\u001b[0m\n\u001b[0;32m    529\u001b[0m         \u001b[1;32mfor\u001b[0m \u001b[0mprocessor\u001b[0m \u001b[1;32min\u001b[0m \u001b[0mself\u001b[0m\u001b[1;33m.\u001b[0m\u001b[0mprocess_response\u001b[0m\u001b[1;33m.\u001b[0m\u001b[0mget\u001b[0m\u001b[1;33m(\u001b[0m\u001b[0mprotocol\u001b[0m\u001b[1;33m,\u001b[0m \u001b[1;33m[\u001b[0m\u001b[1;33m]\u001b[0m\u001b[1;33m)\u001b[0m\u001b[1;33m:\u001b[0m\u001b[1;33m\u001b[0m\u001b[1;33m\u001b[0m\u001b[0m\n\u001b[0;32m    530\u001b[0m             \u001b[0mmeth\u001b[0m \u001b[1;33m=\u001b[0m \u001b[0mgetattr\u001b[0m\u001b[1;33m(\u001b[0m\u001b[0mprocessor\u001b[0m\u001b[1;33m,\u001b[0m \u001b[0mmeth_name\u001b[0m\u001b[1;33m)\u001b[0m\u001b[1;33m\u001b[0m\u001b[1;33m\u001b[0m\u001b[0m\n\u001b[1;32m--> 531\u001b[1;33m             \u001b[0mresponse\u001b[0m \u001b[1;33m=\u001b[0m \u001b[0mmeth\u001b[0m\u001b[1;33m(\u001b[0m\u001b[0mreq\u001b[0m\u001b[1;33m,\u001b[0m \u001b[0mresponse\u001b[0m\u001b[1;33m)\u001b[0m\u001b[1;33m\u001b[0m\u001b[1;33m\u001b[0m\u001b[0m\n\u001b[0m\u001b[0;32m    532\u001b[0m \u001b[1;33m\u001b[0m\u001b[0m\n\u001b[0;32m    533\u001b[0m         \u001b[1;32mreturn\u001b[0m \u001b[0mresponse\u001b[0m\u001b[1;33m\u001b[0m\u001b[1;33m\u001b[0m\u001b[0m\n",
      "\u001b[1;32m~\\anaconda3\\lib\\urllib\\request.py\u001b[0m in \u001b[0;36mhttp_response\u001b[1;34m(self, request, response)\u001b[0m\n\u001b[0;32m    638\u001b[0m         \u001b[1;31m# request was successfully received, understood, and accepted.\u001b[0m\u001b[1;33m\u001b[0m\u001b[1;33m\u001b[0m\u001b[1;33m\u001b[0m\u001b[0m\n\u001b[0;32m    639\u001b[0m         \u001b[1;32mif\u001b[0m \u001b[1;32mnot\u001b[0m \u001b[1;33m(\u001b[0m\u001b[1;36m200\u001b[0m \u001b[1;33m<=\u001b[0m \u001b[0mcode\u001b[0m \u001b[1;33m<\u001b[0m \u001b[1;36m300\u001b[0m\u001b[1;33m)\u001b[0m\u001b[1;33m:\u001b[0m\u001b[1;33m\u001b[0m\u001b[1;33m\u001b[0m\u001b[0m\n\u001b[1;32m--> 640\u001b[1;33m             response = self.parent.error(\n\u001b[0m\u001b[0;32m    641\u001b[0m                 'http', request, response, code, msg, hdrs)\n\u001b[0;32m    642\u001b[0m \u001b[1;33m\u001b[0m\u001b[0m\n",
      "\u001b[1;32m~\\anaconda3\\lib\\urllib\\request.py\u001b[0m in \u001b[0;36merror\u001b[1;34m(self, proto, *args)\u001b[0m\n\u001b[0;32m    561\u001b[0m             \u001b[0mhttp_err\u001b[0m \u001b[1;33m=\u001b[0m \u001b[1;36m0\u001b[0m\u001b[1;33m\u001b[0m\u001b[1;33m\u001b[0m\u001b[0m\n\u001b[0;32m    562\u001b[0m         \u001b[0margs\u001b[0m \u001b[1;33m=\u001b[0m \u001b[1;33m(\u001b[0m\u001b[0mdict\u001b[0m\u001b[1;33m,\u001b[0m \u001b[0mproto\u001b[0m\u001b[1;33m,\u001b[0m \u001b[0mmeth_name\u001b[0m\u001b[1;33m)\u001b[0m \u001b[1;33m+\u001b[0m \u001b[0margs\u001b[0m\u001b[1;33m\u001b[0m\u001b[1;33m\u001b[0m\u001b[0m\n\u001b[1;32m--> 563\u001b[1;33m         \u001b[0mresult\u001b[0m \u001b[1;33m=\u001b[0m \u001b[0mself\u001b[0m\u001b[1;33m.\u001b[0m\u001b[0m_call_chain\u001b[0m\u001b[1;33m(\u001b[0m\u001b[1;33m*\u001b[0m\u001b[0margs\u001b[0m\u001b[1;33m)\u001b[0m\u001b[1;33m\u001b[0m\u001b[1;33m\u001b[0m\u001b[0m\n\u001b[0m\u001b[0;32m    564\u001b[0m         \u001b[1;32mif\u001b[0m \u001b[0mresult\u001b[0m\u001b[1;33m:\u001b[0m\u001b[1;33m\u001b[0m\u001b[1;33m\u001b[0m\u001b[0m\n\u001b[0;32m    565\u001b[0m             \u001b[1;32mreturn\u001b[0m \u001b[0mresult\u001b[0m\u001b[1;33m\u001b[0m\u001b[1;33m\u001b[0m\u001b[0m\n",
      "\u001b[1;32m~\\anaconda3\\lib\\urllib\\request.py\u001b[0m in \u001b[0;36m_call_chain\u001b[1;34m(self, chain, kind, meth_name, *args)\u001b[0m\n\u001b[0;32m    500\u001b[0m         \u001b[1;32mfor\u001b[0m \u001b[0mhandler\u001b[0m \u001b[1;32min\u001b[0m \u001b[0mhandlers\u001b[0m\u001b[1;33m:\u001b[0m\u001b[1;33m\u001b[0m\u001b[1;33m\u001b[0m\u001b[0m\n\u001b[0;32m    501\u001b[0m             \u001b[0mfunc\u001b[0m \u001b[1;33m=\u001b[0m \u001b[0mgetattr\u001b[0m\u001b[1;33m(\u001b[0m\u001b[0mhandler\u001b[0m\u001b[1;33m,\u001b[0m \u001b[0mmeth_name\u001b[0m\u001b[1;33m)\u001b[0m\u001b[1;33m\u001b[0m\u001b[1;33m\u001b[0m\u001b[0m\n\u001b[1;32m--> 502\u001b[1;33m             \u001b[0mresult\u001b[0m \u001b[1;33m=\u001b[0m \u001b[0mfunc\u001b[0m\u001b[1;33m(\u001b[0m\u001b[1;33m*\u001b[0m\u001b[0margs\u001b[0m\u001b[1;33m)\u001b[0m\u001b[1;33m\u001b[0m\u001b[1;33m\u001b[0m\u001b[0m\n\u001b[0m\u001b[0;32m    503\u001b[0m             \u001b[1;32mif\u001b[0m \u001b[0mresult\u001b[0m \u001b[1;32mis\u001b[0m \u001b[1;32mnot\u001b[0m \u001b[1;32mNone\u001b[0m\u001b[1;33m:\u001b[0m\u001b[1;33m\u001b[0m\u001b[1;33m\u001b[0m\u001b[0m\n\u001b[0;32m    504\u001b[0m                 \u001b[1;32mreturn\u001b[0m \u001b[0mresult\u001b[0m\u001b[1;33m\u001b[0m\u001b[1;33m\u001b[0m\u001b[0m\n",
      "\u001b[1;32m~\\anaconda3\\lib\\urllib\\request.py\u001b[0m in \u001b[0;36mhttp_error_302\u001b[1;34m(self, req, fp, code, msg, headers)\u001b[0m\n\u001b[0;32m    753\u001b[0m         \u001b[0mfp\u001b[0m\u001b[1;33m.\u001b[0m\u001b[0mclose\u001b[0m\u001b[1;33m(\u001b[0m\u001b[1;33m)\u001b[0m\u001b[1;33m\u001b[0m\u001b[1;33m\u001b[0m\u001b[0m\n\u001b[0;32m    754\u001b[0m \u001b[1;33m\u001b[0m\u001b[0m\n\u001b[1;32m--> 755\u001b[1;33m         \u001b[1;32mreturn\u001b[0m \u001b[0mself\u001b[0m\u001b[1;33m.\u001b[0m\u001b[0mparent\u001b[0m\u001b[1;33m.\u001b[0m\u001b[0mopen\u001b[0m\u001b[1;33m(\u001b[0m\u001b[0mnew\u001b[0m\u001b[1;33m,\u001b[0m \u001b[0mtimeout\u001b[0m\u001b[1;33m=\u001b[0m\u001b[0mreq\u001b[0m\u001b[1;33m.\u001b[0m\u001b[0mtimeout\u001b[0m\u001b[1;33m)\u001b[0m\u001b[1;33m\u001b[0m\u001b[1;33m\u001b[0m\u001b[0m\n\u001b[0m\u001b[0;32m    756\u001b[0m \u001b[1;33m\u001b[0m\u001b[0m\n\u001b[0;32m    757\u001b[0m     \u001b[0mhttp_error_301\u001b[0m \u001b[1;33m=\u001b[0m \u001b[0mhttp_error_303\u001b[0m \u001b[1;33m=\u001b[0m \u001b[0mhttp_error_307\u001b[0m \u001b[1;33m=\u001b[0m \u001b[0mhttp_error_302\u001b[0m\u001b[1;33m\u001b[0m\u001b[1;33m\u001b[0m\u001b[0m\n",
      "\u001b[1;32m~\\anaconda3\\lib\\urllib\\request.py\u001b[0m in \u001b[0;36mopen\u001b[1;34m(self, fullurl, data, timeout)\u001b[0m\n\u001b[0;32m    529\u001b[0m         \u001b[1;32mfor\u001b[0m \u001b[0mprocessor\u001b[0m \u001b[1;32min\u001b[0m \u001b[0mself\u001b[0m\u001b[1;33m.\u001b[0m\u001b[0mprocess_response\u001b[0m\u001b[1;33m.\u001b[0m\u001b[0mget\u001b[0m\u001b[1;33m(\u001b[0m\u001b[0mprotocol\u001b[0m\u001b[1;33m,\u001b[0m \u001b[1;33m[\u001b[0m\u001b[1;33m]\u001b[0m\u001b[1;33m)\u001b[0m\u001b[1;33m:\u001b[0m\u001b[1;33m\u001b[0m\u001b[1;33m\u001b[0m\u001b[0m\n\u001b[0;32m    530\u001b[0m             \u001b[0mmeth\u001b[0m \u001b[1;33m=\u001b[0m \u001b[0mgetattr\u001b[0m\u001b[1;33m(\u001b[0m\u001b[0mprocessor\u001b[0m\u001b[1;33m,\u001b[0m \u001b[0mmeth_name\u001b[0m\u001b[1;33m)\u001b[0m\u001b[1;33m\u001b[0m\u001b[1;33m\u001b[0m\u001b[0m\n\u001b[1;32m--> 531\u001b[1;33m             \u001b[0mresponse\u001b[0m \u001b[1;33m=\u001b[0m \u001b[0mmeth\u001b[0m\u001b[1;33m(\u001b[0m\u001b[0mreq\u001b[0m\u001b[1;33m,\u001b[0m \u001b[0mresponse\u001b[0m\u001b[1;33m)\u001b[0m\u001b[1;33m\u001b[0m\u001b[1;33m\u001b[0m\u001b[0m\n\u001b[0m\u001b[0;32m    532\u001b[0m \u001b[1;33m\u001b[0m\u001b[0m\n\u001b[0;32m    533\u001b[0m         \u001b[1;32mreturn\u001b[0m \u001b[0mresponse\u001b[0m\u001b[1;33m\u001b[0m\u001b[1;33m\u001b[0m\u001b[0m\n",
      "\u001b[1;32m~\\anaconda3\\lib\\urllib\\request.py\u001b[0m in \u001b[0;36mhttp_response\u001b[1;34m(self, request, response)\u001b[0m\n\u001b[0;32m    638\u001b[0m         \u001b[1;31m# request was successfully received, understood, and accepted.\u001b[0m\u001b[1;33m\u001b[0m\u001b[1;33m\u001b[0m\u001b[1;33m\u001b[0m\u001b[0m\n\u001b[0;32m    639\u001b[0m         \u001b[1;32mif\u001b[0m \u001b[1;32mnot\u001b[0m \u001b[1;33m(\u001b[0m\u001b[1;36m200\u001b[0m \u001b[1;33m<=\u001b[0m \u001b[0mcode\u001b[0m \u001b[1;33m<\u001b[0m \u001b[1;36m300\u001b[0m\u001b[1;33m)\u001b[0m\u001b[1;33m:\u001b[0m\u001b[1;33m\u001b[0m\u001b[1;33m\u001b[0m\u001b[0m\n\u001b[1;32m--> 640\u001b[1;33m             response = self.parent.error(\n\u001b[0m\u001b[0;32m    641\u001b[0m                 'http', request, response, code, msg, hdrs)\n\u001b[0;32m    642\u001b[0m \u001b[1;33m\u001b[0m\u001b[0m\n",
      "\u001b[1;32m~\\anaconda3\\lib\\urllib\\request.py\u001b[0m in \u001b[0;36merror\u001b[1;34m(self, proto, *args)\u001b[0m\n\u001b[0;32m    567\u001b[0m         \u001b[1;32mif\u001b[0m \u001b[0mhttp_err\u001b[0m\u001b[1;33m:\u001b[0m\u001b[1;33m\u001b[0m\u001b[1;33m\u001b[0m\u001b[0m\n\u001b[0;32m    568\u001b[0m             \u001b[0margs\u001b[0m \u001b[1;33m=\u001b[0m \u001b[1;33m(\u001b[0m\u001b[0mdict\u001b[0m\u001b[1;33m,\u001b[0m \u001b[1;34m'default'\u001b[0m\u001b[1;33m,\u001b[0m \u001b[1;34m'http_error_default'\u001b[0m\u001b[1;33m)\u001b[0m \u001b[1;33m+\u001b[0m \u001b[0morig_args\u001b[0m\u001b[1;33m\u001b[0m\u001b[1;33m\u001b[0m\u001b[0m\n\u001b[1;32m--> 569\u001b[1;33m             \u001b[1;32mreturn\u001b[0m \u001b[0mself\u001b[0m\u001b[1;33m.\u001b[0m\u001b[0m_call_chain\u001b[0m\u001b[1;33m(\u001b[0m\u001b[1;33m*\u001b[0m\u001b[0margs\u001b[0m\u001b[1;33m)\u001b[0m\u001b[1;33m\u001b[0m\u001b[1;33m\u001b[0m\u001b[0m\n\u001b[0m\u001b[0;32m    570\u001b[0m \u001b[1;33m\u001b[0m\u001b[0m\n\u001b[0;32m    571\u001b[0m \u001b[1;31m# XXX probably also want an abstract factory that knows when it makes\u001b[0m\u001b[1;33m\u001b[0m\u001b[1;33m\u001b[0m\u001b[1;33m\u001b[0m\u001b[0m\n",
      "\u001b[1;32m~\\anaconda3\\lib\\urllib\\request.py\u001b[0m in \u001b[0;36m_call_chain\u001b[1;34m(self, chain, kind, meth_name, *args)\u001b[0m\n\u001b[0;32m    500\u001b[0m         \u001b[1;32mfor\u001b[0m \u001b[0mhandler\u001b[0m \u001b[1;32min\u001b[0m \u001b[0mhandlers\u001b[0m\u001b[1;33m:\u001b[0m\u001b[1;33m\u001b[0m\u001b[1;33m\u001b[0m\u001b[0m\n\u001b[0;32m    501\u001b[0m             \u001b[0mfunc\u001b[0m \u001b[1;33m=\u001b[0m \u001b[0mgetattr\u001b[0m\u001b[1;33m(\u001b[0m\u001b[0mhandler\u001b[0m\u001b[1;33m,\u001b[0m \u001b[0mmeth_name\u001b[0m\u001b[1;33m)\u001b[0m\u001b[1;33m\u001b[0m\u001b[1;33m\u001b[0m\u001b[0m\n\u001b[1;32m--> 502\u001b[1;33m             \u001b[0mresult\u001b[0m \u001b[1;33m=\u001b[0m \u001b[0mfunc\u001b[0m\u001b[1;33m(\u001b[0m\u001b[1;33m*\u001b[0m\u001b[0margs\u001b[0m\u001b[1;33m)\u001b[0m\u001b[1;33m\u001b[0m\u001b[1;33m\u001b[0m\u001b[0m\n\u001b[0m\u001b[0;32m    503\u001b[0m             \u001b[1;32mif\u001b[0m \u001b[0mresult\u001b[0m \u001b[1;32mis\u001b[0m \u001b[1;32mnot\u001b[0m \u001b[1;32mNone\u001b[0m\u001b[1;33m:\u001b[0m\u001b[1;33m\u001b[0m\u001b[1;33m\u001b[0m\u001b[0m\n\u001b[0;32m    504\u001b[0m                 \u001b[1;32mreturn\u001b[0m \u001b[0mresult\u001b[0m\u001b[1;33m\u001b[0m\u001b[1;33m\u001b[0m\u001b[0m\n",
      "\u001b[1;32m~\\anaconda3\\lib\\urllib\\request.py\u001b[0m in \u001b[0;36mhttp_error_default\u001b[1;34m(self, req, fp, code, msg, hdrs)\u001b[0m\n\u001b[0;32m    647\u001b[0m \u001b[1;32mclass\u001b[0m \u001b[0mHTTPDefaultErrorHandler\u001b[0m\u001b[1;33m(\u001b[0m\u001b[0mBaseHandler\u001b[0m\u001b[1;33m)\u001b[0m\u001b[1;33m:\u001b[0m\u001b[1;33m\u001b[0m\u001b[1;33m\u001b[0m\u001b[0m\n\u001b[0;32m    648\u001b[0m     \u001b[1;32mdef\u001b[0m \u001b[0mhttp_error_default\u001b[0m\u001b[1;33m(\u001b[0m\u001b[0mself\u001b[0m\u001b[1;33m,\u001b[0m \u001b[0mreq\u001b[0m\u001b[1;33m,\u001b[0m \u001b[0mfp\u001b[0m\u001b[1;33m,\u001b[0m \u001b[0mcode\u001b[0m\u001b[1;33m,\u001b[0m \u001b[0mmsg\u001b[0m\u001b[1;33m,\u001b[0m \u001b[0mhdrs\u001b[0m\u001b[1;33m)\u001b[0m\u001b[1;33m:\u001b[0m\u001b[1;33m\u001b[0m\u001b[1;33m\u001b[0m\u001b[0m\n\u001b[1;32m--> 649\u001b[1;33m         \u001b[1;32mraise\u001b[0m \u001b[0mHTTPError\u001b[0m\u001b[1;33m(\u001b[0m\u001b[0mreq\u001b[0m\u001b[1;33m.\u001b[0m\u001b[0mfull_url\u001b[0m\u001b[1;33m,\u001b[0m \u001b[0mcode\u001b[0m\u001b[1;33m,\u001b[0m \u001b[0mmsg\u001b[0m\u001b[1;33m,\u001b[0m \u001b[0mhdrs\u001b[0m\u001b[1;33m,\u001b[0m \u001b[0mfp\u001b[0m\u001b[1;33m)\u001b[0m\u001b[1;33m\u001b[0m\u001b[1;33m\u001b[0m\u001b[0m\n\u001b[0m\u001b[0;32m    650\u001b[0m \u001b[1;33m\u001b[0m\u001b[0m\n\u001b[0;32m    651\u001b[0m \u001b[1;32mclass\u001b[0m \u001b[0mHTTPRedirectHandler\u001b[0m\u001b[1;33m(\u001b[0m\u001b[0mBaseHandler\u001b[0m\u001b[1;33m)\u001b[0m\u001b[1;33m:\u001b[0m\u001b[1;33m\u001b[0m\u001b[1;33m\u001b[0m\u001b[0m\n",
      "\u001b[1;31mHTTPError\u001b[0m: HTTP Error 400: Bad Request"
     ]
    }
   ],
   "source": [
    "pokazatelji=pd.read_csv(\"https://data.gov.rs/sr/datasets/r/b1f1f94a-fe21-3a2a-b801-6f0f05b24257\",sep=\";\")"
   ]
  },
  {
   "cell_type": "markdown",
   "id": "38e5ab42",
   "metadata": {},
   "source": [
    "Уколико ово учитавање због интернет везе или сервера не ради, учитајте исти фајл који смо претходно преузели и снимили. "
   ]
  },
  {
   "cell_type": "code",
   "execution_count": 50,
   "id": "9ffee84e",
   "metadata": {},
   "outputs": [],
   "source": [
    "pokazatelji=pd.read_csv(\"data/03IND01.csv\",sep=\";\")"
   ]
  },
  {
   "cell_type": "markdown",
   "id": "d6c764ae",
   "metadata": {},
   "source": [
    "Приметите како је други аргумент функције `sep=\";\"`. То значи да користим CSV формат у ком сепаратор (знак који одваја податке) није зарез \",\" него тачка-зарез \";\". У Европи где већина земаља користи децимални зарез ништа не би било погрешније од избора знака \",\" за сепаратор. То би одмах обесмислило све децималне бројеве. Због тога као сепаратор користимо или \"таб\" или \";\"."
   ]
  },
  {
   "cell_type": "markdown",
   "id": "7e9cac35",
   "metadata": {},
   "source": [
    "### JSON формат"
   ]
  },
  {
   "cell_type": "markdown",
   "id": "c86b0520",
   "metadata": {},
   "source": [
    "Да би се ови проблеми избегли, често као формат података користи JSON (_JavaScript Object Notation_). То је формат за пренос података који, исти за вољу, није баш прегледан али је разумљив и људима и машинама. Отворени подаци су најчешће доступни управо у ова два формата: CSV и JSON. Учитавање података у JSON формату је аналогно оном за CSV с тим да овде није потребно навести шта је сепаратор."
   ]
  },
  {
   "cell_type": "code",
   "execution_count": 51,
   "id": "11601b32",
   "metadata": {},
   "outputs": [],
   "source": [
    "pokazatelji = pd.read_json(\"data/03IND01.json\")"
   ]
  },
  {
   "cell_type": "markdown",
   "id": "2c9f587f",
   "metadata": {},
   "source": [
    "Снимање табеле типа _data frame_ у фајл је исто тако једноставно. За то служе функције `to_csv()` и `to_json()`. "
   ]
  },
  {
   "cell_type": "code",
   "execution_count": 53,
   "id": "491595df",
   "metadata": {},
   "outputs": [],
   "source": [
    "pokazatelji.to_csv(\"data/temp.csv\",sep=\";\")"
   ]
  }
 ],
 "metadata": {
  "kernelspec": {
   "display_name": "Python 3",
   "language": "python",
   "name": "python3"
  },
  "language_info": {
   "codemirror_mode": {
    "name": "ipython",
    "version": 3
   },
   "file_extension": ".py",
   "mimetype": "text/x-python",
   "name": "python",
   "nbconvert_exporter": "python",
   "pygments_lexer": "ipython3",
   "version": "3.8.8"
  }
 },
 "nbformat": 4,
 "nbformat_minor": 5
}
